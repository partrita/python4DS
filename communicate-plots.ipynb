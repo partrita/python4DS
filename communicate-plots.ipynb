{
 "cells": [
  {
   "cell_type": "markdown",
   "id": "95f0a171",
   "metadata": {},
   "source": [
    "(communicate-plots)=\n",
    "# 소통을 위한 그래픽\n",
    "\n",
    "## 소개\n",
    "\n",
    "이 장에서는 시각화를 사용하여 소통하는 방법에 대해 배웁니다.\n",
    "\n",
    "{ref}`exploratory-data-analysis`에서는 플롯을 *탐색* 도구로 사용하는 방법을 배웠습니다.\n",
    "탐색적 플롯을 만들 때, 보기 전에도 플롯에 어떤 변수가 표시될지 알고 있습니다.\n",
    "각 플롯을 특정 목적으로 만들고, 빠르게 살펴본 다음 다음 플롯으로 넘어갔습니다.\n",
    "대부분의 분석 과정에서 수십 또는 수백 개의 플롯을 생성하며, 그중 대부분은 즉시 버려집니다.\n",
    "\n",
    "이제 데이터를 이해했으므로 다른 사람에게 이해한 내용을 *전달*해야 합니다.\n",
    "청중은 여러분의 배경 지식을 공유하지 않을 가능성이 높으며 데이터에 깊이 관여하지 않을 것입니다. 다른 사람들이 데이터에 대한 좋은 정신 모델을 빠르게 구축하도록 돕기 위해서는 플롯을 최대한 자명하게 만드는 데 상당한 노력을 기울여야 합니다. 이 장에서는 **lets-plot**이 차트에 스토리를 전달하기 위해 제공하는 몇 가지 도구를 배웁니다.\n",
    "\n",
    "### 전제 조건\n",
    "\n",
    "항상 그렇듯이 코드를 사용한 데이터 시각화에는 수많은 옵션(및 패키지)이 있습니다. 여기서는 **lets-plot**을 사용하는 선언적 \"그래픽 문법\" 접근 방식에 중점을 두고 있지만, 더 복잡한 그래픽을 찾는 고급 사용자는 훌륭한 **matplotlib**과 같은 명령형 라이브러리를 사용하고 싶을 수 있습니다. **lets-plot**과 **pandas**를 모두 설치해야 합니다. 설치한 후에는 다음과 같이 가져옵니다."
   ]
  },
  {
   "cell_type": "code",
   "execution_count": null,
   "id": "51a55374",
   "metadata": {
    "tags": [
     "remove-cell"
    ]
   },
   "outputs": [],
   "source": [
    "# 셀 제거\n",
    "import matplotlib.pyplot as plt\n",
    "import matplotlib_inline.backend_inline\n",
    "\n",
    "# 플롯 설정\n",
    "plt.style.use(\"https://github.com/aeturrell/python4DS/raw/main/plot_style.txt\")\n",
    "matplotlib_inline.backend_inline.set_matplotlib_formats(\"svg\")"
   ]
  },
  {
   "cell_type": "code",
   "execution_count": null,
   "id": "ae4a818a",
   "metadata": {},
   "outputs": [],
   "source": [
    "import numpy as np\n",
    "import pandas as pd\n",
    "from lets_plot import *\n",
    "\n",
    "LetsPlot.setup_html()"
   ]
  },
  {
   "cell_type": "markdown",
   "id": "a0dc9c10",
   "metadata": {},
   "source": [
    "## 레이블, 제목 및 기타 상황 정보\n",
    "\n",
    "탐색적 그래픽을 설명적 그래픽으로 전환할 때 가장 쉽게 시작할 수 있는 부분은 좋은 레이블을 사용하는 것입니다. 1999년부터 2008년까지 38개 인기 자동차 모델의 연비를 다루는 MPG(갤런당 마일) 데이터를 사용한 예를 살펴보겠습니다."
   ]
  },
  {
   "cell_type": "code",
   "execution_count": null,
   "id": "c36b4cd5",
   "metadata": {},
   "outputs": [],
   "source": [
    "# 데이터 로드\n",
    "mpg = pd.read_csv(\n",
    "    \"https://vincentarelbundock.github.io/Rdatasets/csv/ggplot2/mpg.csv\", index_col=0\n",
    ")"
   ]
  },
  {
   "cell_type": "markdown",
   "id": "1813ab08",
   "metadata": {},
   "source": [
    "고속도로에서의 연비가 엔진 배기량(리터)에 따라 어떻게 변하는지 보여주고자 합니다. 이러한 변수로 수행할 수 있는 가장 기본적인 차트는 다음과 같습니다."
   ]
  },
  {
   "cell_type": "code",
   "execution_count": null,
   "id": "c7574bc6",
   "metadata": {},
   "outputs": [],
   "source": [
    "(ggplot(mpg, aes(x=\"displ\", y=\"hwy\")) + geom_point())"
   ]
  },
  {
   "cell_type": "markdown",
   "id": "ff5ed0d4",
   "metadata": {},
   "source": [
    "이제 차트를 더 좋게 만들 유용한 추가 정보를 많이 추가할 것입니다. 플롯 제목의 목적은 주요 결과를 요약하는 것입니다.\n",
    "플롯이 무엇인지 설명하는 제목(예: \"엔진 배기량 대 연비 산점도\")은 피하십시오.\n",
    "\n",
    "다음을 수행할 것입니다.\n",
    "\n",
    "- 시청자가 가져가기를 원하는 주요 결과를 요약하는 제목 추가 (단순히 명백한 것을 설명하는 제목과 반대)\n",
    "- y축에 대한 추가 정보를 제공하는 부제목 추가 및 x 레이블을 더 이해하기 쉽게 만들기\n",
    "- 보기 불편한 각도의 y축 레이블 제거\n",
    "- 데이터 출처가 있는 캡션 추가\n",
    "\n",
    "이 모든 것을 종합하면 다음과 같습니다."
   ]
  },
  {
   "cell_type": "code",
   "execution_count": null,
   "id": "24b3513e",
   "metadata": {},
   "outputs": [],
   "source": [
    "(\n",
    "    ggplot(mpg, aes(x=\"displ\", y=\"hwy\"))\n",
    "    + geom_point(aes(colour=\"class\"))\n",
    "    + geom_smooth(se=False, method=\"loess\", size=1)\n",
    "    + labs(\n",
    "        title=\"연비는 일반적으로 엔진 크기에 따라 감소합니다.\",\n",
    "        subtitle=\"고속도로 연비 (갤런당 마일)\",\n",
    "        caption=\"출처: fueleconomy.gov\",\n",
    "        y=\"\",\n",
    "        x=\"엔진 배기량 (리터)\",\n",
    "    )\n",
    ")"
   ]
  },
  {
   "cell_type": "markdown",
   "id": "2e28877a",
   "metadata": {},
   "source": [
    "이것은 훨씬 명확합니다. 읽기 쉽고, 데이터 출처를 알 수 있으며, 왜 보여주는지도 알 수 있습니다.\n",
    "\n",
    "하지만 다른 메시지를 원할 수도 있습니다. 필요에 따라 유연하게 조정할 수 있으며, 일부 사람들은 부제목이 더 많은 컨텍스트를 제공할 수 있도록 y축을 회전시키는 것을 선호합니다."
   ]
  },
  {
   "cell_type": "code",
   "execution_count": null,
   "id": "6489a6bf",
   "metadata": {},
   "outputs": [],
   "source": [
    "(\n",
    "    ggplot(mpg, aes(x=\"displ\", y=\"hwy\"))\n",
    "    + geom_point(aes(colour=\"class\"))\n",
    "    + geom_smooth(se=False, method=\"loess\", size=1)\n",
    "    + labs(\n",
    "        x=\"엔진 배기량 (L)\",\n",
    "        y=\"고속도로 연비 (mpg)\",\n",
    "        colour=\"차종\",\n",
    "        title=\"연비는 일반적으로 엔진 크기에 따라 감소합니다.\",\n",
    "        subtitle=\"2인승(스포츠카)은 가벼운 무게 때문에 예외입니다.\",\n",
    "        caption=\"출처: fueleconomy.gov\",\n",
    "    )\n",
    ")"
   ]
  },
  {
   "cell_type": "markdown",
   "id": "9d88f188",
   "metadata": {},
   "source": [
    "### 연습\n",
    "\n",
    "1. 사용자 정의된 `title`, `subtitle`, `caption`, `x`, `y` 및 `color` 레이블을 사용하여 연비 데이터에 대한 플롯 하나를 만듭니다.\n",
    "\n",
    "2. 연비 데이터를 사용하여 다음 플롯을 다시 만듭니다.\n",
    "    점의 색상과 모양은 구동 방식 유형에 따라 다릅니다."
   ]
  },
  {
   "cell_type": "code",
   "execution_count": null,
   "id": "683d547c",
   "metadata": {
    "tags": [
     "remove-cell"
    ]
   },
   "outputs": [],
   "source": [
    "(\n",
    "    ggplot(mpg, aes(x=\"cty\", y=\"hwy\", color=\"drv\", shape=\"drv\"))\n",
    "    + geom_point()\n",
    "    + labs(\n",
    "        x=\"도시 MPG\",\n",
    "        y=\"고속도로 MPG\",\n",
    "        shape=\"구동 방식\\n유형\",\n",
    "        color=\"구동 방식\\n유형\",\n",
    "    )\n",
    ")"
   ]
  },
  {
   "cell_type": "markdown",
   "id": "e10cdbd9",
   "metadata": {},
   "source": [
    "3. 지난 달에 만든 탐색적 그래픽을 가져와 다른 사람이 이해하기 쉽도록 유익한 제목을 추가합니다."
   ]
  },
  {
   "cell_type": "markdown",
   "id": "289418c9",
   "metadata": {},
   "source": [
    "## 주석\n",
    "\n",
    "플롯의 주요 구성 요소에 레이블을 지정하는 것 외에도 개별 관찰 또는 관찰 그룹에 레이블을 지정하는 것이 종종 유용합니다.\n",
    "가장 먼저 사용할 수 있는 도구는 `geom_text()`입니다.\n",
    "`geom_text()`는 `geom_point()`와 유사하지만 `label`이라는 추가 미학이 있습니다.\n",
    "이를 통해 플롯에 텍스트 레이블을 추가할 수 있습니다.\n",
    "\n",
    "레이블의 가능한 출처는 두 가지입니다. 데이터의 일부인 레이블은 `geom_text()`를 사용하여 추가하고, `geom_label()`을 사용하여 주석으로 직접 수동으로 추가하는 레이블입니다.\n",
    "\n",
    "첫 번째 경우 레이블이 포함된 데이터 프레임이 있을 수 있습니다.\n",
    "다음 플롯에서는 각 구동 유형에서 엔진 크기가 가장 큰 자동차를 추출하고 해당 정보를 `label_info`라는 새 데이터 프레임으로 저장합니다. 이를 만들 때 레이블을 지정할 지점으로 \"drv\"별 \"hwy\"의 평균값을 선택하지만 차트에서 잘 작동할 것이라고 생각되는 모든 집계를 수행할 수 있습니다."
   ]
  },
  {
   "cell_type": "code",
   "execution_count": null,
   "id": "60826a32",
   "metadata": {},
   "outputs": [],
   "source": [
    "mapping = {\n",
    "    \"4\": \"4륜 구동\",\n",
    "    \"f\": \"전륜 구동\",\n",
    "    \"r\": \"후륜 구동\",\n",
    "}\n",
    "label_info = (\n",
    "    mpg.groupby(\"drv\")\n",
    "    .agg({\"hwy\": \"mean\", \"displ\": \"mean\"})\n",
    "    .reset_index()\n",
    "    .assign(drive_type=lambda x: x[\"drv\"].map(mapping))\n",
    "    .round(2)\n",
    ")\n",
    "label_info"
   ]
  },
  {
   "cell_type": "markdown",
   "id": "93a136fe",
   "metadata": {},
   "source": [
    "그런 다음 이 새 데이터 프레임을 사용하여 세 그룹에 직접 레이블을 지정하여 범례를 플롯에 직접 배치된 레이블로 바꿉니다. fontface 및 size 인수를 사용하여 텍스트 레이블의 모양을 사용자 정의할 수 있습니다. 플롯의 나머지 텍스트보다 크고 굵게 표시됩니다. (`theme(legend.position = \"none\")`은 모든 범례를 끕니다. 이에 대해서는 곧 자세히 설명하겠습니다.)"
   ]
  },
  {
   "cell_type": "code",
   "execution_count": null,
   "id": "6f90c2aa",
   "metadata": {},
   "outputs": [],
   "source": [
    "(\n",
    "    ggplot(mpg, aes(x=\"displ\", y=\"hwy\", color=\"drv\"))\n",
    "    + geom_point(alpha=0.5)\n",
    "    + geom_smooth(se=False, method=\"loess\")\n",
    "    + geom_text(\n",
    "        aes(x=\"displ\", y=\"hwy\", label=\"drive_type\"),\n",
    "        data=label_info,\n",
    "        fontface=\"bold\",\n",
    "        size=8,\n",
    "        hjust=\"left\",\n",
    "        vjust=\"bottom\",\n",
    "    )\n",
    "    + theme(legend_position=\"none\")\n",
    ")"
   ]
  },
  {
   "cell_type": "markdown",
   "id": "98c17829",
   "metadata": {},
   "source": [
    "`hjust`(가로 정렬) 및 `vjust`(세로 정렬)를 사용하여 레이블 정렬을 제어하는 데 유의하십시오.\n",
    "\n",
    "\n",
    "살펴보고 있는 두 가지 방법 중 두 번째는 `geom_label()`입니다. 이것은 두 가지 모드가 있습니다. 첫 번째 모드에서는 `geom_text()`처럼 작동하지만 텍스트 주위에 상자가 있습니다. 다음과 같습니다."
   ]
  },
  {
   "cell_type": "code",
   "execution_count": null,
   "id": "bdcd79bb",
   "metadata": {},
   "outputs": [],
   "source": [
    "potential_outliers = mpg.query(\"hwy > 40 | (hwy > 20 & displ > 5)\")\n",
    "(\n",
    "    ggplot(mpg, aes(x=\"displ\", y=\"hwy\"))\n",
    "    + geom_point(color=\"black\")\n",
    "    + geom_smooth(se=False, method=\"loess\", color=\"black\")\n",
    "    + geom_point(\n",
    "        data=potential_outliers,\n",
    "        color=\"red\",\n",
    "    )\n",
    "    + geom_label(\n",
    "        aes(label=\"model\"),\n",
    "        data=potential_outliers,\n",
    "        color=\"red\",\n",
    "        position=position_jitter(),\n",
    "        fontface=\"bold\",\n",
    "        size=5,\n",
    "        hjust=\"left\",\n",
    "        vjust=\"bottom\",\n",
    "    )\n",
    "    + theme(legend_position=\"none\")\n",
    ")"
   ]
  },
  {
   "cell_type": "markdown",
   "id": "38b69dcf",
   "metadata": {},
   "source": [
    "두 번째 방법은 일반적으로 플롯에 단일 또는 여러 주석을 추가하는 데 유용합니다. 다음과 같습니다."
   ]
  },
  {
   "cell_type": "code",
   "execution_count": null,
   "id": "d1e2cc3a",
   "metadata": {},
   "outputs": [],
   "source": [
    "import textwrap\n",
    "\n",
    "# 텍스트를 여러 줄로 줄 바꿈합니다.\n",
    "trend_text = textwrap.fill(\"엔진 크기가 클수록 연비가 낮아지는 경향이 있습니다.\", 30)\n",
    "trend_text"
   ]
  },
  {
   "cell_type": "code",
   "execution_count": null,
   "id": "e8c09f57",
   "metadata": {},
   "outputs": [],
   "source": [
    "(\n",
    "    ggplot(mpg, aes(x=\"displ\", y=\"hwy\"))\n",
    "    + geom_point()\n",
    "    + geom_label(x=3.5, y=38, label=trend_text, hjust=\"left\", color=\"red\")\n",
    "    + geom_segment(x=2, y=40, xend=5, yend=25, arrow=arrow(type=\"closed\"), color=\"red\")\n",
    ")"
   ]
  },
  {
   "cell_type": "markdown",
   "id": "0720e7eb",
   "metadata": {},
   "source": [
    "주석은 시각화의 주요 내용과 흥미로운 특징을 전달하는 강력한 도구입니다. 유일한 한계는 상상력(그리고 미학적으로 만족스러운 주석을 배치하는 인내심)입니다!"
   ]
  },
  {
   "cell_type": "markdown",
   "id": "9c00a0fd",
   "metadata": {},
   "source": [
    "`geom_text()` 및 `geom_label()` 외에도 플롯에 주석을 추가하는 데 도움이 되는 **lets-plot**의 다른 많은 지오메트리가 있습니다.\n",
    "몇 가지 아이디어:\n",
    "\n",
    "-   `geom_hline()` 및 `geom_vline()`을 사용하여 참조선을 추가합니다.\n",
    "    종종 두껍게(`size = 2`) 회색(`color = gray`)으로 만들고 기본 데이터 계층 아래에 그립니다.\n",
    "    이렇게 하면 데이터에서 주의를 끌지 않고 쉽게 볼 수 있습니다.\n",
    "\n",
    "-   `geom_rect()`를 사용하여 관심 지점 주위에 사각형을 그립니다.\n",
    "    사각형의 경계는 미학 `xmin`, `xmax`, `ymin`, `ymax`로 정의됩니다.\n",
    "\n",
    "-   화살표로 지점에 주의를 끌기 위해 `arrow` 인수가 있는 `geom_segment()`를 사용하는 것을 이미 보았습니다.\n",
    "    미학 `x` 및 `y`를 사용하여 시작 위치를 정의하고 `xend` 및 `yend`를 사용하여 끝 위치를 정의합니다.\n"
   ]
  },
  {
   "cell_type": "markdown",
   "id": "730162e6",
   "metadata": {},
   "source": [
    "### 연습\n",
    "\n",
    "1. 무한 위치와 함께 `geom_text()`를 사용하여 플롯의 네 모서리에 텍스트를 배치합니다.\n",
    "\n",
    "2. 데이터 프레임을 만들지 않고 마지막 플롯 중간에 점 지오메트리를 추가하려면 `geom_label()`을 사용합니다.\n",
    "    점의 모양, 크기 또는 색상을 사용자 정의합니다.\n",
    "\n",
    "3. `geom_text()`가 있는 레이블은 패싯과 어떻게 상호 작용합니까?\n",
    "    단일 패싯에 레이블을 추가하려면 어떻게 해야 합니까?\n",
    "    각 패싯에 다른 레이블을 넣으려면 어떻게 해야 합니까?\n",
    "    (힌트: `geom_text()`에 전달되는 데이터 세트에 대해 생각해 보십시오.)\n",
    "\n",
    "4. `geom_label()`의 어떤 인수가 배경 상자의 모양을 제어합니까?\n",
    "\n",
    "5. `arrow()`의 네 가지 인수는 무엇입니까?\n",
    "    어떻게 작동합니까?\n",
    "    가장 중요한 옵션을 보여주는 일련의 플롯을 만듭니다.\n"
   ]
  },
  {
   "cell_type": "markdown",
   "id": "2f665492",
   "metadata": {},
   "source": [
    "## 스케일\n",
    "\n",
    "플롯을 더 잘 전달하기 위해 할 수 있는 또 다른 방법은 스케일을 조정하는 것입니다.\n",
    "스케일은 미적 매핑이 시각적으로 어떻게 나타나는지 제어합니다.\n",
    "\n",
    "### 기본 스케일\n",
    "\n",
    "일반적으로 **lets-plot**은 자동으로 스케일을 추가하므로 걱정할 필요가 없습니다. 예를 들어 다음과 같이 입력하면 됩니다.\n",
    "\n",
    "```파이썬\n",
    "(\n",
    "    ggplot(mpg, aes(x=\"displ\", y=\"hwy\")) +\n",
    "    geom_point(aes(color=\"class\"))\n",
    ")\n",
    "```\n",
    "\n",
    "**lets-plot**은 자동으로 이 작업을 백그라운드에서 수행합니다.\n",
    "\n",
    "```파이썬\n",
    "(\n",
    "    ggplot(mpg, aes(x=\"displ\", y=\"hwy\")) +\n",
    "    geom_point(aes(color=\"class\")) +\n",
    "    scale_x_continous() +\n",
    "    scale_y_continuous() +\n",
    "    scale_color_discrete()\n",
    ")\n",
    "```"
   ]
  },
  {
   "cell_type": "markdown",
   "id": "39332b3b",
   "metadata": {},
   "source": [
    "스케일의 명명 규칙에 유의하십시오. `scale_` 다음에 미학 이름, 그 다음에 `_`, 그 다음에 스케일 이름이 옵니다.\n",
    "기본 스케일은 정렬되는 변수 유형(연속형, 이산형, 날짜/시간형 또는 날짜형)에 따라 이름이 지정됩니다.\n",
    "`scale_x_continuous()`는 `displ`의 숫자 값을 x축의 연속 숫자 선에 배치하고, `scale_color_discrete()`는 자동차의 각 `class`에 대한 색상을 선택하는 등의 작업을 수행합니다.\n",
    "아래에서 배울 기본이 아닌 스케일이 많이 있습니다.\n",
    "\n",
    "기본 스케일은 광범위한 입력에 대해 잘 작동하도록 신중하게 선택되었습니다.\n",
    "그럼에도 불구하고 두 가지 이유로 기본값을 재정의하고 싶을 수 있습니다.\n",
    "\n",
    "-   기본 스케일의 일부 매개변수를 조정하고 싶을 수 있습니다.\n",
    "    이를 통해 축의 눈금이나 범례의 키 레이블을 변경하는 등의 작업을 수행할 수 있습니다.\n",
    "\n",
    "-   스케일을 완전히 바꾸고 완전히 다른 알고리즘을 사용하고 싶을 수 있습니다.\n",
    "    데이터에 대해 더 많이 알고 있기 때문에 종종 기본값보다 더 잘할 수 있습니다.\n"
   ]
  },
  {
   "cell_type": "markdown",
   "id": "c645247f",
   "metadata": {},
   "source": [
    "### 축 눈금 및 범례 키\n",
    "\n",
    "축과 범례를 통칭하여 **lets-plot**에서는 다소 혼란스러운 이름인 **가이드**라고 합니다. 축은 x 및 y 미학에 사용되고 범례는 다른 모든 것에 사용됩니다.\n",
    "\n",
    "축의 눈금과 범례의 키 모양에 영향을 미치는 두 가지 주요 인수는 `breaks`와 `labels`입니다.\n",
    "Breaks는 눈금의 위치 또는 키와 관련된 값을 제어합니다. 원한다면 breaks가 눈금 *입니다*.\n",
    "Labels는 각 눈금/키와 관련된 텍스트 레이블을 제어합니다. 이를 *눈금 레이블*이라고 더 정확하게 부를 수 있습니다.\n",
    "`breaks`의 가장 일반적인 용도는 기본 선택을 재정의하는 것입니다."
   ]
  },
  {
   "cell_type": "code",
   "execution_count": null,
   "id": "a95604d8",
   "metadata": {},
   "outputs": [],
   "source": [
    "(\n",
    "    ggplot(mpg, aes(x=\"displ\", y=\"hwy\", color=\"drv\"))\n",
    "    + geom_point()\n",
    "    + scale_y_continuous(breaks=np.arange(15, 40, step=5))\n",
    ")"
   ]
  },
  {
   "cell_type": "markdown",
   "id": "bd1113b7",
   "metadata": {},
   "source": [
    "동일한 방식으로 `labels`를 사용할 수 있습니다(즉, `breaks`와 동일한 길이의 문자열 배열 또는 목록 전달). 이를 완전히 제거하려면 나중에 다시 다룰 주제인 테마를 사용해야 합니다.\n",
    "범례 모양을 제어하기 위해 `breaks`와 `labels`를 사용할 수도 있습니다.\n",
    "범주형 변수에 대한 이산 스케일의 경우 `labels`는 기존 수준 이름과 원하는 레이블의 명명된 목록이 될 수 있습니다.\n"
   ]
  },
  {
   "cell_type": "code",
   "execution_count": null,
   "id": "1a852304",
   "metadata": {},
   "outputs": [],
   "source": [
    "(\n",
    "    ggplot(mpg, aes(x=\"displ\", y=\"hwy\", color=\"drv\"))\n",
    "    + geom_point()\n",
    "    + scale_color_discrete(labels=[\"4륜\", \"전륜\", \"후륜\"])\n",
    ")"
   ]
  },
  {
   "cell_type": "markdown",
   "id": "184dfb30",
   "metadata": {},
   "source": [
    "눈금 레이블의 서식을 변경하려면 `format=` 키워드 인수를 사용합니다. 이는 통화, 백분율 등을 렌더링하는 데 유용하지만 독자가 축 레이블에서 이 기호를 한 번만 보는 것이 더 쉬운 경우가 많습니다.\n",
    "\n",
    "아래 예에서는 `diamonds` 데이터 세트를 읽어온 다음 `format=\"$.2s\"` 명령으로 서식을 지정합니다. 이를 분석해 보겠습니다.\n",
    "\n",
    "- 달러 기호는 모든 숫자 앞에 달러 기호를 넣으라는 의미입니다.\n",
    "- .2는 유효 숫자 두 자리를 사용하라는 의미입니다.\n",
    "- s는 국제 단위계(SI)를 사용하라는 의미입니다.\n",
    "\n",
    "서식 지정에는 다양한 대체 옵션이 있습니다. 자세한 내용은 **lets-plot** 설명서의 [서식 지정에 대한 유용한 페이지](https://lets-plot.org/pages/formats.html)를 사용하는 것이 가장 좋습니다."
   ]
  },
  {
   "cell_type": "code",
   "execution_count": null,
   "id": "40ac230e",
   "metadata": {},
   "outputs": [],
   "source": [
    "diamonds = pd.read_csv(\n",
    "    \"https://vincentarelbundock.github.io/Rdatasets/csv/ggplot2/diamonds.csv\",\n",
    "    index_col=0,\n",
    ")\n",
    "diamonds[\"cut\"] = diamonds[\"cut\"].astype(\n",
    "    pd.CategoricalDtype(\n",
    "        categories=[\"Fair\", \"Good\", \"Very Good\", \"Premium\", \"Ideal\"], ordered=True\n",
    "    )\n",
    ")\n",
    "diamonds[\"color\"] = diamonds[\"color\"].astype(\n",
    "    pd.CategoricalDtype(categories=[\"D\", \"E\", \"F\", \"G\", \"H\", \"I\", \"J\"], ordered=True)\n",
    ")"
   ]
  },
  {
   "cell_type": "code",
   "execution_count": null,
   "id": "1520bb3c",
   "metadata": {},
   "outputs": [],
   "source": [
    "(\n",
    "    ggplot(diamonds, aes(x=\"cut\", y=\"price\"))\n",
    "    + geom_boxplot()\n",
    "    + coord_flip()\n",
    "    + scale_y_continuous(format=\"$.2s\", breaks=np.arange(0, 19000, step=6000))\n",
    ")"
   ]
  },
  {
   "cell_type": "markdown",
   "id": "6f2edc1b",
   "metadata": {},
   "source": [
    "breaks의 또 다른 용도는 데이터 포인트가 비교적 적고 관찰이 발생하는 위치를 정확하게 강조 표시하려는 경우입니다. 예를 들어 각 미국 대통령이 임기를 시작하고 끝낸 시기를 보여주는 이 플롯을 살펴보십시오."
   ]
  },
  {
   "cell_type": "code",
   "execution_count": null,
   "id": "9d1f993a",
   "metadata": {},
   "outputs": [],
   "source": [
    "presidential = pd.read_csv(\n",
    "    \"https://vincentarelbundock.github.io/Rdatasets/csv/ggplot2/presidential.csv\",\n",
    "    index_col=0,\n",
    ")\n",
    "presidential = presidential.astype({\"start\": \"datetime64[ns]\", \"end\": \"datetime64[ns]\"})\n",
    "presidential[\"id\"] = 33 + presidential.index\n",
    "presidential.head()"
   ]
  },
  {
   "cell_type": "code",
   "execution_count": null,
   "id": "cd2cc430",
   "metadata": {},
   "outputs": [],
   "source": [
    "(\n",
    "    ggplot(presidential, aes(x=\"start\", y=\"id\"))\n",
    "    + geom_point()\n",
    "    + geom_segment(aes(xend=\"end\", yend=\"id\"))\n",
    "    + scale_x_datetime()\n",
    ")"
   ]
  },
  {
   "cell_type": "markdown",
   "id": "8b451c76",
   "metadata": {},
   "source": [
    "### 범례 레이아웃\n",
    "\n",
    "축을 조정하기 위해 `breaks`와 `labels`를 가장 자주 사용할 것입니다.\n",
    "둘 다 범례에도 작동하지만 더 자주 사용할 몇 가지 다른 기술이 있습니다.\n",
    "\n",
    "범례의 전체 위치를 제어하려면 `theme()` 설정을 사용해야 합니다.\n",
    "이 장의 끝에서 테마로 돌아올 것이지만 간단히 말해서 플롯의 비데이터 부분을 제어합니다.\n",
    "테마 설정 `legend.position`은 범례가 그려지는 위치를 제어하며 이를 설명하기 위해 `gggrid()`를 사용하여 모든 플롯을 정렬합니다."
   ]
  },
  {
   "cell_type": "code",
   "execution_count": null,
   "id": "52d6e86a",
   "metadata": {},
   "outputs": [],
   "source": [
    "base = ggplot(mpg, aes(x=\"displ\", y=\"hwy\")) + geom_point(aes(color=\"class\"))\n",
    "\n",
    "p1 = base + theme(legend_position=\"right\")  # 기본값\n",
    "p2 = base + theme(legend_position=\"left\")\n",
    "p3 = base + theme(legend_position=\"top\") + guides(color=guide_legend(nrow=3))\n",
    "p4 = base + theme(legend_position=\"bottom\") + guides(color=guide_legend(nrow=3))\n",
    "\n",
    "gggrid([p1, p2, p3, p4], ncol=2)"
   ]
  },
  {
   "cell_type": "markdown",
   "id": "7ce2507b",
   "metadata": {},
   "source": [
    "플롯이 짧고 넓으면 범례를 위나 아래에 배치하고, 길고 좁으면 범례를 왼쪽이나 오른쪽에 배치합니다. `legend_position = \"none\"`을 사용하여 범례 표시를 완전히 억제할 수도 있습니다.\n",
    "\n",
    "개별 범례 표시를 제어하려면 `guide_legend()` 또는 `guide_colorbar()`와 함께 `guides()`를 사용합니다."
   ]
  },
  {
   "cell_type": "markdown",
   "id": "f27913c7",
   "metadata": {},
   "source": [
    "\n",
    "### 스케일 바꾸기\n",
    "\n",
    "세부 정보를 약간 조정하는 대신 스케일을 완전히 바꿀 수 있습니다.\n",
    "가장 자주 바꾸고 싶은 스케일 유형은 연속 위치 스케일과 색상 스케일 두 가지입니다.\n",
    "다행히 다른 모든 미학에도 동일한 원칙이 적용되므로 위치와 색상을 마스터하면 다른 스케일 교체를 빠르게 익힐 수 있습니다.\n",
    "\n",
    "변수의 변환을 플로팅하는 것은 매우 유용합니다.\n",
    "예를 들어 `carat`과 `price`를 로그 변환하면 둘 사이의 정확한 관계를 더 쉽게 볼 수 있습니다. 이를 수행하는 방법은 `ggplot`으로 전송되는 데이터에 `apply()` 함수를 사용하는 것입니다."
   ]
  },
  {
   "cell_type": "code",
   "execution_count": null,
   "id": "2c1d3f8d",
   "metadata": {},
   "outputs": [],
   "source": [
    "(\n",
    "    ggplot(\n",
    "        diamonds.apply({\"carat\": np.log10, \"price\": np.log10}),\n",
    "        aes(x=\"carat\", y=\"price\"),\n",
    "    )\n",
    "    + geom_bin2d()\n",
    ")"
   ]
  },
  {
   "cell_type": "markdown",
   "id": "f19dbbec",
   "metadata": {},
   "source": [
    "그러나 이 변환의 단점은 축이 이제 원래 값으로 잘못 레이블 지정되어 플롯을 해석하기 어렵다는 것입니다. 미적 매핑에서 변환을 수행하는 대신 스케일로 변환을 수행할 수 있습니다. 축이 원래 데이터 스케일로 레이블 지정된다는 점을 제외하고는 시각적으로 동일합니다."
   ]
  },
  {
   "cell_type": "code",
   "execution_count": null,
   "id": "39b4ef8d",
   "metadata": {},
   "outputs": [],
   "source": [
    "(\n",
    "    ggplot(diamonds, aes(x=\"carat\", y=\"price\"))\n",
    "    + geom_bin2d()\n",
    "    + scale_x_log10()\n",
    "    + scale_y_log10()\n",
    ")"
   ]
  },
  {
   "cell_type": "markdown",
   "id": "4402c4de",
   "metadata": {},
   "source": [
    "자주 사용자 정의되는 또 다른 스케일은 색상입니다. 기본 범주형 스케일은 색상환 주위에 고르게 분포된 색상을 선택합니다. 유용한 대안은 일반적인 유형의 색맹인 사람들에게 더 잘 작동하도록 수동으로 조정된 ColorBrewer 스케일입니다. 아래 두 플롯은 비슷해 보이지만 빨간색과 녹색 음영에 충분한 차이가 있어 오른쪽 점은 적록 색맹인 사람도 구분할 수 있습니다."
   ]
  },
  {
   "cell_type": "code",
   "execution_count": null,
   "id": "f06d7e40",
   "metadata": {},
   "outputs": [],
   "source": [
    "(ggplot(mpg, aes(x=\"displ\", y=\"hwy\")) + geom_point(aes(color=\"drv\")))"
   ]
  },
  {
   "cell_type": "code",
   "execution_count": null,
   "id": "6186b520",
   "metadata": {},
   "outputs": [],
   "source": [
    "(\n",
    "    ggplot(mpg, aes(x=\"displ\", y=\"hwy\"))\n",
    "    + geom_point(aes(color=\"drv\"))\n",
    "    + scale_color_brewer(palette=\"Set1\")\n",
    ")"
   ]
  },
  {
   "cell_type": "markdown",
   "id": "f19af6ad",
   "metadata": {},
   "source": [
    "접근성을 향상시키는 더 간단한 기술을 잊지 마십시오.\n",
    "색상이 몇 개만 있는 경우 중복 모양 매핑을 추가할 수 있습니다.\n",
    "이렇게 하면 플롯이 흑백으로도 해석될 수 있도록 하는 데 도움이 됩니다."
   ]
  },
  {
   "cell_type": "markdown",
   "id": "253af5a4",
   "metadata": {},
   "source": [
    "ColorBrewer 스케일은 <https://colorbrewer2.org/>에서 온라인으로 문서화되어 있습니다. 순차적(상단) 및 발산형(하단) 팔레트는 범주형 값이 정렬되어 있거나 \"중간\"이 있는 경우 특히 유용합니다. 이는 연속 변수를 범주형 변수로 만들기 위해 `pd.cut()`을 사용한 경우 종종 발생합니다."
   ]
  },
  {
   "cell_type": "code",
   "execution_count": null,
   "id": "bd347524",
   "metadata": {
    "tags": [
     "remove-input"
    ]
   },
   "outputs": [],
   "source": [
    "# 입력 제거\n",
    "cmaps = [\n",
    "    (\n",
    "        \"지각적으로 균일한 순차\",\n",
    "        [\"viridis\", \"plasma\", \"inferno\", \"magma\", \"cividis\"],\n",
    "    ),\n",
    "    (\n",
    "        \"순차\",\n",
    "        [\n",
    "            \"Blues\",\n",
    "            \"BuGn\",\n",
    "            \"BuPu\",\n",
    "            \"GnBu\",\n",
    "            \"Greens\",\n",
    "            \"Greys\",\n",
    "            \"Oranges\",\n",
    "            \"OrRd\",\n",
    "            \"PuBu\",\n",
    "            \"PuBuGn\",\n",
    "            \"PuRd\",\n",
    "            \"Purples\",\n",
    "            \"RdPu\",\n",
    "            \"Reds\",\n",
    "            \"YlGn\",\n",
    "            \"YlGnBu\",\n",
    "            \"YlOrBr\",\n",
    "            \"YlOrRd\",\n",
    "        ],\n",
    "    ),\n",
    "    (\n",
    "        \"발산형\",\n",
    "        [\n",
    "            \"BrBG\",\n",
    "            \"PiYG\",\n",
    "            \"PRGn\",\n",
    "            \"PuOr\",\n",
    "            \"RdBu\",\n",
    "            \"RdGy\",\n",
    "            \"RdYlBu\",\n",
    "            \"RdYlGn\",\n",
    "        ],\n",
    "    ),\n",
    "    (\n",
    "        \"정성적\",\n",
    "        [\n",
    "            \"Pastel1\",\n",
    "            \"Pastel2\",\n",
    "            \"Paired\",\n",
    "            \"Accent\",\n",
    "            \"Dark2\",\n",
    "            \"Set1\",\n",
    "            \"Set2\",\n",
    "            \"Set3\",\n",
    "            \"tab10\",\n",
    "            \"tab20\",\n",
    "            \"tab20b\",\n",
    "            \"tab20c\",\n",
    "        ],\n",
    "    ),\n",
    "]\n",
    "\n",
    "\n",
    "gradient = np.linspace(0, 1, 256)\n",
    "gradient = np.vstack((gradient, gradient))\n",
    "\n",
    "\n",
    "def plot_color_gradients(cmap_category, cmap_list):\n",
    "    # 그림을 만들고 그림 높이를 색상 맵 수에 맞게 조정합니다.\n",
    "    nrows = len(cmap_list)\n",
    "    figh = 0.35 + 0.15 + (nrows + (nrows - 1) * 0.1) * 0.22\n",
    "    fig, axs = plt.subplots(nrows=nrows, figsize=(6.4, figh))\n",
    "    fig.subplots_adjust(top=1 - 0.35 / figh, bottom=0.15 / figh, left=0.2, right=0.99)\n",
    "\n",
    "    axs[0].set_title(cmap_category + \" 색상 맵\", fontsize=14)\n",
    "\n",
    "    for ax, name in zip(axs, cmap_list):\n",
    "        ax.imshow(gradient, aspect=\"auto\", cmap=plt.get_cmap(name))\n",
    "        ax.text(\n",
    "            -0.01,\n",
    "            0.5,\n",
    "            name,\n",
    "            va=\"center\",\n",
    "            ha=\"right\",\n",
    "            fontsize=10,\n",
    "            transform=ax.transAxes,\n",
    "        )\n",
    "\n",
    "    # 색상 맵이 있는 것뿐만 아니라 *모든* 눈금 및 스파인을 끕니다.\n",
    "    for ax in axs:\n",
    "        ax.set_axis_off()\n",
    "\n",
    "\n",
    "for cmap_category, cmap_list in cmaps[1:2]:\n",
    "    plot_color_gradients(cmap_category, cmap_list)\n",
    "\n",
    "plt.show()"
   ]
  },
  {
   "cell_type": "code",
   "execution_count": null,
   "id": "d6350c71",
   "metadata": {
    "tags": [
     "remove-input"
    ]
   },
   "outputs": [],
   "source": [
    "# 입력 제거\n",
    "for cmap_category, cmap_list in cmaps[3:4]:\n",
    "    plot_color_gradients(cmap_category, cmap_list)"
   ]
  },
  {
   "cell_type": "code",
   "execution_count": null,
   "id": "0063a574",
   "metadata": {
    "tags": [
     "remove-input"
    ]
   },
   "outputs": [],
   "source": [
    "# 입력 제거\n",
    "for cmap_category, cmap_list in cmaps[2:3]:\n",
    "    plot_color_gradients(cmap_category, cmap_list)"
   ]
  },
  {
   "cell_type": "markdown",
   "id": "c32c2237",
   "metadata": {},
   "source": [
    "값과 색상 간에 미리 정의된 매핑이 있는 경우 `scale_color_manual()`을 사용합니다. 예를 들어 대통령 정당을 색상에 매핑하는 경우 공화당은 빨간색, 민주당은 파란색의 표준 매핑을 사용하려고 합니다. 이러한 색상을 할당하는 한 가지 방법은 16진수 색상 코드를 사용하는 것입니다."
   ]
  },
  {
   "cell_type": "code",
   "execution_count": null,
   "id": "9751058d",
   "metadata": {},
   "outputs": [],
   "source": [
    "mini_presid = presidential.iloc[5:, :]\n",
    "\n",
    "(\n",
    "    ggplot(mini_presid, aes(x=\"start\", y=\"id\", color=\"party\"))\n",
    "    + geom_point(size=3)\n",
    "    + geom_segment(aes(xend=\"end\", yend=\"id\"), size=1)\n",
    "    + scale_x_datetime(breaks=mini_presid[\"start\"], format=\"%Y\")\n",
    "    + scale_color_manual(values=[\"#00AEF3\", \"#E81B23\"], name=\"party\")\n",
    ")"
   ]
  },
  {
   "cell_type": "markdown",
   "id": "6be370b4",
   "metadata": {},
   "source": [
    "\"빨간색\" 및 \"파란색\"과 같은 일반적인 색상 이름을 사용할 수도 있습니다.\n",
    "\n",
    "연속 색상의 경우 내장된 `scale_color_gradient()` 또는 `scale_fill_gradient()`를 사용할 수 있습니다.\n",
    "발산형 스케일이 있는 경우 `scale_color_gradient2()`를 사용할 수 있습니다. 이를 통해 예를 들어 양수 값과 음수 값에 다른 색상을 지정할 수 있습니다. 이는 평균보다 높거나 낮은 점을 구분하려는 경우에도 유용합니다.\n",
    "\n",
    "또 다른 옵션은 매우 강력한 명령형 파이썬 플로팅 패키지 **[matplotlib](https://matplotlib.org/)**용으로 개발된 viridis, magma, inferno 및 plasma 색상 스케일을 사용하는 것입니다. 디자이너인 Nathaniel Smith와 Stéfan van der Walt는 다양한 형태의 색맹인 사람들도 인지할 수 있고 색상과 흑백 모두에서 지각적으로 균일한 연속 색상 구성표를 신중하게 조정했습니다. 이러한 스케일은 *lets-plot*에서 팔레트로 사용할 수 있습니다. 다음은 viridis의 연속 버전을 사용한 예입니다(먼저 임의의 데이터를 생성합니다)."
   ]
  },
  {
   "cell_type": "code",
   "execution_count": null,
   "id": "644fd814",
   "metadata": {},
   "outputs": [],
   "source": [
    "prng = np.random.default_rng(1837)  # prng=확률적 난수 생성기\n",
    "df_rnd = pd.DataFrame(prng.standard_normal((1000, 2)), columns=[\"x\", \"y\"])\n",
    "(\n",
    "    ggplot(df_rnd, aes(x=\"x\", y=\"y\"))\n",
    "    + geom_bin2d()\n",
    "    + coord_fixed()\n",
    "    + scale_fill_viridis(option=\"plasma\")\n",
    "    + labs(title=\"플라즈마, 연속형\")\n",
    ")"
   ]
  },
  {
   "cell_type": "markdown",
   "id": "e7cf0931",
   "metadata": {},
   "source": [
    "### 확대/축소\n",
    "\n",
    "플롯 제한을 제어하는 세 가지 방법이 있습니다.\n",
    "\n",
    "1. 플로팅되는 데이터를 조정합니다.\n",
    "2. 각 스케일에서 제한을 설정합니다.\n",
    "3. `coord_cartesian()`에서 `xlim` 및 `ylim`을 설정합니다.\n",
    "\n",
    "일련의 플롯에서 이러한 옵션을 보여 드리겠습니다.\n",
    "첫 번째 플롯은 엔진 크기와 연비 간의 관계를 보여주며 구동 방식 유형별로 색상이 지정됩니다.\n",
    "두 번째 플롯은 동일한 변수를 보여주지만 플로팅되는 데이터의 하위 집합을 보여줍니다.\n",
    "데이터의 하위 집합을 만드는 것은 x 및 y 스케일과 부드러운 곡선에 영향을 미쳤습니다.\n"
   ]
  },
  {
   "cell_type": "code",
   "execution_count": null,
   "id": "25a29f38",
   "metadata": {},
   "outputs": [],
   "source": [
    "(\n",
    "    ggplot(mpg, aes(x=\"displ\", y=\"hwy\"))\n",
    "    + geom_point(aes(color=\"drv\"))\n",
    "    + geom_smooth(method=\"loess\")\n",
    ")"
   ]
  },
  {
   "cell_type": "code",
   "execution_count": null,
   "id": "42318a59",
   "metadata": {},
   "outputs": [],
   "source": [
    "mpg_condition = (\n",
    "    (mpg[\"displ\"] >= 5) & (mpg[\"displ\"] <= 6) & (mpg[\"hwy\"] >= 10) & (mpg[\"hwy\"] <= 25)\n",
    ")\n",
    "\n",
    "(\n",
    "    ggplot(mpg.loc[mpg_condition], aes(x=\"displ\", y=\"hwy\"))\n",
    "    + geom_point(aes(color=\"drv\"))\n",
    "    + geom_smooth(method=\"loess\")\n",
    ")"
   ]
  },
  {
   "cell_type": "markdown",
   "id": "ec4c07d0",
   "metadata": {},
   "source": [
    "첫 번째 플롯이 개별 스케일에서 `limits`를 설정하고 두 번째 플롯이 `coord_cartesian()`에서 설정하는 아래 두 플롯과 비교해 보겠습니다.\n",
    "제한을 줄이는 것은 데이터를 하위 집합으로 만드는 것과 같습니다.\n",
    "따라서 플롯의 영역을 확대하려면 일반적으로 `coord_cartesian()`을 사용하는 것이 가장 좋습니다."
   ]
  },
  {
   "cell_type": "code",
   "execution_count": null,
   "id": "03001d5e",
   "metadata": {},
   "outputs": [],
   "source": [
    "(\n",
    "    ggplot(mpg, aes(x=\"displ\", y=\"hwy\"))\n",
    "    + geom_point(aes(color=\"drv\"))\n",
    "    + geom_smooth(method=\"loess\")\n",
    "    + scale_x_continuous(limits=(5, 6))\n",
    "    + scale_y_continuous(limits=(10, 25))\n",
    ")"
   ]
  },
  {
   "cell_type": "code",
   "execution_count": null,
   "id": "dc3bb833",
   "metadata": {},
   "outputs": [],
   "source": [
    "(\n",
    "    ggplot(mpg, aes(x=\"displ\", y=\"hwy\"))\n",
    "    + geom_point(aes(color=\"drv\"))\n",
    "    + geom_smooth(method=\"loess\")\n",
    "    + coord_cartesian(xlim=(5, 6), ylim=(10, 25))\n",
    ")"
   ]
  },
  {
   "cell_type": "markdown",
   "id": "5d1fc3ee",
   "metadata": {},
   "source": [
    "반면에 개별 스케일에서 `limits`를 설정하는 것은 예를 들어 다른 플롯에서 스케일을 일치시키는 등 제한을 *확장*하려는 경우 일반적으로 더 유용합니다.\n",
    "예를 들어 두 가지 자동차 클래스를 추출하여 별도로 플로팅하면 세 가지 스케일(x축, y축 및 색상 미학)이 모두 다른 범위를 갖기 때문에 플롯을 비교하기가 어렵습니다."
   ]
  },
  {
   "cell_type": "code",
   "execution_count": null,
   "id": "aee538a8",
   "metadata": {},
   "outputs": [],
   "source": [
    "suv = mpg.loc[mpg[\"class\"] == \"suv\"]\n",
    "compact = mpg.loc[mpg[\"class\"] == \"compact\"]\n",
    "(ggplot(suv, aes(x=\"displ\", y=\"hwy\", color=\"drv\")) + geom_point())"
   ]
  },
  {
   "cell_type": "code",
   "execution_count": null,
   "id": "a82c8c23",
   "metadata": {},
   "outputs": [],
   "source": [
    "(ggplot(compact, aes(x=\"displ\", y=\"hwy\", color=\"drv\")) + geom_point())"
   ]
  },
  {
   "cell_type": "markdown",
   "id": "be777179",
   "metadata": {},
   "source": [
    "이 문제를 해결하는 한 가지 방법은 전체 데이터의 `limits`로 스케일을 학습하여 여러 플롯에서 스케일을 공유하는 것입니다.\n"
   ]
  },
  {
   "cell_type": "code",
   "execution_count": null,
   "id": "db6fce43",
   "metadata": {},
   "outputs": [],
   "source": [
    "x_scale = scale_x_continuous(limits=mpg[\"displ\"].agg([\"max\", \"min\"]).tolist())\n",
    "y_scale = scale_y_continuous(limits=mpg[\"hwy\"].agg([\"max\", \"min\"]).tolist())\n",
    "col_scale = scale_color_discrete(limits=mpg[\"drv\"].unique())"
   ]
  },
  {
   "cell_type": "code",
   "execution_count": null,
   "id": "dd9e6606",
   "metadata": {},
   "outputs": [],
   "source": [
    "(\n",
    "    ggplot(suv, aes(x=\"displ\", y=\"hwy\", color=\"drv\"))\n",
    "    + geom_point()\n",
    "    + x_scale\n",
    "    + y_scale\n",
    "    + col_scale\n",
    ")"
   ]
  },
  {
   "cell_type": "code",
   "execution_count": null,
   "id": "bdd8b2c5",
   "metadata": {},
   "outputs": [],
   "source": [
    "(\n",
    "    ggplot(compact, aes(x=\"displ\", y=\"hwy\", color=\"drv\"))\n",
    "    + geom_point()\n",
    "    + x_scale\n",
    "    + y_scale\n",
    "    + col_scale\n",
    ")"
   ]
  },
  {
   "cell_type": "markdown",
   "id": "577d8648",
   "metadata": {},
   "source": [
    "이 특정 경우에는 단순히 패싯을 사용할 수도 있었지만, 예를 들어 보고서의 여러 페이지에 플롯을 분산시키려는 경우 이 기술은 더 일반적으로 유용합니다.\n"
   ]
  },
  {
   "cell_type": "markdown",
   "id": "4094830b",
   "metadata": {},
   "source": [
    "### 연습\n",
    "\n",
    "1. 모든 스케일의 첫 번째 인수는 무엇입니까?\n",
    "    `labs()`와 어떻게 비교됩니까?\n",
    "\n",
    "2. 다음을 통해 대통령 임기 표시를 변경합니다.\n",
    "\n",
    "    a. 색상과 x축 눈금을 사용자 정의하는 두 가지 변형을 결합합니다.\n",
    "    b. y축 표시를 개선합니다.\n",
    "    c. 각 임기를 대통령 이름으로 레이블을 지정합니다.\n",
    "    d. 유익한 플롯 레이블을 추가합니다.\n",
    "    e. 4년마다 눈금을 배치합니다(생각보다 까다롭습니다!).\n"
   ]
  },
  {
   "cell_type": "markdown",
   "id": "8b574471",
   "metadata": {},
   "source": [
    "## 테마\n",
    "\n",
    "마지막으로 테마를 사용하여 플롯의 비데이터 요소를 사용자 정의할 수 있습니다.\n"
   ]
  },
  {
   "cell_type": "code",
   "execution_count": null,
   "id": "0b2364ca",
   "metadata": {},
   "outputs": [],
   "source": [
    "(\n",
    "    ggplot(mpg, aes(x=\"displ\", y=\"hwy\"))\n",
    "    + geom_point(aes(color=\"class\"))\n",
    "    + geom_smooth(se=False)\n",
    "    + theme_grey()\n",
    ")"
   ]
  },
  {
   "cell_type": "markdown",
   "id": "7814bb4d",
   "metadata": {},
   "source": [
    "**lets-plot**에는 [여기](https://lets-plot.org/pages/api.html#predefined-themes)에서 찾을 수 있는 여러 내장 테마가 포함되어 있습니다. 특정 기업 또는 저널 스타일과 일치시키려는 경우 자신만의 테마를 만들 수도 있습니다.\n",
    "\n",
    "다음은 여러 `theme()` 설정을 변경하는 예입니다."
   ]
  },
  {
   "cell_type": "code",
   "execution_count": null,
   "id": "67bfa9c8",
   "metadata": {},
   "outputs": [],
   "source": [
    "(\n",
    "    ggplot(mpg, aes(x=\"displ\", color=\"drv\"))\n",
    "    + geom_density(size=2)\n",
    "    + ggtitle(\"드라이브 밀도\")\n",
    "    + theme(\n",
    "        axis_line=element_line(size=4),\n",
    "        axis_ticks_length=10,\n",
    "        axis_title_y=\"blank\",\n",
    "        legend_position=[1, 1],\n",
    "        legend_justification=[1, 1],\n",
    "        panel_background=element_rect(color=\"black\", fill=\"#eeeeee\", size=2),\n",
    "        panel_grid=element_line(color=\"black\", size=1),\n",
    "    )\n",
    ")"
   ]
  },
  {
   "cell_type": "markdown",
   "id": "5b05b5da",
   "metadata": {},
   "source": [
    "### 연습\n",
    "\n",
    "1. 플롯의 축 레이블을 파란색과 굵게 만듭니다.\n"
   ]
  },
  {
   "cell_type": "markdown",
   "id": "a56216db",
   "metadata": {},
   "source": [
    "## 레이아웃\n",
    "\n",
    "지금까지 단일 플롯을 만들고 수정하는 방법에 대해 이야기했습니다.\n",
    "특정 방식으로 레이아웃하려는 여러 플롯이 있는 경우 어떻게 해야 할까요? 그렇게 할 수 있습니다. 두 플롯을 나란히 배치하려면 목록에 넣고 목록에서 `gggrid()`를 호출하면 됩니다. 먼저 플롯을 만들고 객체로 저장해야 합니다(다음 예에서는 `p1` 및 `p2`라고 함).\n"
   ]
  },
  {
   "cell_type": "code",
   "execution_count": null,
   "id": "a8081df4",
   "metadata": {},
   "outputs": [],
   "source": [
    "p1 = ggplot(mpg, aes(x=\"displ\", y=\"hwy\")) + geom_point() + labs(title=\"플롯 1\")\n",
    "p2 = ggplot(mpg, aes(x=\"drv\", y=\"hwy\")) + geom_boxplot() + labs(title=\"플롯 2\")\n",
    "gggrid([p1, p2])"
   ]
  },
  {
   "cell_type": "markdown",
   "id": "b0773270",
   "metadata": {},
   "source": [
    "## 플롯을 파일로 저장\n",
    "\n",
    "파일을 저장할 수 있는 다양한 출력 옵션이 있습니다. 그래픽의 경우 *벡터 형식*이 일반적으로 *래스터 형식*보다 낫다는 것을 기억하십시오. 실제로는 jpg 또는 png 파일 형식보다 svg 또는 pdf 형식으로 플롯을 저장하는 것을 의미합니다. svg 형식은 Microsoft Word를 포함한 많은 컨텍스트에서 작동하며 좋은 기본값입니다. 형식 간에 선택하려면 파일 확장자를 제공하기만 하면 파일 형식이 자동으로 변경됩니다(예: svg의 경우 \"chart.svg\", png의 경우 \"chart.png\". 단, 래스터 형식에는 인치당 도트 수와 같은 추가 옵션이 있는 경우가 많습니다).\n",
    "\n",
    "이전 연습에서 만든 그림인 `p1`을 사용하여 이를 시도해 보겠습니다. `path=\".\"`는 현재 디렉터리에 파일을 놓습니다."
   ]
  },
  {
   "cell_type": "code",
   "execution_count": null,
   "id": "710a6a4f",
   "metadata": {},
   "outputs": [],
   "source": [
    "ggsave(p1, \"chart.svg\", path=\".\")"
   ]
  },
  {
   "cell_type": "markdown",
   "id": "7781794a",
   "metadata": {},
   "source": [
    "이것이 작동했는지 다시 확인하려면 터미널을 사용합니다. 디렉터리의 모든 것을 나열하는 `ls` 명령과 `ls`에서 반환된 것에서 `.svg`로 끝나는 모든 파일을 가져오는 `grep *.svg`를 시도합니다. 이들은 `|`로 명령으로 함께 연결됩니다. (아래의 선행 느낌표는 이 책을 빌드하는 소프트웨어에 터미널을 사용하도록 지시합니다.)"
   ]
  },
  {
   "cell_type": "code",
   "execution_count": null,
   "id": "bc831b1b",
   "metadata": {},
   "outputs": [],
   "source": [
    "!ls | grep *.svg"
   ]
  },
  {
   "cell_type": "code",
   "execution_count": null,
   "id": "9cc10ab7",
   "metadata": {
    "tags": [
     "remove-cell"
    ]
   },
   "outputs": [],
   "source": [
    "# 셀 제거\n",
    "import os\n",
    "\n",
    "os.remove(\"chart.svg\")"
   ]
  },
  {
   "cell_type": "markdown",
   "id": "793f4a04",
   "metadata": {},
   "source": [
    "## 요약\n",
    "\n",
    "이 장에서는 제목, 부제목, 캡션과 같은 플롯 레이블을 추가하고 기본 축 레이블을 수정하고, 주석을 사용하여 플롯에 정보 텍스트를 추가하거나 특정 데이터 포인트를 강조 표시하고, 축 스케일을 사용자 정의하고, 플롯 테마를 변경하는 방법에 대해 배웠습니다.\n",
    "또한 간단하고 복잡한 플롯 레이아웃을 모두 사용하여 단일 그래프에 여러 플롯을 결합하는 방법에 대해서도 배웠습니다.\n",
    "\n",
    "지금까지 다양한 유형의 플롯을 만들고 다양한 기술을 사용하여 사용자 정의하는 방법에 대해 배웠지만 **lets-plot**으로 만들 수 있는 것의 극히 일부만 다루었습니다.\n",
    "\n",
    "자세한 내용은 [**lets-plot** 설명서](https://lets-plot.org/)를 참조하는 것이 가장 좋습니다."
   ]
  }
 ],
 "metadata": {
  "jupytext": {
   "cell_metadata_filter": "-all",
   "encoding": "# -*- coding: utf-8 -*-",
   "formats": "md:myst",
   "main_language": "python"
  },
  "kernelspec": {
   "display_name": ".venv",
   "language": "python",
   "name": "python3"
  },
  "language_info": {
   "codemirror_mode": {
    "name": "ipython",
    "version": 3
   },
   "file_extension": ".py",
   "mimetype": "text/x-python",
   "name": "python",
   "nbconvert_exporter": "python",
   "pygments_lexer": "ipython3",
   "version": "3.10.0"
  },
  "toc-showtags": true
 },
 "nbformat": 4,
 "nbformat_minor": 5
}
