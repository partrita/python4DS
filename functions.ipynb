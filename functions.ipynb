{
 "cells": [
  {
   "cell_type": "markdown",
   "id": "95f0a171",
   "metadata": {},
   "source": [
    "(functions)=\n",
    "# 함수\n",
    "\n",
    "## 소개\n",
    "\n",
    "데이터 과학자로서의 영향력을 향상시키는 가장 좋은 방법 중 하나는 함수를 작성하는 것입니다.\n",
    "함수를 사용하면 복사하여 붙여넣는 것보다 더 강력하고 일반적인 방식으로 일반적인 작업을 자동화할 수 있습니다.\n",
    "함수를 작성하면 복사하여 붙여넣기를 사용하는 것보다 세 가지 큰 이점이 있습니다.\n",
    "\n",
    "1.  함수에 연상적인 이름을 지정하여 코드를 더 쉽게 이해할 수 있도록 만들 수 있습니다.\n",
    "\n",
    "2.  요구 사항이 변경되면 여러 곳이 아닌 한 곳에서만 코드를 업데이트하면 됩니다.\n",
    "\n",
    "3.  복사하여 붙여넣을 때 부수적인 실수를 할 가능성을 제거합니다(예: 한 곳에서는 변수 이름을 업데이트했지만 다른 곳에서는 업데이트하지 않음).\n",
    "\n",
    "좋은 함수를 작성하는 것은 평생의 여정입니다.\n",
    "파이썬을 수년 동안 사용한 후에도 새로운 기술과 오래된 문제에 대한 더 나은 접근 방식을 계속 배울 수 있습니다.\n",
    "이 장의 목표는 함수의 모든 난해한 세부 정보를 가르치는 것이 아니라 즉시 적용할 수 있는 실용적인 조언을 제공하여 시작하는 것입니다.\n",
    "\n",
    "함수 작성에 대한 실용적인 조언 외에도 이 장에서는 코드 스타일 지정 방법에 대한 몇 가지 제안도 제공합니다.\n",
    "좋은 코드 스타일은 올바른 구두점과 같습니다.\n",
    "없어도되지만, 확실히 읽기 쉽게 만들어줍니다!\n",
    "구두점 스타일과 마찬가지로 가능한 변형이 많이 있습니다.\n",
    "여기서는 코드에서 사용하는 스타일을 제시하지만 가장 중요한 것은 일관성을 유지하는 것입니다.\n",
    "\n",
    "### 전제 조건\n",
    "\n",
    "이 장에서는 **pandas** 및 **numpy** 패키지가 필요합니다."
   ]
  },
  {
   "cell_type": "markdown",
   "id": "a4b99b14",
   "metadata": {},
   "source": [
    "## 함수\n",
    "\n",
    "함수에는 입력이 있고, 함수를 수행하며, 출력을 반환합니다. 함수는 '함수 정의'를 의미하는 def 키워드로 시작합니다. 그런 다음 이름이 오고 그 뒤에 괄호 ()가 오는데, 여기에는 함수 인수와 함수 키워드 인수가 포함될 수 있습니다. 그 뒤에는 콜론이 옵니다. 그런 다음 함수 본문은 가장 왼쪽 텍스트를 기준으로 들여쓰기됩니다. 함수 인수는 이름 뒤의 괄호 안에 정의되며 다른 입력은 쉼표로 구분됩니다. 모든 출력은 return 키워드로 제공되며 다시 다른 변수는 쉼표로 구분됩니다.\n",
    "\n",
    "단일 *인수*(또는 arg)를 사용하는 매우 간단한 함수 예를 살펴보겠습니다."
   ]
  },
  {
   "cell_type": "code",
   "execution_count": null,
   "id": "0450ad6c",
   "metadata": {},
   "outputs": [],
   "source": [
    "def welcome_message(name):\n",
    "    return f\"안녕하세요 {name}님, 환영합니다!\"\n", # 번역된 문자열
    "\n",
    "\n",
    "# 들여쓰기 없이는 이 코드는 함수 일부가 아님\n",
    "name = \"에이다\"\n", # 번역된 이름
    "output_string = welcome_message(name)\n",
    "print(output_string)"
   ]
  },
  {
   "cell_type": "markdown",
   "id": "08c06c6a",
   "metadata": {},
   "source": [
    "함수의 강력한 기능 중 하나는 입력 인수에 대한 기본값을 정의할 수 있다는 것입니다. 이를 *키워드 인수*(또는 kwargs)라고 합니다. `name`에 대한 기본값과 여러 출력(환영 메시지 및 점수)을 정의하여 실제로 작동하는 모습을 살펴보겠습니다."
   ]
  },
  {
   "cell_type": "code",
   "execution_count": null,
   "id": "dd49bee5",
   "metadata": {},
   "outputs": [],
   "source": [
    "def score_message(score, name=\"학생\"):\n", # 번역된 기본 이름
    "    \"\"\"이것은 함수를 설명하는 문자열인 독스트링입니다.\n", # 번역된 설명
    "    Args:\n",
    "        score (float): 원점수\n", # 번역된 설명
    "        name (str): 학생 이름\n", # 번역된 설명
    "    Returns:\n",
    "        str: 환영 메시지입니다.\n", # 번역된 설명
    "        float: 정규화된 점수입니다.\n", # 번역된 설명
    "    \"\"\"\n",
    "    norm_score = (score - 50) / 10\n",
    "    return f\"안녕하세요 {name}님\", norm_score\n", # 번역된 문자열
    "\n",
    "\n",
    "# 들여쓰기 없이는 이 코드는 함수 일부가 아님\n",
    "name = \"에이다\"\n", # 번역된 이름
    "score = 98\n",
    "# 이름 입력 안 함\n",
    "print(score_message(score))\n",
    "# 이름 입력함\n",
    "print(score_message(score, name=name))"
   ]
  },
  {
   "cell_type": "markdown",
   "id": "5c4c6cdf",
   "metadata": {},
   "source": [
    "```{admonition} 인수 및 키워드 인수\n", # 번역된 제목
    ":class: tip\n",
    "\n",
    "*인수*는 함수가 *항상* 필요로 하는 변수입니다. 예를 들어 `def add(a, b): return a + b`에서 `a`와 `b`입니다. 인수 없이는 함수가 작동하지 않습니다! 함수 인수는 때때로 *args*라고도 합니다.\n", # 번역된 설명
    "\n",
    "*키워드 인수*는 함수에 선택 사항인 변수입니다. 예를 들어 `def add(a, b, c=5): return a + b - c`에서 `c`입니다. 함수를 호출할 때 `c`에 대한 값을 제공하지 않으면 자동으로 `c=5`로 되돌아갑니다. 키워드 인수는 때때로 *kwargs*라고도 합니다.\n", # 번역된 설명
    "```\n",
    "\n",
    "\n",
    "```{admonition} 연습\n", # 번역된 제목
    "`return` 문 뒤에 쉼표로 구분된 여러 반환 값이 있는 함수의 반환 유형은 무엇입니까?\n", # 번역된 질문
    "```\n",
    "\n",
    "마지막 예에서는 함수에 일부 텍스트를 추가했습니다. 이것은 독스트링 또는 설명 문자열입니다. 사용자와 (가장 가능성이 높은) 미래의 당신이 함수가 수행하는 작업을 이해하는 데 도움이 됩니다. `score_message` 함수에서 `help()`를 호출하여 이것이 실제로 어떻게 작동하는지 살펴보겠습니다."
   ]
  },
  {
   "cell_type": "code",
   "execution_count": null,
   "id": "50dfff24",
   "metadata": {},
   "outputs": [],
   "source": [
    "help(score_message)"
   ]
  },
  {
   "cell_type": "markdown",
   "id": "6e466fcd",
   "metadata": {},
   "source": [
    "```{admonition} 연습\n", # 번역된 제목
    "입력이 \"경제학자를 위한 코딩\"과 같으면 하이파이브 유니코드 문자를 반환하고 그렇지 않으면 슬픈 얼굴 \":-/\"을 반환하는 함수를 작성합니다.\n", # 번역된 지시
    "\n",
    "기본 인수가 빈 문자열이지만 사용되는 경우 반환 메시지에 추가(연결)되는 두 번째 인수를 추가합니다. 이를 사용하여 \":-/ 여기에 내 메시지가 있습니다.\"라는 반환 출력을 만듭니다.\n", # 번역된 지시
    "\n",
    "함수에 대한 독스트링을 작성하고 해당 함수에서 `help`를 호출합니다.\n", # 번역된 지시
    "```\n",
    "\n",
    "args 및 kwargs에 대해 자세히 알아보려면 다음 [짧은 비디오 튜토리얼](https://calmcode.io/args-kwargs/introduction.html)을 확인하십시오."
   ]
  },
  {
   "cell_type": "markdown",
   "id": "58c754c0",
   "metadata": {},
   "source": [
    "## 언제 함수를 작성해야 합니까?\n", # 번역된 제목
    "\n",
    "코드 블록을 두 번 이상 복사하여 붙여넣은 경우(즉, 동일한 코드의 복사본이 세 개 있는 경우) 함수 작성을 고려해야 합니다.\n", # 번역된 설명
    "예를 들어 이 코드를 살펴보십시오.\n", # 번역된 설명
    "무엇을 합니까?" # 번역된 질문
   ]
  },
  {
   "cell_type": "code",
   "execution_count": null,
   "id": "7a744085",
   "metadata": {},
   "outputs": [],
   "source": [
    "import numpy as np\n",
    "import pandas as pd\n",
    "\n",
    "df = pd.DataFrame(np.random.normal(size=(10, 4)), columns=[\"a\", \"b\", \"c\", \"d\"])\n",
    "\n",
    "df[\"a\"] = (df[\"a\"] - df[\"a\"].min()) / (df[\"a\"].max() - df[\"a\"].min())\n",
    "df[\"b\"] = (df[\"b\"] - df[\"b\"].min()) / (df[\"b\"].max() - df[\"a\"].min())\n",
    "df[\"c\"] = (df[\"c\"] - df[\"c\"].min()) / (df[\"c\"].max() - df[\"c\"].min())\n",
    "df[\"d\"] = (df[\"d\"] - df[\"d\"].min()) / (df[\"d\"].max() - df[\"d\"].min())"
   ]
  },
  {
   "cell_type": "markdown",
   "id": "a5da40e0",
   "metadata": {},
   "source": [
    "이것이 각 열을 0에서 1까지의 범위로 재조정한다는 것을 알 수 있을 것입니다.\n", # 번역된 설명
    "하지만 실수를 발견했습니까? `df[\"b\"]`에 대한 코드를 복사하여 붙여넣을 때 오류가 발생했습니다. 누군가가 `a`를 `b`로 변경하는 것을 잊었습니다.\n", # 번역된 설명
    "반복되는 코드를 함수로 추출하는 것은 이러한 유형의 실수를 방지하기 때문에 좋은 생각입니다.\n", # 번역된 설명
    "\n",
    "함수를 작성하려면 먼저 코드를 분석해야 합니다.\n", # 번역된 설명
    "입력이 몇 개입니까?\n", # 번역된 질문
    "\n",
    "```파이썬\n",
    "df[\"a\"] - df[\"a\"].min() / (df[\"a\"].max() - df[\"a\"].min())\n",
    "```\n",
    "\n",
    "이 코드에는 `df[\"a\"]`라는 입력이 하나만 있습니다. 입력을 더 명확하게 하려면 일반적인 이름으로 임시 변수를 사용하여 코드를 다시 작성하는 것이 좋습니다. 여기서 이 코드는 단일 숫자 벡터만 필요하므로 `x`라고 부르고 함수에 넣겠습니다.\n", # 번역된 설명
    "\n",
    "함수는 '함수 정의'를 의미하는 def 키워드로 시작합니다. 그런 다음 이름이 오고 그 뒤에 괄호 ()가 오는데, 여기에는 함수 인수와 함수 키워드 인수가 포함될 수 있습니다. 그 뒤에는 콜론이 옵니다. 그런 다음 함수 본문은 가장 왼쪽 텍스트를 기준으로 들여쓰기됩니다. 함수 인수는 이름 뒤의 괄호 안에 정의되며 다른 입력은 쉼표로 구분됩니다. 모든 출력은 return 키워드로 제공되며 다시 다른 변수는 쉼표로 구분됩니다.\n", # 번역된 설명
    "\n",
    "따라서 파이썬에서 함수는 다음과 같은 형식을 갖습니다.\n", # 번역된 설명
    "\n",
    "```파이썬\n",
    "def 함수_이름(<입력>):\n",
    "    <입력에 대해 수행할 코드>\n",
    "    <적절한 경우 반환 문>\n",
    "```\n",
    "\n",
    "따라서 여기서는 다음과 같습니다." # 번역된 설명
   ]
  },
  {
   "cell_type": "markdown",
   "id": "a16d6dd0",
   "metadata": {},
   "source": [
    "```파이썬\n",
    "def rescale(x):\n",
    "    return (x - x.min()) / (x.max() - x.min())\n",
    "```"
   ]
  },
  {
   "cell_type": "markdown",
   "id": "22f6afb7",
   "metadata": {},
   "source": [
    "이 코드에는 여전히 약간의 중복이 있습니다. 데이터의 최소값을 두 번 계산하고 있으므로 한 번에 수행하는 것이 합리적입니다."
   ]
  },
  {
   "cell_type": "code",
   "execution_count": null,
   "id": "406648b6",
   "metadata": {},
   "outputs": [],
   "source": [
    "def rescale(x):\n",
    "    minimum = x.min()\n",
    "    return (x - minimum) / (x.max() - minimum)"
   ]
  },
  {
   "cell_type": "markdown",
   "id": "60609a8f",
   "metadata": {},
   "source": [
    "중간 계산을 명명된 변수로 빼내는 것은 코드가 수행하는 작업을 더 명확하게 만들기 때문에 좋은 습관입니다.\n", # 번역된 설명
    "\n",
    "\n",
    "새 함수를 만드는 데는 세 가지 주요 단계가 있습니다.\n", # 번역된 설명
    "\n",
    "1.  함수의 *이름*을 선택해야 합니다. 여기서 이 함수는 벡터를 0과 1 사이로 재조정하므로 `rescale`을 사용했습니다.\n", # 번역된 설명
    "\n",
    "1.  함수 내부에 함수의 입력 또는 *인수*를 나열합니다.\n", # 번역된 설명
    "    여기에는 인수가 하나만 있습니다.\n", # 번역된 설명
    "    더 많은 인수가 있다면 호출은 `function(x, y, z)`와 같이 보일 것입니다. (인수 뒤에 `data=`와 같은 명명된 *키워드 인수*가 있을 수도 있습니다.)\n", # 번역된 설명
    "\n",
    "3.  개발한 코드를 함수 *본문*, 즉 `function(...):` 바로 뒤에 오는 블록에 배치합니다.\n", # 번역된 설명
    "\n",
    "전체 프로세스에 유의하십시오. 간단한 입력으로 작동하는 방법을 알아낸 후에만 함수를 만들었습니다. 작동하는 코드로 시작하여 함수로 바꾸는 것이 더 쉽습니다. 함수를 만들고 작동하도록 만드는 것은 더 어렵습니다.\n", # 번역된 설명
    "\n",
    "이 시점에서 몇 가지 다른 입력으로 함수를 확인하는 것이 좋습니다." # 번역된 설명
   ]
  },
  {
   "cell_type": "code",
   "execution_count": null,
   "id": "b72eafca",
   "metadata": {},
   "outputs": [],
   "source": [
    "rescale(pd.Series([-10, 0, 10]))"
   ]
  },
  {
   "cell_type": "code",
   "execution_count": null,
   "id": "edd018c7",
   "metadata": {},
   "outputs": [],
   "source": [
    "rescale(pd.Series([1, 2, 3, np.nan, 5]))"
   ]
  },
  {
   "cell_type": "markdown",
   "id": "629f75d4",
   "metadata": {},
   "source": [
    "점점 더 많은 함수를 작성함에 따라 결국 이러한 비공식적이고 대화형 테스트를 공식적이고 자동화된 테스트로 전환하고 싶을 것입니다.\n", # 번역된 설명
    "이 프로세스를 단위 테스트라고 합니다. 안타깝게도 이 책의 범위를 벗어납니다.\n", # 번역된 설명
    "\n",
    "이제 함수가 있으므로 원래 예제를 단순화할 수 있습니다." # 번역된 설명
   ]
  },
  {
   "cell_type": "code",
   "execution_count": null,
   "id": "ce066e4f",
   "metadata": {},
   "outputs": [],
   "source": [
    "df[\"a\"] = rescale(df[\"a\"])\n",
    "df[\"b\"] = rescale(df[\"b\"])\n",
    "df[\"c\"] = rescale(df[\"c\"])\n",
    "df[\"d\"] = rescale(df[\"d\"])"
   ]
  },
  {
   "cell_type": "markdown",
   "id": "cb41766f",
   "metadata": {},
   "source": [
    "원래 코드에 비해 이 코드는 이해하기 쉽고 복사하여 붙여넣기 오류의 한 종류를 제거했습니다. 여러 열에 대해 동일한 작업을 수행하고 있으므로 여전히 중복이 상당히 많습니다. 실제로 이것도 제거할 수 있지만 이 책의 뒷부분에서 수행하는 방법을 다룰 것입니다.\n", # 번역된 설명
    "\n",
    "함수의 또 다른 장점은 요구 사항이 변경되면 한 곳에서만 변경하면 된다는 것입니다.\n", # 번역된 설명
    "예를 들어 일부 변수에 무한한 값이 포함되어 있고 `rescale()`이 (효과적으로) 실패하는 것을 발견할 수 있습니다." # 번역된 설명
   ]
  },
  {
   "cell_type": "code",
   "execution_count": null,
   "id": "f503c36b",
   "metadata": {},
   "outputs": [],
   "source": [
    "rescale(pd.Series([1, 2, 3, np.inf, 5]))"
   ]
  },
  {
   "cell_type": "markdown",
   "id": "f29a050e",
   "metadata": {},
   "source": [
    "코드를 함수로 추출했기 때문에 한 곳에서만 수정하면 됩니다."
   ]
  },
  {
   "cell_type": "code",
   "execution_count": null,
   "id": "67c861b6",
   "metadata": {},
   "outputs": [],
   "source": [
    "def rescale(x):\n",
    "    x = x.replace(np.inf, np.nan)\n",
    "    minimum = x.min()\n",
    "    return (x - minimum) / (x.max() - minimum)\n",
    "\n",
    "\n",
    "rescale(pd.Series([1, 2, 3, np.inf, 5]))"
   ]
  },
  {
   "cell_type": "markdown",
   "id": "ee8598d3",
   "metadata": {},
   "source": [
    "이것은 \"반복하지 마십시오\"(또는 DRY) 원칙의 중요한 부분입니다.\n", # 번역된 설명
    "코드에 반복이 많을수록 변경 사항이 발생할 때(항상 발생함!) 업데이트해야 할 위치를 더 많이 기억해야 하며 시간이 지남에 따라 버그를 만들 가능성이 더 커집니다." # 번역된 설명
   ]
  },
  {
   "cell_type": "markdown",
   "id": "6e5df698",
   "metadata": {},
   "source": [
    "## 함수는 인간과 컴퓨터를 위한 것입니다.\n", # 번역된 제목
    "\n",
    "함수는 컴퓨터뿐만 아니라 인간을 위한 것이기도 하다는 것을 기억하는 것이 중요합니다. 대부분의 경우 파이썬은 함수 이름이나 함수에 포함된 주석에 신경 쓰지 않지만 인간 독자에게는 중요합니다. 이 섹션에서는 인간이 이해할 수 있는 함수를 작성할 때 염두에 두어야 할 몇 가지 사항에 대해 설명합니다.\n", # 번역된 설명
    "\n",
    "함수 이름은 중요합니다. 이상적으로 함수 이름은 짧지만 함수가 수행하는 작업을 명확하게 연상시켜야 합니다. 어렵습니다! 하지만 Visual Studio Code의 자동 완성을 사용하면 긴 이름을 쉽게 입력할 수 있으므로 짧은 것보다 명확한 것이 좋습니다.\n", # 번역된 설명
    "\n",
    "일반적으로 함수 이름은 동사여야 하고 인수는 명사여야 합니다. 몇 가지 예외가 있습니다. 함수가 매우 잘 알려진 명사를 계산하거나(즉, `compute_mean`보다 `mean`이 더 좋음) 객체의 일부 속성에 액세스하는 경우(즉, `get_coefficients`보다 `coef`가 더 좋음) 명사가 괜찮습니다. 명사가 더 나은 선택일 수 있다는 좋은 신호는 \"get\", \"compute\", \"calculate\" 또는 \"determine\"과 같이 매우 광범위한 동사를 사용하는 경우입니다.\n", # 번역된 설명
    "최선의 판단을 내리고 나중에 더 나은 이름을 알아내면 함수 이름을 바꾸는 것을 두려워하지 마십시오.\n", # 번역된 설명
    "\n",
    "```파이썬\n",
    "# 동사가 아니거나 설명적이지 않음\n",
    "my_awesome_function()\n",
    "# 길지만 명확함\n",
    "impute_missing()\n",
    "collapse_years()\n",
    "```\n",
    "\n",
    "함수 이름이 여러 단어로 구성된 경우 각 소문자 단어가 밑줄로 구분되는 \"스네이크_케이스\"를 사용합니다. 유사한 작업을 수행하는 함수 계열이 있는 경우 이름과 인수가 일관되도록 하십시오. 공통 접두사를 사용하여 연결되어 있음을 나타냅니다. 자동 완성을 사용하면 접두사를 입력하고 계열의 모든 구성원을 볼 수 있으므로 공통 접미사보다 좋습니다.\n", # 번역된 설명
    "\n",
    "```파이썬\n",
    "# 좋음\n",
    "input_select()\n",
    "input_checkbox()\n",
    "input_text()\n",
    "# 그다지 좋지 않음\n",
    "select_input()\n",
    "checkbox_input()\n",
    "text_input()\n",
    "```\n",
    "\n",
    "이 디자인의 좋은 예는 **pandas** 패키지입니다. 데이터를 읽어오는 데 필요한 함수를 정확히 기억하지 못하는 경우 `pd.read_`를 입력하고 자동 완성이 옵션을 표시하면 기억을 되살릴 수 있습니다." # 번역된 설명
   ]
  },
  {
   "cell_type": "markdown",
   "id": "6735f101",
   "metadata": {},
   "source": [
    "## 함수 범위\n", # 번역된 제목
    "\n",
    "범위는 코드의 어떤 부분이 다른 부분을 볼 수 있는지를 나타냅니다. 염두에 두어야 할 세 가지 다른 범위가 있습니다. 로컬, 전역 및 비로컬입니다.\n", # 번역된 설명
    "\n",
    "**로컬**\n", # 번역된 제목
    "\n",
    "함수 내부에 변수를 정의하면 나머지 코드에서는 해당 변수를 '보거나' 사용할 수 없습니다. 예를 들어 다음은 변수를 만드는 함수와 해당 변수를 호출하는 예입니다.\n", # 번역된 설명
    "\n",
    "```파이썬\n",
    "def var_func():\n",
    "    str_variable = 'Hello World!'\n",
    "\n",
    "var_func()\n",
    "print(str_variable)\n",
    "```\n",
    "\n",
    "일반 코드에서는 함수 외부에서 `str_variable`이 존재하지 않으므로 오류가 발생합니다. 이것은 함수 내에서만 존재하는 *로컬* 변수의 예입니다.\n", # 번역된 설명
    "\n",
    "\n",
    "함수 내부에 변수를 만들고 유지하려면 다음과 같이 `return str_variable`과 같이 명시적으로 전달해야 합니다." # 번역된 설명
   ]
  },
  {
   "cell_type": "code",
   "execution_count": null,
   "id": "8725b986",
   "metadata": {},
   "outputs": [],
   "source": [
    "def var_func():\n",
    "    str_variable = \"Hello World!\"\n",
    "    return str_variable\n",
    "\n",
    "\n",
    "returned_var = var_func()\n",
    "print(returned_var)"
   ]
  },
  {
   "cell_type": "markdown",
   "id": "ddd6f63e",
   "metadata": {},
   "source": [
    "**전역**\n", # 번역된 제목
    "\n",
    "함수 외부에 선언된 변수는 모든 곳에서 액세스할 수 있으므로 전역 변수라고 합니다." # 번역된 설명
   ]
  },
  {
   "cell_type": "code",
   "execution_count": null,
   "id": "b0a4fe15",
   "metadata": {},
   "outputs": [],
   "source": [
    "y = \"나는 전역 변수입니다.\"\n", # 번역된 문자열
    "\n",
    "\n",
    "def print_y():\n",
    "    print(\"함수 내 y:\", y)\n", # 번역된 문자열
    "\n",
    "\n",
    "print_y()\n",
    "print(\"함수 외부 y:\", y)" # 번역된 문자열
   ]
  }
 ],
 "metadata": {
  "interpreter": {
   "hash": "9d7534ecd9fbc7d385378f8400cf4d6cb9c6175408a574f1c99c5269f08771cc"
  },
  "jupytext": {
   "cell_metadata_filter": "-all",
   "encoding": "# -*- coding: utf-8 -*-",
   "formats": "md:myst",
   "main_language": "python"
  },
  "kernelspec": {
   "display_name": "Python 3 (ipykernel)",
   "language": "python",
   "name": "python3"
  },
  "language_info": {
   "codemirror_mode": {
    "name": "ipython",
    "version": 3
   },
   "file_extension": ".py",
   "mimetype": "text/x-python",
   "name": "python",
   "nbconvert_exporter": "python",
   "pygments_lexer": "ipython3",
   "version": "3.10.12"
  },
  "toc-showtags": true
 },
 "nbformat": 4,
 "nbformat_minor": 5
}
