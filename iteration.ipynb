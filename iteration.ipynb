{
 "cells": [
  {
   "cell_type": "markdown",
   "id": "95f0a171",
   "metadata": {},
   "source": [
    "(iteration)=\n",
    "# 반복\n",
    "\n",
    "## 소개\n",
    "\n",
    "\n",
    "{ref}`functions`에서 복사하여 붙여넣는 대신 함수를 만들어 코드 중복을 줄이는 것이 얼마나 중요한지에 대해 이야기했습니다.\n",
    "코드 중복을 줄이면 세 가지 주요 이점이 있습니다.\n",
    "\n",
    "1.  코드가 동일하게 유지되는 부분이 아닌 다른 부분에 시선이 집중되므로 코드의 의도를 더 쉽게 파악할 수 있습니다.\n",
    "\n",
    "2.  요구 사항 변경에 더 쉽게 대응할 수 있습니다.\n",
    "    요구가 변경되면 코드를 복사하여 붙여넣은 모든 위치를 변경하는 것을 기억하는 대신 한 곳에서만 변경하면 됩니다.\n",
    "\n",
    "3.  각 코드 줄이 더 많은 위치에서 사용되므로 버그가 줄어들 가능성이 높습니다.\n",
    "\n",
    "중복을 줄이는 한 가지 도구는 함수입니다. 함수는 반복되는 코드 패턴을 식별하고 쉽게 재사용하고 업데이트할 수 있는 독립적인 부분으로 추출하여 중복을 줄입니다. 중복을 줄이는 또 다른 도구는 *반복*입니다. 반복은 여러 입력에 대해 동일한 작업을 수행해야 할 때 도움이 됩니다. 즉, 다른 열이나 다른 데이터 세트에서 동일한 작업을 반복하는 것입니다.\n",
    "\n",
    "이 장에서는 for 루프와 while 루프를 사용하는 명시적 반복, 컴프리헨션(예: 리스트 컴프리헨션)을 통한 반복, **pandas** 데이터 프레임에 대한 반복의 세 가지 방법으로 반복에 대해 배웁니다."
   ]
  },
  {
   "cell_type": "code",
   "execution_count": null,
   "id": "51a55374",
   "metadata": {
    "tags": [
     "remove-cell"
    ]
   },
   "outputs": [],
   "source": [
    "# 셀 제거\n",
    "import matplotlib.pyplot as plt\n",
    "import matplotlib_inline.backend_inline\n",
    "\n",
    "# 플롯 설정\n",
    "plt.style.use(\"https://github.com/aeturrell/python4DS/raw/main/plot_style.txt\")\n",
    "matplotlib_inline.backend_inline.set_matplotlib_formats(\"svg\")"
   ]
  },
  {
   "cell_type": "markdown",
   "id": "17575f3a",
   "metadata": {},
   "source": [
    "### 전제 조건\n",
    "\n",
    "이 장에서는 **pandas** 데이터 분석 패키지를 사용합니다."
   ]
  },
  {
   "cell_type": "markdown",
   "id": "19e65736",
   "metadata": {},
   "source": [
    "## For 루프\n",
    "\n",
    "루프는 유사한 코드 조각을 유사한 방식으로 반복해서 실행하는 방법입니다.\n",
    "\n",
    "`for` 루프는 조건이 충족되는 동안 무언가를 수행합니다. 예를 들어,"
   ]
  },
  {
   "cell_type": "code",
   "execution_count": null,
   "id": "a2bbd41c",
   "metadata": {},
   "outputs": [],
   "source": [
    "name_list = [\"Lovelace\", \"Smith\", \"Pigou\", \"Babbage\"]\n",
    "\n",
    "for name in name_list:\n",
    "    print(name)"
   ]
  },
  {
   "cell_type": "markdown",
   "id": "eb31bf67",
   "metadata": {},
   "source": [
    "모든 이름이 인쇄될 때까지 이름을 인쇄합니다.\n",
    "\n",
    "모든 for 루프에는 세 가지 구성 요소가 있습니다.\n",
    "\n",
    "1.  *출력*, 여기서는 print 문입니다. 하지만 데이터 프레임이나 목록의 각 항목을 채우는 for 루프를 상상할 수 있습니다(단, 루프 내에서 크기를 변경하는 것은 느리므로 항상 전체 파이썬 객체를 먼저 만들고 나중에 채워야 합니다).\n",
    "\n",
    "\n",
    "2.  *시퀀스*: `for name in name_list:`.\n",
    "    이것은 반복할 대상을 결정합니다. for 루프의 각 실행은 반복 가능한 `name_list`의 다른 값에 `name`을 할당합니다. 목록일 필요는 없으며 반복 가능한 모든 객체가 가능합니다.\n",
    "    위의 `name`을 \"그것\"과 같은 대명사로 생각하는 것이 유용합니다.\n",
    "\n",
    "3.  *본문*: `print(name)`.\n",
    "    이것은 작업을 수행하는 코드입니다.\n",
    "    `name`에 대해 다른 값으로 반복적으로 실행됩니다.\n",
    "    첫 번째 반복은 효과적으로 `print(name_list[0])`을 실행하고 두 번째 반복은 `print(name_list[1])`을 실행하는 식입니다.\n",
    "\n",
    "\n",
    "객체가 반복 가능한 한(즉, 반복할 수 있는 한) for 루프에서 이러한 방식으로 사용할 수 있습니다. 가장 일반적인 예는 목록과 튜플이지만 문자열을 반복할 수도 있습니다(이 경우 각 문자가 차례로 선택됨). 문자열(예: \"hello\")을 반복하는 경우 문자열 *목록(또는 튜플)* (예: `[\"hello\"]`)을 반복하는 대신 주의해야 할 한 가지 함정이 있습니다. 후자의 경우 다음과 같습니다."
   ]
  },
  {
   "cell_type": "code",
   "execution_count": null,
   "id": "835ebda7",
   "metadata": {},
   "outputs": [],
   "source": [
    "for entry in [\"hello\"]:\n",
    "    print(entry)\n",
    "    print(\"---항목 끝---\")"
   ]
  },
  {
   "cell_type": "markdown",
   "id": "5a6dec3e",
   "metadata": {},
   "source": [
    "전자의 경우 상당히 다르고 일반적으로 그다지 유용하지 않은 것을 얻습니다."
   ]
  },
  {
   "cell_type": "code",
   "execution_count": null,
   "id": "2a19ac2e",
   "metadata": {},
   "outputs": [],
   "source": [
    "for entry in \"hello\":\n",
    "    print(entry)\n",
    "    print(\"---항목 끝---\")"
   ]
  },
  {
   "cell_type": "markdown",
   "id": "2a080093",
   "metadata": {},
   "source": [
    "```{admonition} 연습\n",
    "각 단어가 연속적인 반복으로 인쇄되도록 \"Python for Data Science\"를 인쇄하는 for 루프를 작성하십시오.\n",
    "```\n",
    "\n",
    "for 루프의 유용한 트릭은 `enumerate()` 키워드입니다. 이 키워드는 목록의 항목 위치를 추적하는 인덱스를 실행합니다."
   ]
  },
  {
   "cell_type": "code",
   "execution_count": null,
   "id": "239e133f",
   "metadata": {},
   "outputs": [],
   "source": [
    "name_list = [\"Lovelace\", \"Smith\", \"Hopper\", \"Babbage\"]\n",
    "\n",
    "for i, name in enumerate(name_list):\n",
    "    print(f\"{i} 위치의 이름은 {name}입니다.\")"
   ]
  },
  {
   "cell_type": "markdown",
   "id": "d3547896",
   "metadata": {},
   "source": [
    "파이썬 인덱스는 0부터 시작하므로 `i`의 첫 번째 항목은 0입니다. 하지만 다른 숫자부터 인덱싱하고 싶다면 다음과 같이 할 수 있습니다."
   ]
  },
  {
   "cell_type": "code",
   "execution_count": null,
   "id": "b66c5c53",
   "metadata": {},
   "outputs": [],
   "source": [
    "for i, name in enumerate(name_list, start=1):\n",
    "    print(f\"{i} 위치의 이름은 {name}입니다.\")"
   ]
  },
  {
   "cell_type": "markdown",
   "id": "b8c12f6d",
   "metadata": {},
   "source": [
    "사전으로 for 루프를 수행할 때 유용한 또 다른 패턴은 키-값 쌍에 대한 반복입니다. 사전에 대해서는 곧 자세히 배우겠지만 지금 중요한 것은 사전에 키를 값에 매핑한다는 것입니다. 예를 들어 \"사과\"는 \"과일\"에 매핑될 수 있습니다. 도시를 온도에 매핑한 이전 예제를 살펴보겠습니다. 키와 값 모두에 대해 반복하고 싶다면 다음과 같이 for 루프를 작성할 수 있습니다."
   ]
  },
  {
   "cell_type": "code",
   "execution_count": null,
   "id": "010239fe",
   "metadata": {},
   "outputs": [],
   "source": [
    "cities_to_temps = {\"파리\": 28, \"런던\": 22, \"세비야\": 36, \"웰즐리\": 29}\n",
    "\n",
    "for key, value in cities_to_temps.items():\n",
    "    print(f\"{key}의 오늘 온도는 {value}도입니다.\")"
   ]
  },
  {
   "cell_type": "markdown",
   "id": "42aef792",
   "metadata": {},
   "source": [
    "사전 끝에 `.items()`를 추가했습니다. 그리고 키를 `key`라고 부르거나 값을 `value`라고 부를 필요는 없었습니다. 이것은 위치에 따라 설정됩니다. 하지만 코드 작성의 모범 사례 중 하나는 *놀라움이 없어야 한다*는 것이며 키, 값을 작성하면 사전을 사용하고 있음을 매우 명확하게 알 수 있습니다.\n",
    "\n",
    "```{admonition} 연습\n",
    "알고 있는 네 개의 도시를 각 국가에 매핑하는 사전을 작성하고 `key, value` 반복 트릭을 사용하여 결과를 인쇄하십시오.\n",
    "```\n",
    "\n",
    "`zip()` 함수에서 제공하는 또 다른 유용한 for 루프 유형이 있습니다. `zip()` 함수는 지퍼처럼 서로 다른 두 반복자의 요소를 차례로 결합하는 것으로 생각할 수 있습니다. 다음은 예입니다."
   ]
  },
  {
   "cell_type": "code",
   "execution_count": null,
   "id": "8ea3efc5",
   "metadata": {},
   "outputs": [],
   "source": [
    "first_names = [\"에이다\", \"애덤\", \"그레이스\", \"찰스\"]\n",
    "last_names = [\"러브레이스\", \"스미스\", \"호퍼\", \"배비지\"]\n",
    "\n",
    "for forename, surname in zip(first_names, last_names):\n",
    "    print(f\"{forename} {surname}\")"
   ]
  },
  {
   "cell_type": "markdown",
   "id": "c07737f3",
   "metadata": {},
   "source": [
    "zip 함수는 실제로 매우 유용합니다.\n",
    "\n",
    "```{admonition} 연습\n",
    "위의 이름과 이 뒤섞인 성 목록을 함께 묶습니다. `['배비지', '호퍼', '스미스', '러브레이스']`.\n",
    "\n",
    "(힌트: 이 장 앞부분에서 목록을 재정렬하는 데 도움이 되는 트릭을 보았습니다.)\n",
    "```"
   ]
  },
  {
   "cell_type": "markdown",
   "id": "ba79c3dc",
   "metadata": {},
   "source": [
    "## 리스트 (및 기타) 컴프리헨션\n",
    "\n",
    "파이썬에서 루프를 수행하는 두 번째 방법이 있으며, [모든 경우](https://stackoverflow.com/questions/22108488/are-list-comprehensions-and-functional-functions-faster-than-for-loops)는 아니지만 대부분의 [경우](https://towardsdatascience.com/list-comprehensions-vs-for-loops-it-is-not-what-you-think-34071d4d8207) 더 빠르게 실행됩니다. 더 중요한 것은, 그리고 *이것이* 가능한 경우 사용하는 것이 좋은 습관인 이유인데, 매우 읽기 쉽다는 것입니다. 이를 *리스트 컴프리헨션*이라고 합니다.\n",
    "\n",
    "리스트 컴프리헨션은 `for` 루프와 (필요한 경우) `조건`이 수행하는 작업을 코드 한 줄로 결합할 수 있습니다. 먼저 리스트 컴프리헨션으로 수행된 각 값에 1을 더하는 `for` 루프를 살펴보겠습니다(참고: 실제로는 이러한 종류의 작업에 대해 초고속 **numpy** 배열을 사용합니다)."
   ]
  },
  {
   "cell_type": "code",
   "execution_count": null,
   "id": "7efed381",
   "metadata": {},
   "outputs": [],
   "source": [
    "num_list = range(50, 60)\n",
    "[1 + num for num in num_list]"
   ]
  },
  {
   "cell_type": "markdown",
   "id": "aaca4b6b",
   "metadata": {},
   "source": [
    "일반적인 패턴은 `for` 루프와 약간 비슷하지만 몇 가지 차이점이 있습니다. 콜론이 없고 들여쓰기가 없습니다. 구문은 \"`x`로 무언가를 수행\"한 다음 `for x in iterable`입니다. 마지막으로 표현식은 `[` 및 `]`로 묶여 출력을 목록으로 만듭니다.\n",
    "\n",
    "목록은 이러한 종류의 구조에 제공할 수 있는 유일한 래핑이 아닙니다. `(` 및 `)`는 생성기(지금은 이것이 무엇인지 걱정하지 마십시오)를 만들고, `{` 및 `}`는 집합(고유한 값만 포함하는 객체)을 만들거나 컴프리헨션에서 사전을 만들 수도 있습니다! 리스트 컴프리헨션이 가장 일반적이므로 한 종류만 기억한다면 리스트 컴프리헨션을 기억하십시오.\n",
    "\n",
    "```{admonition} 연습\n",
    "1에서 10까지의 범위에 있는 숫자에 5를 곱하는 리스트 컴프리헨션을 만듭니다.\n",
    "\n",
    "범위를 올바르게 지정했습니까?\n",
    "```\n",
    "\n",
    "이제 리스트 컴프리헨션 내에 조건을 포함하는 방법을 살펴보겠습니다. 숫자 목록이 있고 모듈로 연산자를 사용하여 숫자가 3으로 나누어지는지 여부에 따라 필터링하고 싶다고 가정해 보겠습니다."
   ]
  },
  {
   "cell_type": "code",
   "execution_count": null,
   "id": "722fda21",
   "metadata": {},
   "outputs": [],
   "source": [
    "number_list = range(1, 40)\n",
    "divide_list = [x for x in number_list if x % 3 == 0]\n",
    "print(divide_list)"
   ]
  },
  {
   "cell_type": "markdown",
   "id": "326a9c20",
   "metadata": {},
   "source": [
    "여기서 구문은 `x`가 일부 조건을 충족하는 경우 무언가에 있는 `x`에 대해 `x`로 무언가를 수행하는 것입니다.\n",
    "\n",
    "다음은 'Smith'가 포함된 이름만 선택하는 또 다른 예입니다."
   ]
  },
  {
   "cell_type": "code",
   "execution_count": null,
   "id": "b6e80d6b",
   "metadata": {},
   "outputs": [],
   "source": [
    "names_list = [\"Joe Bloggs\", \"Adam Smith\", \"Sandra Noone\", \"leonara smith\"]\n",
    "smith_list = [x for x in names_list if \"smith\" in x.lower()]\n",
    "print(smith_list)"
   ]
  },
  {
   "cell_type": "markdown",
   "id": "f67de061",
   "metadata": {},
   "source": [
    "'Smith' 대신 'smith'를 사용하고 `lower()`를 사용하여 대소문자에 관계없이 이름을 일치시키는 방법을 확인하십시오.\n",
    "\n",
    "리스트 컴프리헨션 *내부*에 전체 `if` ... `else` 구문을 사용할 수도 있습니다."
   ]
  },
  {
   "cell_type": "code",
   "execution_count": null,
   "id": "f348bfb6",
   "metadata": {},
   "outputs": [],
   "source": [
    "names_list = [\"Joe Bloggs\", \"Adam Smith\", \"Sandra Noone\", \"leonara smith\"]\n",
    "smith_list = [x if \"smith\" in x.lower() else \"스미스가 아님!\" for x in names_list]\n",
    "print(smith_list)"
   ]
  },
  {
   "cell_type": "markdown",
   "id": "72548d09",
   "metadata": {},
   "source": [
    "우리가 본 많은 구문을 결합할 수 있습니다. 예를 들어 `zip()`을 사용하는 중첩되거나 반복되는 리스트 컴프리헨션을 가질 수 있으며, 아마도 더 놀랍게도 때로는 유용합니다!"
   ]
  },
  {
   "cell_type": "code",
   "execution_count": null,
   "id": "74e4fcc7",
   "metadata": {},
   "outputs": [],
   "source": [
    "first_names = [\"에이다\", \"애덤\", \"그레이스\", \"찰스\"]\n",
    "last_names = [\"러브레이스\", \"스미스\", \"호퍼\", \"배비지\"]\n",
    "names_list = [x + \" \" + y for x, y in zip(first_names, last_names)]\n",
    "print(names_list)"
   ]
  },
  {
   "cell_type": "markdown",
   "id": "7ec0597d",
   "metadata": {},
   "source": [
    "리스트 컴프리헨션의 훨씬 더 극단적인 사용은 중첩된 구조를 제공할 수 있습니다."
   ]
  },
  {
   "cell_type": "code",
   "execution_count": null,
   "id": "2c82cf1f",
   "metadata": {},
   "outputs": [],
   "source": [
    "first_names = [\"에이다\", \"애덤\"]\n",
    "last_names = [\"러브레이스\", \"스미스\"]\n",
    "names_list = [[x + \" \" + y for x in first_names] for y in last_names]\n",
    "print(names_list)"
   ]
  },
  {
   "cell_type": "markdown",
   "id": "9b83ece8",
   "metadata": {},
   "source": [
    "이것은 (이 경우) `first_names`를 먼저 반복한 다음 `last_names`를 반복하는 중첩된 구조를 제공합니다. (이 객체는 문자열 목록의 목록입니다!)\n",
    "\n",
    "이제 사전 컴프리헨션을 살펴보겠습니다. 이것은 양쪽 끝에 `{` 및 `}`를 사용하기 때문에 집합 컴프리헨션과 약간 비슷해 보이지만 키와 값을 구분하는 콜론이 있기 때문에 다릅니다."
   ]
  },
  {
   "cell_type": "code",
   "execution_count": null,
   "id": "acef16ae",
   "metadata": {},
   "outputs": [],
   "source": [
    "{key: value for key, value in zip(first_names, last_names)}"
   ]
  },
  {
   "cell_type": "markdown",
   "id": "d18be80b",
   "metadata": {},
   "source": [
    "```{admonition} 연습\n",
    "`[['a0', 'b0', 'c0'], ['a1', 'b1', 'c1'], ['a2', 'b2', 'c2']]`와 같은 문자열 목록의 목록이 되는 중첩된 리스트 컴프리헨션을 만듭니다(즉, 알파벳의 처음 세 글자와 처음 세 정수의 조합). 이렇게 하려면 `str(x)`를 사용하여 숫자를 문자열로 변환해야 할 수 있습니다.\n",
    "```\n",
    "\n",
    "리스트 컴프리헨션에 대해 더 자세히 알아보려면 다음 [짧은 비디오 튜토리얼](https://calmcode.io/comprehensions/introduction.html)을 확인하십시오.\n",
    "\n",
    "## While 루프\n",
    "\n",
    "`while` 루프는 조건 표현식이 `False`로 평가될 때까지 코드를 계속 실행합니다. (물론 영원히 `True`로 평가되면 코드는 계속 실행됩니다...)"
   ]
  },
  {
   "cell_type": "code",
   "execution_count": null,
   "id": "3e47ba02",
   "metadata": {},
   "outputs": [],
   "source": [
    "n = 10\n",
    "while n > 0:\n",
    "    print(n)\n",
    "    n -= 1\n",
    "\n",
    "print(\"실행 완료\")"
   ]
  },
  {
   "cell_type": "markdown",
   "id": "0131cc60",
   "metadata": {},
   "source": [
    "참고: `-=`가 무엇을 하는지 궁금하다면 왼쪽을 왼쪽에서 오른쪽을 뺀 값으로 설정하는 복합 할당입니다.\n",
    "\n",
    "`break` 키워드를 사용하여 while 루프를 빠져나올 수 있습니다. 예를 들어 수렴하지 않고 특정 반복 횟수에 도달한 경우입니다.\n",
    "\n",
    "```{admonition} 연습\n",
    "`import string`을 사용한 다음 `string.ascii_lowercase`를 사용하여 알파벳 문자를 가져와서 알파벳을 역순으로 반복하는( \"z\"에서 시작) while 루프를 작성한 다음 \"실행 완료\"를 인쇄합니다.\n",
    "```"
   ]
  },
  {
   "cell_type": "markdown",
   "id": "5ec0643e",
   "metadata": {},
   "source": [
    "## **pandas** 데이터 프레임으로 반복하기\n",
    "\n",
    "For 루프, while 루프 및 컴프리헨션은 모두 **pandas** 데이터 프레임에서 작동하지만 일반적으로 느리고 메모리 효율적이지 않기 때문에 작업을 수행하는 데 좋지 않은 방법입니다. 반복이 필요한 경우를 지원하기 위해 **pandas**에는 수행해야 할 작업에 따라 반복을 위한 내장 메서드가 있습니다.\n",
    "\n",
    "이러한 반복을 위한 내장 메서드는 {ref}`data-transform`에서 본 것과 중복되지만 여기서는 `assign()`/할당 작업, `apply()` 및 `eval()`에 대해 좀 더 자세히 살펴보겠습니다.\n",
    "\n"
   ]
  },
  {
   "cell_type": "markdown",
   "id": "791e0437",
   "metadata": {},
   "source": [
    "### 할당 연산 및 `assign`\n",
    "\n",
    "할당은 오른쪽 값을 왼쪽에 있는 객체에 할당하는 문이며 가운데에 등호가 있습니다.\n",
    "\n",
    "다음과 같은 데이터 프레임이 있다고 상상해 보십시오."
   ]
  },
  {
   "cell_type": "code",
   "execution_count": null,
   "id": "b3116809",
   "metadata": {},
   "outputs": [],
   "source": [
    "import numpy as np\n",
    "import pandas as pd\n",
    "\n",
    "df = pd.DataFrame(np.random.normal(size=(6, 4)), columns=[\"a\", \"b\", \"c\", \"d\"])\n",
    "df"
   ]
  },
  {
   "cell_type": "markdown",
   "id": "0e826ad5",
   "metadata": {},
   "source": [
    "**pandas**에는 이미 행과 열을 반복하도록 만들어진 많은 내장 함수가 있습니다. 예를 들어 각각 행 또는 열의 중앙값을 계산하려면 다음과 같습니다."
   ]
  },
  {
   "cell_type": "code",
   "execution_count": null,
   "id": "ac909c2f",
   "metadata": {},
   "outputs": [],
   "source": [
    "df.median(axis=\"rows\")  # axis=1도 사용 가능"
   ]
  },
  {
   "cell_type": "code",
   "execution_count": null,
   "id": "96426002",
   "metadata": {},
   "outputs": [],
   "source": [
    "df.median(axis=\"columns\")  # axis=0도 사용 가능"
   ]
  },
  {
   "cell_type": "markdown",
   "id": "52ad8ea5",
   "metadata": {},
   "source": [
    "이러한 경우와 내장 함수를 사용하는 다른 경우에는 반복이 숨겨집니다. 내장 함수가 아니고 집계도 아닌 작업을 수행하려면 어떻게 해야 할까요? 모든 항목에 5를 더하는 예를 살펴보겠습니다. 행별로 명시적으로 반복한 다음 각 열에 대해 반복할 수 있습니다. 즉,"
   ]
  },
  {
   "cell_type": "code",
   "execution_count": null,
   "id": "060b6815",
   "metadata": {},
   "outputs": [],
   "source": [
    "# 이렇게 하지 마십시오!\n",
    "\n",
    "\n",
    "def add_five_slow(df):\n",
    "    for i in range(len(df)):\n",
    "        for j in range(len(df.columns)):\n",
    "            df.iloc[i, j] = df.iloc[i, j] + 5\n",
    "\n",
    "\n",
    "%timeit add_five_slow(df)"
   ]
  },
  {
   "cell_type": "markdown",
   "id": "8246132e",
   "metadata": {},
   "source": [
    "하지만 이렇게 하려면 각 개별 셀에 액세스하고 작업해야 하므로 밀리초가 걸리는 매우 느립니다. **pandas**에는 동일한 작업을 수행하는 훨씬 빠른 방법이 있습니다. 일관된 유형의 데이터 프레임에 대한 간단한 작업의 경우 전체 데이터 프레임에 5를 더하기만 하면 됩니다."
   ]
  },
  {
   "cell_type": "code",
   "execution_count": null,
   "id": "1a48ae52",
   "metadata": {},
   "outputs": [],
   "source": [
    "%timeit df + 5"
   ]
  },
  {
   "cell_type": "markdown",
   "id": "a81336b9",
   "metadata": {},
   "source": [
    "이것은 수십 *마이크로초*가 걸렸으며 훨씬 빠릅니다."
   ]
  },
  {
   "cell_type": "markdown",
   "id": "7313616e",
   "metadata": {},
   "source": [
    "이것은 열별로도 작동하므로 `df[\"a\"] = df[\"a\"] + 5` 등을 수행할 수 있습니다.\n",
    "\n",
    "이러한 작업에는 *메서드 체이닝*(여러 작업을 함께 연결)을 허용하는 `assign()` 연산자를 사용하는 것과 동등한 작업이 있습니다. `df[\"new_a\"] = df[\"a\"] + 5`의 `assign()` 연산자 버전은 다음과 같습니다."
   ]
  },
  {
   "cell_type": "code",
   "execution_count": null,
   "id": "f7391dc5",
   "metadata": {},
   "outputs": [],
   "source": [
    "df = df.assign(new_a=lambda x: x[\"a\"] + 5)"
   ]
  },
  {
   "cell_type": "markdown",
   "id": "76aec162",
   "metadata": {},
   "source": [
    "### 적용\n",
    "\n",
    "더 복잡한 함수를 반복하고 싶다면 어떻게 해야 할까요? 이때 **pandas**의 `apply()`가 사용되며 할당과 함께 사용할 수 있습니다. `apply()`는 행이나 열 전체에 사용할 수도 있습니다. `assign()`과 마찬가지로 람다 함수와 결합하여 전체 데이터 프레임 또는 열에만 사용할 수 있습니다(이 경우 `axis=`를 지정할 필요 없음)."
   ]
  },
  {
   "cell_type": "code",
   "execution_count": null,
   "id": "31adcb3f",
   "metadata": {},
   "outputs": [],
   "source": [
    "df.apply(lambda x: x[\"a\"] - x[\"new_a\"].mean() * x[\"c\"] / x[\"b\"], axis=1)"
   ]
  },
  {
   "cell_type": "markdown",
   "id": "78b558f4",
   "metadata": {},
   "source": [
    "이것은 단지 예일 뿐입니다. 적용하지 않고도 이 전체 작업을 수행할 수 있습니다! 하지만 때로는 사용해야 하는 경우가 있습니다.\n",
    "\n",
    "적용은 사용자 정의 함수를 포함한 함수에서도 작동합니다."
   ]
  },
  {
   "cell_type": "code",
   "execution_count": null,
   "id": "136d435d",
   "metadata": {},
   "outputs": [],
   "source": [
    "def complicated_function(x):\n",
    "    return x - x.mean()\n",
    "\n",
    "\n",
    "df = df.apply(complicated_function, axis=1)\n",
    "df"
   ]
  },
  {
   "cell_type": "markdown",
   "id": "171be2c9",
   "metadata": {},
   "source": [
    "### 평가(Eval)\n",
    "\n",
    "`eval()`은 DataFrame 열에 대한 작업을 설명하는 문자열을 평가하여 새 열을 만듭니다. 행이나 요소가 아닌 열에만 작동합니다. 다음은 예입니다."
   ]
  },
  {
   "cell_type": "code",
   "execution_count": null,
   "id": "8d9defd3",
   "metadata": {},
   "outputs": [],
   "source": [
    "df[\"ratio\"] = df.eval(\"a / new_a\")\n",
    "df"
   ]
  },
  {
   "cell_type": "markdown",
   "id": "8b275b5b",
   "metadata": {},
   "source": [
    "평가는 위 예에서 문자열 `\"a > 0.5\"`와 같이 새 부울 열을 만드는 데 사용할 수도 있습니다."
   ]
  }
 ],
 "metadata": {
  "interpreter": {
   "hash": "9d7534ecd9fbc7d385378f8400cf4d6cb9c6175408a574f1c99c5269f08771cc"
  },
  "jupytext": {
   "cell_metadata_filter": "-all",
   "encoding": "# -*- coding: utf-8 -*-",
   "formats": "md:myst",
   "main_language": "python"
  },
  "kernelspec": {
   "display_name": "Python 3 (ipykernel)",
   "language": "python",
   "name": "python3"
  },
  "language_info": {
   "codemirror_mode": {
    "name": "ipython",
    "version": 3
   },
   "file_extension": ".py",
   "mimetype": "text/x-python",
   "name": "python",
   "nbconvert_exporter": "python",
   "pygments_lexer": "ipython3",
   "version": "3.10.12"
  },
  "toc-showtags": true
 },
 "nbformat": 4,
 "nbformat_minor": 5
}
