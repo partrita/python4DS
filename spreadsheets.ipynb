{
 "cells": [
  {
   "cell_type": "markdown",
   "id": "95f0a171",
   "metadata": {},
   "source": [
    "(spreadsheets)=\n",
    "# 스프레드시트\n",
    "\n",
    "## 소개\n",
    "\n",
    "이 장에서는 파이썬에서 Microsoft Excel 파일과 같은 스프레드시트로 작업하는 방법을 보여줍니다. {ref}`data-import`에서 csv (및 tsv) 파일을 가져오는 방법을 이미 살펴보았습니다. 이 장에서는 Excel 스프레드시트 및 Google Sheets의 데이터로 작업하기 위한 도구를 소개합니다.\n",
    "\n",
    "귀하 또는 귀하의 공동 작업자가 파이썬과 같은 분석 도구에서 사용할 데이터를 구성하기 위해 스프레드시트를 사용하는 경우 Karl Broman과 Kara Woo의 논문 \"스프레드시트의 데이터 구성\" {cite}`broman2018data`을 읽어보는 것이 좋습니다. 이 논문에 제시된 모범 사례는 스프레드시트에서 파이썬으로 데이터를 가져와 분석하고 시각화할 때 나중에 발생할 수 있는 많은 골칫거리를 덜어줄 것입니다. (사람이 읽도록 만들어진 스프레드시트의 경우 [모범 사례 테이블](https://github.com/best-practice-and-impact/gptables) 패키지를 권장합니다.)"
   ]
  },
  {
   "cell_type": "code",
   "execution_count": null,
   "id": "51a55374",
   "metadata": {
    "tags": [
     "remove-cell"
    ]
   },
   "outputs": [],
   "source": [
    "# 셀 제거\n",
    "import matplotlib.pyplot as plt\n",
    "import matplotlib_inline.backend_inline\n",
    "\n",
    "# 플롯 설정\n",
    "plt.style.use(\"https://github.com/aeturrell/python4DS/raw/main/plot_style.txt\")\n",
    "matplotlib_inline.backend_inline.set_matplotlib_formats(\"svg\")"
   ]
  },
  {
   "cell_type": "markdown",
   "id": "17575f3a",
   "metadata": {},
   "source": [
    "### 전제 조건\n",
    "\n",
    "이 장에서는 **pandas** 패키지를 설치해야 합니다. 또한 터미널에서 `pip install openpyxl`을 실행하여 **openpyxl** 패키지를 설치해야 합니다."
   ]
  },
  {
   "cell_type": "markdown",
   "id": "ff99055a",
   "metadata": {},
   "source": [
    "## Excel (및 유사) 파일 읽기\n",
    "\n",
    "**pandas**는 로컬 파일 시스템이나 URL에서 xls, xlsx, xlsm, xlsb, odf, ods 및 odt 파일을 읽을 수 있습니다. 또한 단일 시트 또는 시트 목록을 읽는 옵션도 지원합니다.\n",
    "\n",
    "이것이 어떻게 작동하는지 보여주기 위해 \"students.xlsx\"라는 예제 스프레드시트로 작업할 것입니다. 아래 그림은 스프레드시트가 어떻게 생겼는지 보여줍니다.\n",
    "\n",
    "![Excel의 학생 스프레드시트 모습. 스프레드시트에는 6명의 학생, ID, 전체 이름, 좋아하는 음식, 식사 계획 및 나이에 대한 정보가 포함되어 있습니다.](https://github.com/hadley/r4ds/raw/main/screenshots/import-spreadsheets-students.png)"
   ]
  },
  {
   "cell_type": "markdown",
   "id": "29f2f4e0",
   "metadata": {},
   "source": [
    "`pd.read_excel()`의 첫 번째 인수는 읽을 파일의 경로입니다. 컴퓨터에 [파일]()을 다운로드하여 \"data\"라는 하위 폴더에 넣었다면 경로 \"data/students.xlsx\"를 사용해야 하지만 URL에서 직접 로드할 수도 있습니다."
   ]
  },
  {
   "cell_type": "code",
   "execution_count": null,
   "id": "bf00d4c6",
   "metadata": {},
   "outputs": [],
   "source": [
    "import pandas as pd\n",
    "\n",
    "students = pd.read_excel(\n",
    "    \"https://github.com/aeturrell/python4DS/raw/main/data/students.xlsx\"\n",
    ")\n",
    "students"
   ]
  },
  {
   "cell_type": "markdown",
   "id": "03d6ba9c",
   "metadata": {},
   "source": [
    "데이터에는 6명의 학생이 있고 각 학생에 대해 5개의 변수가 있습니다. 그러나 이 데이터 세트에서 해결하고 싶은 몇 가지 사항이 있습니다.\n",
    "\n",
    "- 열 이름이 여기저기 흩어져 있습니다. 일관된 형식을 따르는 열 이름을 제공할 수 있습니다. `names` 인수를 사용하여 `snake_case`를 권장합니다.\n"
   ]
  },
  {
   "cell_type": "code",
   "execution_count": null,
   "id": "ecce26ea",
   "metadata": {},
   "outputs": [],
   "source": [
    "pd.read_excel(\n",
    "    \"https://github.com/aeturrell/python4DS/raw/main/data/students.xlsx\",\n",
    "    names=[\"student_id\", \"full_name\", \"favourite_food\", \"meal_plan\", \"age\"],\n",
    ")"
   ]
  },
  {
   "cell_type": "markdown",
   "id": "bb07ad4f",
   "metadata": {},
   "source": [
    "\n",
    "- `age`는 객체 열로 읽히지만 실제로는 숫자여야 합니다. `read_csv()`와 마찬가지로 `read_excel()`에 `dtype` 인수를 제공하고 읽어들인 데이터 열의 데이터 유형을 지정할 수 있습니다. 옵션에는 `\"boolean\"`, `\"int\"`, `\"float\"`, `\"datetime\"`, `\"string\"` 등이 있습니다. 하지만 \"age\" 열은 숫자와 텍스트가 혼합되어 있으므로 이 방법이 작동하지 않는다는 것을 바로 알 수 있습니다. 따라서 먼저 텍스트를 숫자로 매핑해야 합니다."
   ]
  },
  {
   "cell_type": "code",
   "execution_count": null,
   "id": "22e45cc2",
   "metadata": {},
   "outputs": [],
   "source": [
    "students = pd.read_excel(\n",
    "    \"data/students.xlsx\",\n",
    "    names=[\"student_id\", \"full_name\", \"favourite_food\", \"meal_plan\", \"age\"],\n",
    ")\n",
    "students[\"age\"] = students[\"age\"].replace(\"five\", 5)\n",
    "students"
   ]
  },
  {
   "cell_type": "markdown",
   "id": "c8a07159",
   "metadata": {},
   "source": [
    "자, 이제 데이터 유형을 적용할 수 있습니다."
   ]
  },
  {
   "cell_type": "code",
   "execution_count": null,
   "id": "f67490d3",
   "metadata": {},
   "outputs": [],
   "source": [
    "students = students.astype(\n",
    "    {\n",
    "        \"student_id\": \"Int64\",\n",
    "        \"full_name\": \"string\",\n",
    "        \"favourite_food\": \"string\",\n",
    "        \"meal_plan\": \"category\",\n",
    "        \"age\": \"Int64\",\n",
    "    }\n",
    ")\n",
    "students.info()"
   ]
  },
  {
   "cell_type": "markdown",
   "id": "362ff5a5",
   "metadata": {},
   "source": [
    "원하는 형식으로 데이터를 로드하는 데 여러 단계와 시행착오가 필요했으며 이는 예상치 못한 일이 아닙니다. 데이터 과학은 반복적인 프로세스입니다. 데이터를 로드하고 살펴보기 전까지는 데이터가 어떻게 생겼는지 정확히 알 수 없습니다. 우리가 사용한 일반적인 패턴은 데이터를 로드하고, 살짝 살펴보고, 코드를 조정하고, 다시 로드하고, 결과에 만족할 때까지 반복하는 것입니다."
   ]
  },
  {
   "cell_type": "markdown",
   "id": "8b00c2a4",
   "metadata": {},
   "source": [
    "### 개별 시트 읽기\n",
    "\n",
    "스프레드시트를 플랫 파일과 구별하는 중요한 기능은 여러 시트의 개념입니다. 아래 그림은 여러 시트가 있는 Excel 스프레드시트를 보여줍니다. 데이터는 **palmerpenguins** 데이터 세트 {cite}`horst2020palmerpenguins`에서 가져왔습니다. 각 시트에는 데이터가 수집된 다른 섬의 펭귄에 대한 정보가 포함되어 있습니다.\n",
    "\n",
    "![Excel의 펭귄 스프레드시트 모습. 스프레드시트에는 Torgersen Island, Biscoe Island, Dream Island의 세 시트가 있습니다.](https://github.com/hadley/r4ds/raw/main/screenshots/import-spreadsheets-penguins-islands.png)\n",
    "\n",
    "다음 명령을 사용하여 단일 시트를 읽을 수 있습니다(전체 파일을 표시하지 않기 위해 `.head()`를 사용하여 처음 5개 행만 표시함)."
   ]
  },
  {
   "cell_type": "code",
   "execution_count": null,
   "id": "e37f9e3d",
   "metadata": {},
   "outputs": [],
   "source": [
    "pd.read_excel(\n",
    "    \"https://github.com/aeturrell/python4DS/raw/main/data/penguins.xlsx\",\n",
    "    sheet_name=\"Torgersen Island\",\n",
    ").head()"
   ]
  },
  {
   "cell_type": "markdown",
   "id": "641f6831",
   "metadata": {},
   "source": [
    "이제 이것은 우리가 미리 시트 이름을 알고 있다는 것에 의존합니다. Excel 스프레드시트를 들여다보지 않고 데이터를 읽어들여야 하는 상황이 있을 것입니다. 모든 시트를 읽으려면 `sheet_name=None`을 사용합니다. 생성된 객체는 키-값 쌍이 각각 시트 이름과 데이터 프레임인 사전입니다. 두 번째 키-값 쌍을 살펴보겠습니다(참고: `keys()` 및 `values()` 객체를 목록으로 변환한 다음 아래 첨자, 즉 `list(dictionary.keys())[<요소 번호>]`를 사용하여 각 요소의 두 번째 요소를 검색해야 함).\n",
    "\n",
    "이것이 어떻게 작동하는지 이해하기 위해 먼저 검색된 모든 키를 인쇄해 보겠습니다."
   ]
  },
  {
   "cell_type": "code",
   "execution_count": null,
   "id": "0f3a3b78",
   "metadata": {},
   "outputs": [],
   "source": [
    "penguins_dict = pd.read_excel(\n",
    "    \"https://github.com/aeturrell/python4DS/raw/main/data/penguins.xlsx\",\n",
    "    sheet_name=None,\n",
    ")\n",
    "print([x for x in penguins_dict.keys()])"
   ]
  },
  {
   "cell_type": "markdown",
   "id": "076f1ebe",
   "metadata": {},
   "source": [
    "이제 두 번째 항목 데이터 프레임을 보여드리겠습니다."
   ]
  },
  {
   "cell_type": "code",
   "execution_count": null,
   "id": "15495426",
   "metadata": {},
   "outputs": [],
   "source": [
    "print(list(penguins_dict.keys())[1])\n",
    "list(penguins_dict.values())[1].head()"
   ]
  },
  {
   "cell_type": "markdown",
   "id": "536ab4bb",
   "metadata": {},
   "source": [
    "우리가 정말로 원하는 것은 이 세 개의 *일관된* 데이터 세트가 *동일한* 단일 데이터 프레임에 있는 것입니다. 이를 위해 `pd.concat()` 함수를 사용할 수 있습니다. 이것은 주어진 모든 반복 가능한 데이터 프레임을 연결합니다."
   ]
  },
  {
   "cell_type": "code",
   "execution_count": null,
   "id": "151ba846",
   "metadata": {},
   "outputs": [],
   "source": [
    "penguins = pd.concat(penguins_dict.values(), axis=0)\n",
    "penguins"
   ]
  },
  {
   "cell_type": "markdown",
   "id": "aa458187",
   "metadata": {},
   "source": [
    "### 시트 일부 읽기\n",
    "\n",
    "많은 사람들이 프레젠테이션뿐만 아니라 데이터 저장에도 Excel 스프레드시트를 사용하기 때문에 스프레드시트에서 읽어들이려는 데이터의 일부가 아닌 셀 항목을 찾는 것은 매우 일반적입니다.\n",
    "\n",
    "아래 그림은 이러한 스프레드시트를 보여줍니다. 시트 중간에는 데이터 프레임처럼 보이는 것이 있지만 데이터 위아래 셀에는 불필요한 텍스트가 있습니다.\n",
    "\n",
    "![Excel의 사망자 스프레드시트 모습. 스프레드시트 상단에는 데이터가 아닌 정보가 포함된 네 개의 행이 있습니다. '데이터 레이아웃의 일관성을 위해, 정말 아름다운 것이지만, 계속해서 여기에 메모를 남길 것입니다.'라는 텍스트가 이 상단 네 개의 행에 걸쳐 셀에 퍼져 있습니다. 그런 다음 10명의 유명 인사의 사망에 대한 정보가 포함된 데이터 프레임이 있습니다. 여기에는 이름, 직업, 나이, 자녀 유무, 생년월일 및 사망일이 포함됩니다. 하단에는 데이터가 아닌 정보가 포함된 네 개의 행이 더 있습니다. '정말 재미있었지만 이제 그만하겠습니다!'라는 텍스트가 이 하단 네 개의 행에 걸쳐 셀에 퍼져 있습니다.](https://github.com/hadley/r4ds/raw/main/screenshots/import-spreadsheets-deaths.png)\n",
    "\n"
   ]
  },
  {
   "cell_type": "markdown",
   "id": "61505c86",
   "metadata": {},
   "source": [
    "이 스프레드시트는 [여기](https://github.com/aeturrell/python4DS/tree/main/data)에서 다운로드하거나 URL에서 직접 로드할 수 있습니다. 자신의 컴퓨터 디스크에서 로드하려면 먼저 \"data\"라는 하위 폴더에 저장해야 합니다.\n",
    "\n",
    "\n",
    "상단 세 개의 행과 하단 네 개의 행은 데이터 프레임의 일부가 아닙니다. `skiprows`를 사용하여 상단 세 개의 행을 건너뛸 수 있습니다. 네 번째 행에는 데이터가 아닌 열 이름이 포함되어 있으므로 `skiprows=4`로 설정했습니다.\n"
   ]
  },
  {
   "cell_type": "code",
   "execution_count": null,
   "id": "29987b9d",
   "metadata": {},
   "outputs": [],
   "source": [
    "pd.read_excel(\"data/deaths.xlsx\", skiprows=4)"
   ]
  },
  {
   "cell_type": "markdown",
   "id": "a1a8c3ca",
   "metadata": {},
   "source": [
    "또한 `nrows`를 설정하여 하단의 불필요한 행을 생략할 수도 있습니다(다른 옵션은 `skipfooter`를 사용하여 끝에서 일정 수의 행을 건너뛰는 것입니다)."
   ]
  },
  {
   "cell_type": "code",
   "execution_count": null,
   "id": "9d7a3db3",
   "metadata": {},
   "outputs": [],
   "source": [
    "pd.read_excel(\"data/deaths.xlsx\", skiprows=4, nrows=10)"
   ]
  },
  {
   "cell_type": "markdown",
   "id": "2d277c3a",
   "metadata": {},
   "source": [
    "## 데이터 유형\n",
    "\n",
    "CSV 파일에서는 모든 값이 문자열입니다. 이것은 데이터에 특별히 충실하지는 않지만 간단합니다. 모든 것이 문자열입니다.\n",
    "\n",
    "Excel 스프레드시트의 기본 데이터는 더 복잡합니다. 셀은 다음 다섯 가지 중 하나일 수 있습니다.\n",
    "\n",
    "-   TRUE / FALSE와 같은 논리값\n",
    "\n",
    "-   \"10\" 또는 \"10.5\"와 같은 숫자\n",
    "\n",
    "-   \"11/1/21\" 또는 \"11/1/21 오후 3:00\"과 같이 시간도 포함할 수 있는 날짜\n",
    "\n",
    "-   \"ten\"과 같은 문자열\n",
    "\n",
    "-   제한된 범위의 숫자 값과 고정된 정밀도의 소수점 이하 네 자리를 허용하는 통화\n",
    "\n",
    "스프레드시트 데이터로 작업할 때 기본 데이터가 저장되는 방식이 셀에서 보는 것과 매우 다를 수 있다는 점을 염두에 두는 것이 중요합니다. 예를 들어 Excel에는 정수 개념이 없습니다. 모든 숫자는 부동 소수점(실수)으로 저장되지만 사용자 정의 가능한 소수 자릿수로 데이터를 표시하도록 선택할 수 있습니다. 마찬가지로 날짜는 실제로 숫자로 저장되며, 구체적으로 1970년 1월 1일 이후의 초 수입니다. Excel에서 서식을 적용하여 날짜 표시 방식을 사용자 정의할 수 있습니다. 혼란스럽게도 숫자처럼 보이지만 실제로는 문자열인 항목이 있을 수도 있습니다(예: Excel 셀에 `'10` 입력).\n",
    "\n",
    "기본 데이터가 저장되는 방식과 표시되는 방식의 이러한 차이로 인해 데이터가 **pandas**와 같은 분석 도구에 로드될 때 놀라운 일이 발생할 수 있습니다. 기본적으로 **pandas**는 지정된 열의 데이터 유형을 추측합니다.\n",
    "권장되는 워크플로는 처음에 **pandas**가 열 유형을 추측하도록 하고, 이를 검사한 다음 원하는 데이터 유형을 변경하는 것입니다."
   ]
  },
  {
   "cell_type": "markdown",
   "id": "0d73bbad",
   "metadata": {},
   "source": [
    "## Excel에 쓰기\n",
    "\n",
    "그런 다음 내보낼 작은 데이터 프레임을 만들어 보겠습니다. `item`은 범주이고 `quantity`는 정수입니다."
   ]
  },
  {
   "cell_type": "code",
   "execution_count": null,
   "id": "15963e18",
   "metadata": {},
   "outputs": [],
   "source": [
    "bake_sale = pd.DataFrame(\n",
    "    {\"item\": pd.Categorical([\"브라우니\", \"컵케이크\", \"쿠키\"]), \"quantity\": [10, 5, 8]}\n", # 번역된 항목
    ")\n",
    "bake_sale"
   ]
  },
  {
   "cell_type": "markdown",
   "id": "345bca3d",
   "metadata": {},
   "source": [
    "`<dataframe>.to_excel()` 함수를 사용하여 데이터를 Excel 파일로 디스크에 다시 쓸 수 있습니다. `index=False` 키워드 인수는 마지막 단계에서 자동으로 추가된 인덱스 없이 두 열만 씁니다."
   ]
  },
  {
   "cell_type": "markdown",
   "id": "1fc17141",
   "metadata": {},
   "source": [
    "```python\n",
    "bake_sale.to_excel(\"data/bake_sale.xlsx\", index=False)\n",
    "```"
   ]
  },
  {
   "cell_type": "markdown",
   "id": "f892c2e7",
   "metadata": {},
   "source": [
    "아래 그림은 Excel에서 데이터가 어떻게 보이는지 보여줍니다.\n",
    "\n",
    "![이전에 Excel에서 만든 베이크 세일 데이터 프레임.](https://github.com/hadley/r4ds/raw/main/screenshots/import-spreadsheets-bake-sale.png)"
   ]
  },
  {
   "cell_type": "markdown",
   "id": "8d555c84",
   "metadata": {},
   "source": [
    "CSV에서 읽는 것과 마찬가지로 데이터를 다시 읽을 때 데이터 유형에 대한 정보가 손실됩니다. 데이터를 다시 읽고 데이터 유형에 대한 `info`를 확인하면 이를 볼 수 있습니다. **pandas**가 두 번째 열이 정수 유형임을 인식했기 때문에 `int64`를 유지했지만 \"item\"에 대한 범주형 데이터 유형은 손실되었습니다. 이러한 데이터 유형 손실로 인해 Excel 파일은 중간 결과를 캐싱하는 데 신뢰할 수 없습니다."
   ]
  },
  {
   "cell_type": "code",
   "execution_count": null,
   "id": "27e128f9",
   "metadata": {},
   "outputs": [],
   "source": [
    "pd.read_excel(\"data/bake_sale.xlsx\").info()"
   ]
  },
  {
   "cell_type": "markdown",
   "id": "215634bf",
   "metadata": {},
   "source": [
    "### 서식 있는 출력\n",
    "\n",
    "더 많은 서식 옵션과 스프레드시트 작성 방법을 더 많이 제어해야 하는 경우 상상할 수 있는 거의 모든 작업을 수행할 수 있는 [openpyxl](https://openpyxl.readthedocs.io/) 설명서를 확인하십시오. 일반적으로 스프레드시트로 데이터를 배포하는 것은 최선의 선택이 아니지만 모범 사례에 따라 스프레드시트로 데이터를 배포하려면 [gptables](https://gptables.readthedocs.io/)를 확인하십시오."
   ]
  }
 ],
 "metadata": {
  "interpreter": {
   "hash": "9d7534ecd9fbc7d385378f8400cf4d6cb9c6175408a574f1c99c5269f08771cc"
  },
  "jupytext": {
   "cell_metadata_filter": "-all",
   "encoding": "# -*- coding: utf-8 -*-",
   "formats": "md:myst",
   "main_language": "python"
  },
  "kernelspec": {
   "display_name": "Python 3 (ipykernel)",
   "language": "python",
   "name": "python3"
  },
  "language_info": {
   "codemirror_mode": {
    "name": "ipython",
    "version": 3
   },
   "file_extension": ".py",
   "mimetype": "text/x-python",
   "name": "python",
   "nbconvert_exporter": "python",
   "pygments_lexer": "ipython3",
   "version": "3.10.12"
  },
  "toc-showtags": true
 },
 "nbformat": 4,
 "nbformat_minor": 5
}
