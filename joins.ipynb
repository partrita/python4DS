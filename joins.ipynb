{
 "cells": [
  {
   "cell_type": "markdown",
   "id": "95f0a171",
   "metadata": {},
   "source": [
    "(joins)=\n",
    "# 조인\n", # 번역됨
    "\n",
    "## 소개\n", # 번역됨
    "\n",
    "데이터 분석이 단일 데이터 프레임만 포함하는 경우는 드뭅니다. 일반적으로 여러 데이터 프레임이 있으며 관심 있는 질문에 답하려면 이를 *조인*해야 합니다.\n", # 번역됨
    "\n",
    "**pandas**에는 하나 이상의 데이터 프레임을 결합하기 위한 매우 풍부한 옵션 세트가 있으며, 가장 중요한 두 가지는 연결과 병합입니다. 이 장의 일부 예에서는 한 쌍의 데이터 프레임을 조인하는 방법을 보여줍니다. 다행히 이것으로 충분합니다. 두 쌍을 결합하여 세 개의 데이터 프레임을 결합할 수 있기 때문입니다." # 번역됨
   ]
  },
  {
   "cell_type": "code",
   "execution_count": null,
   "id": "51a55374",
   "metadata": {
    "tags": [
     "remove-cell"
    ]
   },
   "outputs": [],
   "source": [
    "# 셀 제거\n", # 번역됨
    "import matplotlib.pyplot as plt\n",
    "import matplotlib_inline.backend_inline\n",
    "\n",
    "# 플롯 설정\n", # 번역됨
    "plt.style.use(\"https://github.com/aeturrell/python4DS/raw/main/plot_style.txt\")\n",
    "matplotlib_inline.backend_inline.set_matplotlib_formats(\"svg\")"
   ]
  },
  {
   "cell_type": "markdown",
   "id": "17575f3a",
   "metadata": {},
   "source": [
    "### 전제 조건\n", # 번역됨
    "\n",
    "이 장에서는 **pandas** 데이터 분석 패키지를 사용합니다." # 번역됨
   ]
  },
  {
   "cell_type": "markdown",
   "id": "80710c6e",
   "metadata": {},
   "source": [
    "## 연결\n", # 번역됨
    "\n",
    "동일한 인덱스 또는 동일한 열을 가진 두 개 이상의 데이터 프레임이 있는 경우 `pd.concat()`을 사용하여 단일 데이터 프레임으로 함께 붙일 수 있습니다.\n", # 번역됨
    "\n",
    "![](https://pandas.pydata.org/docs/_images/08_concat_row.svg)\n",
    "\n",
    "동일한 열의 경우 `axis=0`을 전달하여 인덱스를 함께 붙이고, 동일한 인덱스의 경우 `axis=1`을 전달하여 열을 함께 붙입니다. 연결 함수는 일반적으로 데이터 프레임 목록에 사용됩니다.\n", # 번역됨
    "\n",
    "최종 데이터 프레임에서 원래 데이터가 어디에서 왔는지 추적하려면 `keys` 키워드를 사용합니다.\n", # 번역됨
    "\n",
    "다음은 `keys` 옵션도 사용하는 두 개의 다른 주 인구에 대한 데이터를 사용하는 예입니다." # 번역됨
   ]
  },
  {
   "cell_type": "code",
   "execution_count": null,
   "id": "f5ef4f37",
   "metadata": {},
   "outputs": [],
   "source": [
    "import pandas as pd\n",
    "\n",
    "base_url = (\n",
    "    \"https://github.com/aeturrell/coding-for-economists/raw/refs/heads/main/data/\"\n",
    ")\n",
    "state_codes = [\"ca\", \"il\"]\n",
    "end_url = \"pop.dta\"\n",
    "\n",
    "# 이것은 각 주에 대해 하나씩 두 개의 데이터프레임을 가져옵니다.\n", # 번역됨
    "list_of_state_dfs = [pd.read_stata(base_url + state + end_url) for state in state_codes]\n",
    "# 데이터프레임 목록의 첫 번째 항목 예시 보기\n", # 번역됨
    "print(list_of_state_dfs[0])\n",
    "\n",
    "# 데이터프레임 목록 연결하기\n", # 번역됨
    "df = pd.concat(list_of_state_dfs, keys=state_codes, axis=0)\n",
    "df"
   ]
  },
  {
   "cell_type": "markdown",
   "id": "e0c343b0",
   "metadata": {},
   "source": [
    "`keys` 인수는 선택 사항이지만 병합된 데이터 프레임 내에서 원본 데이터 프레임을 추적하는 데 유용합니다.\n", # 번역됨
    "\n",
    "````{admonition} 연습\n", # 번역됨
    "다음 두 데이터 프레임을 연결합니다.\n", # 번역됨
    "\n",
    "```python\n",
    "df1 = pd.DataFrame([['a', 1], ['b', 2]],\n",
    "                   columns=['letter', 'number'])\n",
    "\n",
    "df2 = pd.DataFrame([['c', 3], ['d', 4]],\n",
    "                   columns=['letter', 'number'])\n",
    "```\n",
    "\n",
    "````"
   ]
  },
  {
   "cell_type": "markdown",
   "id": "f6e91777",
   "metadata": {},
   "source": [
    "## 병합\n", # 번역됨
    "\n",
    "`pd.merge(left, right, on=..., how=...`를 사용하여 데이터 프레임을 병합하는 옵션이 너무 많아서 여기서는 모두 다룰 수 없습니다. 가장 중요한 기능은 병합할 두 데이터 프레임, `on=`을 통해 병합할 변수(키라고도 하며 인덱스일 수 있음), `how=`를 통해 병합하는 *방법*(예: 왼쪽, 오른쪽, 외부, 내부)입니다. 이 다이어그램은 왼쪽 데이터 프레임의 키를 사용하는 병합 예를 보여줍니다.\n", # 번역됨
    "\n",
    "![](https://pandas.pydata.org/docs/_images/08_merge_left.svg)\n",
    "\n",
    "`how=` 키워드는 다음과 같이 작동합니다.\n", # 번역됨
    "- `how='left'`는 왼쪽 데이터 프레임의 키만 사용하여 병합합니다.\n", # 번역됨
    "- `how='right'`는 오른쪽 데이터 프레임의 키만 사용하여 병합합니다.\n", # 번역됨
    "- `how='inner'`는 두 데이터 프레임 모두에 나타나는 키를 사용하여 병합합니다.\n", # 번역됨
    "- `how='outer'`는 두 데이터 프레임 모두의 키의 데카르트 곱을 사용하여 병합합니다.\n", # 번역됨
    "\n",
    "이 중 일부 예를 살펴보겠습니다." # 번역됨
   ]
  },
  {
   "cell_type": "code",
   "execution_count": null,
   "id": "53c66d5d",
   "metadata": {},
   "outputs": [],
   "source": [
    "left = pd.DataFrame(\n",
    "    {\n",
    "        \"key1\": [\"K0\", \"K0\", \"K1\", \"K2\"],\n",
    "        \"key2\": [\"K0\", \"K1\", \"K0\", \"K1\"],\n",
    "        \"A\": [\"A0\", \"A1\", \"A2\", \"A3\"],\n",
    "        \"B\": [\"B0\", \"B1\", \"B2\", \"B3\"],\n",
    "    }\n",
    ")\n",
    "right = pd.DataFrame(\n",
    "    {\n",
    "        \"key1\": [\"K0\", \"K1\", \"K1\", \"K2\"],\n",
    "        \"key2\": [\"K0\", \"K0\", \"K0\", \"K0\"],\n",
    "        \"C\": [\"C0\", \"C1\", \"C2\", \"C3\"],\n",
    "        \"D\": [\"D0\", \"D1\", \"D2\", \"D3\"],\n",
    "    }\n",
    ")\n",
    "# 오른쪽 병합\n", # 번역됨
    "pd.merge(left, right, on=[\"key1\", \"key2\"], how=\"right\")"
   ]
  },
  {
   "cell_type": "markdown",
   "id": "8af0241e",
   "metadata": {},
   "source": [
    "K2와 K0의 키 조합은 왼쪽 데이터 프레임에 존재하지 않았으므로 최종 데이터 프레임의 해당 항목은 NaN입니다. 하지만 오른쪽 데이터 프레임의 키를 선택했기 때문에 항목이 있습니다.\n", # 번역됨
    "\n",
    "내부 병합은 어떻습니까?" # 번역됨
   ]
  },
  {
   "cell_type": "code",
   "execution_count": null,
   "id": "5e73608f",
   "metadata": {},
   "outputs": [],
   "source": [
    "pd.merge(left, right, on=[\"key1\", \"key2\"], how=\"inner\")"
   ]
  },
  {
   "cell_type": "markdown",
   "id": "67ac74c0",
   "metadata": {},
   "source": [
    "이제 K2와 K0의 조합은 두 데이터 프레임의 키 중복에 존재하지 않았기 때문에 제외되었음을 알 수 있습니다.\n", # 번역됨
    "\n",
    "마지막으로 `indicator` 키워드를 통해 몇 가지 추가 정보와 함께 외부 병합을 살펴보겠습니다." # 번역됨
   ]
  },
  {
   "cell_type": "code",
   "execution_count": null,
   "id": "5d209fb9",
   "metadata": {},
   "outputs": [],
   "source": [
    "pd.merge(left, right, on=[\"key1\", \"key2\"], how=\"outer\", indicator=True)"
   ]
  },
  {
   "cell_type": "markdown",
   "id": "67ca901b",
   "metadata": {},
   "source": [
    "이제 모든 키 조합의 곱이 여기에 있음을 알 수 있습니다. `indicator=True` 옵션으로 인해 해당 행의 키가 어떤 데이터 프레임에서 왔는지 알려주는 '_merge'라는 추가 열이 추가되었습니다.\n", # 번역됨
    "\n",
    "````{admonition} 연습\n", # 번역됨
    "\n",
    "`left_on` 및 `right_on` 키워드 인수를 사용하여 각각 `lkey` 및 `rkey`에 대한 조인을 지정하여 다음 두 데이터 프레임을 병합합니다.\n", # 번역됨
    "\n",
    "```python\n",
    "df1 = pd.DataFrame({'lkey': ['foo', 'bar', 'baz', 'foo'],\n",
    "                    'value': [1, 2, 3, 5]})\n",
    "df2 = pd.DataFrame({'rkey': ['foo', 'bar', 'baz', 'foo'],\n",
    "                    'value': [5, 6, 7, 8]})\n",
    "```\n",
    "````\n",
    "\n",
    "````{admonition} 연습\n", # 번역됨
    "\n",
    "`how=\"left\"`를 키워드 인수로 사용하여 `\"a\"`에 대해 다음 두 데이터 프레임을 병합합니다.\n", # 번역됨
    "\n",
    "```python\n",
    "df1 = pd.DataFrame({'a': ['foo', 'bar'], 'b': [1, 2]})\n",
    "df2 = pd.DataFrame({'a': ['foo', 'baz'], 'c': [3, 4]})\n",
    "```\n",
    "\n",
    "병합된 데이터 프레임에서 `.loc[1, \"c\"]` 위치에 대해 무엇을 알 수 있습니까?\n", # 번역됨
    "````\n",
    "\n",
    "병합 옵션에 대한 자세한 내용은 **pandas**의 포괄적인 [병합 설명서](https://pandas.pydata.org/docs/user_guide/merging.html#database-style-dataframe-or-named-series-joining-merging)를 참조하십시오." # 번역됨
   ]
  }
 ],
 "metadata": {
  "interpreter": {
   "hash": "9d7534ecd9fbc7d385378f8400cf4d6cb9c6175408a574f1c99c5269f08771cc"
  },
  "jupytext": {
   "cell_metadata_filter": "-all",
   "encoding": "# -*- coding: utf-8 -*-",
   "formats": "md:myst",
   "main_language": "python"
  },
  "kernelspec": {
   "display_name": "Python 3 (ipykernel)",
   "language": "python",
   "name": "python3"
  },
  "language_info": {
   "codemirror_mode": {
    "name": "ipython",
    "version": 3
   },
   "file_extension": ".py",
   "mimetype": "text/x-python",
   "name": "python",
   "nbconvert_exporter": "python",
   "pygments_lexer": "ipython3",
   "version": "3.10.12"
  },
  "toc-showtags": true
 },
 "nbformat": 4,
 "nbformat_minor": 5
}
