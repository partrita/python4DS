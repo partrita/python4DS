{
 "cells": [
  {
   "cell_type": "markdown",
   "id": "95f0a171",
   "metadata": {},
   "source": [
    "(data-tidy)=\n",
    "# 깔끔한 데이터\n",
    "\n",
    "## 소개\n",
    "\n",
    "이 장에서는 *깔끔한 데이터*라고 알려진 원칙을 사용하여 파이썬에서 데이터를 구성하는 일관된 방법을 배웁니다. 깔끔한 데이터가 모든 것에 적합한 것은 아니지만 많은 분석과 많은 표 형식 데이터에 필요할 것입니다. 데이터를 이 형식으로 만드는 데는 약간의 사전 작업이 필요하지만 장기적으로 그 작업은 성과를 거둡니다. 깔끔한 데이터가 있으면 한 표현에서 다른 표현으로 데이터를 변환하는 데 훨씬 적은 시간을 할애하여 관심 있는 데이터 질문에 더 많은 시간을 할애할 수 있습니다.\n",
    "\n",
    "이 장에서는 먼저 깔끔한 데이터의 정의를 배우고 간단한 장난감 데이터 세트에 적용되는 것을 볼 것입니다. 그런 다음 데이터 정리에 사용할 주요 도구인 멜팅에 대해 자세히 알아볼 것입니다. 멜팅을 사용하면 값은 변경하지 않고 데이터 형식을 변경할 수 있습니다. 유용하게 정리되지 않은 데이터에 대한 논의와 필요한 경우 이를 만드는 방법으로 마무리합니다.\n",
    "\n",
    "이 장을 특히 즐겁게 읽었고 기본 이론에 대해 더 자세히 알고 싶다면 통계 소프트웨어 저널에 게재된 [깔끔한 데이터](https://www.jstatsoft.org/article/view/v059i10) 논문에서 더 자세히 알아볼 수 있습니다.\n"
   ]
  },
  {
   "cell_type": "code",
   "execution_count": null,
   "id": "51a55374",
   "metadata": {
    "tags": [
     "remove-cell"
    ]
   },
   "outputs": [],
   "source": [
    "# 셀 제거\n",
    "import matplotlib.pyplot as plt\n",
    "import matplotlib_inline.backend_inline\n",
    "\n",
    "# 플롯 설정\n",
    "plt.style.use(\"https://github.com/aeturrell/python4DS/raw/main/plot_style.txt\")\n",
    "matplotlib_inline.backend_inline.set_matplotlib_formats(\"svg\")"
   ]
  },
  {
   "cell_type": "markdown",
   "id": "17575f3a",
   "metadata": {},
   "source": [
    "### 전제 조건\n",
    "\n",
    "이 장에서는 **pandas** 데이터 분석 패키지를 사용합니다."
   ]
  },
  {
   "cell_type": "markdown",
   "id": "8b5f8255",
   "metadata": {},
   "source": [
    "## 깔끔한 데이터\n",
    "\n",
    "데이터 세트를 깔끔하게 만드는 세 가지 상호 관련된 기능이 있습니다.\n",
    "\n",
    "1. 각 변수는 열입니다. 각 열은 변수입니다.\n",
    "2. 각 관찰은 행입니다. 각 행은 관찰입니다.\n",
    "3. 각 값은 셀입니다. 각 셀은 단일 값입니다.\n",
    "\n",
    "아래 그림은 이것을 보여줍니다.\n",
    "\n",
    "![](https://d33wubrfki0l68.cloudfront.net/6f1ddb544fc5c69a2478e444ab8112fb0eea23f8/91adc/images/tidy-1.png)\n",
    "\n",
    "데이터를 깔끔하게 유지하는 이유는 무엇입니까? 두 가지 주요 이점이 있습니다.\n",
    "\n",
    "1. 데이터를 저장하는 일관된 방법을 선택하는 데 일반적인 이점이 있습니다.\n",
    "    일관된 데이터 구조가 있으면 기본 균일성이 있기 때문에 해당 구조와 함께 작동하는 도구를 배우기가 더 쉽습니다. 예를 들어 데이터 시각화 패키지 **seaborn**과 같은 일부 도구는 깔끔한 데이터를 염두에 두고 설계되었습니다.\n",
    "\n",
    "2. **pandas**의 벡터화된 연산(더 효율적인 연산)을 활용할 수 있기 때문에 변수를 열에 배치하는 데 특별한 이점이 있습니다.\n",
    "\n",
    "\n",
    "깔끔한 데이터가 *항상* 모든 경우에 적합한 것은 아니지만 표 형식 데이터에는 정말 정말 좋은 기본값입니다. 기본값으로 사용하면 후속 작업을 수행하는 방법을 생각하기가 더 쉬워집니다.\n",
    "\n",
    "깔끔한 데이터가 훌륭하다고 말했지만, 다른 데이터 분석 라이브러리에 비해 **pandas**의 장점 중 하나는 깔끔한 데이터에 *너무* 얽매이지 않고 어색한 정리되지 않은 데이터 조작 작업도 잘 처리할 수 있다는 것입니다.\n",
    "\n",
    "수집된 데이터에서 발견되는 두 가지 일반적인 문제로 인해 데이터가 깔끔하지 않게 됩니다.\n",
    "\n",
    "1. 변수가 여러 열에 분산되어 있을 수 있습니다.\n",
    "2. 관찰이 여러 행에 흩어져 있을 수 있습니다.\n",
    "\n",
    "전자의 경우 여러 열이 있는 넓은 데이터를 긴 데이터로 \"녹여야\" 합니다.\n",
    "\n",
    "후자의 경우 여러 행을 열로 풀거나 피벗해야 합니다(즉, 긴 데이터에서 넓은 데이터로 이동).\n",
    "\n",
    "아래에서 두 가지 모두를 살펴보겠습니다."
   ]
  },
  {
   "cell_type": "markdown",
   "id": "deb8cf13",
   "metadata": {},
   "source": [
    "## **pandas**로 데이터를 깔끔하게 만드는 도구"
   ]
  },
  {
   "cell_type": "markdown",
   "id": "bd134b04",
   "metadata": {},
   "source": [
    "### 녹이기\n",
    "\n",
    "`melt()`는 \"더 넓은\" 데이터에서 \"더 긴\" 데이터로 이동하는 데 도움이 되며 *정말* 기억하기 좋은 기능입니다.\n",
    "\n",
    "![](https://pandas.pydata.org/docs/_images/reshaping_melt.png)\n",
    "\n",
    "다음은 실제 예입니다."
   ]
  },
  {
   "cell_type": "code",
   "execution_count": null,
   "id": "0f9fbf5a",
   "metadata": {},
   "outputs": [],
   "source": [
    "import pandas as pd\n",
    "\n",
    "df = pd.DataFrame(\n",
    "    {\n",
    "        \"first\": [\"John\", \"Mary\"],\n",
    "        \"last\": [\"Doe\", \"Bo\"],\n",
    "        \"job\": [\"Nurse\", \"Economist\"],\n",
    "        \"height\": [5.5, 6.0],\n",
    "        \"weight\": [130, 150],\n",
    "    }\n",
    ")\n",
    "print(\"\\n 녹이지 않음: \")\n",
    "print(df)\n",
    "print(\"\\n 녹임: \")\n",
    "df.melt(id_vars=[\"first\", \"last\"], var_name=\"quantity\", value_vars=[\"height\", \"weight\"])"
   ]
  },
  {
   "cell_type": "markdown",
   "id": "e62978fd",
   "metadata": {},
   "source": [
    "```{admonition} 연습\n",
    "`first` 및 `last` 대신 `job`을 ID로 사용하는 `melt()`를 수행합니다.\n",
    "```\n",
    "\n",
    "이것이 깔끔한 데이터와 어떤 관련이 있습니까? 때로는 여러 열에 분산된 변수를 깔끔하게 만들고 싶을 때가 있습니다. [세계보건기구(WHO)의 결핵 사례](https://www.who.int/teams/global-tuberculosis-programme/data)를 사용하는 이 예를 살펴보겠습니다.\n",
    "\n",
    "먼저 데이터를 열고 파일 상단을 살펴보겠습니다."
   ]
  },
  {
   "cell_type": "code",
   "execution_count": null,
   "id": "bfa121cf",
   "metadata": {},
   "outputs": [],
   "source": [
    "df_tb = pd.read_parquet(\n",
    "    \"https://github.com/aeturrell/python4DS/raw/refs/heads/main/data/who_tb_cases.parquet\"\n",
    ")\n",
    "df_tb.head()"
   ]
  },
  {
   "cell_type": "markdown",
   "id": "583e419d",
   "metadata": {},
   "source": [
    "단일 변수인 연도에 대해 두 개의 열이 있음을 알 수 있습니다. 이제 이것을 녹여 보겠습니다."
   ]
  },
  {
   "cell_type": "code",
   "execution_count": null,
   "id": "dc03ccd9",
   "metadata": {},
   "outputs": [],
   "source": [
    "df_tb.melt(\n",
    "    id_vars=[\"country\"],\n",
    "    var_name=\"year\",\n",
    "    value_vars=[\"1999\", \"2000\"],\n",
    "    value_name=\"cases\",\n",
    ")"
   ]
  },
  {
   "cell_type": "markdown",
   "id": "74d81b30",
   "metadata": {},
   "source": [
    "이제 행당 하나의 관찰과 열당 하나의 변수가 있습니다. 깔끔합니다!"
   ]
  },
  {
   "cell_type": "markdown",
   "id": "488f5f10",
   "metadata": {},
   "source": [
    "### 더 간단한 넓은 형식에서 긴 형식으로 변환\n",
    "\n",
    "`melt()`의 골치 아픈 점을 원하지 않는다면 `wide_to_long()`도 있습니다. 이 함수는 다음과 같은 데이터가 있는 일반적인 데이터 정리 사례에 매우 유용합니다."
   ]
  },
  {
   "cell_type": "code",
   "execution_count": null,
   "id": "293768c1",
   "metadata": {},
   "outputs": [],
   "source": [
    "import numpy as np\n",
    "\n",
    "df = pd.DataFrame(\n",
    "    {\n",
    "        \"A1970\": {0: \"a\", 1: \"b\", 2: \"c\"},\n",
    "        \"A1980\": {0: \"d\", 1: \"e\", 2: \"f\"},\n",
    "        \"B1970\": {0: 2.5, 1: 1.2, 2: 0.7},\n",
    "        \"B1980\": {0: 3.2, 1: 1.3, 2: 0.1},\n",
    "        \"X\": dict(zip(range(3), np.random.randn(3))),\n",
    "        \"id\": dict(zip(range(3), range(3))),\n",
    "    }\n",
    ")\n",
    "df"
   ]
  },
  {
   "cell_type": "markdown",
   "id": "fb6c09e6",
   "metadata": {},
   "source": [
    "즉, 열 전체에 걸쳐 다른 변수와 기간이 있는 데이터입니다. 넓은 형식에서 긴 형식으로 변환하면 스터브 이름('A', 'B'), 항상 열 전체에 걸쳐 있는 변수 이름(여기서는 연도), 모든 값(여기서는 X) 및 ID 열에 대한 정보를 제공할 수 있습니다."
   ]
  },
  {
   "cell_type": "code",
   "execution_count": null,
   "id": "a9ca2fa8",
   "metadata": {},
   "outputs": [],
   "source": [
    "pd.wide_to_long(df, stubnames=[\"A\", \"B\"], i=\"id\", j=\"year\")"
   ]
  },
  {
   "cell_type": "markdown",
   "id": "1a6bf17c",
   "metadata": {},
   "source": [
    "### 스택 및 언스택\n",
    "\n",
    "스택, `stack()`은 열에서 단일 유형의 넓은 데이터 변수를 가져와 긴 형식 데이터 세트로 바꾸지만 추가 인덱스가 있는 바로 가기입니다.\n",
    "\n",
    "![](https://pandas.pydata.org/docs/_images/reshaping_stack.png)\n",
    "\n",
    "언스택, `unstack()`은 놀랍지 않게 동일한 작업을 수행하지만 반대로 수행합니다.\n",
    "\n",
    "![](https://pandas.pydata.org/docs/_images/reshaping_unstack.png)\n",
    "\n",
    "이를 설명하기 위해 다중 인덱스 데이터 프레임을 정의해 보겠습니다."
   ]
  },
  {
   "cell_type": "code",
   "execution_count": null,
   "id": "2b791dd1",
   "metadata": {},
   "outputs": [],
   "source": [
    "tuples = list(\n",
    "    zip(\n",
    "        *[\n",
    "            [\"bar\", \"bar\", \"baz\", \"baz\", \"foo\", \"foo\", \"qux\", \"qux\"],\n",
    "            [\"one\", \"two\", \"one\", \"two\", \"one\", \"two\", \"one\", \"two\"],\n",
    "        ]\n",
    "    )\n",
    ")\n",
    "index = pd.MultiIndex.from_tuples(tuples, names=[\"first\", \"second\"])\n",
    "df = pd.DataFrame(np.random.randn(8, 2), index=index, columns=[\"A\", \"B\"])\n",
    "df"
   ]
  },
  {
   "cell_type": "markdown",
   "id": "38e7c349",
   "metadata": {},
   "source": [
    "깔끔한 데이터 세트를 만들기 위해 이것을 쌓아 보겠습니다."
   ]
  },
  {
   "cell_type": "code",
   "execution_count": null,
   "id": "d25eb012",
   "metadata": {},
   "outputs": [],
   "source": [
    "df = df.stack()\n",
    "df"
   ]
  },
  {
   "cell_type": "markdown",
   "id": "edeef123",
   "metadata": {},
   "source": [
    "이렇게 하면 자동으로 다중 계층 인덱스가 만들어지지만 `df.reset_index()`를 사용하여 번호가 매겨진 인덱스로 되돌릴 수 있습니다."
   ]
  },
  {
   "cell_type": "markdown",
   "id": "6b1e4e03",
   "metadata": {},
   "source": [
    "이제 언스택을 살펴보겠습니다. 하지만 시작했던 'A', 'B' 변수를 언스택하는 대신 `level=0`을 전달하여 'first' 열을 언스택해 보겠습니다(기본값은 가장 안쪽 인덱스를 언스택하는 것입니다). 이 다이어그램은 무슨 일이 일어나고 있는지 보여줍니다.\n",
    "\n",
    "![](https://pandas.pydata.org/docs/_images/reshaping_unstack_0.png)\n",
    "\n",
    "그리고 코드는 다음과 같습니다."
   ]
  },
  {
   "cell_type": "code",
   "execution_count": null,
   "id": "b6742a54",
   "metadata": {},
   "outputs": [],
   "source": [
    "df.unstack(level=0)"
   ]
  },
  {
   "cell_type": "markdown",
   "id": "185eae1f",
   "metadata": {},
   "source": [
    "```{admonition} 연습\n",
    "대신 `level=1`로 언스택하면 어떻게 됩니까? `unstack()`을 두 번 적용하는 것은 어떻습니까?\n",
    "```"
   ]
  },
  {
   "cell_type": "markdown",
   "id": "39a210bb",
   "metadata": {},
   "source": [
    "### 긴 형식에서 넓은 형식으로 데이터 피벗\n",
    "\n",
    "`pivot()` 및 `pivot_table()`은 단일 관찰이 여러 행에 흩어져 있는 데이터를 정렬하는 데 도움이 됩니다.\n",
    "\n",
    "![](https://pandas.pydata.org/docs/_images/reshaping_pivot.png)\n"
   ]
  },
  {
   "cell_type": "markdown",
   "id": "8acbcedf",
   "metadata": {},
   "source": [
    "다음은 관찰이 여러 행에 분산된 예제 데이터 프레임입니다."
   ]
  },
  {
   "cell_type": "code",
   "execution_count": null,
   "id": "fa612456",
   "metadata": {},
   "outputs": [],
   "source": [
    "df_tb_cp = pd.read_parquet(\n",
    "    \"https://github.com/aeturrell/python4DS/raw/refs/heads/main/data/who_tb_case_and_pop.parquet\"\n",
    ")\n",
    "df_tb_cp.head()"
   ]
  },
  {
   "cell_type": "markdown",
   "id": "0d4a4077",
   "metadata": {},
   "source": [
    "각 연도-국가에 대해 \"사례\"와 \"인구\"가 다른 행에 있음을 알 수 있습니다."
   ]
  },
  {
   "cell_type": "markdown",
   "id": "e7c9ed1b",
   "metadata": {},
   "source": [
    "이제 이것을 피벗하여 차이점을 살펴보겠습니다."
   ]
  },
  {
   "cell_type": "code",
   "execution_count": null,
   "id": "e584cf37",
   "metadata": {},
   "outputs": [],
   "source": [
    "pivoted = df_tb_cp.pivot(\n",
    "    index=[\"country\", \"year\"], columns=[\"type\"], values=\"count\"\n",
    ").reset_index()\n",
    "pivoted"
   ]
  },
  {
   "cell_type": "markdown",
   "id": "d82307c0",
   "metadata": {},
   "source": [
    "피벗은 시계열 데이터에 특히 유용하며, `shift()` 또는 `diff()`와 같은 작업은 일반적으로 한 행의 항목이 위의 항목에서 시간적으로 뒤따른다고 가정하여 적용됩니다. `shift()`를 수행할 때 종종 단일 변수를 시간적으로 이동시키고 싶지만 단일 관찰(이 경우 날짜)이 여러 행에 걸쳐 있는 경우 타이밍이 잘못될 것입니다. 예를 살펴보겠습니다."
   ]
  },
  {
   "cell_type": "code",
   "execution_count": null,
   "id": "97c6d139",
   "metadata": {},
   "outputs": [],
   "source": [
    "import numpy as np\n",
    "\n",
    "data = {\n",
    "    \"value\": np.random.randn(20),\n",
    "    \"variable\": [\"A\"] * 10 + [\"B\"] * 10,\n",
    "    \"date\": (\n",
    "        list(pd.date_range(\"1/1/2000\", periods=10, freq=\"ME\"))\n",
    "        + list(pd.date_range(\"1/1/2000\", periods=10, freq=\"ME\"))\n",
    "    ),\n",
    "}\n",
    "df = pd.DataFrame(data, columns=[\"date\", \"variable\", \"value\"])\n",
    "df.sample(5)"
   ]
  },
  {
   "cell_type": "markdown",
   "id": "90a5b930",
   "metadata": {},
   "source": [
    "위에서 `shift()`를 실행하면 시간적으로 겹치고 다른 변수임에도 불구하고 변수 B와 A를 함께 이동시킵니다. 따라서 더 넓은 형식으로 피벗합니다(그런 다음 시간적으로 안전하게 이동할 수 있음)."
   ]
  },
  {
   "cell_type": "code",
   "execution_count": null,
   "id": "04f2bd28",
   "metadata": {},
   "outputs": [],
   "source": [
    "df.pivot(index=\"date\", columns=\"variable\", values=\"value\").shift(1)"
   ]
  },
  {
   "cell_type": "markdown",
   "id": "841c4821",
   "metadata": {},
   "source": [
    "```{admonition} 연습\n",
    "첫 번째 항목이 NaN인 이유는 무엇입니까?\n",
    "```\n",
    "\n",
    "\n",
    "```{admonition} 연습\n",
    "카테고리가 `df[\"category\"] = np.random.choice([\"type1\", \"type2\", \"type3\", \"type4\"], 20)`과 같이 정의된 위 예제의 `variable` 및 `category` 열 모두에 적용되는 `pivot()`을 수행합니다. (힌트: 목록을 통해 여러 객체를 전달해야 함을 기억하십시오.)\n",
    "```"
   ]
  }
 ],
 "metadata": {
  "jupytext": {
   "cell_metadata_filter": "-all",
   "encoding": "# -*- coding: utf-8 -*-",
   "formats": "md:myst",
   "main_language": "python"
  },
  "kernelspec": {
   "display_name": ".venv",
   "language": "python",
   "name": "python3"
  },
  "language_info": {
   "codemirror_mode": {
    "name": "ipython",
    "version": 3
   },
   "file_extension": ".py",
   "mimetype": "text/x-python",
   "name": "python",
   "nbconvert_exporter": "python",
   "pygments_lexer": "ipython3",
   "version": "3.10.0"
  },
  "toc-showtags": true
 },
 "nbformat": 4,
 "nbformat_minor": 5
}
