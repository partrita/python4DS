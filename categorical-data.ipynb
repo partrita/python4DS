{
 "cells": [
  {
   "cell_type": "markdown",
   "id": "95f0a171",
   "metadata": {},
   "source": [
    "(categorical-data)=\n",
    "# 범주형 데이터\n",
    "\n",
    "## 소개\n",
    "\n",
    "이 장에서는 범주형 변수, 즉 고정되고 알려진 가능한 값 집합을 가진 변수를 다루는 방법을 소개합니다. 이 장은 **pandas** [문서](https://pandas.pydata.org/)에 크게 의존합니다.\n"
   ]
  },
  {
   "cell_type": "code",
   "execution_count": null,
   "id": "51a55374",
   "metadata": {
    "tags": [
     "remove-cell"
    ]
   },
   "outputs": [],
   "source": [
    "# 셀 제거\n",
    "import matplotlib.pyplot as plt\n",
    "import matplotlib_inline.backend_inline\n",
    "\n",
    "# 플롯 설정\n",
    "plt.style.use(\"https://github.com/aeturrell/python4DS/raw/main/plot_style.txt\")\n",
    "matplotlib_inline.backend_inline.set_matplotlib_formats(\"svg\")"
   ]
  },
  {
   "cell_type": "markdown",
   "id": "17575f3a",
   "metadata": {},
   "source": [
    "### 전제 조건\n",
    "\n",
    "이 장에서는 **pandas** 데이터 분석 패키지를 사용합니다."
   ]
  },
  {
   "cell_type": "markdown",
   "id": "8757f369",
   "metadata": {},
   "source": [
    "## 범주 데이터 유형\n",
    "\n",
    "파이썬의 모든 것에는 유형이 있으며 **pandas** 데이터 프레임 열의 데이터도 마찬가지입니다. 숫자나 문자열에 더 익숙할 수 있지만 범주형 데이터에는 `Categorical`이라는 특수 데이터 유형도 있습니다. (적절한 경우) 범주형 변수를 사용하면 몇 가지 이점이 있습니다.\n",
    "\n",
    "- 범주의 요소가 없는 경우에도 추적할 수 있으며, 이는 때때로 요소가 있을 때만큼 흥미로울 수 있습니다(특정 학교 출신의 학생이 대학에 가지 않는다는 사실을 발견했다고 상상해 보십시오).\n",
    "- 다른 방식으로 동일한 정보를 인코딩하는 것보다 컴퓨터 메모리를 훨씬 적게 사용할 수 있습니다.\n",
    "- 잠재적인 '더미 변수'로 인식될 모델링 패키지나 불연속 값으로 처리할 플로팅 패키지와 함께 효율적으로 사용할 수 있습니다.\n",
    "- 순서를 지정할 수 있습니다(예: \"중립\", \"동의\", \"매우 동의\").\n",
    "\n",
    "**pandas** 열의 모든 범주형 데이터 값은 지정된 범주에 있거나 `np.nan` 값을 갖습니다.\n",
    "\n",
    "## 범주형 데이터 만들기\n",
    "\n",
    "데이터의 범주형 열을 만들어 보겠습니다."
   ]
  },
  {
   "cell_type": "code",
   "execution_count": null,
   "id": "535ef959",
   "metadata": {},
   "outputs": [],
   "source": [
    "import numpy as np\n",
    "import pandas as pd\n",
    "\n",
    "df = pd.DataFrame({\"A\": [\"a\", \"b\", \"c\", \"a\"]})\n",
    "\n",
    "df[\"A\"] = df[\"A\"].astype(\"category\")\n",
    "df[\"A\"]"
   ]
  },
  {
   "cell_type": "markdown",
   "id": "62db4dec",
   "metadata": {},
   "source": [
    "표시된 계열 하단에 추가 정보가 표시됩니다. 이 열이 범주형 열 유형일 뿐만 아니라 'a', 'b', 'c'의 세 가지 값을 갖는다는 것을 알 수 있습니다.\n",
    "\n",
    "`pd.cut()`과 같은 특수 함수를 사용하여 데이터를 불연속적인 구간으로 그룹화할 수도 있습니다. 다음은 범주에 대한 레이블을 직접 지정하는 예입니다."
   ]
  },
  {
   "cell_type": "code",
   "execution_count": null,
   "id": "358c83bb",
   "metadata": {},
   "outputs": [],
   "source": [
    "df = pd.DataFrame({\"value\": np.random.randint(0, 100, 20)})\n",
    "labels = [f\"{i} - {i+9}\" for i in range(0, 100, 10)]\n",
    "df[\"group\"] = pd.cut(df.value, range(0, 105, 10), right=False, labels=labels)\n",
    "df.head()"
   ]
  },
  {
   "cell_type": "markdown",
   "id": "87bc56b6",
   "metadata": {},
   "source": [
    "위 예에서 `group` 열은 범주형 유형입니다.\n",
    "\n",
    "범주형 변수를 만드는 또 다른 방법은 `pd.Categorical()` 함수를 직접 사용하는 것입니다."
   ]
  },
  {
   "cell_type": "code",
   "execution_count": null,
   "id": "fb389105",
   "metadata": {},
   "outputs": [],
   "source": [
    "raw_cat = pd.Categorical(\n",
    "    [\"a\", \"b\", \"c\", \"a\", \"d\", \"a\", \"c\"], categories=[\"b\", \"c\", \"d\"]\n",
    ")\n",
    "raw_cat"
   ]
  },
  {
   "cell_type": "markdown",
   "id": "ebfdf815",
   "metadata": {},
   "source": [
    "그런 다음 이것을 데이터 프레임에 입력할 수 있습니다."
   ]
  },
  {
   "cell_type": "code",
   "execution_count": null,
   "id": "0497fc16",
   "metadata": {},
   "outputs": [],
   "source": [
    "df = pd.DataFrame(raw_cat, columns=[\"cat_type\"])\n",
    "df[\"cat_type\"]"
   ]
  },
  {
   "cell_type": "markdown",
   "id": "76dc9dd6",
   "metadata": {},
   "source": [
    "지정한 범주에 *없는* 값에 대해 NaN이 나타납니다. 이에 대한 자세한 내용은 {ref}`missing-values`에서 확인할 수 있습니다."
   ]
  },
  {
   "cell_type": "markdown",
   "id": "aa76a795",
   "metadata": {},
   "source": [
    "순서가 지정된 범주를 만들 수도 있습니다."
   ]
  },
  {
   "cell_type": "code",
   "execution_count": null,
   "id": "f7520d3d",
   "metadata": {},
   "outputs": [],
   "source": [
    "ordered_cat = pd.Categorical(\n",
    "    [\"a\", \"b\", \"c\", \"a\", \"d\", \"a\", \"c\"],\n",
    "    categories=[\"a\", \"b\", \"c\", \"d\"],\n",
    "    ordered=True,\n",
    ")\n",
    "ordered_cat"
   ]
  },
  {
   "cell_type": "markdown",
   "id": "258cc6f5",
   "metadata": {},
   "source": [
    "## 범주 작업\n",
    "\n",
    "범주형 데이터에는 `categories` 및 `ordered` 속성이 있습니다. 이러한 속성은 각각 가능한 값과 순서 지정 여부를 나열합니다. 이러한 속성은 `.cat.categories` 및 `.cat.ordered`로 노출됩니다. 범주 및 순서를 수동으로 지정하지 않으면 전달된 인수에서 유추됩니다.\n",
    "\n",
    "몇 가지 예를 살펴보겠습니다."
   ]
  },
  {
   "cell_type": "code",
   "execution_count": null,
   "id": "2caba354",
   "metadata": {},
   "outputs": [],
   "source": [
    "df[\"cat_type\"].cat.categories"
   ]
  },
  {
   "cell_type": "code",
   "execution_count": null,
   "id": "5f1fe093",
   "metadata": {},
   "outputs": [],
   "source": [
    "df[\"cat_type\"].cat.ordered"
   ]
  },
  {
   "cell_type": "markdown",
   "id": "694c07b0",
   "metadata": {},
   "source": [
    "범주형 데이터가 정렬된 경우(즉, `.cat.ordered == True`), 범주 순서에 의미가 있으며 특정 작업이 가능합니다. 값을 정렬하고(`.sort_values()`), `.min` 및 `.max`를 적용할 수 있습니다."
   ]
  },
  {
   "cell_type": "markdown",
   "id": "0a6d7a90",
   "metadata": {},
   "source": [
    "### 범주 이름 바꾸기\n",
    "\n",
    "범주 이름 바꾸기는 `rename_categories()` 메서드(목록 또는 사전과 함께 작동)를 통해 수행됩니다."
   ]
  },
  {
   "cell_type": "code",
   "execution_count": null,
   "id": "097171b8",
   "metadata": {},
   "outputs": [],
   "source": [
    "df[\"cat_type\"] = df[\"cat_type\"].cat.rename_categories([\"alpha\", \"beta\", \"gamma\"])"
   ]
  },
  {
   "cell_type": "markdown",
   "id": "3de7fd23",
   "metadata": {},
   "source": [
    "범주를 추가하려는 상황에 자주 직면하게 될 것입니다. `.add_categories()`를 사용하여 이 작업을 수행할 수 있습니다."
   ]
  },
  {
   "cell_type": "code",
   "execution_count": null,
   "id": "4ae6df38",
   "metadata": {},
   "outputs": [],
   "source": [
    "df[\"cat_type\"] = df[\"cat_type\"].cat.add_categories([\"delta\"])\n",
    "df[\"cat_type\"]"
   ]
  },
  {
   "cell_type": "markdown",
   "id": "ba525491",
   "metadata": {},
   "source": [
    "마찬가지로 `.remove_categories()` 함수와 `.remove_unused_categories()` 함수가 있습니다. `.set_categories`는 범주를 한 번에 추가하고 제거합니다. 설정된 범주의 좋은 속성 중 하나는 다음과 같습니다. 하지만 cat(egory) 함수를 호출하기 전에 `df[\"columnname\"].cat`를 수행해야 한다는 것을 기억하십시오."
   ]
  },
  {
   "cell_type": "markdown",
   "id": "76b38a2a",
   "metadata": {},
   "source": [
    "## 범주에 대한 연산\n",
    "\n",
    "언급했듯이 정렬된 범주는 이미 일부 작업을 거칩니다. 그러나 모든 범주 집합에 대해 작동하는 일부 작업이 있습니다. 아마도 가장 유용한 것은 `value_counts()`일 것입니다."
   ]
  },
  {
   "cell_type": "code",
   "execution_count": null,
   "id": "19f5bdda",
   "metadata": {},
   "outputs": [],
   "source": [
    "df[\"cat_type\"].value_counts()"
   ]
  },
  {
   "cell_type": "markdown",
   "id": "a36db155",
   "metadata": {},
   "source": [
    "'델타'가 전혀 나타나지 않더라도 개수(0)를 얻습니다. 이러한 결측값 추적은 매우 유용할 수 있습니다.\n",
    "\n",
    "`mode()`는 또 다른 것입니다."
   ]
  },
  {
   "cell_type": "code",
   "execution_count": null,
   "id": "f52d5d0d",
   "metadata": {},
   "outputs": [],
   "source": [
    "df[\"cat_type\"].mode()"
   ]
  },
  {
   "cell_type": "markdown",
   "id": "d28f34d8",
   "metadata": {},
   "source": [
    "그리고 범주형 열이 우연히 작업을 수행할 수 있는 *요소*로 구성된 경우 동일한 작업이 계속 작동합니다. 예를 들어,"
   ]
  },
  {
   "cell_type": "code",
   "execution_count": null,
   "id": "4d43e94d",
   "metadata": {},
   "outputs": [],
   "source": [
    "time_df = pd.DataFrame(\n",
    "    pd.Series(pd.date_range(\"2015/05/01\", periods=5, freq=\"M\"), dtype=\"category\"),\n",
    "    columns=[\"datetime\"],\n",
    ")\n",
    "time_df"
   ]
  },
  {
   "cell_type": "code",
   "execution_count": null,
   "id": "db697f86",
   "metadata": {},
   "outputs": [],
   "source": [
    "time_df[\"datetime\"].dt.month"
   ]
  },
  {
   "cell_type": "markdown",
   "id": "c202f0d1",
   "metadata": {},
   "source": [
    "마지막으로 범주형 열의 실제 데이터 유형을 코드로 변환해야 하는 경우 `.cat.codes`를 사용하여 각 값에 대한 고유 코드를 얻을 수 있습니다."
   ]
  },
  {
   "cell_type": "code",
   "execution_count": null,
   "id": "13e7bc66",
   "metadata": {},
   "outputs": [],
   "source": [
    "time_df[\"datetime\"].cat.codes"
   ]
  }
 ],
 "metadata": {
  "interpreter": {
   "hash": "9d7534ecd9fbc7d385378f8400cf4d6cb9c6175408a574f1c99c5269f08771cc"
  },
  "jupytext": {
   "cell_metadata_filter": "-all",
   "encoding": "# -*- coding: utf-8 -*-",
   "formats": "md:myst",
   "main_language": "python"
  },
  "kernelspec": {
   "display_name": "Python 3 (ipykernel)",
   "language": "python",
   "name": "python3"
  },
  "language_info": {
   "codemirror_mode": {
    "name": "ipython",
    "version": 3
   },
   "file_extension": ".py",
   "mimetype": "text/x-python",
   "name": "python",
   "nbconvert_exporter": "python",
   "pygments_lexer": "ipython3",
   "version": "3.10.12"
  },
  "toc-showtags": true
 },
 "nbformat": 4,
 "nbformat_minor": 5
}
