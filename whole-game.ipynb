{
 "cells": [
  {
   "attachments": {},
   "cell_type": "markdown",
   "id": "95f0a171",
   "metadata": {},
   "source": [
    "(whole-game)=\n",
    "# 전체 게임\n",
    "\n",
    "이 책의 이 부분의 목표는 아래 그림과 같이 데이터 가져오기, 정리, 변환 및 시각화와 같은 데이터 과학의 주요 도구에 대한 간략한 개요를 제공하는 것입니다. 간단하지만 실제 데이터 세트를 다룰 수 있도록 모든 주요 부분에 대해 충분히 설명하여 데이터 과학의 \"전체 게임\"을 보여드리고자 합니다. 이 책의 뒷부분에서는 이러한 각 주제를 더 깊이 다루어 다룰 수 있는 데이터 과학 문제의 범위를 넓힐 것입니다."
   ]
  },
  {
   "cell_type": "code",
   "execution_count": null,
   "id": "51a55374",
   "metadata": {
    "tags": [
     "remove-cell"
    ]
   },
   "outputs": [],
   "source": [
    "import matplotlib_inline.backend_inline\n",
    "\n",
    "matplotlib_inline.backend_inline.set_matplotlib_formats(\"svg\")"
   ]
  },
  {
   "cell_type": "code",
   "execution_count": null,
   "id": "209ef434",
   "metadata": {
    "tags": [
     "remove-input"
    ]
   },
   "outputs": [],
   "source": [
    "# 입력 제거\n",
    "import graphviz\n",
    "\n",
    "dot = graphviz.Digraph(comment=\"데이터 과학 워크플로\")\n",
    "dot.attr(compound=\"true\")\n",
    "dot.edge(\"가져오기\", \"정리\")\n",
    "\n",
    "with dot.subgraph(name=\"cluster_0\") as c:\n",
    "    c.attr(style=\"filled\", color=\"lightgrey\")\n",
    "    c.node_attr.update(style=\"filled\", color=\"white\")\n",
    "    c.edges([(\"시각화\", \"분석\"), (\"분석\", \"변환\"), (\"변환\", \"시각화\")])\n",
    "    c.attr(label=\"이해\")\n",
    "\n",
    "dot.edge(\"정리\", \"분석\", lhead=\"cluster_0\")\n",
    "\n",
    "dot.edge(\"분석\", \"소통\", ltail=\"cluster_0\")\n",
    "\n",
    "dot"
   ]
  },
  {
   "attachments": {},
   "cell_type": "markdown",
   "id": "e96aa125",
   "metadata": {},
   "source": [
    "이 장 다음에는 데이터 과학 도구에 중점을 둔 네 개의 주요 장이 있습니다.\n",
    "\n",
    "- 시각화는 파이썬 프로그래밍을 시작하기에 좋은 곳입니다. 보상이 매우 명확하기 때문입니다. 데이터를 이해하는 데 도움이 되는 우아하고 유익한 플롯을 만들 수 있습니다. {ref}`data-visualise`에서는 플롯의 기본 구조와 데이터를 플롯으로 바꾸는 강력한 기술을 배우면서 시각화에 대해 자세히 알아볼 것입니다.\n",
    "- 시각화만으로는 일반적으로 충분하지 않으므로 {ref}`data-transform`에서는 중요한 변수를 선택하고, 주요 관찰을 필터링하고, 새 변수를 만들고, 요약을 계산할 수 있는 주요 동사를 배웁니다.\n",
    "- {ref}`data-tidy`에서는 데이터 정리 및 특히 \"깔끔한\" 데이터에 대해 배웁니다. \"깔끔한\" 데이터는 변환, 시각화 및 모델링을 더 쉽게 만드는 표 형식 데이터를 저장하는 일관된 방법입니다. 기본 원칙과 데이터를 \"깔끔한\" 형식으로 만드는 방법을 배웁니다.\n",
    "- 데이터를 변환하고 시각화하기 전에 먼저 데이터를 파이썬 세션으로 가져와야 합니다. {ref}`data-import`에서는 .csv 파일을 파이썬 세션으로 가져오는 기본 사항을 배웁니다.\n",
    "\n",
    "이러한 장은 파이썬 워크플로에 중점을 둔 다른 네 개의 장과 함께 제공됩니다.\n",
    "\n",
    "- {ref}`workflow-basics`, {ref}`workflow-style` 및 {ref}`workflow-writing-code`에서는 코드 작성 및 구성에 대한 좋은 워크플로 관행을 배웁니다.\n",
    "- {ref}`workflow-packages-and-environments`에서는 패키지와 별도의 코드 환경에서 프로젝트를 격리하는 방법에 대해 자세히 알아봅니다.\n",
    "\n",
    "마지막으로 {ref}`workflow-help`에는 도움을 받고 계속 학습하는 방법에 대한 몇 가지 간단한 조언이 포함되어 있습니다."
   ]
  }
 ],
 "metadata": {
  "interpreter": {
   "hash": "9d7534ecd9fbc7d385378f8400cf4d6cb9c6175408a574f1c99c5269f08771cc"
  },
  "jupytext": {
   "cell_metadata_filter": "-all",
   "encoding": "# -*- coding: utf-8 -*-",
   "formats": "md:myst",
   "main_language": "python"
  },
  "kernelspec": {
   "display_name": "Python 3 (ipykernel)",
   "language": "python",
   "name": "python3"
  },
  "language_info": {
   "codemirror_mode": {
    "name": "ipython",
    "version": 3
   },
   "file_extension": ".py",
   "mimetype": "text/x-python",
   "name": "python",
   "nbconvert_exporter": "python",
   "pygments_lexer": "ipython3",
   "version": "3.10.12"
  },
  "toc-showtags": true
 },
 "nbformat": 4,
 "nbformat_minor": 5
}
