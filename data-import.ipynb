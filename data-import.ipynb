{
 "cells": [
  {
   "cell_type": "markdown",
   "id": "95f0a171",
   "metadata": {},
   "source": [
    "(data-import)=\n",
    "# 데이터 가져오기\n",
    "\n",
    "## 소개\n",
    "\n",
    "이 장에서는 자신만의 데이터로 작업하는 방법을 소개합니다. 여기서는 일반 텍스트 직사각형 파일을 파이썬으로 읽는 방법을 배웁니다. 데이터 가져오기의 일부만 다루겠지만 많은 원칙이 다른 형태의 데이터에도 적용될 것입니다. 다른 유형의 데이터를 여는 몇 가지 포인터로 마무리하겠습니다.\n",
    "\n",
    "### 전제 조건\n",
    "\n",
    "**pandas** 패키지가 설치되어 있어야 합니다. **pandas**가 설치되어 있는지 확인해야 합니다. 이렇게 하려면 세션으로 **pandas**를 가져오려면 다음을 실행합니다."
   ]
  },
  {
   "cell_type": "code",
   "execution_count": null,
   "id": "1cf01bda",
   "metadata": {},
   "outputs": [],
   "source": [
    "import pandas as pd"
   ]
  },
  {
   "cell_type": "markdown",
   "id": "e29b7103",
   "metadata": {},
   "source": [
    "이 명령이 실패하면 **pandas**가 설치되어 있지 않은 것입니다. Visual Studio Code에서 터미널(터미널 -> 새 터미널)을 열고 `conda install pandas`를 입력합니다. **pandas**가 설치되면 스크립트 상단에 `import pandas as pd`를 넣어 파이썬 세션으로 `pd`라는 이름으로 가져오는 것이 관례입니다."
   ]
  },
  {
   "cell_type": "markdown",
   "id": "7505f1aa",
   "metadata": {},
   "source": [
    "## 시작하기\n",
    "\n",
    "**pandas**에는 Stata(.dta), Excel(.xls, .xlsx), csv, tsv, 빅데이터 형식(HDF5, parquet), JSON, SAS, SPSS, SQL 등 다양한 입출력 형식이 있습니다. 문서에는 사용 가능한 형식의 [전체 목록](https://pandas.pydata.org/pandas-docs/stable/user_guide/io.html)이 있습니다.\n",
    "\n",
    "![pandas 문서에서](https://pandas.pydata.org/pandas-docs/stable/_images/02_io_readwrite.svg)\n",
    "\n",
    "**pandas**에는 데이터를 읽어와 파이썬 세션으로 로드하는 다양한 방법이 있지만 여기서는 간단한 일반 텍스트 테이블 파일, 예를 들어 csv(쉼표로 구분된 값) 및 tsv(탭으로 구분된 값)에 중점을 둘 것입니다.\n",
    "\n",
    "### 파일에서 데이터 읽기\n",
    "\n",
    "일반 텍스트 테이블 파일을 여는 데 필요한 모든 기능은 단일 함수 `pd.read_csv()`에 포함되어 있습니다. 이 함수는 수많은 인수를 사용하지만 가장 중요한 두 가지는 데이터 경로를 제공하는 (이름 없는) 첫 번째 인수와 **pandas**에 값이 쉼표, 탭 또는 다른 문자로 구분될 것으로 예상되는지 여부를 알려주는 `sep=`(키워드 인수)입니다. 그러나 이 필드를 비워두면 **pandas**가 자동으로 추측합니다. 전체 인수 집합을 보려면 `help(pd.read_csv)`를 실행하십시오.\n",
    "\n",
    "다음은 열 이름 행(헤더 행이라고도 함)과 6개의 데이터 행이 있는 간단한 CSV 파일의 모습입니다(터미널 사용)."
   ]
  },
  {
   "cell_type": "code",
   "execution_count": null,
   "id": "eca85c47",
   "metadata": {},
   "outputs": [],
   "source": [
    "! cat data/students.csv"
   ]
  },
  {
   "cell_type": "markdown",
   "id": "c7352c95",
   "metadata": {},
   "source": [
    "이것은 CSV 파일이므로 값이 쉼표로 구분됩니다. 이제 이것을 파이썬의 **pandas** 데이터프레임으로 로드해 보겠습니다."
   ]
  },
  {
   "cell_type": "code",
   "execution_count": null,
   "id": "232fdfef",
   "metadata": {},
   "outputs": [],
   "source": [
    "students = pd.read_csv(\"data/students.csv\")\n",
    "students"
   ]
  },
  {
   "cell_type": "markdown",
   "id": "870cf0b5",
   "metadata": {},
   "source": [
    "이 데이터를 직접 다운로드하여 사용해 보려면 [이 링크](https://github.com/aeturrell/python4DS/blob/main/data/students.csv)로 이동한 다음 'Raw'를 마우스 오른쪽 버튼으로 클릭하고 \"다른 이름으로 링크 저장...\"을 선택합니다. 데이터를 'data'라는 디렉터리에 'students.csv'라는 이름으로 저장합니다. 이 디렉터리는 활성 Visual Studio Code 폴더 내에 있어야 합니다. 다음 코드를 실행하여 현재 있는 폴더를 확인할 수 있습니다.\n",
    "\n",
    "```python\n",
    "import os\n",
    "\n",
    "os.getcwd()  # 현재 작업 디렉터리 가져오기 (cwd)\n",
    "```\n",
    "\n",
    "이것이 'python4DS'로 반환되면 다운로드한 데이터는 'python4DS/data/students.csv'에 있어야 합니다."
   ]
  },
  {
   "cell_type": "markdown",
   "id": "2f3979fc",
   "metadata": {},
   "source": [
    "`read_csv()`의 첫 번째 인수는 데이터 경로였으며 **pandas**는 이 파일이 구분 기호로 쉼표를 사용한다고 추측했습니다.\n",
    "\n",
    "CSV 읽기 함수는 자동으로 새 *인덱스*(각 행의 위치)를 만들고 데이터의 맨 위 줄을 *헤더* 또는 *열 이름*으로 사용합니다. 그러나 이 동작을 여러 가지 방법으로 조정할 수 있습니다.\n",
    "\n",
    "1. 때로는 파일 상단에 몇 줄의 메타데이터가 있습니다. `skiprows=n`을 사용하여 처음 `n`줄을 건너뛸 수 있습니다(예: `pd.read_csv(\"data/students.csv\", skiprows=2)`).\n",
    "\n",
    "2. 데이터에 열 이름이 없을 수 있습니다. `names = ` 목록을 사용하여 `read_csv()`에 열 이름에 다른 옵션을 사용하도록 지시할 수 있습니다. 예를 들어 `pd.read_csv(\"data/students.csv\", names=range(5))`는 열 이름으로 숫자 0에서 4를 넣습니다.\n",
    "\n",
    "3. 인덱스로 사용할 열을 변경할 수 있습니다. 기본 동작은 인덱스를 만드는 것이지만 이 데이터에는 이미 사용할 수 있는 ID 열이 있음을 알 수 있습니다. 이렇게 하려면 `index_col=` 인수를 사용합니다(예: `pd.read_csv(\"data/students.csv\", index_col=0)`).\n",
    "\n",
    "이것이 실제로 접하게 될 CSV 파일의 약 75%를 읽는 데 필요한 전부입니다. 탭으로 구분된 파일과 고정 너비 파일 읽기는 동일한 함수로 수행됩니다."
   ]
  },
  {
   "cell_type": "markdown",
   "id": "7994a793",
   "metadata": {},
   "source": [
    "### 첫 단계\n",
    "\n",
    "`students` 데이터를 다시 살펴보겠습니다.\n",
    "\n",
    "데이터를 읽어온 후 첫 번째 단계는 일반적으로 분석의 나머지 부분에서 작업하기 쉽도록 어떤 방식으로든 변환하는 것입니다. 예를 들어 읽어온 `students` 파일의 열 이름은 비표준 방식으로 형식이 지정되어 있습니다.\n",
    "\n",
    "`.rename()`을 사용하여 하나씩 이름을 바꾸거나 다른 패키지의 편의 함수를 사용하여 한 번에 정리하고 모두 스네이크 케이스로 바꿀 수 있습니다. 이를 위해 **skimpy** 패키지를 사용할 것입니다. **skimpy**는 더 작은 패키지이므로 conda를 통해 설치할 수 없습니다. 대신 터미널에서 `pip install skimpy`를 실행하여 설치합니다.\n",
    "\n",
    "**skimpy**에서 `clean_columns()` 함수를 사용할 것입니다. 이 함수는 데이터 프레임을 입력으로 받아 변수 이름이 스네이크 케이스로 변환된 데이터 프레임을 반환합니다."
   ]
  },
  {
   "cell_type": "code",
   "execution_count": null,
   "id": "51969364",
   "metadata": {},
   "outputs": [],
   "source": [
    "from skimpy import clean_columns\n",
    "\n",
    "students = clean_columns(students)\n",
    "students"
   ]
  },
  {
   "cell_type": "markdown",
   "id": "69c8a260",
   "metadata": {},
   "source": [
    "데이터를 읽어온 후 또 다른 일반적인 작업은 변수 유형을 고려하는 것입니다. `favourite_food` 열에는 여러 음식 항목과 누락된 문자열이 아닌 부동 소수점 숫자로 읽어온 `NaN` 값이 있습니다. 이 열을 명시적으로 문자열로 구성하도록 캐스팅하여 이 문제를 해결할 수 있습니다."
   ]
  },
  {
   "cell_type": "code",
   "execution_count": null,
   "id": "b4dad370",
   "metadata": {},
   "outputs": [],
   "source": [
    "students[\"favourite_food\"] = students[\"favourite_food\"].astype(\"string\")\n",
    "students"
   ]
  },
  {
   "cell_type": "markdown",
   "id": "e85148b3",
   "metadata": {},
   "source": [
    "마찬가지로 `\"age\"`에는 문자열과 정수라는 혼합 데이터 유형이 있습니다! 'five'를 숫자 5로 매핑해 보겠습니다."
   ]
  },
  {
   "cell_type": "code",
   "execution_count": null,
   "id": "f3c31e4a",
   "metadata": {},
   "outputs": [],
   "source": [
    "students[\"age\"] = students[\"age\"].replace(\"five\", 5)\n",
    "students[\"age\"]"
   ]
  },
  {
   "cell_type": "markdown",
   "id": "719f90cc",
   "metadata": {},
   "source": [
    "잠시 후 이것을 정수 열로 바꿀 것입니다."
   ]
  },
  {
   "cell_type": "markdown",
   "id": "e5c2b01e",
   "metadata": {},
   "source": [
    "데이터 유형이 잘못된 또 다른 예는 `meal_type`입니다. 이것은 알려진 가능한 값 집합을 가진 범주형 변수입니다. **pandas**에는 이러한 변수에 대한 특수 데이터 유형이 있습니다."
   ]
  },
  {
   "cell_type": "code",
   "execution_count": null,
   "id": "678fdd2d",
   "metadata": {},
   "outputs": [],
   "source": [
    "students[\"meal_plan\"] = students[\"meal_plan\"].astype(\"category\")\n",
    "students[\"meal_plan\"]"
   ]
  },
  {
   "cell_type": "markdown",
   "id": "1e2a32a8",
   "metadata": {},
   "source": [
    "`meal_type` 변수의 값은 정확히 동일하게 유지되었지만 변수 유형은 객체에서 범주로 변경되었습니다.\n",
    "\n",
    "유형을 적용하기 위해 단일 행 할당으로 열을 하나씩 살펴보는 것은 약간 지루합니다. 대안은 열 이름을 유형으로 매핑하는 사전을 다음과 같이 전달하는 것입니다."
   ]
  },
  {
   "cell_type": "code",
   "execution_count": null,
   "id": "f54108d3",
   "metadata": {},
   "outputs": [],
   "source": [
    "students = students.astype({\"student_id\": \"int\", \"full_name\": \"string\", \"age\": \"int\"})\n",
    "students.info()"
   ]
  },
  {
   "cell_type": "markdown",
   "id": "388ad316",
   "metadata": {},
   "source": [
    "### 연습\n",
    "\n",
    "1. 필드가 \"\\|\"로 구분된 파일을 읽는 데 어떤 함수를 사용하시겠습니까?"
   ]
  },
  {
   "cell_type": "markdown",
   "id": "3fc7dbd6",
   "metadata": {},
   "source": [
    "## 여러 파일에서 데이터 읽기"
   ]
  },
  {
   "cell_type": "markdown",
   "id": "37415655",
   "metadata": {},
   "source": [
    "때로는 데이터가 단일 파일에 포함되어 있지 않고 여러 파일에 분할되어 있는 경우가 있습니다. 예를 들어 여러 달의 판매 데이터가 있고 각 달의 데이터가 별도의 파일에 있을 수 있습니다. 1월은 `01-sales.csv`, 2월은 `02-sales.csv`, 3월은 `03-sales.csv`입니다.\n",
    "\n",
    "`pd.read_csv()`를 사용하면 이러한 데이터를 하나씩 읽어온 다음 `pd.concat()` 함수를 사용하여 단일 데이터 프레임에 쌓을 수 있습니다. 다음과 같습니다.\n"
   ]
  },
  {
   "cell_type": "code",
   "execution_count": null,
   "id": "b80b958b",
   "metadata": {},
   "outputs": [],
   "source": [
    "list_of_dataframes = [\n",
    "    pd.read_csv(x)\n",
    "    for x in [\"data/01-sales.csv\", \"data/02-sales.csv\", \"data/03-sales.csv\"]\n",
    "]\n",
    "sales_files = pd.concat(list_of_dataframes)\n",
    "sales_files"
   ]
  },
  {
   "cell_type": "markdown",
   "id": "ea3904ca",
   "metadata": {},
   "source": [
    "읽어올 파일이 많은 경우 이름을 목록으로 작성하는 것이 번거로울 수 있습니다. 대신 **glob** 패키지(파이썬에 내장되어 있음)를 사용하여 파일 이름의 패턴을 일치시켜 파일을 찾을 수 있습니다. data/ 디렉터리에 다른 CSV 파일이 있을 수 있으므로 여기서는 판매라는 단어가 포함된 파일만 가져오도록 `\"*-sales.csv\"`를 지정했습니다. 여기서 `\"*\"`는 와일드카드 역할을 합니다. 즉, 모든 문자열을 나타냅니다."
   ]
  },
  {
   "cell_type": "code",
   "execution_count": null,
   "id": "4a92056c",
   "metadata": {},
   "outputs": [],
   "source": [
    "import glob\n",
    "\n",
    "list_of_csvs = glob.glob(\"data/*-sales.csv\")\n",
    "print(\"csv 목록은 다음과 같습니다.\")\n",
    "print(list_of_csvs, \"\\n\")\n",
    "sales_files = pd.concat([pd.read_csv(x) for x in list_of_csvs])\n",
    "sales_files"
   ]
  },
  {
   "cell_type": "markdown",
   "id": "c6f9e77d",
   "metadata": {},
   "source": [
    "## 파일에 쓰기\n",
    "\n",
    "파일을 읽는 일반적인 패턴이 `pd.read_FILETYPE()`(여기서 파일 유형은 예를 들어 CSV일 수 있음)인 것처럼 **pandas** 데이터 프레임을 디스크에 쓰는 모든 방법에는 `DATAFRAME.to_FILETYPE()` 패턴이 있습니다. 따라서 판매 데이터를 CSV 파일에 쓰려면 코드는 `sales_files.to_csv(FILEPATH)`가 됩니다. 여기서 파일 경로는 쓰려는 파일의 위치와 이름입니다.\n",
    "\n",
    "이미 데이터 유형을 설정하는 데 많은 노력을 기울인 학생 데이터를 사용하여 파일에 데이터를 쓰는 예를 살펴보겠습니다."
   ]
  },
  {
   "cell_type": "code",
   "execution_count": null,
   "id": "0bc97749",
   "metadata": {},
   "outputs": [],
   "source": [
    "students.to_csv(\"data/students-clean.csv\")"
   ]
  },
  {
   "cell_type": "markdown",
   "id": "9c92b016",
   "metadata": {},
   "source": [
    "이제 다시 읽어와서 데이터 유형 정보를 확인해 보겠습니다."
   ]
  },
  {
   "cell_type": "code",
   "execution_count": null,
   "id": "542c5223",
   "metadata": {},
   "outputs": [],
   "source": [
    "pd.read_csv(\"data/students-clean.csv\").info()"
   ]
  },
  {
   "cell_type": "markdown",
   "id": "164cd1c0",
   "metadata": {},
   "source": [
    "무엇인가 눈치채셨나요? 우리가 수행한 멋진 데이터 유형 작업을 많이 잃었습니다! **pandas**가 일부 열이 정수라고 추측했지만 문자열 및 범주형 변수를 잃었습니다. 그 이유는 일반 텍스트 파일이 컨텍스트 정보를 전달할 수 없기 때문입니다(**pandas**는 일부 열 데이터 유형을 추측하지만).\n",
    "\n",
    "데이터를 파일에 저장하고 데이터 유형을 기억하도록 하려면 다른 데이터 형식을 사용해야 합니다. 임시 저장의 경우 매우 빠르고 다른 프로그래밍 언어와 상호 운용 가능한 *feather* 형식을 사용하는 것이 좋습니다. 상호 운용성은 Stata의 .dta, R의 .rds 및 파이썬의 .pickle과 같은 언어별 파일 형식을 피해야 하는 좋은 이유입니다.\n",
    "\n",
    "feather 형식에는 **pyarrow**라는 패키지 형태의 추가 종속성이 있습니다. 설치하려면 터미널 창에서 `pip install pyarrow`를 실행합니다.\n",
    "\n",
    "다음은 feather 파일에 쓰는 예입니다."
   ]
  },
  {
   "cell_type": "code",
   "execution_count": null,
   "id": "16c6ca1b",
   "metadata": {},
   "outputs": [],
   "source": [
    "students.to_feather(\"data/students-clean.feather\")"
   ]
  },
  {
   "cell_type": "markdown",
   "id": "2119dd53",
   "metadata": {},
   "source": [
    "이제 해당 페더 파일을 다시 열고 첨부된 정보를 살펴보겠습니다."
   ]
  },
  {
   "cell_type": "code",
   "execution_count": null,
   "id": "bfd5104f",
   "metadata": {},
   "outputs": [],
   "source": [
    "pd.read_feather(\"data/students-clean.feather\").info()"
   ]
  },
  {
   "cell_type": "markdown",
   "id": "f89f342f",
   "metadata": {},
   "source": [
    "이 형식으로 저장하면 데이터 유형 정보가 보존되었습니다.\n",
    "\n",
    "### 다른 데이터 형식 읽기 및 쓰기\n",
    "\n",
    "이 장의 시작 부분에 있는 이미지는 사용 가능한 다른 형식이 무엇인지 알 수 있게 해주지만 [공식 **pandas** 입출력 설명서](https://pandas.pydata.org/docs/user_guide/io.html)에서 포괄적인 목록을 찾을 수 있습니다."
   ]
  },
  {
   "cell_type": "code",
   "execution_count": null,
   "id": "227f7c50",
   "metadata": {
    "tags": [
     "remove-cell"
    ]
   },
   "outputs": [],
   "source": [
    "import os\n",
    "\n",
    "os.remove(\"data/students-clean.csv\")\n",
    "os.remove(\"data/students-clean.feather\")"
   ]
  }
 ],
 "metadata": {
  "interpreter": {
   "hash": "9d7534ecd9fbc7d385378f8400cf4d6cb9c6175408a574f1c99c5269f08771cc"
  },
  "jupytext": {
   "cell_metadata_filter": "-all",
   "encoding": "# -*- coding: utf-8 -*-",
   "formats": "md:myst",
   "main_language": "python"
  },
  "kernelspec": {
   "display_name": "Python 3 (ipykernel)",
   "language": "python",
   "name": "python3"
  },
  "language_info": {
   "codemirror_mode": {
    "name": "ipython",
    "version": 3
   },
   "file_extension": ".py",
   "mimetype": "text/x-python",
   "name": "python",
   "nbconvert_exporter": "python",
   "pygments_lexer": "ipython3",
   "version": "3.10.12"
  },
  "toc-showtags": true
 },
 "nbformat": 4,
 "nbformat_minor": 5
}
