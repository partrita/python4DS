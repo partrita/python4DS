{
 "cells": [
  {
   "cell_type": "markdown",
   "id": "95f0a171",
   "metadata": {},
   "source": [
    "(strings)=\n",
    "# 문자열과 텍스트\n",
    "\n",
    "## 소개\n",
    "\n",
    "문자열은 텍스트의 데이터 유형일 뿐입니다. 지금까지 문자열을 사용했지만 세부 정보에 대해서는 많이 배우지 않았습니다. 이제 문자열이 어떻게 작동하는지 배우고 사용할 수 있는 강력한 문자열 조작 도구 중 일부를 마스터하면서 문자열에 대해 자세히 알아보겠습니다.\n",
    "\n",
    "이 장은 [파이썬 문자열 요리책](https://mkaz.blog/code/python-string-format-cookbook/)과 Jake VanderPlas의 [파이썬 데이터 과학 핸드북](https://jakevdp.github.io/PythonDataScienceHandbook/03.10-working-with-strings.html)에서 도움을 받았습니다.\n",
    "\n",
    "*정규 표현식*이라고 하는 문자열 작업을 위한 더 강력한 방법이 있지만 다른 장에서 다룰 것입니다."
   ]
  },
  {
   "cell_type": "markdown",
   "id": "3fc1cd0f",
   "metadata": {},
   "source": [
    "## 문자열 만들기\n",
    "\n",
    "이 책 앞부분에서 지나가면서 문자열을 만들었지만 세부 정보는 논의하지 않았습니다. 먼저 작은따옴표(`'`) 또는 큰따옴표(`\"`)를 사용하여 문자열을 만들 수 있습니다. 어떤 것을 사용하든 일관성을 유지하는 것이 좋지만 자동 코드 포맷터는 `\"`를 선호하는 경향이 있습니다. 문자열 내에 따옴표가 있는 경우 그 안에 `'`를 사용합니다."
   ]
  },
  {
   "cell_type": "code",
   "execution_count": null,
   "id": "478a847a",
   "metadata": {},
   "outputs": [],
   "source": [
    "string_one = \"이것은 문자열입니다\"\n",
    "string_two = \"문자열 안에 '따옴표'를 포함하려면 바깥쪽에 큰따옴표를 사용합니다\""
   ]
  },
  {
   "cell_type": "markdown",
   "id": "9a146322",
   "metadata": {},
   "source": [
    "문자열은 `str` 유형입니다."
   ]
  },
  {
   "cell_type": "code",
   "execution_count": null,
   "id": "d7f4ea2d",
   "metadata": {},
   "outputs": [],
   "source": [
    "type(string_one)"
   ]
  },
  {
   "cell_type": "markdown",
   "id": "2bc26125",
   "metadata": {},
   "source": [
    "파이썬의 문자열은 인덱싱할 수 있으므로 대괄호를 사용하여 원하는 위치를 지정하여 특정 문자를 가져올 수 있습니다."
   ]
  },
  {
   "cell_type": "code",
   "execution_count": null,
   "id": "01379fe7",
   "metadata": {},
   "outputs": [],
   "source": [
    "var = \"바나나\""
   ]
  },
  {
   "cell_type": "code",
   "execution_count": null,
   "id": "d88f7928",
   "metadata": {},
   "outputs": [],
   "source": [
    "var[:3]"
   ]
  },
  {
   "cell_type": "markdown",
   "id": "d76d0c0a",
   "metadata": {},
   "source": [
    "목록에 적용되는 일반적인 슬라이싱 트릭은 문자열에도 적용됩니다. 즉, 가져오려는 위치는 `var[start:stop:step]` 구문을 사용하여 검색할 수 있습니다. 다음은 두 번째 위치에서 시작하여 문자열에서 다른 모든 문자를 가져오는 예입니다."
   ]
  },
  {
   "cell_type": "code",
   "execution_count": null,
   "id": "e03d95d1",
   "metadata": {},
   "outputs": [],
   "source": [
    "var[1::2]"
   ]
  },
  {
   "cell_type": "markdown",
   "id": "ddd1bbe7",
   "metadata": {},
   "source": [
    "문자열은 `(1, 2, 3)`과 같은 튜플과 같지만 `[1, 2, 3]`과 같은 목록과 달리 *변경할 수 없습니다*. 즉, `var[0] = \"B\"`와 같은 명령은 오류를 발생시킵니다. 단일 문자를 변경하려면 전체 문자열을 바꿔야 합니다. 이 예에서 이를 수행하는 명령은 `var = \"Banana\"`입니다.\n",
    "\n",
    "목록과 마찬가지로 `len()`을 사용하여 문자열의 길이를 찾을 수 있습니다."
   ]
  },
  {
   "cell_type": "code",
   "execution_count": null,
   "id": "83ab201b",
   "metadata": {},
   "outputs": [],
   "source": [
    "len(var)"
   ]
  },
  {
   "cell_type": "markdown",
   "id": "7eeebc05",
   "metadata": {},
   "source": [
    "`+` 연산자를 사용하여 문자열을 연결할 수 있습니다."
   ]
  },
  {
   "cell_type": "code",
   "execution_count": null,
   "id": "7801bd5d",
   "metadata": {},
   "outputs": [],
   "source": [
    "string_one + \". \" + string_two + \".\""
   ]
  },
  {
   "cell_type": "markdown",
   "id": "e8fb0ab8",
   "metadata": {},
   "source": [
    "구문이 이해되도록 추가 문자를 추가했습니다. (목록에 있는 경우) 많은 단어나 구문에 더 효율적으로 확장되는 동일한 결과를 얻는 또 다른 방법은 다음과 같습니다."
   ]
  },
  {
   "cell_type": "code",
   "execution_count": null,
   "id": "138cef18",
   "metadata": {},
   "outputs": [],
   "source": [
    "\". \".join([string_one, string_two])"
   ]
  },
  {
   "cell_type": "markdown",
   "id": "77b33c02",
   "metadata": {},
   "source": [
    "알아두면 유용한 세 가지 함수는 `upper()`, `lower()` 및 `title()`입니다. 어떤 기능을 하는지 살펴보겠습니다."
   ]
  },
  {
   "cell_type": "code",
   "execution_count": null,
   "id": "e11896f8",
   "metadata": {},
   "outputs": [],
   "source": [
    "var = \"input TEXT\"\n",
    "var_list = [var.upper(), var.lower(), var.title()]\n",
    "print(var_list)"
   ]
  },
  {
   "cell_type": "markdown",
   "id": "505bec9e",
   "metadata": {},
   "source": [
    "파이썬에는 문자열을 사용하는 많은 내장 함수가 있으며 [여기](https://www.w3schools.com/python/python_ref_string.asp)에서 포괄적인 목록을 찾을 수 있습니다.\n",
    "\n",
    "```{admonition} 연습\n",
    "인덱싱 작업을 사용하여 문자열 `\"gnirts desrever a si sihT\"`를 반전시키십시오.\n",
    "```"
   ]
  },
  {
   "cell_type": "markdown",
   "id": "3d70a3f6",
   "metadata": {},
   "source": [
    "`print()`를 사용하는 동안 몇 가지 트릭이 있습니다. 목록이 있는 경우 지정된 구분 기호로 항목을 인쇄할 수 있습니다."
   ]
  },
  {
   "cell_type": "code",
   "execution_count": null,
   "id": "bf0aadec",
   "metadata": {},
   "outputs": [],
   "source": [
    "print(*var_list, sep=\"; 그리고 \\n\")"
   ]
  },
  {
   "cell_type": "markdown",
   "id": "08d9b5af",
   "metadata": {},
   "source": [
    "(곧 '\\n'이 무엇을 하는지 자세히 알아볼 것입니다.) 다른 종류의 변수를 문자열로 바꾸려면 `str()` 함수를 사용합니다. 예를 들어,"
   ]
  },
  {
   "cell_type": "code",
   "execution_count": null,
   "id": "a96f048c",
   "metadata": {},
   "outputs": [],
   "source": [
    "(\n",
    "    \"부울은 \"\n",
    "    + str(True)\n",
    "    + \" 또는 \"\n",
    "    + str(False)\n",
    "    + \"이며, 옵션은 \"\n",
    "    + str(2)\n",
    "    + \"개뿐입니다.\"\n",
    ")"
   ]
  },
  {
   "cell_type": "markdown",
   "id": "9c79246f",
   "metadata": {},
   "source": [
    "이 예에서는 두 개의 부울 변수와 하나의 정수 변수가 문자열로 변환되었습니다. `str()`은 일반적으로 문자열이 아닌 유형 변수를 문자열 유형으로 변환하는 방법에 대해 지능적인 추측을 합니다. `str()`에 변수 또는 리터럴 값을 전달할 수 있습니다."
   ]
  },
  {
   "cell_type": "markdown",
   "id": "e68633d9",
   "metadata": {},
   "source": [
    "### f-문자열\n",
    "\n",
    "위 예는 상당히 장황합니다. 문자열과 변수를 결합하는 또 다른 방법은 *f-문자열*을 사용하는 것입니다. 간단한 f-문자열은 다음과 같습니다."
   ]
  },
  {
   "cell_type": "code",
   "execution_count": null,
   "id": "9dddf0da",
   "metadata": {},
   "outputs": [],
   "source": [
    "variable = 15.32399\n",
    "print(f\"점수는 {variable}점입니다.\")"
   ]
  },
  {
   "cell_type": "markdown",
   "id": "027287af",
   "metadata": {},
   "source": [
    "이것은 변수에서 `str`을 호출하고 연결에 `+`를 사용하는 것과 유사하지만 작성하기가 훨씬 짧습니다. f-문자열에 표현식을 추가할 수도 있습니다."
   ]
  },
  {
   "cell_type": "code",
   "execution_count": null,
   "id": "795e7c07",
   "metadata": {},
   "outputs": [],
   "source": [
    "print(f\"점수는 {variable**2}점입니다.\")"
   ]
  },
  {
   "cell_type": "markdown",
   "id": "fe120dd7",
   "metadata": {},
   "source": [
    "이것은 함수에서도 작동합니다. 결국 `**2`는 자체 특수 구문이 있는 함수일 뿐입니다."
   ]
  },
  {
   "cell_type": "markdown",
   "id": "f3524d86",
   "metadata": {},
   "source": [
    "이 예에서 나온 점수에는 (아마도) 흥미롭지 않은 소수 자릿수가 많이 있습니다. 그렇다면 인쇄된 출력을 어떻게 다듬을까요? f-문자열에 더 많은 정보를 전달하여 원하는 방식으로 출력 형식을 지정할 수 있습니다. 소수점 이하 두 자리와 부호가 필요하다고 가정해 보겠습니다(서식에 항상 `+`를 작성하지만 값에 따라 부호는 + 또는 -로 나옴)."
   ]
  },
  {
   "cell_type": "code",
   "execution_count": null,
   "id": "1f3d3806",
   "metadata": {},
   "outputs": [],
   "source": [
    "print(f\"점수는 {variable:+.2f}점입니다.\")"
   ]
  },
  {
   "cell_type": "markdown",
   "id": "04eb84a8",
   "metadata": {},
   "source": [
    "다음 표와 같이 숫자에 대한 다양한 서식 옵션이 있습니다.\n",
    "\n",
    "| 숫자     \t| 형식  \t| 출력     \t| 설명                                   \t|\n",
    "|------------\t|---------\t|------------\t|-----------------------------------------------\t|\n",
    "| 15.32347  \t| {:.2f}  \t| 15.32       \t| 부동 소수점 2자리 서식                 \t|\n",
    "| 15.32347  \t| {:+.2f} \t| +15.32      \t| 부호가 있는 부동 소수점 2자리 서식       \t|\n",
    "| -1         \t| {:+.2f} \t| -1.00      \t| 부호가 있는 부동 소수점 2자리 서식       \t|\n",
    "| 15.32347    \t| {:.0f}  \t| 15          \t| 소수 자릿수 없는 부동 소수점 서식           \t|\n",
    "| 3          \t| {:0>2d} \t| 03         \t| 0으로 숫자 채우기 (왼쪽 채우기, 너비 2) \t|\n",
    "| 3          \t| {:*<4d} \t| 3***       \t| *로 숫자 채우기 (오른쪽 채우기, 너비 4)  \t|\n",
    "| 13         \t| {:*<4d} \t| 13**       \t| *로 숫자 채우기 (오른쪽 채우기, 너비 4)  \t|\n",
    "| 1000000    \t| {:,}    \t| 1,000,000  \t| 쉼표 구분 기호가 있는 숫자 서식            \t|\n",
    "| 0.25       \t| {:.1%}  \t| 25.0%     \t| 백분율 서식                             \t|\n",
    "| 1000000000 \t| {:.2e}  \t| 1.00e+09   \t| 지수 표기법                             \t|\n",
    "| 12         \t| {:10d}  \t|            12 | 오른쪽 정렬 (기본값, 너비 10)             \t|\n",
    "| 12         \t| {:<10d} \t| 12            | 왼쪽 정렬 (너비 10)                       \t|\n",
    "| 12         \t| {:^10d} \t|      12       | 가운데 정렬 (너비 10)                     \t|\n",
    "\n",
    "페이지 상단의 Colab 및 Binder 링크를 통해 이 페이지를 대화형으로 사용하는 것 외에도 자신의 컴퓨터에서 이 페이지를 다운로드하여 사용하거나 [이 링크](https://www.python-utils.com/)에서 이러한 옵션 중 일부를 사용해 볼 수 있습니다."
   ]
  },
  {
   "cell_type": "markdown",
   "id": "6ae30791",
   "metadata": {},
   "source": [
    "### 특수 문자와 문자열 이스케이프 방법"
   ]
  },
  {
   "cell_type": "markdown",
   "id": "2fb21df1",
   "metadata": {},
   "source": [
    "파이썬에는 유용한 내장 문자열과 문자가 포함된 문자열 모듈이 있습니다. 예를 들어,"
   ]
  },
  {
   "cell_type": "code",
   "execution_count": null,
   "id": "0ccd65aa",
   "metadata": {},
   "outputs": [],
   "source": [
    "import string\n",
    "\n",
    "string.punctuation"
   ]
  },
  {
   "cell_type": "markdown",
   "id": "7e9646e6",
   "metadata": {},
   "source": [
    "모든 구두점을 제공하고,"
   ]
  },
  {
   "cell_type": "code",
   "execution_count": null,
   "id": "16205c36",
   "metadata": {},
   "outputs": [],
   "source": [
    "string.ascii_letters"
   ]
  },
  {
   "cell_type": "markdown",
   "id": "1cb1dac5",
   "metadata": {},
   "source": [
    "'ASCII' 인코딩의 모든 기본 문자를 반환하고(`.ascii_lowercase` 및 `.ascii_uppercase` 변형 포함),"
   ]
  },
  {
   "cell_type": "code",
   "execution_count": null,
   "id": "0c67f5cd",
   "metadata": {},
   "outputs": [],
   "source": [
    "string.digits"
   ]
  },
  {
   "cell_type": "markdown",
   "id": "589fff6d",
   "metadata": {},
   "source": [
    "0에서 9까지의 숫자를 제공합니다. 마지막으로 시각적으로 덜 인상적이지만 `string.whitespace`는 모든 다른 (하나 이상 있음!) 유형의 공백을 포함하는 문자열을 제공합니다."
   ]
  },
  {
   "cell_type": "markdown",
   "id": "794c4f7e",
   "metadata": {},
   "source": [
    "다른 특수 문자도 있습니다. 사실 우리는 이미 가장 유명한 문자 중 하나인 새 줄을 의미하는 \"\\\\n\"을 만났습니다. 실제로 \"\\\\n\"을 인쇄하려면 다른 백슬래시를 추가하여 백슬래시를 '이스케이프'해야 합니다."
   ]
  },
  {
   "cell_type": "code",
   "execution_count": null,
   "id": "16e9904a",
   "metadata": {},
   "outputs": [],
   "source": [
    "print(\"여기에 \\n 새 줄이 있습니다\")\n",
    "print(\"여기에 \\\\\\\\n 이스케이프된 새 줄이 있습니다 \")"
   ]
  },
  {
   "cell_type": "markdown",
   "id": "cf878d74",
   "metadata": {},
   "source": [
    "아래 표는 가장 중요한 이스케이프 명령을 보여줍니다.\n",
    "\n",
    "| 코드 \t| 결과          \t|\n",
    "|------\t|-----------------\t|\n",
    "| `\\'`   \t| 작은따옴표 (문자열에 `'`를 사용하는 경우 유용)   \t|\n",
    "| `\\\"`      | 큰따옴표 (문자열에 `\"`를 사용하는 경우 유용)   \t|\n",
    "| `\\\\`   \t| 백슬래시       \t|\n",
    "| `\\n`   \t| 새 줄        \t|\n",
    "| `\\r`   \t| 캐리지 리턴 \t|\n",
    "| `\\t`   \t| 탭             \t|"
   ]
  },
  {
   "cell_type": "markdown",
   "id": "c7dd19ac",
   "metadata": {},
   "source": [
    "더 복잡한 예는 다음과 같습니다."
   ]
  },
  {
   "cell_type": "code",
   "execution_count": null,
   "id": "af423bd1",
   "metadata": {},
   "outputs": [],
   "source": [
    "print(\"a\\\\tb\\\\nA\\\\tB\")"
   ]
  },
  {
   "cell_type": "markdown",
   "id": "16c97e01",
   "metadata": {},
   "source": [
    "### 원시 문자열\n",
    "\n",
    "`r`로 시작하는 문자열(예: r'...' 및 r\"...\")은 원시 문자열이라고 하며 백슬래시 \\를 특수 문자가 아닌 리터럴 문자로 처리합니다."
   ]
  },
  {
   "cell_type": "code",
   "execution_count": null,
   "id": "c2b9c689",
   "metadata": {},
   "outputs": [],
   "source": [
    "print(r\"a\\tb\\nA\\tB\")"
   ]
  },
  {
   "cell_type": "markdown",
   "id": "98d896ed",
   "metadata": {},
   "source": [
    "## 텍스트 정리\n",
    "\n",
    "작업 중인 텍스트를 변경하고 싶을 때가 많습니다. 이 섹션에서는 이를 수행하기 위한 다양한 옵션을 살펴보겠습니다.\n",
    "\n",
    "### 하위 문자열 바꾸기\n",
    "\n",
    "일반적인 텍스트 작업은 긴 문자열 내에서 하위 문자열을 바꾸는 것입니다. `var`라는 문자열 변수가 있다고 가정해 보겠습니다. `.replace(old_text, new_text)`를 사용하여 이 작업을 수행할 수 있습니다.\n"
   ]
  },
  {
   "cell_type": "code",
   "execution_count": null,
   "id": "229ada3a",
   "metadata": {},
   "outputs": [],
   "source": [
    "\"값은 객관적입니다\".replace(\"객관적\", \"주관적\")"
   ]
  },
  {
   "cell_type": "markdown",
   "id": "ce0467a1",
   "metadata": {},
   "source": [
    "특정 유형(여기서는 문자열)의 모든 변수와 마찬가지로 이것은 변수에서도 작동합니다."
   ]
  },
  {
   "cell_type": "code",
   "execution_count": null,
   "id": "79f754dc",
   "metadata": {},
   "outputs": [],
   "source": [
    "text = \"값은 객관적입니다\"\n",
    "old_substr = \"객관적\"\n",
    "new_substr = \"주관적\"\n",
    "text.replace(old_substr, new_substr)"
   ]
  },
  {
   "cell_type": "markdown",
   "id": "5c5ab4c1",
   "metadata": {},
   "source": [
    "`.replace()`는 정확한 바꾸기를 수행하므로 대소문자를 구분합니다."
   ]
  },
  {
   "cell_type": "markdown",
   "id": "85bba3f9",
   "metadata": {},
   "source": [
    "### translate로 문자 바꾸기\n",
    "\n",
    "문자는 'equilibrium'의 'l'과 같이 문자열 내의 개별 항목입니다. `var`라는 문자열 변수의 문자 수를 항상 `len(var)`를 사용하여 셀 수 있습니다. 문자열에서 개별 문자를 바꾸는 매우 빠른 방법은 `str.translate()`입니다.\n",
    "\n",
    "문자를 바꾸는 것은 특정 상황에서 매우 유용하며, 가장 일반적으로 다른 텍스트 분석을 수행하기 전에 모든 구두점을 제거하려는 경우입니다. 이를 위해 내장된 `string.punctuation`을 사용할 수 있습니다.\n",
    "\n",
    "일부 텍스트에서 모든 모음을 제거하는 방법을 살펴보겠습니다. 경제학자 Lisa Cook에게 죄송하지만 {cite:t}`cook2011inventing`의 초록을 수정할 텍스트로 사용하고 먼저 모음을 아무것도 아닌 것, 즉 `\"\"`으로 번역하는 사전을 만들 것입니다."
   ]
  },
  {
   "cell_type": "code",
   "execution_count": null,
   "id": "99675fee",
   "metadata": {},
   "outputs": [],
   "source": [
    "example_text = \"최근 많은 연구가 사회 자본이 혁신적 성과에 미치는 영향에 초점을 맞추었습니다. 발명과 혁신에 필요한 정보를 제공하는 사회적 네트워크 참여가 종종 제한되었던 소외 계층에 대한 연구는 거의 이루어지지 않았습니다. 1843년에서 1930년 사이 아프리카계 미국인 발명가 및 특허권자에 대한 고유한 새 데이터를 통해 사회 자본과 경제적 성과 간의 관계에 대한 실증적 조사가 가능합니다. 저는 아프리카계 미국인이 전통적인 네트워크(즉, 직업 기반)와 비전통적인 네트워크(즉, 시민)를 모두 사용하여 발명적 생산량을 극대화했으며 사회 자본 형성을 제약하는 법률이 경제적으로 중요한 발명 활동과 가장 부정적으로 상관 관계가 있음을 발견했습니다.\"\n",
    "vowels = \"aeiouAEIOU\"\n",
    "translation_dict = {x: \"\" for x in vowels}\n",
    "translation_dict"
   ]
  },
  {
   "cell_type": "markdown",
   "id": "391d2748",
   "metadata": {},
   "source": [
    "이제 사전을 문자열 번역기로 바꾸고 텍스트에 적용합니다."
   ]
  },
  {
   "cell_type": "code",
   "execution_count": null,
   "id": "e48763cb",
   "metadata": {},
   "outputs": [],
   "source": [
    "translator = str.maketrans(translation_dict)\n",
    "example_text.translate(translator)"
   ]
  },
  {
   "cell_type": "markdown",
   "id": "1c0359ed",
   "metadata": {},
   "source": [
    "```{admonition} 연습\n",
    "`translate`를 사용하여 다음 문장에서 모든 구두점을 공백으로 바꾸십시오. \"잘 알려진 이야기 내가 회의에서 했던 [건강 염려증에 대한] 보스턴, 뉴욕, 필라델피아,...그리고 리치먼드에서의 이야기는 다음과 같습니다. 토미를 아는 사람들은 이것을 듣고 즐거워했습니다. 그러나 토미(1982-2019)가 \\\"극장에서 '불이야!'라고 외친 사람을 어떻게 찾을 수 있을까요?\\\"라고 묻고 미시가 답을 할 때까지 기다리지 않았을 때 수지는 괴로워했습니다. 답은 '딕 트레이시'였습니다.\"\n",
    "```"
   ]
  },
  {
   "cell_type": "markdown",
   "id": "f27549e8",
   "metadata": {},
   "source": [
    "일반적으로 `str.translate`는 문자열에서 개별 문자를 바꾸는 데 매우 빠릅니다. 하지만 다음과 같이 리스트 컴프리헨션과 결과 리스트의 `join()`을 사용하여 수행할 수도 있습니다."
   ]
  },
  {
   "cell_type": "code",
   "execution_count": null,
   "id": "ac758b38",
   "metadata": {},
   "outputs": [],
   "source": [
    "\"\".join(\n",
    "    [ch for ch in \"예제. 문자열. 과도한_ [구두점]/,\" if ch not in string.punctuation]\n",
    ")"
   ]
  },
  {
   "cell_type": "markdown",
   "id": "cbe854ee",
   "metadata": {},
   "source": [
    "### 문자열 분할\n",
    "\n",
    "특정 위치에서 문자열을 분할하려면 두 가지 빠른 방법이 있습니다. 첫 번째는 인덱싱 방법을 사용하는 것입니다. 이 방법은 텍스트를 분할하려는 위치를 알고 있는 경우 잘 작동합니다. 예를 들어,"
   ]
  },
  {
   "cell_type": "code",
   "execution_count": null,
   "id": "122619bf",
   "metadata": {},
   "outputs": [],
   "source": [
    "\"이것은 문장이고 18번째 문자에서 분할할 것입니다\"[:18]"
   ]
  },
  {
   "cell_type": "markdown",
   "id": "0ddc2c15",
   "metadata": {},
   "source": [
    "다음으로 내장된 `split()` 함수를 사용할 수 있습니다. 이 함수는 지정된 하위 문자열이 나타나는 위치 목록을 반환합니다."
   ]
  },
  {
   "cell_type": "code",
   "execution_count": null,
   "id": "9fc432ed",
   "metadata": {},
   "outputs": [],
   "source": [
    "\"이것은 문장입니다. 그리고 또 다른 문장입니다. 그리고 세 번째 문장입니다\".split(\".\")"
   ]
  },
  {
   "cell_type": "markdown",
   "id": "992b6a79",
   "metadata": {},
   "source": [
    "문자열을 분할하는 데 사용된 문자는 결과 문자열 목록에서 제거됩니다. 단일 문자 대신 분할에 사용된 문자열을 사용한 예를 살펴보겠습니다."
   ]
  },
  {
   "cell_type": "code",
   "execution_count": null,
   "id": "6904e486",
   "metadata": {},
   "outputs": [],
   "source": [
    "\"이것은 문장입니다. 그리고 또 다른 문장입니다. 그리고 세 번째 문장입니다\".split(\"문장\")"
   ]
  },
  {
   "cell_type": "markdown",
   "id": "5d7beb3c",
   "metadata": {},
   "source": [
    "알아두면 유용한 추가 함수는 `splitlines()`이며, 이 함수는 줄 바꿈에서 문자열을 분할하고 분할된 부분을 목록으로 반환합니다."
   ]
  },
  {
   "cell_type": "markdown",
   "id": "752b9704",
   "metadata": {},
   "source": [
    "### count 및 find\n",
    "\n",
    "`str.count()`를 사용하여 텍스트 내 단어의 간단한 개수를 세어 보겠습니다. 엘리자베스 비숍의 세스티나 '아침 식사를 위한 기적'의 첫 번째 연을 텍스트로 사용하겠습니다."
   ]
  },
  {
   "cell_type": "code",
   "execution_count": null,
   "id": "22f94993",
   "metadata": {},
   "outputs": [],
   "source": [
    "text = \"6시에 우리는 커피를 기다리고 있었고, \\n 커피와 자선적인 부스러기를 기다리고 있었는데 \\n 그것은 어떤 발코니에서 제공될 예정이었습니다 \\n --옛날 왕들처럼, 또는 기적처럼. \\n 아직 어두웠습니다. 태양의 한 발이 \\n 강의 긴 잔물결 위에 자리를 잡았습니다.\"\n",
    "word = \"커피\"\n",
    "print(f'단어 \"{word}\"는 {text.count(word)}번 나타납니다.')"
   ]
  },
  {
   "cell_type": "markdown",
   "id": "378dade0",
   "metadata": {},
   "source": [
    "한편 `find()`는 특정 단어나 문자가 나타나는 위치를 반환합니다."
   ]
  },
  {
   "cell_type": "code",
   "execution_count": null,
   "id": "a351a11b",
   "metadata": {},
   "outputs": [],
   "source": [
    "text.find(word)"
   ]
  },
  {
   "cell_type": "markdown",
   "id": "7fb9ae26",
   "metadata": {},
   "source": [
    "얻은 숫자와 일부 문자열 인덱싱을 사용하여 이것을 확인할 수 있습니다."
   ]
  },
  {
   "cell_type": "code",
   "execution_count": null,
   "id": "8e0a7020",
   "metadata": {},
   "outputs": [],
   "source": [
    "text[text.find(word) : text.find(word) + len(word)]"
   ]
  },
  {
   "cell_type": "markdown",
   "id": "ecc16d15",
   "metadata": {},
   "source": [
    "하지만 '커피'라는 단어가 나타나는 곳은 이것뿐만이 아닙니다. 마지막 발생을 찾으려면 다음과 같습니다."
   ]
  },
  {
   "cell_type": "code",
   "execution_count": null,
   "id": "e18f64a3",
   "metadata": {},
   "outputs": [],
   "source": [
    "text.rfind(word)"
   ]
  },
  {
   "cell_type": "markdown",
   "id": "f30ef28a",
   "metadata": {},
   "source": [
    "## 여러 문자열 작업하기"
   ]
  },
  {
   "cell_type": "markdown",
   "id": "09f7c915",
   "metadata": {},
   "source": [
    "개별 문자열로 작업하는 방법을 살펴보았습니다. 하지만 종종 텍스트 모음인 코퍼스라고도 하는 문자열 그룹으로 작업하고 싶을 때가 있습니다. 단어, 문장, 단락 또는 일부 도메인 기반 그룹화(예: 직무 설명) 모음일 수 있습니다. 다른 파이썬 객체와 마찬가지로 문자열을 목록(또는 다른 반복 가능 객체)에 넣을 수 있습니다.\n",
    "\n",
    "그리고 다행히 단일 문자열에 배포된 많은 메서드를 **pandas** 또는 다른 도구를 사용하여 수백, 수천 또는 수백만 개의 문자열로 간단하게 확장할 수 있습니다. 이러한 확장은 단일 값(스칼라)에서 목록의 여러 값(벡터)으로 이동하는 것과 유사하게 *벡터화*를 통해 수행됩니다.\n",
    "\n",
    "매우 최소한의 예로, 다음은 리스트 컴프리헨션을 사용하여 벡터화된 이름 대문자화입니다."
   ]
  },
  {
   "cell_type": "code",
   "execution_count": null,
   "id": "bbc3eb7b",
   "metadata": {},
   "outputs": [],
   "source": [
    "[name.capitalize() for name in [\"에이다\", \"애덤\", \"엘리너\", \"그레이스\", \"진\"]]"
   ]
  },
  {
   "cell_type": "markdown",
   "id": "730df2c8",
   "metadata": {},
   "source": [
    "**pandas** 시리즈를 목록 대신 사용할 수 있습니다. 먼저 시리즈를 만들어 보겠습니다."
   ]
  },
  {
   "cell_type": "code",
   "execution_count": null,
   "id": "c8a7f68b",
   "metadata": {},
   "outputs": [],
   "source": [
    "import pandas as pd\n",
    "\n",
    "dfs = pd.Series(\n",
    "    [\"에이다 러브레이스\", \"애덤 스미스\", \"엘리너 오스트롬\", \"그레이스 호퍼\", \"진 바틱\"],\n",
    "    dtype=\"string\",\n",
    ")\n",
    "dfs"
   ]
  },
  {
   "cell_type": "markdown",
   "id": "222fbb51",
   "metadata": {},
   "source": [
    "이제 series.str.function 구문을 사용하여 텍스트 시리즈를 변경합니다."
   ]
  },
  {
   "cell_type": "code",
   "execution_count": null,
   "id": "7cf149b5",
   "metadata": {},
   "outputs": [],
   "source": [
    "dfs.str.title()"
   ]
  },
  {
   "cell_type": "markdown",
   "id": "ec439fc1",
   "metadata": {},
   "source": [
    "시리즈가 아닌 데이터 프레임이 있는 경우 구문은 다음과 같이 관심 있는 열만 참조하도록 변경됩니다."
   ]
  },
  {
   "cell_type": "code",
   "execution_count": null,
   "id": "26dc9a7b",
   "metadata": {},
   "outputs": [],
   "source": [
    "df = pd.DataFrame(dfs, columns=[\"names\"])\n",
    "df[\"names\"].str.title()"
   ]
  },
  {
   "cell_type": "markdown",
   "id": "2e430dd9",
   "metadata": {},
   "source": [
    "아래 표는 **pandas**에서 사용할 수 있는 문자열 메서드의 전체 목록이 아닌 일부를 보여줍니다.\n",
    "\n",
    "| 함수 (앞에 `.str.` 붙음) | 기능 |\n",
    "|-----------------------------|-------------------------|\n",
    "| `len()` | 문자열 길이. |\n",
    "| `lower()` | 문자열을 소문자로 변환합니다. |\n",
    "| `upper()` | 문자열을 대문자로 변환합니다. |\n",
    "| `capitalize()` | 문자열의 첫 글자를 대문자로 변환합니다. |\n",
    "| `swapcase()` | 문자열의 대소문자를 바꿉니다. |\n",
    "| `translate()` | 각 문자가 지정된 변환 테이블을 통해 매핑된 문자열의 복사본을 반환합니다. |\n",
    "| `ljust()` | 문자열을 왼쪽으로 채웁니다(기본값은 공백으로 채움). |\n",
    "| `rjust()` | 문자열을 오른쪽으로 채웁니다(기본값은 공백으로 채움). |\n",
    "| `center()` | 문자열이 가운데에 오도록 채웁니다(기본값은 공백으로 채움). |\n",
    "| `zfill()` | 0으로 채웁니다. |\n",
    "| `strip()` | 앞뒤 공백을 제거합니다. |\n",
    "| `rstrip()` | 뒤 공백을 제거합니다. |\n",
    "| `lstrip()` | 앞 공백을 제거합니다. |\n",
    "| `find()` | 데이터에서 하위 문자열이 나타나는 가장 낮은 인덱스를 반환합니다. |\n",
    "| `split()` | 전달된 하위 문자열을 구분 기호로 사용하여 문자열을 분할합니다. |\n",
    "| `isupper()` | 문자열이 대문자인지 확인합니다. |\n",
    "| `isdigit()` | 문자열이 숫자로 구성되어 있는지 확인합니다. |\n",
    "| `islower()` | 문자열이 소문자인지 확인합니다. |\n",
    "| `startswith()` | 문자열이 지정된 하위 문자열로 시작하는지 확인합니다. |\n",
    "\n",
    "정규 표현식은 **pandas**로 확장할 수도 있습니다. 아래 표는 벡터화된 정규 표현식을 보여줍니다.\n",
    "\n",
    "| 함수 | 기능 |\n",
    "|-|----------------------------------|\n",
    "| `match()` | 각 요소에서 `re.match()`를 호출하여 부울을 반환합니다. |\n",
    "| `extract()` | 각 요소에서 `re.match()`를 호출하여 일치하는 그룹을 문자열로 반환합니다. |\n",
    "| `findall()` | 각 요소에서 `re.findall()`을 호출합니다. |\n",
    "| `replace()` | 패턴 발생을 다른 문자열로 바꿉니다. |\n",
    "| `contains()` | 각 요소에서 `re.search()`를 호출하여 부울을 반환합니다. |\n",
    "| `count()` | 패턴 발생 횟수를 셉니다. |\n",
    "| `split()` | `str.split()`과 동일하지만 정규 표현식을 허용합니다. |\n",
    "| `rsplit()` | `str.rsplit()`과 동일하지만 정규 표현식을 허용합니다. |\n",
    "\n",
    "\n",
    "이 중 몇 가지를 실제로 살펴보겠습니다. 먼저 지정된 하위 문자열에서 분할합니다."
   ]
  },
  {
   "cell_type": "code",
   "execution_count": null,
   "id": "d7a29663",
   "metadata": {},
   "outputs": [],
   "source": [
    "df[\"names\"].str.split(\" \")"
   ]
  },
  {
   "cell_type": "markdown",
   "id": "597c0d23",
   "metadata": {},
   "source": [
    "문자열을 분할하여 데이터 프레임의 새 열에 결과를 저장하는 경우가 매우 일반적입니다. `n=` kwarg를 통해 (최대) 분할 수를 지정할 수 있으며 `expand`를 사용하여 열을 가져올 수 있습니다."
   ]
  },
  {
   "cell_type": "code",
   "execution_count": null,
   "id": "85a5cd2c",
   "metadata": {},
   "outputs": [],
   "source": [
    "df[\"names\"].str.split(\" \", n=2, expand=True)"
   ]
  },
  {
   "cell_type": "markdown",
   "id": "e6bb64b2",
   "metadata": {},
   "source": [
    "```{admonition} 연습\n",
    "벡터화된 연산을 사용하여 `names` 열의 각 행에 대해 첫 번째 모음이 나타나는 인덱스 위치가 있는 새 열을 만듭니다.\n",
    "```\n",
    "\n",
    "다음은 **pandas**와 함께 정규 표현식 함수를 사용하는 예입니다."
   ]
  },
  {
   "cell_type": "code",
   "execution_count": null,
   "id": "2e8781ba",
   "metadata": {},
   "outputs": [],
   "source": [
    "df[\"names\"].str.extract(\"(\\\\w+)\", expand=False)"
   ]
  },
  {
   "cell_type": "markdown",
   "id": "7fb6d243",
   "metadata": {},
   "source": [
    "유용한 벡터화된 문자열 작업이 몇 가지 더 있습니다.\n",
    "\n",
    "| 메서드 | 설명 |\n",
    "|-|-|\n",
    "| `get()` | 각 요소 인덱싱 |\n",
    "| `slice()` | 각 요소 슬라이스 |\n",
    "| `slice_replace()` | 각 요소의 슬라이스를 전달된 값으로 바꿉니다. |\n",
    "| `cat()` | 문자열 연결 |\n",
    "| `repeat()` | 값 반복 |\n",
    "| `normalize()` | 문자열의 유니코드 형식 반환 |\n",
    "| `pad()` | 문자열의 왼쪽, 오른쪽 또는 양쪽에 공백 추가 |\n",
    "| `wrap()` | 긴 문자열을 지정된 너비보다 짧은 길이의 줄로 분할 |\n",
    "| `join()` | 시리즈의 각 요소에 있는 문자열을 전달된 구분 기호로 결합 |\n",
    "| `get_dummies()` | 더미 변수를 데이터 프레임으로 추출 |\n",
    "\n",
    "\n",
    "`get()` 및 `slice()` 메서드를 사용하면 `split()`에서 반환된 목록의 요소에 액세스할 수 있습니다. 다음은 `split()`과 `get()`을 결합한 예입니다.\n",
    "\n"
   ]
  },
  {
   "cell_type": "code",
   "execution_count": null,
   "id": "ba13d894",
   "metadata": {},
   "outputs": [],
   "source": [
    "df[\"names\"].str.split().str.get(-1)"
   ]
  },
  {
   "cell_type": "markdown",
   "id": "4ce15edb",
   "metadata": {},
   "source": [
    "기호로 분리된 태그가 있는 열이 있는 경우 `get_dummies()` 함수를 사용하여 분할할 수 있습니다. 예를 들어 주제와 국적 태그가 혼합된 단일 열이 있는 데이터 프레임을 만들어 보겠습니다."
   ]
  },
  {
   "cell_type": "code",
   "execution_count": null,
   "id": "056147d6",
   "metadata": {},
   "outputs": [],
   "source": [
    "df = pd.DataFrame(\n",
    "    {\n",
    "        \"names\": [\n",
    "            \"에이다 러브레이스\",\n",
    "            \"애덤 스미스\",\n",
    "            \"엘리너 오스트롬\",\n",
    "            \"그레이스 호퍼\",\n",
    "            \"진 바틱\",\n",
    "        ],\n",
    "        \"tags\": [\n",
    "            \"영국; 컴퓨터 과학\",\n",
    "            \"영국; 경제학\",\n",
    "            \"미국; 경제학\",\n",
    "            \"미국; 컴퓨터 과학\",\n",
    "            \"미국; 컴퓨터 과학\",\n",
    "        ],\n",
    "    }\n",
    ")\n",
    "df"
   ]
  },
  {
   "cell_type": "markdown",
   "id": "f44b0d84",
   "metadata": {},
   "source": [
    "이제 `str.get_dummies()`를 사용하고 `;`에서 분할하면 더미 데이터 프레임을 얻을 수 있습니다."
   ]
  },
  {
   "cell_type": "code",
   "execution_count": null,
   "id": "a5cbc10f",
   "metadata": {},
   "outputs": [],
   "source": [
    "df[\"tags\"].str.get_dummies(\";\")"
   ]
  },
  {
   "cell_type": "markdown",
   "id": "58521740",
   "metadata": {},
   "source": [
    "## 텍스트 읽어오기\n",
    "\n",
    "### 텍스트 파일\n",
    "\n",
    "일반 텍스트 파일만 있는 경우 다음과 같이 읽을 수 있습니다.\n",
    "\n",
    "```python\n",
    "fname = 'book.txt'\n",
    "with open(fname, encoding='utf-8') as f:\n",
    "    text_of_book = f.read()\n",
    "```\n",
    "\n",
    "다음과 같이 **pandas** 데이터 프레임으로 텍스트 파일을 직접 읽을 수도 있습니다.\n",
    "\n",
    "```python\n",
    "df = pd.read_csv('book.txt', delimiter = \"\\\\n\")\n",
    "```\n",
    "\n",
    "위에서 데이터 프레임의 다른 행에 대한 구분 기호는 새 줄을 의미하는 \"\\\\n\"으로 설정되었지만 원하는 구분 기호를 사용할 수 있습니다.\n",
    "\n",
    "```{admonition} 연습\n",
    "이 [링크](https://github.com/aeturrell/coding-for-economists/blob/main/data/smith_won.txt)를 사용하여 'smith_won.txt' 파일을 다운로드합니다(마우스 오른쪽 버튼을 클릭하고 다른 이름으로 저장). 그런 다음 **pandas**를 사용하여 텍스트를 읽습니다.\n",
    "```\n",
    "\n",
    "### CSV 파일\n",
    "\n",
    "CSV 파일은 이미 행으로 분할되어 있습니다. CSV 파일을 읽는 가장 쉬운 방법은 **pandas**를 사용하는 것입니다.\n",
    "\n",
    "```python\n",
    "df = pd.read_csv('book.csv')\n",
    "```\n",
    "\n",
    "**pandas**는 다른 많은 파일 유형도 읽을 수 있다는 것을 기억하십시오."
   ]
  }
 ],
 "metadata": {
  "interpreter": {
   "hash": "9d7534ecd9fbc7d385378f8400cf4d6cb9c6175408a574f1c99c5269f08771cc"
  },
  "jupytext": {
   "cell_metadata_filter": "-all",
   "encoding": "# -*- coding: utf-8 -*-",
   "formats": "md:myst",
   "main_language": "python"
  },
  "kernelspec": {
   "display_name": "Python 3 (ipykernel)",
   "language": "python",
   "name": "python3"
  },
  "language_info": {
   "codemirror_mode": {
    "name": "ipython",
    "version": 3
   },
   "file_extension": ".py",
   "mimetype": "text/x-python",
   "name": "python",
   "nbconvert_exporter": "python",
   "pygments_lexer": "ipython3",
   "version": "3.10.12"
  },
  "toc-showtags": true
 },
 "nbformat": 4,
 "nbformat_minor": 5
}
