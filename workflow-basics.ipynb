{
 "cells": [
  {
   "attachments": {},
   "cell_type": "markdown",
   "id": "95f0a171",
   "metadata": {},
   "source": [
    "(workflow-basics)=\n",
    "# 워크플로: 기본\n",
    "\n",
    "이전 장을 따랐다면 이제 파이썬 코드를 실행하는 데 어느 정도 경험이 있으실 겁니다. 자세한 내용은 많이 알려드리지 않았지만 기본적인 내용은 분명히 파악하셨을 것입니다. 그렇지 않으면 이 책을 답답함에 던져 버렸을 것입니다! 파이썬으로 프로그래밍을 시작하면 구두점에 매우 까다롭고 한 글자만 잘못 입력해도 불평하기 때문에 좌절감을 느끼는 것은 당연합니다. 하지만 약간의 좌절감을 예상해야 하지만 이러한 경험은 일반적이고 일시적이라는 점에 위안을 삼으십시오. 누구에게나 일어나는 일이며 이를 극복하는 유일한 방법은 계속 노력하는 것입니다.\n",
    "\n",
    "더 진행하기 전에 파이썬 코드 실행에 대한 탄탄한 기초를 다지고 파이썬 작업에 가장 유용한 Visual Studio Code 기능 중 일부에 대해 알고 있는지 확인하겠습니다."
   ]
  },
  {
   "attachments": {},
   "cell_type": "markdown",
   "id": "52bd88aa",
   "metadata": {},
   "source": [
    "## 코딩 기본 사항\n",
    "\n",
    "지금까지 가능한 한 빨리 시작할 수 있도록 생략했던 몇 가지 기본 사항을 검토해 보겠습니다. 파이썬을 계산기로 사용할 수 있습니다."
   ]
  },
  {
   "cell_type": "code",
   "execution_count": null,
   "id": "23465996",
   "metadata": {},
   "outputs": [],
   "source": [
    "print(1 / 200 * 30)\n",
    "print((59 + 73 + 2) / 3)"
   ]
  },
  {
   "attachments": {},
   "cell_type": "markdown",
   "id": "0f0ee026",
   "metadata": {},
   "source": [
    "추가 패키지 **numpy**에는 필요할 수 있는 추가 수학 연산자가 많이 포함되어 있습니다. 아직 **numpy**가 설치되어 있지 않은 경우 Visual Studio Code에서 터미널을 열고( \"터미널 -> 새 터미널\"로 이동한 다음 터미널에 `pip install numpy`를 입력하고 Return 키를 누름) **numpy**를 설치합니다. **numpy**를 설치한 후에는 다음과 같이 가져와서 사용할 수 있습니다."
   ]
  },
  {
   "cell_type": "code",
   "execution_count": null,
   "id": "bdd3c2c0",
   "metadata": {},
   "outputs": [],
   "source": [
    "import numpy as np\n",
    "\n",
    "print(np.sin(np.pi / 2))"
   ]
  },
  {
   "attachments": {},
   "cell_type": "markdown",
   "id": "735168ca",
   "metadata": {},
   "source": [
    "할당 연산자 `=`를 사용하여 새 객체를 만들 수 있습니다. 이것은 오른쪽에 있는 모든 것의 값을 왼쪽의 변수에 복사하는 것으로 생각해야 합니다."
   ]
  },
  {
   "cell_type": "code",
   "execution_count": null,
   "id": "cead1264",
   "metadata": {},
   "outputs": [],
   "source": [
    "x = 3 * 4\n",
    "print(x)"
   ]
  },
  {
   "attachments": {},
   "cell_type": "markdown",
   "id": "95cdd9bf",
   "metadata": {},
   "source": [
    "파이썬에는 여러 객체를 동시에 캡처하는 여러 구조가 있지만 아마도 가장 일반적인 것은 *목록*이며 *대괄호*로 지정됩니다."
   ]
  },
  {
   "cell_type": "code",
   "execution_count": null,
   "id": "91a44d83",
   "metadata": {},
   "outputs": [],
   "source": [
    "primes = [1, 2, 3, 5, 7, 11, 13]\n",
    "print(primes)"
   ]
  },
  {
   "attachments": {},
   "cell_type": "markdown",
   "id": "4978f028",
   "metadata": {},
   "source": [
    "목록에 대한 기본 산술을 수행하려면 \"이 목록의 모든 요소에 대해 작업을 수행\"하는 구조를 가진 *목록 내포*를 사용합니다. 예를 들어 각 요소에 3을 곱합니다."
   ]
  },
  {
   "cell_type": "code",
   "execution_count": null,
   "id": "1a526124",
   "metadata": {},
   "outputs": [],
   "source": [
    "[element * 3 for element in primes]"
   ]
  },
  {
   "attachments": {},
   "cell_type": "markdown",
   "id": "8c829c5b",
   "metadata": {},
   "source": [
    "위의 \"element\"라는 단어는 `...for element in ...`이라고 말하여 정의했기 때문에 거의 모든 단어가 될 수 있습니다. 다른 단어(예: `[entry*3 for entry in primes]`)로 위를 시도해 볼 수 있습니다."
   ]
  },
  {
   "attachments": {},
   "cell_type": "markdown",
   "id": "acf1e506",
   "metadata": {},
   "source": [
    "객체를 만드는 모든 파이썬 문(*할당* 문이라고 함)은 동일한 형식을 갖습니다.\n",
    "\n",
    "```\n",
    "객체_이름 = 값\n",
    "```\n",
    "\n",
    "해당 코드를 읽을 때 머릿속으로 \"객체 이름은 값을 얻습니다\"라고 말하십시오."
   ]
  },
  {
   "attachments": {},
   "cell_type": "markdown",
   "id": "2322fab5",
   "metadata": {},
   "source": [
    "## 주석\n",
    "\n",
    "파이썬은 `#` 뒤의 모든 텍스트를 무시합니다. 이를 통해 **주석**, 즉 파이썬에서는 무시되지만 다른 사람이 읽을 수 있는 텍스트를 작성할 수 있습니다. 때때로 코드에서 무슨 일이 일어나고 있는지 설명하는 예제에 주석을 포함할 것입니다.\n",
    "\n",
    "주석은 후속 코드가 수행하는 작업을 간략하게 설명하는 데 도움이 될 수 있습니다."
   ]
  },
  {
   "cell_type": "code",
   "execution_count": null,
   "id": "c061f9cc",
   "metadata": {},
   "outputs": [],
   "source": [
    "# 소수 정의\n",
    "primes = [1, 2, 3, 5, 7, 11, 13]\n",
    "# 소수에 2 곱하기\n",
    "[el * 2 for el in primes]"
   ]
  },
  {
   "attachments": {},
   "cell_type": "markdown",
   "id": "cb49df46",
   "metadata": {},
   "source": [
    "이와 같은 짧은 코드 조각의 경우 코드의 모든 줄에 명령을 남길 필요는 없으며 가능한 한 정보를 제공하는 이름을 사용해야 합니다. 이렇게 하면 코드 독자(미래의 자신일 가능성이 높음)가 무슨 일이 일어나고 있는지 이해하는 데 도움이 됩니다!\n",
    "\n",
    "우리의 조언은 주석을 사용하여 코드의 *이유*를 설명하고 *방법*이나 *내용*은 설명하지 않는 것입니다. 코드의 *내용*과 *방법*은 주의 깊게 읽으면 지루할 수 있지만 항상 알아낼 수 있습니다. 주석에서 모든 단계를 설명하고 코드를 변경하면 주석도 업데이트해야 한다는 것을 기억해야 합니다(지루함). 그렇지 않으면 나중에 코드로 돌아올 때 혼란스러울 것입니다.\n",
    "\n",
    "무언가가 수행된 *이유*를 파악하는 것은 불가능하지는 않더라도 훨씬 더 어렵습니다. 예를 들어 geom_smooth()에는 곡선의 부드러움을 제어하는 span이라는 인수가 있으며 값이 클수록 곡선이 더 부드러워집니다. span 값을 기본값 0.75에서 0.9로 변경하기로 결정했다고 가정해 보겠습니다. 미래의 독자가 *무엇*이 일어나고 있는지 이해하기는 쉽지만 주석에 생각을 기록하지 않으면 아무도 기본값을 변경한 *이유*를 이해하지 못할 것입니다.\n",
    "\n",
    "데이터 분석 코드의 경우 주석을 사용하여 전반적인 공격 계획을 설명하고 중요한 통찰력을 발견하면 기록하십시오. 코드 자체에서 이 지식을 다시 캡처할 방법은 없습니다."
   ]
  },
  {
   "attachments": {},
   "cell_type": "markdown",
   "id": "9f19d076",
   "metadata": {},
   "source": [
    "## 변수 추적하기\n",
    "\n",
    "대화형 창에 이름을 입력하여 이미 만든 객체를 항상 검사할 수 있습니다."
   ]
  },
  {
   "cell_type": "code",
   "execution_count": null,
   "id": "e77540e0",
   "metadata": {},
   "outputs": [],
   "source": [
    "primes"
   ]
  },
  {
   "attachments": {},
   "cell_type": "markdown",
   "id": "26a8ac97",
   "metadata": {},
   "source": [
    "객체 유형이 무엇인지 알고 싶다면 대화형 창에서 `type(객체)`를 다음과 같이 사용합니다."
   ]
  },
  {
   "cell_type": "code",
   "execution_count": null,
   "id": "9dd0fd49",
   "metadata": {},
   "outputs": [],
   "source": [
    "type(primes)"
   ]
  },
  {
   "attachments": {},
   "cell_type": "markdown",
   "id": "e533b440",
   "metadata": {},
   "source": [
    "Visual Studio Code에는 객체를 추적하는 데 도움이 되는 몇 가지 강력한 기능이 있습니다.\n",
    "\n",
    "1. 대화형 창 상단에 '변수' 버튼이 표시됩니다. 클릭하면 정의한 모든 변수가 있는 패널이 나타납니다.\n",
    "2. 이전에 대화형 창에 입력한 변수 위에 마우스를 올리면 객체 유형을 알려주는 팝업이 나타납니다.\n",
    "3. 대화형 창에 변수 이름을 입력하기 시작하면 Visual Studio Code가 이름을 자동 완성하려고 시도합니다. 키보드에서 '탭' 키를 눌러 상단 옵션을 선택합니다."
   ]
  },
  {
   "attachments": {},
   "cell_type": "markdown",
   "id": "dac156dd",
   "metadata": {},
   "source": [
    "## 이름에는 무엇이 들어갈까요?\n",
    "\n",
    "객체(일명 \"변수\") 이름은 파이썬에서 유효하려면 다음을 수행해야 합니다.\n",
    "\n",
    "- 문자로 시작하거나 밑줄 문자로 시작합니다.\n",
    "- 숫자로 시작하지 않습니다.\n",
    "- 영숫자 문자와 밑줄(A-z, 0-9 및 _)만 포함합니다.\n",
    "\n",
    "파이썬의 객체 이름은 대소문자를 구분하므로 `age`, `Age` 및 `AGE`는 모두 세 가지 다른 변수가 될 수 있습니다.\n",
    "\n",
    "객체 이름을 지정할 때는 객체가 무엇인지 추적할 수 있도록 설명적으로 지정하는 것이 가장 좋습니다. 여러 단어에 대한 규칙을 채택해야 합니다. 소문자 단어를 `_`로 구분하는 snake_case를 권장합니다. 예를 들어 `i_use_snake_case`는 객체에 대한 유효한 snake_case 이름입니다."
   ]
  },
  {
   "attachments": {},
   "cell_type": "markdown",
   "id": "8df398a0",
   "metadata": {},
   "source": [
    "```{admonition} 연습\n",
    "`age` 객체를 만들고 값 `10`을 할당해 보십시오. 콘솔에 `Age`를 입력하면 어떻게 됩니까?\n",
    "```"
   ]
  },
  {
   "cell_type": "markdown",
   "id": "4d364f79",
   "metadata": {},
   "source": [
    "만든 객체의 이름을 다시 입력하여 항상 검사할 수 있다는 것을 기억하십시오."
   ]
  },
  {
   "cell_type": "code",
   "execution_count": null,
   "id": "a5998cb5",
   "metadata": {},
   "outputs": [],
   "source": [
    "primes"
   ]
  },
  {
   "cell_type": "markdown",
   "id": "82807f98",
   "metadata": {},
   "source": [
    "다른 할당을 만듭니다."
   ]
  },
  {
   "cell_type": "code",
   "execution_count": null,
   "id": "ae55d78e",
   "metadata": {},
   "outputs": [],
   "source": [
    "this_is_a_really_long_name = 2.5"
   ]
  },
  {
   "cell_type": "markdown",
   "id": "73c37168",
   "metadata": {},
   "source": [
    "대화형 창을 통해 이 객체를 검사하는 시간을 절약하려면 이름(\"this\" 입력)을 입력하기 시작한 다음 <kbd>TAB</kbd> 버튼을 누르기만 하면 됩니다. Visual Studio Code는 세션 중에 정의한 변수를 사용하여 작성한 내용을 자동 완성합니다. 이것은 시간을 절약하는 최고의 팁입니다!\n",
    "\n",
    "노트북이 아닌 대화형 콘솔을 사용하는 경우 또 다른 최고의 팁이 있습니다. 이전에 `this_is_a_really_long_name = 2.5`를 실행했지만 *실제로* 3.5로 설정하려고 했다고 가정해 보겠습니다. 절망하지 마십시오. 모든 것을 다시 입력할 필요가 없습니다. 대화형 창에 커서를 놓고 키보드에서 <kbd>↑</kbd>를 누르면 이전에 실행한 명령을 순환할 수 있습니다. 2.5를 3.5로 변경하고 Shift + Return을 누르면 변수가 다시 정의됩니다.\n",
    "\n",
    "다른 변수를 정의해 보겠습니다."
   ]
  },
  {
   "cell_type": "code",
   "execution_count": null,
   "id": "038c7d52",
   "metadata": {},
   "outputs": [],
   "source": [
    "py_variable = 2 ^ 3"
   ]
  },
  {
   "cell_type": "markdown",
   "id": "446dfa44",
   "metadata": {},
   "source": [
    "이제 검사해 보겠습니다."
   ]
  },
  {
   "cell_type": "markdown",
   "id": "5248dbc8",
   "metadata": {},
   "source": [
    "```python\n",
    "py_variabl\n",
    "\n",
    "---------------------------------------------------------------------------\n",
    "NameError                                 Traceback (most recent call last)\n",
    "/Users/aet/Documents/git_projects/python4DS/workflow-basics.ipynb Cell 31 in ()\n",
    "----> 1 py_variabl\n",
    "\n",
    "NameError: name 'py_variabl' is not defined\n",
    "```"
   ]
  },
  {
   "cell_type": "markdown",
   "id": "e2cf9efc",
   "metadata": {},
   "source": [
    "이것은 코딩의 훌륭함과 좌절감을 보여줍니다. IDE(Visual Studio Code)는 지루한 계산을 수행하지만 그 대가로 지침을 정확하게 입력해야 합니다. 그렇지 않으면 찾고 있는 객체를 찾을 수 없다는 오류가 발생할 가능성이 높습니다. 오타는 중요합니다. 파이썬은 마음을 읽고 \"아, `py_variabl`을 입력했을 때 아마 `py_variable`을 의미했을 거야\"라고 말할 수 없습니다."
   ]
  },
  {
   "attachments": {},
   "cell_type": "markdown",
   "id": "e6f6c2b3",
   "metadata": {},
   "source": [
    "## 함수 호출하기\n",
    "\n",
    "파이썬에는 많은 내장 함수가 있습니다. 패키지에서 함수를 가져올 수도 있고(예: `np.sin`) 직접 정의할 수도 있습니다.\n",
    "\n",
    "코딩에서 함수는 입력을 받고, 함수를 수행하며, 출력을 반환합니다. 내장 함수 `sum()`을 사용하는 간단한 예를 살펴보겠습니다."
   ]
  },
  {
   "cell_type": "code",
   "execution_count": null,
   "id": "97af119d",
   "metadata": {},
   "outputs": [],
   "source": [
    "sum(primes)"
   ]
  },
  {
   "attachments": {},
   "cell_type": "markdown",
   "id": "010019c9",
   "metadata": {},
   "source": [
    "함수의 일반적인 구조는 함수 이름, 괄호, 하나 이상의 인수로 구성됩니다. 때로는 *키워드 인수*도 있습니다. 예를 들어 `sum()`에는 함수가 특정 숫자부터 계산을 시작하도록 지시하는 키워드 인수가 함께 제공됩니다. 10부터 시작하는 예를 살펴보겠습니다."
   ]
  },
  {
   "cell_type": "code",
   "execution_count": null,
   "id": "14ce9b99",
   "metadata": {},
   "outputs": [],
   "source": [
    "sum(primes, start=10)"
   ]
  },
  {
   "attachments": {},
   "cell_type": "markdown",
   "id": "68c60946",
   "metadata": {},
   "source": [
    "함수가 무엇을 하는지 확실하지 않은 경우 해당 함수에서 `help()`를 호출할 수 있습니다(자체 함수임)."
   ]
  },
  {
   "cell_type": "code",
   "execution_count": null,
   "id": "f5e45616",
   "metadata": {},
   "outputs": [],
   "source": [
    "help(sum)"
   ]
  },
  {
   "attachments": {},
   "cell_type": "markdown",
   "id": "93e81f5c",
   "metadata": {},
   "source": [
    "또는 Visual Studio Code에서 함수 이름 위에 마우스를 올립니다.\n",
    "\n"
   ]
  },
  {
   "cell_type": "markdown",
   "id": "d380a16b",
   "metadata": {},
   "source": [
    "변수와 마찬가지로 함수에서도 코드 완성이 작동합니다. `su`를 입력하고 탭을 눌러 실제로 작동하는 모습을 확인하십시오."
   ]
  },
  {
   "cell_type": "markdown",
   "id": "0e578077",
   "metadata": {},
   "source": [
    "문자열(단어, 문장, 문자 및 구문)인 객체에는 특히 주의해야 합니다. 이러한 객체는 항상 따옴표로 묶어야 하기 때문입니다. 작은따옴표나 큰따옴표를 원하는 대로 사용할 수 있지만 i) 규칙은 큰따옴표이고 ii) 어떤 것을 선택하든 일관성을 유지하는 것이 좋습니다.\n",
    "\n",
    "다음은 오류를 발생시키는 코드 예입니다."
   ]
  },
  {
   "cell_type": "markdown",
   "id": "1b95d213",
   "metadata": {},
   "source": [
    "```python\n",
    "x = \"hello\n",
    "\n",
    "  Input In [3]\n",
    "    x = \"hello\n",
    "        ^\n",
    "SyntaxError: unterminated string literal (detected at line 1)\n",
    "```"
   ]
  },
  {
   "cell_type": "markdown",
   "id": "38d073ce",
   "metadata": {},
   "source": [
    "다시 말하지만 Visual Studio Code는 큰따옴표를 열자마자 닫는 따옴표를 준비해 주므로 여기서 정말 도움이 될 수 있습니다."
   ]
  },
  {
   "cell_type": "markdown",
   "id": "6af6ea6c",
   "metadata": {},
   "source": [
    "## 연습\n",
    "\n",
    "1. 이 코드가 작동하지 않는 이유는 무엇입니까?\n",
    "\n",
    "    ```python\n",
    "    my_variable = 10\n",
    "    my_varıable\n",
    "    ```\n",
    "\n",
    "    주의 깊게 살펴보십시오! 이것은 무의미한 연습처럼 보일 수 있지만 아주 작은 차이라도 알아차리도록 두뇌를 훈련하면 프로그래밍할 때 성과를 거둘 것입니다.\n",
    "\n",
    "2. 다음 각 파이썬 명령을 수정하여 올바르게 실행되도록 하십시오.\n",
    "\n",
    "    ```python\n",
    "    import pandas as pd\n",
    "    from palmerpenguins import load_penguins\n",
    "    from lets_pot import *\n",
    "\n",
    "    LetsPlot.setup_html()\n",
    "    penguins = load_penguins()\n",
    "\n",
    "    (\n",
    "        ggplot(\n",
    "            dTA=penguins,\n",
    "            maping=aes(x=\"flipper_length_mm\", y=\"body_mass_g\", color=\"species\"),\n",
    "        )\n",
    "        + geom_smooth(method=\"lm)\n",
    "    )\n",
    "    ```"
   ]
  }
 ],
 "metadata": {
  "interpreter": {
   "hash": "9d7534ecd9fbc7d385378f8400cf4d6cb9c6175408a574f1c99c5269f08771cc"
  },
  "jupytext": {
   "cell_metadata_filter": "-all",
   "encoding": "# -*- coding: utf-8 -*-",
   "formats": "md:myst",
   "main_language": "python"
  },
  "kernelspec": {
   "display_name": "Python 3 (ipykernel)",
   "language": "python",
   "name": "python3"
  },
  "language_info": {
   "codemirror_mode": {
    "name": "ipython",
    "version": 3
   },
   "file_extension": ".py",
   "mimetype": "text/x-python",
   "name": "python",
   "nbconvert_exporter": "python",
   "pygments_lexer": "ipython3",
   "version": "3.10.12"
  },
  "toc-showtags": true
 },
 "nbformat": 4,
 "nbformat_minor": 5
}
