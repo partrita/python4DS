{
 "cells": [
  {
   "cell_type": "markdown",
   "id": "95f0a171",
   "metadata": {},
   "source": [
    "(vis-layers)=\n",
    "# 레이어\n"
   ]
  },
  {
   "cell_type": "markdown",
   "id": "9fdd3b8a",
   "metadata": {},
   "source": [
    "## 소개\n",
    "\n",
    "이전 장에서는 산점도, 막대 차트, 상자 그림을 만드는 방법보다 훨씬 많은 것을 배웠습니다.\n",
    "**lets-plot**으로 *모든* 유형의 플롯을 만드는 데 사용할 수 있는 기초를 배웠습니다.\n",
    "\n",
    "이 장에서는 계층화된 그래픽 문법에 대해 배우면서 해당 기초를 확장할 것입니다.\n",
    "미적 매핑, 기하학적 객체 및 패싯에 대한 심층적인 내용부터 시작하겠습니다.\n",
    "그런 다음 플롯을 만들 때 **lets-plot**이 내부적으로 수행하는 통계적 변환에 대해 배웁니다.\n",
    "이러한 변환은 막대 플롯의 막대 높이나 상자 그림의 중앙값과 같이 플로팅할 새 값을 계산하는 데 사용됩니다.\n",
    "또한 플롯에 지오메트리가 표시되는 방식을 수정하는 위치 조정에 대해서도 배웁니다.\n",
    "마지막으로 좌표계를 간략하게 소개합니다.\n",
    "\n",
    "이러한 각 레이어에 대한 모든 단일 함수와 옵션을 다루지는 않겠지만 **lets-plot**에서 제공하는 가장 중요하고 일반적으로 사용되는 기능을 안내해 드릴 것입니다."
   ]
  },
  {
   "cell_type": "markdown",
   "id": "17575f3a",
   "metadata": {},
   "source": [
    "### 전제 조건\n",
    "\n",
    "이 장에서는 **letsplot** 패키지와 **pandas**를 설치해야 합니다.\n",
    "\n",
    "파이썬 세션에서 사용할 라이브러리를 가져옵니다."
   ]
  },
  {
   "cell_type": "code",
   "execution_count": null,
   "id": "a86fb211",
   "metadata": {},
   "outputs": [],
   "source": [
    "import pandas as pd\n",
    "from lets_plot import *\n",
    "\n",
    "LetsPlot.setup_html()"
   ]
  },
  {
   "cell_type": "markdown",
   "id": "55b00fde",
   "metadata": {},
   "source": [
    "## 미적 매핑\n",
    "\n",
    "> \"그림의 가장 큰 가치는 우리가 전혀 예상하지 못했던 것을 보게 만들 때입니다.\" --- 존 튜키\n",
    "\n",
    "이 섹션에서는 `mpg` 데이터 세트를 사용할 것이므로 다운로드하겠습니다."
   ]
  },
  {
   "cell_type": "code",
   "execution_count": null,
   "id": "39a6d993",
   "metadata": {},
   "outputs": [],
   "source": [
    "mpg = pd.read_csv(\n",
    "    \"https://vincentarelbundock.github.io/Rdatasets/csv/ggplot2/mpg.csv\", index_col=0\n",
    ")\n",
    "\n",
    "mpg = mpg.astype(\n",
    "    {\n",
    "        \"manufacturer\": \"category\",\n",
    "        \"model\": \"category\",\n",
    "        \"displ\": \"double\",\n",
    "        \"year\": \"int64\",\n",
    "        \"cyl\": \"int64\",\n",
    "        \"trans\": \"category\",\n",
    "        \"drv\": \"category\",\n",
    "        \"cty\": \"double\",\n",
    "        \"hwy\": \"double\",\n",
    "        \"fl\": \"category\",\n",
    "        \"class\": \"category\",\n",
    "    }\n",
    ")\n",
    "mpg.head()"
   ]
  },
  {
   "cell_type": "markdown",
   "id": "6d6f1307",
   "metadata": {},
   "source": [
    "`mpg`의 변수 중에는 다음이 있습니다.\n",
    "\n",
    "1.  `displ`: 자동차 엔진 크기(리터 단위).\n",
    "    수치형 변수입니다.\n",
    "\n",
    "2.  `hwy`: 자동차의 고속도로 연비(갤런당 마일(mpg) 단위).\n",
    "    연비가 낮은 자동차는 연비가 높은 자동차보다 같은 거리를 이동할 때 더 많은 연료를 소비합니다.\n",
    "    수치형 변수입니다.\n",
    "\n",
    "3.  `class`: 자동차 유형.\n",
    "    범주형 변수입니다.\n",
    "\n",
    "다양한 자동차 `class`에 대한 `displ`과 `hwy` 간의 관계를 시각화하는 것으로 시작하겠습니다.\n",
    "수치형 변수를 `x` 및 `y` 미학에 매핑하고 범주형 변수를 `color` 또는 `shape`와 같은 미학에 매핑하는 산점도를 사용하여 이 작업을 수행할 수 있습니다."
   ]
  },
  {
   "cell_type": "code",
   "execution_count": null,
   "id": "fe77349a",
   "metadata": {},
   "outputs": [],
   "source": [
    "(ggplot(mpg, aes(x=\"displ\", y=\"hwy\", color=\"class\")) + geom_point())"
   ]
  },
  {
   "cell_type": "code",
   "execution_count": null,
   "id": "e77b5640",
   "metadata": {},
   "outputs": [],
   "source": [
    "(ggplot(mpg, aes(x=\"displ\", y=\"hwy\", shape=\"class\")) + geom_point())"
   ]
  },
  {
   "cell_type": "markdown",
   "id": "53e51510",
   "metadata": {},
   "source": [
    "마찬가지로 `class`를 `size` 또는 `alpha` 미학에 매핑할 수도 있으며, 이는 각각 점의 모양과 투명도를 제어합니다."
   ]
  },
  {
   "cell_type": "code",
   "execution_count": null,
   "id": "ef221330",
   "metadata": {},
   "outputs": [],
   "source": [
    "(ggplot(mpg, aes(x=\"displ\", y=\"hwy\", size=\"class\")) + geom_point())"
   ]
  },
  {
   "cell_type": "code",
   "execution_count": null,
   "id": "d042255e",
   "metadata": {},
   "outputs": [],
   "source": [
    "(ggplot(mpg, aes(x=\"displ\", y=\"hwy\", alpha=\"class\")) + geom_point())"
   ]
  },
  {
   "cell_type": "markdown",
   "id": "ec07349f",
   "metadata": {},
   "source": [
    "수행할 수는 있지만 순서가 지정되지 않은 이산형(범주형) 변수(`class`)를 순서가 지정된 미적 변수(`size` 또는 `alpha`)에 매핑하는 것은 실제로는 존재하지 않는 순위를 암시하므로 일반적으로 좋은 생각이 아닙니다.\n",
    "\n",
    "미학을 매핑하면 **lets-plot**이 나머지를 처리합니다.\n",
    "미학에 사용할 합리적인 스케일을 선택하고 수준과 값 간의 매핑을 설명하는 범례를 구성합니다.\n",
    "x 및 y 미학의 경우 **lets-plot**은 범례를 만들지 않지만 눈금 표시와 레이블이 있는 축선을 만듭니다.\n",
    "축선은 범례와 동일한 정보를 제공합니다. 즉, 위치와 값 간의 매핑을 설명합니다.\n",
    "\n",
    "모양을 결정하기 위해 변수 매핑에 의존하는 대신 지오메트리 함수의 인수(*`aes()` 외부*)로 지오메트리의 시각적 속성을 수동으로 설정할 수도 있습니다.\n",
    "예를 들어 플롯의 모든 점을 파란색으로 만들 수 있습니다."
   ]
  },
  {
   "cell_type": "code",
   "execution_count": null,
   "id": "618edcb4",
   "metadata": {},
   "outputs": [],
   "source": [
    "(ggplot(mpg, aes(x=\"displ\", y=\"hwy\")) + geom_point(color=\"blue\"))"
   ]
  },
  {
   "cell_type": "markdown",
   "id": "52611640",
   "metadata": {},
   "source": [
    "여기서 색상은 변수에 대한 정보를 전달하지 않고 플롯의 모양만 변경합니다.\n",
    "해당 미학에 적합한 값을 선택해야 합니다.\n",
    "\n",
    "-   문자열로서의 색상 이름(예: `color = \"blue\"`)\n",
    "-   점의 크기(mm 단위, 예: `size = 1`)\n",
    "-   점의 모양(숫자, 예: `shape = 1`).\n",
    "\n",
    "위 플롯을 변경하되 색상을 지정하는 대신 모양 미학을 지정해 보십시오. 모양을 1, 2 또는 3으로 설정하면 어떻게 됩니까?"
   ]
  },
  {
   "cell_type": "markdown",
   "id": "37d49ff8",
   "metadata": {},
   "source": [
    "지금까지 점 지오메트리를 사용할 때 산점도에서 매핑하거나 설정할 수 있는 미학에 대해 논의했습니다.\n",
    "\n",
    "플롯에 사용할 수 있는 특정 미학은 데이터를 나타내는 데 사용하는 지오메트리에 따라 다릅니다.\n",
    "다음 섹션에서는 지오메트리에 대해 더 자세히 살펴보겠습니다."
   ]
  },
  {
   "cell_type": "markdown",
   "id": "3f1da019",
   "metadata": {},
   "source": [
    "1.  점이 분홍색으로 채워진 삼각형인 `hwy` 대 `displ`의 산점도를 만듭니다.\n",
    "\n",
    "2.  다음 코드가 파란색 점이 있는 플롯을 생성하지 않는 이유는 무엇입니까?\n",
    "\n",
    "    ```python\n",
    "    (\n",
    "        ggplot(mpg) + \n",
    "      geom_point(aes(x = \"displ\", y = \"hwy\", color = \"blue\"))\n",
    "    )\n",
    "    ```\n",
    "\n",
    "3.  `stroke` 미학은 무엇을 합니까?\n",
    "    어떤 모양과 함께 작동합니까?\n",
    "    (힌트: 전역 미학에서 `stroke`를 사용하고 `geom_point()`에서 `shape`를 사용합니다.)\n",
    "\n",
    "4.  위의 마지막 플롯을 변경하되 색상을 지정하는 대신 모양 미학을 지정해 보십시오. 모양을 1, 2 또는 3으로 설정하면 어떻게 됩니까?"
   ]
  },
  {
   "cell_type": "markdown",
   "id": "83aa98f0",
   "metadata": {},
   "source": [
    "## 기하학적 객체\n",
    "\n",
    "이 두 플롯은 어떻게 유사합니까?"
   ]
  },
  {
   "cell_type": "code",
   "execution_count": null,
   "id": "277a4c0f",
   "metadata": {},
   "outputs": [],
   "source": [
    "(ggplot(mpg, aes(x=\"displ\", y=\"hwy\")) + geom_point(size=4))"
   ]
  },
  {
   "cell_type": "code",
   "execution_count": null,
   "id": "07247ba9",
   "metadata": {},
   "outputs": [],
   "source": [
    "(ggplot(mpg, aes(x=\"displ\", y=\"hwy\")) + geom_smooth(method=\"loess\", size=2))"
   ]
  },
  {
   "cell_type": "markdown",
   "id": "58824a10",
   "metadata": {},
   "source": [
    "두 플롯 모두 동일한 x 변수, 동일한 y 변수를 포함하며 둘 다 동일한 데이터를 설명합니다.\n",
    "그러나 플롯은 동일하지 않습니다.\n",
    "각 플롯은 데이터를 나타내는 데 다른 기하학적 객체인 지오메트리를 사용합니다.\n",
    "왼쪽 플롯은 점 지오메트리를 사용하고 오른쪽 플롯은 데이터에 맞춰진 부드러운 선인 부드러운 지오메트리를 사용합니다.\n",
    "\n",
    "플롯에서 지오메트리를 변경하려면 `ggplot()`에 추가하는 지오메트리 함수를 변경합니다."
   ]
  },
  {
   "cell_type": "markdown",
   "id": "0db26c6c",
   "metadata": {},
   "source": [
    "**lets-plot**의 모든 지오메트리 함수는 지오메트리 레이어에서 로컬로 정의되거나 `ggplot()` 레이어에서 전역적으로 정의된 `mapping` 인수를 사용합니다.\n",
    "그러나 모든 미학이 모든 지오메트리에서 작동하는 것은 아닙니다.\n",
    "점의 모양을 설정할 수는 있지만 선의 \"모양\"은 설정할 수 없습니다.\n",
    "시도하면 **lets-plot**은 해당 미적 매핑을 자동으로 무시합니다.\n",
    "반면에 선의 선 종류를 *설정*할 수 있습니다.\n",
    "`geom_smooth()`는 선 종류에 매핑하는 변수의 각 고유 값에 대해 다른 선 종류를 가진 다른 선을 그립니다.\n",
    "\n",
    "살펴보겠습니다."
   ]
  },
  {
   "cell_type": "code",
   "execution_count": null,
   "id": "4b20c825",
   "metadata": {},
   "outputs": [],
   "source": [
    "(ggplot(mpg, aes(x=\"displ\", y=\"hwy\", line=\"drv\")) + geom_smooth(method=\"loess\"))"
   ]
  },
  {
   "cell_type": "code",
   "execution_count": null,
   "id": "84df3e78",
   "metadata": {},
   "outputs": [],
   "source": [
    "(ggplot(mpg, aes(x=\"displ\", y=\"hwy\", linetype=\"drv\")) + geom_smooth(method=\"loess\"))"
   ]
  },
  {
   "cell_type": "markdown",
   "id": "7b114911",
   "metadata": {},
   "source": [
    "여기서 `geom_smooth()`는 자동차의 `drv` 값(자동차 구동 방식 설명)을 기준으로 자동차를 세 개의 선으로 구분합니다.\n",
    "한 선은 `4` 값을 가진 모든 점을 설명하고, 한 선은 `f` 값을 가진 모든 점을 설명하며, 한 선은 `r` 값을 가진 모든 점을 설명합니다.\n",
    "여기서 `4`는 4륜 구동, `f`는 전륜 구동, `r`은 후륜 구동을 의미합니다.\n",
    "\n",
    "이것이 너무 혼란스럽다면 원시 데이터 위에 선을 오버레이한 다음 `drv`에 따라 모든 것을 색칠하여 더 명확하게 만들 수 있습니다."
   ]
  },
  {
   "cell_type": "code",
   "execution_count": null,
   "id": "c9e8d92f",
   "metadata": {},
   "outputs": [],
   "source": [
    "(\n",
    "    ggplot(mpg, aes(x=\"displ\", y=\"hwy\", color=\"drv\"))\n",
    "    + geom_point()\n",
    "    + geom_smooth(aes(linetype=\"drv\"), method=\"loess\")\n",
    ")"
   ]
  },
  {
   "cell_type": "markdown",
   "id": "b6392da1",
   "metadata": {},
   "source": [
    "이 플롯에는 동일한 그래프에 두 개의 지오메트리가 포함되어 있습니다.\n",
    "\n",
    "`geom_smooth()`와 같은 많은 지오메트리는 단일 기하학적 객체를 사용하여 여러 데이터 행을 표시합니다.\n",
    "이러한 지오메트리의 경우 `group` 미학을 범주형 변수로 설정하여 여러 객체를 그릴 수 있습니다.\n",
    "**lets-plot**은 그룹화 변수의 각 고유 값에 대해 별도의 객체를 그립니다.\n",
    "실제로 **lets-plot**은 미학을 이산 변수에 매핑할 때마다 이러한 지오메트리에 대한 데이터를 자동으로 그룹화합니다.\n",
    "`group` 미학 자체는 범례를 추가하거나 지오메트리에 구별되는 기능을 추가하지 않으므로 이 기능을 사용하는 것이 편리합니다.\n",
    "\n",
    "지오메트리 함수에 매핑을 배치하면 **lets-plot**은 이를 레이어에 대한 로컬 매핑으로 처리합니다.\n",
    "이러한 매핑을 사용하여 해당 레이어에 대해서만 전역 매핑을 확장하거나 덮어씁니다.\n",
    "이를 통해 다른 레이어에 다른 미학을 표시할 수 있습니다."
   ]
  },
  {
   "cell_type": "code",
   "execution_count": null,
   "id": "b3916558",
   "metadata": {},
   "outputs": [],
   "source": [
    "(ggplot(mpg, aes(x=\"displ\", y=\"hwy\")) + geom_point(aes(color=\"class\")) + geom_smooth())"
   ]
  },
  {
   "cell_type": "markdown",
   "id": "88708546",
   "metadata": {},
   "source": [
    "동일한 아이디어를 사용하여 각 레이어에 다른 데이터를 지정할 수 있습니다.\n",
    "여기서는 빨간색 점과 열린 원을 사용하여 2인승 자동차를 강조 표시합니다.\n",
    "`geom_point()`의 로컬 데이터 인수는 해당 레이어에 대해서만 `ggplot()`의 전역 데이터 인수를 덮어씁니다.\n"
   ]
  },
  {
   "cell_type": "code",
   "execution_count": null,
   "id": "38870eb5",
   "metadata": {},
   "outputs": [],
   "source": [
    "(\n",
    "    ggplot(mpg, aes(x=\"displ\", y=\"hwy\"))\n",
    "    + geom_point()\n",
    "    + geom_point(data=mpg.loc[mpg[\"class\"] == \"2seater\", :], color=\"red\", size=2)\n",
    "    + geom_point(\n",
    "        data=mpg.loc[mpg[\"class\"] == \"2seater\", :], shape=1, size=3, color=\"red\"\n",
    "    )\n",
    ")"
   ]
  },
  {
   "cell_type": "markdown",
   "id": "35a3d017",
   "metadata": {},
   "source": [
    "지오메트리는 **lets-plot**의 기본 구성 요소입니다.\n",
    "지오메트리를 변경하여 플롯의 모양을 완전히 바꿀 수 있으며 다른 지오메트리는 데이터의 다른 특징을 나타낼 수 있습니다.\n",
    "\n",
    "**lets-plot**은 40개 이상의 지오메트리를 제공하지만 만들 수 있는 모든 가능한 플롯을 다루지는 않습니다. [**lets-plot** 설명서](https://lets-plot.org/pages/api.html#geometries)의 관련 부분에서 개요를 찾을 수 있습니다.\n",
    "\n",
    "포함되지 않은 지오메트리가 필요한 경우 세 가지 주요 옵션이 있습니다.\n",
    "1. **lets-plot**을 확장하고 필요한 작업을 수행하는 패키지를 찾습니다.\n",
    "2. [**lets-plot** Github 페이지](https://github.com/JetBrains/lets-plot)에 새 기능으로 요청하는 문제를 제기합니다. 단, 유지 관리자에게 우선 순위가 아닐 수 있으며 다른 사람에게 얼마나 유용한지, 구현하기 쉬운지에 따라 추가한다는 보장은 없습니다.\n",
    "3. 세밀한 제어를 제공하여 처음부터 자신만의 차트를 만들 수 있는 명령형 플로팅 패키지로 전환합니다. [**matplotlib**](https://matplotlib.org/)은 이 작업에 매우 적합합니다.\n"
   ]
  },
  {
   "cell_type": "markdown",
   "id": "39a12f36",
   "metadata": {},
   "source": [
    "### 연습\n",
    "\n",
    "1.  선 차트를 그리려면 어떤 지오메트리를 사용하시겠습니까?\n",
    "    상자 그림은요?\n",
    "    히스토그램은요?\n",
    "    영역 차트는요?\n",
    "\n",
    "2.  이전 예제를 실행하면 어떤 효과가 있습니까?\n",
    "\n",
    "    ```python\n",
    "    (\n",
    "    ggplot(mpg, aes(x = \"displ\", y = \"hwy\", alpha = \"class\")) +\n",
    "      geom_point()\n",
    "    )\n",
    "    ```\n",
    "    이 코드로 생성된 차트에 `show_legend=False` 키워드 인수를 사용하면 어떻게 됩니까?\n",
    "\n",
    "3.  `geom_smooth()`의 `se` 인수는 무엇을 합니까?\n",
    "\n",
    "4.  다음 그래프를 생성하는 데 필요한 파이썬 코드를 다시 만듭니다.\n"
   ]
  },
  {
   "cell_type": "code",
   "execution_count": null,
   "id": "ae75c5c1",
   "metadata": {
    "tags": [
     "remove-cell"
    ]
   },
   "outputs": [],
   "source": [
    "(\n",
    "    ggplot(mpg, aes(x=\"displ\", y=\"hwy\", color=\"drv\"))\n",
    "    + geom_smooth(aes(group=\"drv\"), se=False, method=\"loess\")\n",
    "    + geom_point()\n",
    ")"
   ]
  },
  {
   "cell_type": "markdown",
   "id": "4c1d45ab",
   "metadata": {},
   "source": [
    "## 패싯\n",
    "\n",
    "{ref}`data-visualise`에서는 `facet_wrap()`을 사용한 패싯에 대해 배웠습니다. 이 함수는 플롯을 범주형 변수를 기준으로 데이터의 하위 집합을 각각 표시하는 하위 플롯으로 분할합니다.\n"
   ]
  },
  {
   "cell_type": "code",
   "execution_count": null,
   "id": "cb651300",
   "metadata": {},
   "outputs": [],
   "source": [
    "(ggplot(mpg, aes(x=\"displ\", y=\"hwy\")) + geom_point() + facet_wrap(\"cyl\"))"
   ]
  },
  {
   "cell_type": "markdown",
   "id": "0cd9ef67",
   "metadata": {},
   "source": [
    "두 변수의 조합으로 플롯을 패싯하려면 `facet_wrap()`에서 `facet_grid()`로 전환합니다."
   ]
  },
  {
   "cell_type": "code",
   "execution_count": null,
   "id": "61481052",
   "metadata": {},
   "outputs": [],
   "source": [
    "(ggplot(mpg, aes(x=\"displ\", y=\"hwy\")) + geom_point() + facet_grid(\"drv\", \"cyl\"))"
   ]
  },
  {
   "cell_type": "markdown",
   "id": "4f502141",
   "metadata": {},
   "source": [
    "기본적으로 각 패싯은 x축과 y축에 대해 동일한 스케일과 범위를 공유합니다.\n",
    "이는 패싯 전체에서 데이터를 비교하려는 경우 유용하며 권장되는 기본값입니다. 하지만 각 패싯 내의 관계를 더 잘 시각화하려는 경우에는 제한적일 수 있습니다.\n",
    "패싯 함수의 `scales` 인수를 `\"free\"`로 설정하면 행과 열 모두에서 다른 축 스케일을 허용하고, `\"free_x\"`는 행 전체에서 다른 스케일을 허용하며, `\"free_y\"`는 열 전체에서 다른 스케일을 허용합니다.\n"
   ]
  },
  {
   "cell_type": "code",
   "execution_count": null,
   "id": "adcd9079",
   "metadata": {},
   "outputs": [],
   "source": [
    "(\n",
    "    ggplot(mpg, aes(x=\"displ\", y=\"hwy\"))\n",
    "    + geom_point()\n",
    "    + facet_grid(\"drv\", \"cyl\", scales=\"free_y\")\n",
    ")"
   ]
  },
  {
   "cell_type": "code",
   "execution_count": null,
   "id": "ceb2a354",
   "metadata": {},
   "outputs": [],
   "source": [
    "(ggplot(mpg) + geom_point(aes(x=\"displ\", y=\"hwy\")) + facet_wrap(\"class\", nrow=2))"
   ]
  },
  {
   "cell_type": "markdown",
   "id": "5e3a949f",
   "metadata": {},
   "source": [
    "### 연습\n",
    "\n",
    "1.  연속 변수에 패싯을 적용하면 어떻게 됩니까?\n",
    "\n",
    "2.  `facet_grid(\"drv\", \"cyl\")`이 있는 플롯의 빈 셀은 무엇을 의미합니까?\n",
    "    다음 코드를 실행합니다.\n",
    "    결과 플롯과 어떤 관련이 있습니까?\n",
    "\n",
    "    ```python\n",
    "        (\n",
    "          ggplot(mpg) + \n",
    "      geom_point(aes(x = \"drv\", y = \"cyl\"))\n",
    "        )\n",
    "    ```\n",
    "\n",
    "3.  다음 코드는 어떤 플롯을 만듭니까?\n",
    "    두 번째 변수를 생략하면 어떻게 됩니까?\n",
    "\n",
    "    ```python\n",
    "    (\n",
    "      ggplot(mpg) + \n",
    "      geom_point(aes(x = \"displ\", y = \"hwy\")) +\n",
    "      facet_grid(\"drv\")\n",
    "    )\n",
    "\n",
    "    (\n",
    "      ggplot(mpg) + \n",
    "      geom_point(aes(x = displ, y = \"hwy\")) +\n",
    "      facet_grid(\"cyl\")\n",
    "    )\n",
    "    ```\n",
    "\n",
    "4.  이 섹션의 첫 번째 패싯 플롯을 가져옵니다.\n",
    "\n",
    "    ```python\n",
    "    (\n",
    "        ggplot(mpg) + \n",
    "          geom_point(aes(x = \"displ\", y = \"hwy\")) + \n",
    "          facet_wrap(\"class\", nrow = 2)\n",
    "    )\n",
    "    ```\n",
    "\n",
    "    색상 미학 대신 패싯을 사용하는 장점은 무엇입니까?\n",
    "    단점은 무엇입니까?\n",
    "    더 큰 데이터 세트가 있는 경우 균형이 어떻게 바뀔 수 있습니까?\n",
    "\n",
    "\n",
    "5.  Visual Studio Code에서 `help(facet_wrap)`을 읽거나 `facet_wrap()` 위에 마우스를 올립니다.\n",
    "    `nrow`는 무엇을 합니까?\n",
    "    `ncol`은 무엇을 합니까?\n",
    "    개별 패널의 레이아웃을 제어하는 다른 옵션은 무엇입니까?\n",
    "    `facet_grid()`에 `nrow` 및 `ncol` 인수가 없는 이유는 무엇입니까?\n",
    "\n",
    "6.  `facet_grid()` 대신 `facet_wrap()`을 사용하여 다음 플롯을 다시 만듭니다.\n",
    "    패싯 레이블의 위치는 어떻게 변경됩니까?\n",
    "\n",
    "    ```python\n",
    "    (\n",
    "        ggplot(mpg) + \n",
    "          geom_point(aes(x = \"displ\", y = \"hwy\")) +\n",
    "          facet_grid(\"drv\")\n",
    "    )\n",
    "    ```"
   ]
  },
  {
   "cell_type": "markdown",
   "id": "cacf1fb5",
   "metadata": {},
   "source": [
    "## 통계적 변환\n",
    "\n",
    "`geom_bar()` 또는 `geom_col()`로 그린 기본 막대 차트를 생각해 보십시오.\n",
    "다음 차트는 `diamonds` 데이터 세트의 총 다이아몬드 수를 `cut`별로 그룹화하여 표시합니다.\n",
    "`diamonds` 데이터 세트에는 각 다이아몬드의 `price`, `carat`, `color`, `clarity` 및 `cut`을 포함하여 약 54,000개의 다이아몬드에 대한 정보가 포함되어 있습니다. 잠시 후에 로드할 것입니다.\n",
    "차트는 낮은 품질의 컷보다 높은 품질의 컷으로 더 많은 다이아몬드를 사용할 수 있음을 보여줍니다."
   ]
  },
  {
   "cell_type": "code",
   "execution_count": null,
   "id": "f379e31b",
   "metadata": {},
   "outputs": [],
   "source": [
    "diamonds = pd.read_csv(\n",
    "    \"https://vincentarelbundock.github.io/Rdatasets/csv/ggplot2/diamonds.csv\",\n",
    "    index_col=0,\n",
    ")\n",
    "diamonds_cut_order = [\"Fair\", \"Good\", \"Very Good\", \"Premium\", \"Ideal\"]\n",
    "diamonds[\"cut\"] = diamonds[\"cut\"].astype(\n",
    "    pd.CategoricalDtype(categories=diamonds_cut_order, ordered=True)\n",
    ")\n",
    "diamonds.head()"
   ]
  },
  {
   "cell_type": "code",
   "execution_count": null,
   "id": "d8faf1ab",
   "metadata": {},
   "outputs": [],
   "source": [
    "(ggplot(diamonds, aes(x=\"cut\")) + geom_bar())"
   ]
  },
  {
   "cell_type": "markdown",
   "id": "a27666cf",
   "metadata": {},
   "source": [
    "x축에는 `diamonds`의 변수인 `cut`이 표시됩니다.\n",
    "y축에는 개수가 표시되지만 개수는 `diamonds`의 변수가 아닙니다!\n",
    "개수는 어디에서 왔습니까?\n",
    "산점도와 같은 많은 그래프는 데이터 세트의 원시 값을 플로팅합니다.\n",
    "막대 차트와 같은 다른 그래프는 플로팅할 새 값을 계산합니다.\n",
    "\n",
    "-   막대 차트, 히스토그램 및 빈도 다각형은 데이터를 구간화한 다음 각 구간에 속하는 점의 수인 구간 개수를 플로팅합니다.\n",
    "\n",
    "-   평활기는 데이터에 모델을 맞춘 다음 모델의 예측을 플로팅합니다.\n",
    "\n",
    "-   상자 그림은 분포의 5개 숫자 요약을 계산한 다음 해당 요약을 특별히 형식화된 상자로 표시합니다.\n",
    "\n",
    "그래프에 대한 새 값을 계산하는 데 사용되는 알고리즘을 통계적 변환의 약자인 **stat**이라고 합니다.\n",
    "`geom_bar()`를 사용한 이 프로세스가 어떻게 작동하는지 아래 그림에 나와 있습니다.\n",
    "\n",
    "![](https://r4ds.hadley.nz/images/visualization-stat-bar.png)\n"
   ]
  },
  {
   "cell_type": "markdown",
   "id": "62519f73",
   "metadata": {},
   "source": [
    "`stat` 인수의 기본값을 검사하여 지오메트리가 사용하는 통계를 알 수 있습니다.\n",
    "예를 들어 `help(geom_bar)`(또는 코드에 작성된 함수 위에 마우스를 올리면) `stat`의 기본값이 \"count\"임을 보여줍니다. 즉, `geom_bar()`는 발생 횟수의 개수를 사용합니다.\n",
    "\n",
    "모든 지오메트리에는 기본 통계가 있고 모든 통계에는 기본 지오메트리가 있습니다.\n",
    "즉, 일반적으로 기본 통계 변환에 대해 걱정하지 않고 지오메트리를 사용할 수 있습니다.\n",
    "그러나 통계를 명시적으로 사용해야 하는 몇 가지 이유가 있을 수 있습니다. 예를 들어 기본 통계를 재정의하고 싶을 수 있습니다. 아래 코드에서는 `geom_bar()`의 통계를 기본값인 count에서 identity로 변경합니다. 이렇게 하면 막대의 높이를 y 변수의 원시 값에 매핑할 수 있습니다."
   ]
  },
  {
   "cell_type": "code",
   "execution_count": null,
   "id": "ca772dd5",
   "metadata": {},
   "outputs": [],
   "source": [
    "(\n",
    "    ggplot(\n",
    "        diamonds.value_counts(\"cut\").reset_index(name=\"counts\"),\n",
    "        aes(x=\"cut\", y=\"counts\"),\n",
    "    )\n",
    "    + geom_bar(stat=\"identity\")\n",
    ")"
   ]
  },
  {
   "cell_type": "markdown",
   "id": "e365aaaf",
   "metadata": {},
   "source": [
    "## 위치 조정\n",
    "\n",
    "막대 차트와 관련된 또 다른 마법이 있습니다.\n",
    "`color` 미학 또는 더 유용하게는 `fill` 미학을 사용하여 막대 차트에 색을 칠할 수 있습니다."
   ]
  },
  {
   "cell_type": "code",
   "execution_count": null,
   "id": "f8da7d91",
   "metadata": {},
   "outputs": [],
   "source": [
    "(ggplot(mpg, aes(x=\"drv\", color=\"drv\")) + geom_bar())"
   ]
  },
  {
   "cell_type": "code",
   "execution_count": null,
   "id": "088e7550",
   "metadata": {},
   "outputs": [],
   "source": [
    "(ggplot(mpg, aes(x=\"drv\", fill=\"drv\")) + geom_bar())"
   ]
  },
  {
   "cell_type": "markdown",
   "id": "c3f7a0a3",
   "metadata": {},
   "source": [
    "채우기 미학을 `class`와 같은 다른 변수에 매핑하면 어떻게 되는지 확인하십시오. 막대가 자동으로 누적됩니다.\n",
    "각 색칠된 사각형은 `drv`와 `class`의 조합을 나타냅니다."
   ]
  },
  {
   "cell_type": "code",
   "execution_count": null,
   "id": "181c70d2",
   "metadata": {},
   "outputs": [],
   "source": [
    "(ggplot(mpg, aes(x=\"drv\", fill=\"class\")) + geom_bar())"
   ]
  },
  {
   "cell_type": "markdown",
   "id": "b3f74621",
   "metadata": {},
   "source": [
    "누적은 `position` 인수로 지정된 **위치 조정**을 사용하여 자동으로 수행됩니다.\n",
    "누적 막대 차트를 원하지 않으면 다른 세 가지 옵션인 `\"identity\"`, `\"dodge\"` 또는 `\"fill\"` 중 하나를 사용할 수 있습니다.\n",
    "\n",
    "-   `position = \"identity\"`는 각 객체를 그래프 컨텍스트에서 정확히 해당 위치에 배치합니다.\n",
    "    이것은 막대를 겹치게 하므로 막대에는 그다지 유용하지 않습니다.\n",
    "    겹침을 보려면 일반적으로 `alpha`를 작은 값으로 설정하여 막대를 약간 투명하게 만들어야 합니다."
   ]
  },
  {
   "cell_type": "code",
   "execution_count": null,
   "id": "a8e9c378",
   "metadata": {},
   "outputs": [],
   "source": [
    "(ggplot(mpg, aes(x=\"drv\", fill=\"class\")) + geom_bar(alpha=0.5, position=\"identity\"))"
   ]
  },
  {
   "cell_type": "markdown",
   "id": "2aeffbf7",
   "metadata": {},
   "source": [
    "ID 위치 조정은 점과 같은 2차원 지오메트리에 더 유용하며 기본값입니다.\n",
    "\n",
    "-   `position = \"fill\"`은 누적과 유사하게 작동하지만 각 누적 막대 세트의 높이를 동일하게 만듭니다.\n",
    "    이렇게 하면 그룹 간의 비율을 더 쉽게 비교할 수 있습니다."
   ]
  },
  {
   "cell_type": "code",
   "execution_count": null,
   "id": "14205000",
   "metadata": {},
   "outputs": [],
   "source": [
    "(ggplot(mpg, aes(x=\"drv\", fill=\"class\")) + geom_bar(position=\"fill\"))"
   ]
  },
  {
   "cell_type": "markdown",
   "id": "3a8e72bd",
   "metadata": {},
   "source": [
    "-   `position = \"dodge\"`는 겹치는 객체를 서로 *옆에* 직접 배치합니다.\n",
    "    이렇게 하면 개별 값을 더 쉽게 비교할 수 있습니다."
   ]
  },
  {
   "cell_type": "code",
   "execution_count": null,
   "id": "c33c4a03",
   "metadata": {},
   "outputs": [],
   "source": [
    "(ggplot(mpg, aes(x=\"drv\", fill=\"class\")) + geom_bar(position=\"dodge\"))"
   ]
  },
  {
   "cell_type": "markdown",
   "id": "cd46f22b",
   "metadata": {},
   "source": [
    "막대 차트에는 유용하지 않지만 산점도에는 매우 유용할 수 있는 또 다른 유형의 조정이 있습니다.\n",
    "첫 번째 산점도를 다시 살펴보겠습니다.\n",
    "플롯에 일부 점만 표시된다는 것을 알아차렸습니까(데이터 세트에 234개의 관찰이 있음에도 불구하고)?"
   ]
  },
  {
   "cell_type": "code",
   "execution_count": null,
   "id": "ba4161de",
   "metadata": {},
   "outputs": [],
   "source": [
    "(ggplot(mpg, aes(x=\"displ\", y=\"hwy\")) + geom_point())"
   ]
  },
  {
   "cell_type": "markdown",
   "id": "28a3bfc7",
   "metadata": {},
   "source": [
    "`hwy` 및 `displ`의 기본 값은 반올림되므로 점이 그리드에 나타나고 많은 점이 서로 겹칩니다.\n",
    "이 문제를 **과잉 플로팅**이라고 합니다.\n",
    "이러한 배열은 데이터 분포를 보기 어렵게 만듭니다.\n",
    "데이터 포인트가 그래프 전체에 고르게 분포되어 있습니까, 아니면 109개의 값을 포함하는 `hwy`와 `displ`의 특별한 조합이 하나 있습니까?\n",
    "\n",
    "위치 조정을 \"jitter\"로 설정하여 이러한 그리딩을 피할 수 있습니다.\n",
    "`position = \"jitter\"`는 각 점에 약간의 무작위 노이즈를 추가합니다.\n",
    "두 점이 동일한 양의 무작위 노이즈를 받을 가능성이 거의 없으므로 점이 분산됩니다."
   ]
  },
  {
   "cell_type": "code",
   "execution_count": null,
   "id": "414ce7af",
   "metadata": {},
   "outputs": [],
   "source": [
    "(ggplot(mpg, aes(x=\"displ\", y=\"hwy\")) + geom_point(position=\"jitter\"))"
   ]
  },
  {
   "cell_type": "markdown",
   "id": "96277926",
   "metadata": {},
   "source": [
    "무작위성을 추가하는 것은 플롯을 개선하는 이상한 방법처럼 보이지만 작은 규모에서는 그래프의 정확도가 떨어지지만 큰 규모에서는 그래프를 *더* 잘 보여줍니다.\n",
    "\n",
    "이것은 매우 유용한 작업이므로 **letsplot**에는 `geom_point(position = \"jitter\")`의 약자인 `geom_jitter()`가 함께 제공됩니다.\n",
    "\n",
    "물론 과잉 플로팅을 처리하는 더 정교한 방법은 [**binsreg**](https://nppackages.github.io/binsreg/) 패키지에서 사용할 수 있는 구간 산점도 플롯을 사용하는 것입니다.\n",
    "\n",
    "위치 조정에 대해 자세히 알아보려면 [설명서](https://lets-plot.org/)를 살펴보십시오."
   ]
  },
  {
   "cell_type": "markdown",
   "id": "90d09736",
   "metadata": {},
   "source": [
    "### 연습\n",
    "\n",
    "1.  다음 플롯의 문제점은 무엇입니까?\n",
    "    어떻게 개선할 수 있습니까?"
   ]
  },
  {
   "cell_type": "code",
   "execution_count": null,
   "id": "9bc38aef",
   "metadata": {},
   "outputs": [],
   "source": [
    "(ggplot(mpg, aes(x=\"cty\", y=\"hwy\")) + geom_point())"
   ]
  },
  {
   "cell_type": "markdown",
   "id": "57b6523f",
   "metadata": {},
   "source": [
    "2.  두 플롯의 차이점은 무엇입니까(있는 경우)?\n",
    "    왜 그렇습니까?\n",
    "\n",
    "    ```python\n",
    "    (\n",
    "        ggplot(mpg, aes(x = \"displ\", y = \"hwy\")) +\n",
    "          geom_point()\n",
    "    )\n",
    "    (\n",
    "        ggplot(mpg, aes(x = \"displ\", y = \"hwy\")) +\n",
    "          geom_point(position = \"identity\")\n",
    "    )\n",
    "    ```"
   ]
  },
  {
   "cell_type": "markdown",
   "id": "a3138f75",
   "metadata": {},
   "source": [
    "3.  `geom_jitter()`의 어떤 매개변수가 지터링 양을 제어합니까?\n",
    "\n",
    "4.  `geom_boxplot()`의 기본 위치 조정은 무엇입니까?\n",
    "    이를 보여주는 `mpg` 데이터 세트의 시각화를 만듭니다."
   ]
  },
  {
   "cell_type": "markdown",
   "id": "7d302c31",
   "metadata": {},
   "source": [
    "## 계층화된 그래픽 문법\n",
    "\n",
    "이미 배운 그래프 템플릿을 위치 조정, 통계, 좌표계 및 패싯을 추가하여 확장할 수 있습니다.\n",
    "\n",
    "```python\n",
    "ggplot(data = <데이터>) + \n",
    "  <지오메트리_함수>(\n",
    "     mapping = aes(<매핑>),\n",
    "     stat = <통계>, \n",
    "     position = <위치>\n",
    "  ) +\n",
    "  <패싯_함수>\n",
    "```\n",
    "\n",
    "\n",
    "새 템플릿은 템플릿에 나타나는 괄호 안의 단어인 6개의 매개변수를 사용합니다.\n",
    "실제로 **lets-plot**은 데이터, 매핑 및 지오메트리 함수를 제외한 모든 것에 대해 유용한 기본값을 제공하므로 그래프를 만드는 데 7개의 매개변수를 모두 제공할 필요는 거의 없습니다.\n",
    "\n",
    "템플릿의 6개 매개변수는 플롯을 구축하기 위한 공식적인 시스템인 그래픽 문법을 구성합니다.\n",
    "그래픽 문법은 데이터 세트, 지오메트리, 매핑 세트, 통계, 위치 조정, 좌표계, 패싯 구성표 및 테마의 조합으로 *모든* 플롯을 고유하게 설명할 수 있다는 통찰력을 기반으로 합니다.\n",
    "\n",
    "이것이 어떻게 작동하는지 보려면 처음부터 기본 플롯을 만드는 방법을 고려하십시오. 데이터 세트로 시작한 다음 표시하려는 정보로 변환할 수 있습니다(통계 사용).\n",
    "다음으로 변환된 데이터의 각 관찰을 나타내는 기하학적 객체를 선택할 수 있습니다.\n",
    "그런 다음 지오메트리의 미적 속성을 사용하여 데이터의 변수를 나타낼 수 있습니다.\n",
    "각 변수의 값을 미학 수준에 매핑합니다.\n",
    "이러한 단계는 아래 그림에 나와 있습니다.\n",
    "\n",
    "![](https://r4ds.hadley.nz/images/visualization-grammar.png)"
   ]
  },
  {
   "cell_type": "markdown",
   "id": "c0f7a7ff",
   "metadata": {},
   "source": [
    "이 시점에서 완전한 그래프가 완성되지만 좌표계 내에서 지오메트리의 위치를 추가로 조정하거나(위치 조정) 그래프를 하위 플롯으로 분할할 수 있습니다(패싯).\n",
    "데이터 세트, 지오메트리, 매핑 세트, 통계 및 위치 조정을 사용하는 하나 이상의 추가 레이어를 추가하여 플롯을 확장할 수도 있습니다.\n",
    "\n",
    "이 방법을 사용하여 상상할 수 있는 많은 플롯을 만들 수 있습니다.\n",
    "\n",
    "## 요약\n",
    "\n",
    "이 장에서는 미학과 기하학으로 시작하여 간단한 플롯을 만드는 계층화된 그래픽 문법에 대해 배웠고, 플롯을 하위 집합으로 분할하는 패싯, 지오메트리가 계산되는 방식을 이해하기 위한 통계, 지오메트리가 겹칠 수 있을 때 위치의 세부 정보를 제어하기 위한 위치 조정, `x`와 `y`가 의미하는 바를 근본적으로 변경할 수 있는 좌표계에 대해 배웠습니다.\n",
    "\n",
    "**lets-plot**에 대한 가장 유용한 추가 정보는 [여기에서 찾을 수 있는](https://lets-plot.org/) 설명서입니다."
   ]
  }
 ],
 "metadata": {
  "interpreter": {
   "hash": "9d7534ecd9fbc7d385378f8400cf4d6cb9c6175408a574f1c99c5269f08771cc"
  },
  "jupytext": {
   "cell_metadata_filter": "-all",
   "encoding": "# -*- coding: utf-8 -*-",
   "formats": "md:myst",
   "main_language": "python"
  },
  "kernelspec": {
   "display_name": "Python 3 (ipykernel)",
   "language": "python",
   "name": "python3"
  },
  "language_info": {
   "codemirror_mode": {
    "name": "ipython",
    "version": 3
   },
   "file_extension": ".py",
   "mimetype": "text/x-python",
   "name": "python",
   "nbconvert_exporter": "python",
   "pygments_lexer": "ipython3",
   "version": "3.10.12"
  },
  "toc-showtags": true
 },
 "nbformat": 4,
 "nbformat_minor": 5
}
