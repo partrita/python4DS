{
 "cells": [
  {
   "cell_type": "markdown",
   "id": "95f0a171",
   "metadata": {},
   "source": [
    "(data-visualise)=\n",
    "# 데이터 시각화\n",
    "\n",
    "## 소개\n",
    "\n",
    "> \"단순한 그래프는 다른 어떤 장치보다 데이터 분석가의 마음에 더 많은 정보를 가져다주었습니다.\" --- 존 튜키\n",
    "\n",
    "이 장에서는 **[letsplot](https://lets-plot.org/)**을 사용하여 데이터를 시각화하는 방법을 배웁니다.\n",
    "\n",
    "코드를 사용하여 데이터 시각화를 만드는 접근 방식에는 크게 두 가지 범주가 있습니다. 원하는 것을 구축하는 명령형과 원하는 것을 말하는 선언형입니다. 어떤 것을 사용할지 선택하는 데는 장단점이 있습니다. 명령형 라이브러리는 유연성을 제공하지만 다소 장황한 단점이 있습니다. 선언형 라이브러리는 데이터를 플로팅하는 빠른 방법을 제공하지만 처음부터 올바른 형식인 경우에만 가능하며 특수 차트 유형에 대한 사용자 지정은 더 어렵습니다. 파이썬에는 아마도 가장 강력한 명령형 플로팅 패키지인 **matplotlib**을 포함하여 많은 훌륭한 플로팅 패키지가 있습니다.\n",
    "\n",
    "그러나 하나의 시스템을 배우고 여러 곳에 적용하면 더 빨리 발전할 수 있으며 선언적 플로팅의 장점은 많은 표준 차트를 간단하고 잘 다룬다는 것입니다. **letsplot**은 그래프를 설명하고 구축하기 위한 일관된 선언적 시스템인 소위 **그래픽 문법**을 구현합니다.\n",
    "\n",
    "간단한 산점도를 만드는 것으로 시작하여 **letsplot**의 기본 구성 요소인 미적 매핑과 기하학적 객체를 소개합니다. 그런 다음 단일 변수의 분포를 시각화하고 두 개 이상의 변수 간의 관계를 시각화하는 방법을 안내합니다. 플롯 저장 및 문제 해결 팁으로 마무리합니다. "
   ]
  },
  {
   "cell_type": "markdown",
   "id": "17575f3a",
   "metadata": {},
   "source": [
    "### 전제 조건\n",
    "\n",
    "이 장에서는 **letsplot** 패키지를 설치해야 합니다. 이렇게 하려면 컴퓨터의 명령줄을 열고 `pip install lets-plot`를 입력한 다음 엔터 키를 누릅니다."
   ]
  },
  {
   "cell_type": "markdown",
   "id": "792902c7",
   "metadata": {},
   "source": [
    "```{note}\n",
    "명령줄은 Visual Studio Code 및 Codespaces 내에서 보기 -> 터미널로 이동하여 열 수 있습니다.\n",
    "```\n",
    "\n",
    "각 파이썬 환경에 패키지를 한 번만 설치하면 됩니다."
   ]
  },
  {
   "cell_type": "markdown",
   "id": "e0ad70c8",
   "metadata": {},
   "source": [
    "또한 **pandas** 패키지를 설치해야 합니다. 이 패키지는 데이터용이며 많이 사용하게 될 것입니다. 명령줄에서 `pip install pandas`를 실행하여 유사하게 설치할 수 있습니다.\n",
    "\n",
    "마지막으로 데이터도 필요합니다(데이터 없이는 과학을 할 수 없습니다). Palmer penguins 데이터 세트를 사용할 것입니다. 특이하게도 이것은 패키지로도 설치할 수 있습니다. 일반적으로 파일에서 데이터를 로드하지만 이 데이터는 튜토리얼에 너무 인기가 많아 설치 가능한 패키지로 만들어졌습니다. `pip install palmerpenguins`를 실행하여 이 데이터를 가져옵니다."
   ]
  },
  {
   "cell_type": "markdown",
   "id": "8852373a",
   "metadata": {},
   "source": [
    "다음 작업은 Jupyter Notebook 내의 파이썬 노트북 셀에 로드하거나, 스크립트에 작성한 다음 대화형 창으로 보내거나, 대화형 창에 직접 입력하고 시프트와 엔터를 누르는 것입니다. 코드는 다음과 같습니다."
   ]
  },
  {
   "cell_type": "code",
   "execution_count": null,
   "id": "a86fb211",
   "metadata": {},
   "outputs": [],
   "source": [
    "from lets_plot import *\n",
    "from palmerpenguins import load_penguins\n",
    "\n",
    "LetsPlot.setup_html()"
   ]
  },
  {
   "cell_type": "markdown",
   "id": "4443f4dd",
   "metadata": {},
   "source": [
    "이 줄은 **pandas** 및 **palmerpenguins** 패키지의 일부를 가져온 다음 **letsplot** 패키지의 모든(`*`) 함수를 가져옵니다. 마지막 줄은 차트가 HTML에 표시되도록 합니다."
   ]
  },
  {
   "cell_type": "markdown",
   "id": "4bc87ab8",
   "metadata": {},
   "source": [
    "## 첫 단계\n",
    "\n",
    "지느러미가 긴 펭귄은 지느러미가 짧은 펭귄보다 체중이 더 많이 나갈까요, 아니면 덜 나갈까요? 아마 이미 답을 알고 있겠지만 답을 정확하게 만들어 보십시오. 지느러미 길이와 체질량 간의 관계는 어떻게 보입니까? 양수입니까? 음수입니까? 선형입니까? 비선형입니까? 관계는 펭귄 종에 따라 다릅니까? 펭귄이 사는 섬에 따라서는 어떻습니까? 이러한 질문에 답하는 데 사용할 수 있는 시각화를 만들어 보겠습니다."
   ]
  },
  {
   "cell_type": "markdown",
   "id": "e4eb9c4f",
   "metadata": {},
   "source": [
    "### `penguins` 데이터 프레임\n",
    "\n",
    "palmerpenguins(일명 `from palmerpenguins import load_penguins`)에서 찾은 penguins 데이터 프레임으로 이러한 질문에 대한 답을 테스트할 수 있습니다. 데이터 프레임은 변수(열)와 관찰(행)의 직사각형 모음입니다. `penguins`에는 Kristen Gorman 박사와 Palmer Station, Antarctica LTER에서 수집하고 제공한 344개의 관찰이 포함되어 있습니다.{cite:p}`horst2020palmerpenguins`.\n",
    "\n",
    "논의를 더 쉽게 하기 위해 몇 가지 용어를 정의해 보겠습니다.\n",
    "\n",
    "-   **변수**는 측정할 수 있는 양, 질 또는 속성입니다.\n",
    "\n",
    "-   **값**은 변수를 측정할 때의 상태입니다.\n",
    "    변수의 값은 측정마다 변경될 수 있습니다.\n",
    "\n",
    "-   **관찰**은 유사한 조건에서 수행된 측정 집합입니다(일반적으로 관찰의 모든 측정은 동시에 동일한 객체에서 수행됨).\n",
    "    관찰에는 각각 다른 변수와 관련된 여러 값이 포함됩니다.\n",
    "    때때로 관찰을 데이터 포인트라고도 합니다.\n",
    "\n",
    "-   **표 형식 데이터**는 각각 변수 및 관찰과 관련된 값 집합입니다.\n",
    "    표 형식 데이터는 각 값이 자체 \"셀\"에 배치되고 각 변수가 자체 열에 배치되고 각 관찰이 자체 행에 배치되면 *깔끔*합니다.\n",
    "\n",
    "이러한 맥락에서 변수는 모든 펭귄의 속성을 나타내고 관찰은 단일 펭귄의 모든 속성을 나타냅니다.\n",
    "\n",
    "대화형 창에 데이터 프레임 이름을 입력하면 파이썬이 해당 내용의 미리보기를 인쇄합니다."
   ]
  },
  {
   "cell_type": "code",
   "execution_count": null,
   "id": "0cf986aa",
   "metadata": {},
   "outputs": [],
   "source": [
    "penguins = load_penguins()\n",
    "penguins"
   ]
  },
  {
   "cell_type": "markdown",
   "id": "cc310b4f",
   "metadata": {},
   "source": [
    "각 변수의 처음 몇 가지 관찰을 볼 수 있는 다른 보기를 보려면 `penguins.head()`를 사용합니다."
   ]
  },
  {
   "cell_type": "code",
   "execution_count": null,
   "id": "23c75ba7",
   "metadata": {},
   "outputs": [],
   "source": [
    "penguins.head()"
   ]
  },
  {
   "cell_type": "markdown",
   "id": "c3eb1881",
   "metadata": {},
   "source": [
    "`penguins`의 변수 중에는 다음이 있습니다.\n",
    "\n",
    "1.  `species`: 펭귄 종 (아델리, 턱끈, 또는 젠투).\n",
    "\n",
    "2.  `flipper_length_mm`: 펭귄 지느러미 길이 (밀리미터 단위).\n",
    "\n",
    "3.  `body_mass_g`: 펭귄 체질량 (그램 단위).\n",
    "\n",
    "`penguins`에 대해 자세히 알아보려면 해당 데이터 로드 함수의 도움말 페이지를 열려면 `help(load_penguins)`를 실행합니다.\n"
   ]
  },
  {
   "cell_type": "markdown",
   "id": "caf04bde",
   "metadata": {},
   "source": [
    "### 궁극적인 목표\n",
    "\n",
    "이 장의 궁극적인 목표는 펭귄 종을 고려하여 이러한 펭귄의 지느러미 길이와 체질량 간의 관계를 보여주는 다음 시각화를 다시 만드는 것입니다."
   ]
  },
  {
   "cell_type": "code",
   "execution_count": null,
   "id": "574fe39f",
   "metadata": {
    "tags": [
     "remove-input"
    ]
   },
   "outputs": [],
   "source": [
    "(\n",
    "    ggplot(penguins, aes(x=\"flipper_length_mm\", y=\"body_mass_g\"))\n",
    "    + geom_point(aes(color=\"species\", shape=\"species\"))\n",
    "    + geom_smooth(method=\"lm\")\n",
    "    + labs(\n",
    "        title=\"체질량과 지느러미 길이\",\n",
    "        subtitle=\"아델리, 턱끈, 젠투 펭귄의 크기\",\n",
    "        x=\"지느러미 길이 (mm)\",\n",
    "        y=\"체질량 (g)\",\n",
    "        color=\"종\",\n",
    "        shape=\"종\",\n",
    "    )\n",
    ")"
   ]
  },
  {
   "cell_type": "markdown",
   "id": "339966d7",
   "metadata": {},
   "source": [
    "### 플롯 만들기\n",
    "\n",
    "이 플롯을 단계별로 다시 만들어 보겠습니다.\n",
    "\n",
    "**letsplot**을 사용하면 `ggplot()` 함수로 플롯을 시작하여 플롯 객체를 정의한 다음 **레이어**를 추가합니다.\n",
    "\n",
    "`ggplot()`의 첫 번째 인수는 그래프에 사용할 데이터 세트이므로 `ggplot(data = penguins)`는 `penguins` 데이터를 표시하도록 준비된 빈 그래프를 만듭니다. 하지만 아직 시각화하는 방법을 알려주지 않았으므로 지금은 비어 있습니다. 비어 있기 때문에 이것만 실행하면 오류 메시지가 발생합니다. 플롯의 나머지 레이어를 그릴 빈 캔버스입니다.\n",
    "\n",
    "```파이썬\n",
    "ggplot(data = penguins)\n",
    "```\n",
    "\n",
    "다음으로 `ggplot()`에 데이터의 정보가 시각적으로 어떻게 표현될지 알려야 합니다.\n",
    "\n",
    "`ggplot()` 함수의 `mapping` 인수는 데이터 세트의 변수가 플롯의 시각적 속성(**미학**)에 어떻게 매핑되는지 정의합니다.\n",
    "`mapping` 인수는 항상 `aes()` 함수에 정의되며 `aes()`의 `x` 및 `y` 인수는 x축과 y축에 매핑할 변수를 지정합니다.\n",
    "지금은 지느러미 길이를 `x` 미학에, 체질량을 `y` 미학에만 매핑합니다. **letsplot**은 `data` 인수(이 경우 `penguins`)에서 매핑된 변수를 찾습니다.\n",
    "\n",
    "다시 말하지만, 플로팅할 항목을 실제로 지정하지 않았으므로 다음을 실행하면\n",
    "\n",
    "```파이썬\n",
    "ggplot(\n",
    "  data = penguins,\n",
    "  mapping = aes(x = \"flipper_length_mm\", y = \"body_mass_g\")\n",
    ")\n",
    "```\n",
    "\n",
    "오류가 발생합니다. 이는 아직 코드에서 데이터 프레임의 관찰을 플롯에 나타내는 방법을 명시하지 않았기 때문입니다.\n",
    "\n",
    "이렇게 하려면 **지오메트리**: 플롯이 데이터를 나타내는 데 사용하는 기하학적 객체를 정의해야 합니다.\n",
    "이러한 기하학적 객체는 `geom_`으로 시작하는 함수를 사용하여 **letsplot**에서 사용할 수 있습니다.\n",
    "\n",
    "사람들은 종종 플롯이 사용하는 지오메트리 유형으로 플롯을 설명합니다.\n",
    "예를 들어 막대 차트는 막대 지오메트리(`geom_bar()`), 선 차트는 선 지오메트리(`geom_line()`), 상자 그림은 상자 그림 지오메트리(`geom_boxplot()`), 산점도는 점 지오메트리(`geom_point()`) 등을 사용합니다.\n",
    "\n",
    "`geom_point()` 함수는 플롯에 점 레이어를 추가하여 산점도를 만듭니다.\n",
    "**letsplot**에는 각각 플롯에 다른 유형의 레이어를 추가하는 많은 지오메트리 함수가 있습니다."
   ]
  },
  {
   "cell_type": "code",
   "execution_count": null,
   "id": "15c3848b",
   "metadata": {},
   "outputs": [],
   "source": [
    "(\n",
    "    ggplot(data=penguins, mapping=aes(x=\"flipper_length_mm\", y=\"body_mass_g\"))\n",
    "    + geom_point()\n",
    ")"
   ]
  },
  {
   "cell_type": "markdown",
   "id": "c8d8bfff",
   "metadata": {},
   "source": [
    "이제 \"산점도\"라고 생각할 수 있는 것이 생겼습니다.\n",
    "아직 \"궁극적인 목표\" 플롯과 일치하지는 않지만 이 플롯을 사용하여 탐색을 시작한 질문인 \"지느러미 길이와 체질량 간의 관계는 어떻게 보입니까?\"에 답하기 시작할 수 있습니다. 관계는 양수(지느러미 길이가 증가함에 따라 체질량도 증가함), 상당히 선형(점들이 곡선 대신 선 주위에 모여 있음), 중간 정도의 강도(그러한 선 주위에 너무 많은 산포가 없음)인 것으로 보입니다.\n",
    "지느러미가 긴 펭귄은 일반적으로 체질량 측면에서 더 큽니다.\n",
    "\n",
    "`penguins` 데이터 프레임의 모든 것을 플로팅했지만 정의되지 않은 값이 있는 몇 개의 행이 있었으며 물론 이러한 행은 플로팅할 수 없다는 점을 지적하는 것이 좋습니다."
   ]
  },
  {
   "cell_type": "markdown",
   "id": "40818ed6",
   "metadata": {},
   "source": [
    "### 미학 및 레이어 추가\n",
    "\n",
    "산점도는 두 수치 변수 간의 관계를 표시하는 데 유용하지만 두 변수 간의 명백한 관계에 대해 항상 회의적이며 이 명백한 관계의 특성을 설명하거나 변경할 수 있는 다른 변수가 있는지 묻는 것이 좋습니다. 예를 들어 지느러미 길이와 체질량 간의 관계는 종에 따라 다릅니까?\n",
    "\n",
    "플롯에 종을 통합하고 이것이 이러한 변수 간의 명백한 관계에 대한 추가 통찰력을 드러내는지 살펴보겠습니다.\n",
    "이를 위해 종을 다른 색상의 점으로 나타낼 것입니다.\n",
    "\n",
    "이를 달성하려면 미학 또는 지오메트리를 수정해야 합니까?\n",
    "\"`aes()` 내부의 미적 매핑에서\"라고 추측했다면 이미 **letsplot**으로 데이터 시각화를 만드는 데 익숙해지고 있는 것입니다!\n",
    "그렇지 않더라도 걱정하지 마십시오.\n",
    "\n",
    "책 전체에서 더 많은 플롯을 만들고 만들면서 직관을 확인할 더 많은 기회를 갖게 될 것입니다."
   ]
  },
  {
   "cell_type": "code",
   "execution_count": null,
   "id": "6b0e1c38",
   "metadata": {},
   "outputs": [],
   "source": [
    "(\n",
    "    ggplot(\n",
    "        data=penguins,\n",
    "        mapping=aes(x=\"flipper_length_mm\", y=\"body_mass_g\", color=\"species\"),\n",
    "    )\n",
    "    + geom_point()\n",
    ")"
   ]
  },
  {
   "cell_type": "markdown",
   "id": "7272e621",
   "metadata": {},
   "source": [
    "범주형 변수가 미학에 매핑되면 **letsplot**은 자동으로 미학의 고유한 값(여기서는 고유한 색상)을 변수의 각 고유한 수준(세 가지 종 각각)에 할당하며, 이 과정을 **스케일링**이라고 합니다.\n",
    "\n",
    "**letsplot**은 또한 어떤 값이 어떤 수준에 해당하는지 설명하는 범례를 추가합니다.\n",
    "\n",
    "이제 체질량과 지느러미 길이 간의 관계를 보여주는 부드러운 곡선인 레이어를 하나 더 추가해 보겠습니다.\n",
    "\n",
    "진행하기 전에 위 코드를 다시 참조하고 기존 플롯에 이것을 어떻게 추가할 수 있는지 생각해 보십시오.\n",
    "\n",
    "이것은 데이터를 나타내는 새로운 기하학적 객체이므로 점 지오메트리 위에 새 지오메트리를 레이어로 추가합니다. `geom_smooth()`.\n",
    "\n",
    "그리고 `method = \"lm\"`을 사용하여 `l`선형 `m`모델을 기반으로 최적선을 그리도록 지정합니다."
   ]
  },
  {
   "cell_type": "code",
   "execution_count": null,
   "id": "943efd36",
   "metadata": {},
   "outputs": [],
   "source": [
    "(\n",
    "    ggplot(\n",
    "        data=penguins,\n",
    "        mapping=aes(x=\"flipper_length_mm\", y=\"body_mass_g\", color=\"species\"),\n",
    "    )\n",
    "    + geom_point()\n",
    "    + geom_smooth(method=\"lm\")\n",
    ")"
   ]
  },
  {
   "cell_type": "markdown",
   "id": "3c1cd3c7",
   "metadata": {},
   "source": [
    "선을 성공적으로 추가했지만 이 플롯은 이전 플롯과 다릅니다. 이전 플롯에는 각 펭귄 종에 대해 별도의 선이 있는 것과 달리 전체 데이터 세트에 대해 하나의 선만 있었습니다.\n",
    "\n",
    "미적 매핑이 *전역* 수준에서 `ggplot()`에 정의되면 플롯의 후속 각 지오메트리 레이어로 전달됩니다.\n",
    "\n",
    "그러나 **letplot**의 각 지오메트리 함수는 `mapping` 인수를 사용할 수도 있으며, 이를 통해 전역 수준에서 상속된 항목에 추가되는 *로컬* 수준에서 미적 매핑을 허용합니다.\n",
    "\n",
    "점은 종에 따라 색상이 지정되기를 원하지만 선이 종에 따라 분리되기를 원하지 않으므로 `geom_point()`에 대해서만 `color = species`를 지정해야 합니다. 따라서 전역 `aes()`에서 제거하고 `geom_point()`에만 추가합니다.\n"
   ]
  },
  {
   "cell_type": "code",
   "execution_count": null,
   "id": "9e12b3bf",
   "metadata": {},
   "outputs": [],
   "source": [
    "(\n",
    "    ggplot(data=penguins, mapping=aes(x=\"flipper_length_mm\", y=\"body_mass_g\"))\n",
    "    + geom_point(mapping=aes(color=\"species\"))\n",
    "    + geom_smooth(method=\"lm\")\n",
    ")"
   ]
  },
  {
   "cell_type": "markdown",
   "id": "928898ef",
   "metadata": {},
   "source": [
    "짜잔! 아직 완벽하지는 않지만 궁극적인 목표와 매우 유사한 것을 얻었습니다.\n",
    "\n",
    "여전히 각 펭귄 종에 대해 다른 모양을 사용하고 레이블을 개선해야 합니다.\n",
    "\n",
    "색맹이나 기타 색각 차이로 인해 사람들이 색상을 다르게 인식하기 때문에 플롯에서 색상만 사용하여 정보를 나타내는 것은 일반적으로 좋은 생각이 아닙니다. 따라서 색상 외에도 `species`를 `shape` 미학에 매핑할 수 있습니다."
   ]
  },
  {
   "cell_type": "code",
   "execution_count": null,
   "id": "17d5803b",
   "metadata": {},
   "outputs": [],
   "source": [
    "(\n",
    "    ggplot(data=penguins, mapping=aes(x=\"flipper_length_mm\", y=\"body_mass_g\"))\n",
    "    + geom_point(mapping=aes(color=\"species\", shape=\"species\"))\n",
    "    + geom_smooth(method=\"lm\")\n",
    ")"
   ]
  },
  {
   "cell_type": "markdown",
   "id": "3cfae7fc",
   "metadata": {},
   "source": [
    "범례는 점의 다른 모양도 반영하도록 자동으로 업데이트됩니다.\n",
    "\n",
    "마지막으로 새 레이어에서 `labs()` 함수를 사용하여 플롯의 레이블을 개선할 수 있습니다. `labs()`의 일부 인수는 자명할 수 있습니다. `title`은 플롯에 제목을 추가하고 `subtitle`은 부제목을 추가합니다. 다른 인수는 미적 매핑과 일치합니다. `x`는 x축 레이블, `y`는 y축 레이블, `color` 및 `shape`는 범례 레이블을 정의합니다."
   ]
  },
  {
   "cell_type": "code",
   "execution_count": null,
   "id": "b9b98ec4",
   "metadata": {},
   "outputs": [],
   "source": [
    "(\n",
    "    ggplot(data=penguins, mapping=aes(x=\"flipper_length_mm\", y=\"body_mass_g\"))\n",
    "    + geom_point(aes(color=\"species\", shape=\"species\"))\n",
    "    + geom_smooth(method=\"lm\")\n",
    "    + labs(\n",
    "        title=\"체질량과 지느러미 길이\",\n",
    "        subtitle=\"아델리, 턱끈, 젠투 펭귄의 크기\",\n",
    "        x=\"지느러미 길이 (mm)\",\n",
    "        y=\"체질량 (g)\",\n",
    "        color=\"종\",\n",
    "        shape=\"종\",\n",
    "    )\n",
    ")"
   ]
  },
  {
   "cell_type": "markdown",
   "id": "cdc33b33",
   "metadata": {},
   "source": [
    "드디어 \"궁극적인 목표\"와 완벽하게 일치하는 플롯을 얻었습니다!"
   ]
  },
  {
   "cell_type": "markdown",
   "id": "81863a95",
   "metadata": {},
   "source": [
    "### 연습\n",
    "\n",
    "1.  `penguins`에는 몇 개의 행이 있습니까?\n",
    "    몇 개의 열이 있습니까?\n",
    "\n",
    "2.  `penguins` 데이터 프레임의 `bill_depth_mm` 변수는 무엇을 설명합니까?\n",
    "    `load_penguins()`에 대한 도움말을 읽어보십시오. 예: `help(load_penguins)` 실행.\n",
    "\n",
    "3.  `bill_depth_mm` 대 `bill_length_mm`의 산점도를 만듭니다.\n",
    "    즉, y축에 `bill_depth_mm`을, x축에 `bill_length_mm`을 사용하여 산점도를 만듭니다.\n",
    "    이 두 변수 간의 관계를 설명하십시오.\n",
    "\n",
    "4.  `species` 대 `bill_depth_mm`의 산점도를 만들면 어떻게 됩니까?\n",
    "    더 나은 지오메트리 선택은 무엇일까요?\n",
    "\n",
    "5.  다음이 오류를 발생하는 이유는 무엇이며 어떻게 수정하시겠습니까?\n",
    "\n",
    "    ```파이썬\n",
    "    (ggplot(data = penguins) + \n",
    "      geom_point())\n",
    "    ```\n",
    "\n",
    "6.  이전 연습에서 만든 플롯에 다음 캡션을 추가합니다. \"데이터는 palmerpenguins 패키지에서 가져왔습니다.\" 힌트: `labs()`에 대한 설명서를 살펴보십시오.\n",
    "\n",
    "7.  다음 시각화를 다시 만듭니다.\n",
    "    `bill_depth_mm`은 어떤 미학에 매핑해야 합니까?\n",
    "    그리고 전역 수준 또는 지오메트리 수준에서 매핑해야 합니까?"
   ]
  },
  {
   "cell_type": "code",
   "execution_count": null,
   "id": "7c76be4b",
   "metadata": {
    "tags": [
     "remove-cell"
    ]
   },
   "outputs": [],
   "source": [
    "(\n",
    "    ggplot(data=penguins, mapping=aes(x=\"flipper_length_mm\", y=\"body_mass_g\"))\n",
    "    + geom_point(aes(color=\"bill_depth_mm\"))\n",
    "    + geom_smooth()\n",
    ")"
   ]
  },
  {
   "cell_type": "markdown",
   "id": "986fdc29",
   "metadata": {},
   "source": [
    "\n",
    "8.  이 코드를 머릿속으로 실행하고 출력이 어떻게 보일지 예측합니다.\n",
    "    그런 다음 파이썬에서 코드를 실행하고 예측을 확인합니다.\n",
    "\n",
    "    ```파이썬\n",
    "\n",
    "    (ggplot(\n",
    "      data = penguins,\n",
    "      mapping = aes(x = \"flipper_length_mm\", y = \"body_mass_g\", color = \"island\")\n",
    "    ) +\n",
    "      geom_point() +\n",
    "      geom_smooth(se = False)\n",
    "    )\n",
    "    ```\n",
    "\n",
    "9.  이 두 그래프는 다르게 보일까요?\n",
    "    왜 그렇거나 그렇지 않습니까?\n",
    "\n",
    "    ```파이썬\n",
    "\n",
    "    (ggplot(\n",
    "      data = penguins,\n",
    "      mapping = aes(x = \"flipper_length_mm\", y = \"body_mass_g\")\n",
    "    ) +\n",
    "      geom_point() +\n",
    "      geom_smooth()\n",
    "    )\n",
    "    ```\n",
    "    ```파이썬\n",
    "    (ggplot() +\n",
    "      geom_point(\n",
    "        data = penguins,\n",
    "        mapping = aes(x = \"flipper_length_mm\", y = \"body_mass_g\")\n",
    "      ) +\n",
    "      geom_smooth(\n",
    "        data = penguins,\n",
    "        mapping = aes(x = \"flipper_length_mm\", y = \"body_mass_g\")\n",
    "      )\n",
    "    )\n",
    "    ```"
   ]
  },
  {
   "cell_type": "markdown",
   "id": "10806a67",
   "metadata": {},
   "source": [
    "## **letsplot** 호출\n",
    "\n",
    "이러한 소개 섹션에서 벗어나면서 **letsplot** 코드의 더 간결한 표현으로 전환할 것입니다.\n",
    "\n",
    "지금까지는 배우는 데 도움이 되도록 매우 명시적으로 설명했습니다.\n",
    "\n",
    "```파이썬\n",
    "(ggplot(\n",
    "  data = penguins,\n",
    "  mapping = aes(x = \"flipper_length_mm\", y = \"body_mass_g\")\n",
    ") +\n",
    "  geom_point())\n",
    "```"
   ]
  },
  {
   "cell_type": "markdown",
   "id": "e4f403fb",
   "metadata": {},
   "source": [
    "일반적으로 함수의 첫 번째 또는 두 번째 인수는 매우 중요하므로 외워야 합니다.\n",
    "`ggplot()`의 첫 번째 두 인수는 `data`와 `mapping`이며, 책의 나머지 부분에서는 해당 이름을 제공하지 않습니다. 함수가 작성된 방식으로 인해 파이썬은 위치 때문에 이러한 변수를 예상한다는 것을 알고 있습니다. 이름을 쓰지 않으면 입력 시간을 절약하고 추가 텍스트 양을 줄여 플롯 간의 차이점을 더 쉽게 볼 수 있습니다.\n",
    "이는 나중에 다시 다룰 매우 중요한 프로그래밍 문제입니다.\n",
    "\n",
    "이전 플롯을 더 간결하게 다시 작성하면 다음과 같습니다.\n",
    "\n",
    "```파이썬\n",
    "(\n",
    "    ggplot(penguins, aes(x = \"flipper_length_mm\", y = \"body_mass_g\")) + \n",
    "  geom_point()\n",
    ")\n",
    "```"
   ]
  },
  {
   "cell_type": "markdown",
   "id": "8d219ea2",
   "metadata": {},
   "source": [
    "## 분포 시각화\n",
    "\n",
    "변수의 분포를 시각화하는 방법은 변수 유형(범주형 또는 수치형)에 따라 다릅니다.\n",
    "\n",
    "### 범주형 변수\n",
    "\n",
    "변수는 작은 값 집합 중 하나만 가질 수 있는 경우 **범주형**입니다.\n",
    "범주형 변수의 분포를 검사하려면 막대 차트를 사용할 수 있습니다.\n",
    "막대의 높이는 각 `x` 값으로 발생한 관찰 수를 표시합니다.\n"
   ]
  },
  {
   "cell_type": "code",
   "execution_count": null,
   "id": "21b45061",
   "metadata": {},
   "outputs": [],
   "source": [
    "(ggplot(penguins, aes(x=\"species\")) + geom_bar())"
   ]
  },
  {
   "cell_type": "markdown",
   "id": "699f42eb",
   "metadata": {},
   "source": [
    "이전에 `\"species\"` 열의 *데이터 유형*이 문자열임을 보았을 것입니다. 이상적으로는 여기에서 유한한 수의 상호 배타적인 그룹을 다루고 있다는 사실에 혼동이 없도록 범주형이기를 원합니다. 또 다른 장점은 플로팅 도구가 어떤 종류의 데이터로 작업하는지 알 수 있다는 것입니다.\n",
    "\n",
    "다음과 같이 **pandas**를 사용하여 변수를 범주형 변수로 변환할 수 있습니다."
   ]
  },
  {
   "cell_type": "code",
   "execution_count": null,
   "id": "4e046bb2",
   "metadata": {},
   "outputs": [],
   "source": [
    "penguins[\"species\"] = penguins[\"species\"].astype(\"category\")\n",
    "penguins.head()"
   ]
  },
  {
   "cell_type": "markdown",
   "id": "06d834a5",
   "metadata": {},
   "source": [
    "나중에 책에서 범주형 변수에 대해 더 자세히 배울 것입니다."
   ]
  },
  {
   "cell_type": "markdown",
   "id": "f9ca3124",
   "metadata": {},
   "source": [
    "\n",
    "### 수치형 변수\n",
    "\n",
    "변수는 광범위한 수치 값을 가질 수 있고 해당 값으로 더하기, 빼기 또는 평균을 내는 것이 합리적이면 **수치형**(또는 양적)입니다. 수치형 변수는 연속형이거나 이산형일 수 있습니다.\n",
    "\n",
    "연속 변수의 분포에 일반적으로 사용되는 시각화는 히스토그램입니다."
   ]
  },
  {
   "cell_type": "code",
   "execution_count": null,
   "id": "93675336",
   "metadata": {},
   "outputs": [],
   "source": [
    "(ggplot(penguins, aes(x=\"body_mass_g\")) + geom_histogram(binwidth=200))"
   ]
  },
  {
   "cell_type": "markdown",
   "id": "cdac30fd",
   "metadata": {},
   "source": [
    "히스토그램은 x축을 동일한 간격의 구간으로 나누고 막대의 높이를 사용하여 각 구간에 속하는 관찰 수를 표시합니다.\n",
    "위 그래프에서 가장 높은 막대는 39개의 관찰이 3,500그램에서 3,700그램 사이의 `body_mass_g` 값을 가지며, 이는 막대의 왼쪽 및 오른쪽 가장자리입니다.\n",
    "\n",
    "히스토그램의 구간 너비는 `x` 변수의 단위로 측정되는 binwidth 인수를 사용하여 설정할 수 있습니다.\n",
    "다른 구간 너비는 다른 패턴을 나타낼 수 있으므로 히스토그램으로 작업할 때는 항상 다양한 구간 너비를 탐색해야 합니다.\n",
    "아래 플롯에서 구간 너비 20은 너무 좁아 막대가 너무 많아 분포 모양을 결정하기 어렵습니다.\n",
    "마찬가지로 구간 너비 2,000은 너무 높아 모든 데이터가 세 개의 막대로만 구간화되어 분포 모양을 결정하기 어렵습니다.\n",
    "구간 너비 200은 합리적인 균형을 제공하지만, 특히 히스토그램은 오해의 소지가 있을 수 있으므로 항상 데이터를 몇 가지 다른 방식으로 살펴보아야 합니다."
   ]
  },
  {
   "cell_type": "markdown",
   "id": "a5f1980f",
   "metadata": {},
   "source": [
    "수치 변수의 분포에 대한 대안적인 시각화는 밀도 플롯입니다.\n",
    "밀도 플롯은 히스토그램의 부드러운 버전이며 특히 기본 부드러운 분포에서 비롯된 연속 데이터에 대한 실용적인 대안입니다.\n",
    "`geom_density()`가 밀도를 추정하는 방법에 대해서는 자세히 설명하지 않겠지만(함수 설명서에서 자세히 읽을 수 있음), 비유를 통해 밀도 곡선이 어떻게 그려지는지 설명하겠습니다.\n",
    "나무 블록으로 만든 히스토그램을 상상해 보십시오.\n",
    "그런 다음 그 위에 삶은 스파게티 면을 떨어뜨린다고 상상해 보십시오.\n",
    "블록 위에 드리워진 스파게티가 취하는 모양은 밀도 곡선의 모양으로 생각할 수 있습니다.\n",
    "히스토그램보다 세부 정보는 적지만 특히 최빈값과 왜도와 관련하여 분포 모양을 빠르게 파악하기가 더 쉬울 수 있습니다.\n"
   ]
  },
  {
   "cell_type": "code",
   "execution_count": null,
   "id": "6a58021f",
   "metadata": {},
   "outputs": [],
   "source": [
    "(ggplot(penguins, aes(x=\"body_mass_g\")) + geom_density())"
   ]
  },
  {
   "cell_type": "markdown",
   "id": "f0086086",
   "metadata": {},
   "source": [
    "### 연습\n",
    "\n",
    "1.  `penguins`의 `\"species\"` 막대 그래프를 만듭니다. 여기서 `\"species\"`를 `y` 미학에 할당합니다.\n",
    "    이 플롯은 어떻게 다릅니까?\n",
    "\n",
    "2.  다음 두 플롯은 어떻게 다릅니까?\n",
    "    막대 색상을 변경하는 데 `color` 또는 `fill` 중 어떤 미학이 더 유용합니까?\n",
    "\n",
    "    ```파이썬\n",
    "\n",
    "    (ggplot(penguins, aes(x = species)) +\n",
    "      geom_bar(color = \"red\"))\n",
    "\n",
    "    (ggplot(penguins, aes(x = species)) +\n",
    "      geom_bar(fill = \"red\"))\n",
    "    ```\n",
    "\n",
    "3.  `geom_histogram()`의 `bins` 인수는 무엇을 합니까?"
   ]
  },
  {
   "cell_type": "markdown",
   "id": "015b31a0",
   "metadata": {},
   "source": [
    "## 관계 시각화\n",
    "\n",
    "관계를 시각화하려면 플롯의 미학에 매핑된 변수가 두 개 이상 있어야 합니다. 하지만 상관 관계가 인과 관계가 아니고 인과 관계가 상관 관계가 아니라는 점을 기억해야 합니다!\n",
    "\n",
    "다음 섹션에서는 두 개 이상의 변수 간의 관계를 시각화하는 데 일반적으로 사용되는 플롯과 이를 만드는 데 사용되는 지오메트리에 대해 알아봅니다."
   ]
  },
  {
   "cell_type": "markdown",
   "id": "85458170",
   "metadata": {},
   "source": [
    "### 수치형 변수와 범주형 변수\n",
    "\n",
    "수치형 변수와 범주형 변수 간의 관계를 시각화하려면 나란히 놓인 상자 그림을 사용할 수 있습니다.\n",
    "\n",
    "**상자 그림**은 분포 내 위치 측정값(백분위수)에 대한 시각적 약칭 유형입니다.\n",
    "\n",
    "잠재적 이상값을 식별하는 데도 유용합니다. 각 상자 그림은 다음으로 구성됩니다.\n",
    "\n",
    "-   데이터의 중간 절반 범위를 나타내는 상자. 이 거리는 사분위수 범위(IQR)라고 하며 분포의 25번째 백분위수에서 75번째 백분위수까지 확장됩니다.\n",
    "    상자 중간에는 분포의 중앙값, 즉 50번째 백분위수를 표시하는 선이 있습니다.\n",
    "    이 세 줄은 분포의 확산 정도와 분포가 중앙값을 기준으로 대칭인지 아니면 한쪽으로 치우쳐 있는지에 대한 감각을 제공합니다.\n",
    "\n",
    "-   상자 가장자리에서 IQR의 1.5배 이상 떨어진 관찰을 표시하는 시각적 점.\n",
    "    이러한 이상값은 특이하므로 개별적으로 플로팅됩니다.\n",
    "\n",
    "-   상자의 각 끝에서 확장되어 분포에서 가장 먼 비이상값 지점까지 이어지는 선(또는 수염).\n",
    "\n",
    "\n",
    "`geom_boxplot()`을 사용하여 종별 체질량 분포를 살펴보겠습니다."
   ]
  },
  {
   "cell_type": "code",
   "execution_count": null,
   "id": "a636947a",
   "metadata": {},
   "outputs": [],
   "source": [
    "(ggplot(penguins, aes(x=\"species\", y=\"body_mass_g\")) + geom_boxplot())"
   ]
  },
  {
   "cell_type": "markdown",
   "id": "97b24caa",
   "metadata": {},
   "source": [
    "또는 `geom_density()`를 사용하여 확률 밀도 플롯을 만들 수 있습니다."
   ]
  },
  {
   "cell_type": "code",
   "execution_count": null,
   "id": "9b85a2df",
   "metadata": {},
   "outputs": [],
   "source": [
    "(ggplot(penguins, aes(x=\"body_mass_g\", color=\"species\")) + geom_density(size=2))"
   ]
  },
  {
   "cell_type": "markdown",
   "id": "e0c10ae4",
   "metadata": {},
   "source": [
    "또한 선의 두께를 `size` 인수를 사용하여 사용자 정의하여 배경에 대해 좀 더 눈에 띄도록 했습니다.\n",
    "\n",
    "또한 `species`를 `color` 및 `fill` 미학 모두에 매핑하고 `alpha` 미학을 사용하여 채워진 밀도 곡선에 투명도를 추가할 수 있습니다.\n",
    "이 미학은 0(완전히 투명)에서 1(완전히 불투명) 사이의 값을 갖습니다.\n",
    "다음 플롯에서는 0.5로 *설정*됩니다."
   ]
  },
  {
   "cell_type": "code",
   "execution_count": null,
   "id": "353189e5",
   "metadata": {},
   "outputs": [],
   "source": [
    "(\n",
    "    ggplot(penguins, aes(x=\"body_mass_g\", color=\"species\", fill=\"species\"))\n",
    "    + geom_density(alpha=0.5)\n",
    ")"
   ]
  },
  {
   "cell_type": "markdown",
   "id": "0a2c7d59",
   "metadata": {},
   "source": [
    "여기서 사용한 용어에 유의하십시오.\n",
    "\n",
    "-   해당 미학으로 표현되는 시각적 속성이 해당 변수의 값에 따라 달라지기를 원하면 변수를 미학에 *매핑*합니다.\n",
    "-   그렇지 않으면 미학의 값을 *설정*합니다.\n"
   ]
  },
  {
   "cell_type": "markdown",
   "id": "63de3309",
   "metadata": {},
   "source": [
    "### 두 개의 범주형 변수\n",
    "\n",
    "누적 막대 그래프를 사용하여 두 범주형 변수 간의 관계를 시각화할 수 있습니다.\n",
    "\n",
    "예를 들어 다음 두 누적 막대 그래프는 모두 `island`와 `species` 간의 관계, 또는 구체적으로 각 섬 내 `species`의 분포를 시각화합니다.\n",
    "\n",
    "첫 번째 플롯은 각 섬에 있는 각 펭귄 종의 빈도를 보여줍니다.\n",
    "빈도 플롯은 각 섬에 동일한 수의 아델리 펭귄이 있음을 보여줍니다.\n",
    "\n",
    "하지만 각 섬 내의 백분율 균형에 대해서는 잘 알 수 없습니다."
   ]
  },
  {
   "cell_type": "code",
   "execution_count": null,
   "id": "e091e211",
   "metadata": {},
   "outputs": [],
   "source": [
    "(ggplot(penguins, aes(x=\"island\", fill=\"species\")) + geom_bar())"
   ]
  },
  {
   "cell_type": "markdown",
   "id": "8e34c211",
   "metadata": {},
   "source": [
    "두 번째 플롯은 상대 빈도 플롯으로, 지오메트리에서 `position = \"fill\"`을 설정하여 만들었으며 섬 전체의 펭귄 수가 같지 않은 영향을 받지 않으므로 섬 전체의 종 분포를 비교하는 데 더 유용합니다.\n",
    "\n",
    "이 플롯을 사용하면 젠투 펭귄은 모두 비스코 섬에 살고 해당 섬의 펭귄 중 약 75%를 차지하며, 턱끈 펭귄은 모두 드림 섬에 살고 해당 섬의 펭귄 중 약 50%를 차지하며, 아델리 펭귄은 세 섬 모두에 살고 토르겔센 섬의 모든 펭귄을 차지한다는 것을 알 수 있습니다.\n"
   ]
  },
  {
   "cell_type": "code",
   "execution_count": null,
   "id": "7df8fb7a",
   "metadata": {},
   "outputs": [],
   "source": [
    "(ggplot(penguins, aes(x=\"island\", fill=\"species\")) + geom_bar(position=\"fill\"))"
   ]
  },
  {
   "cell_type": "markdown",
   "id": "cc83c3db",
   "metadata": {},
   "source": [
    "이러한 막대 그래프를 만들 때 막대로 분리될 변수를 `x` 미학에 매핑하고 막대 내부의 색상을 변경할 변수를 `fill` 미학에 매핑합니다."
   ]
  },
  {
   "cell_type": "markdown",
   "id": "f77e5c39",
   "metadata": {},
   "source": [
    "### 두 개의 수치형 변수\n",
    "\n",
    "지금까지 두 수치형 변수 간의 관계를 시각화하기 위한 산점도(`geom_point()`로 생성)와 부드러운 곡선(`geom_smooth()`로 생성)에 대해 배웠습니다.\n",
    "산점도는 아마도 두 수치형 변수 간의 관계를 시각화하는 데 가장 일반적으로 사용되는 플롯일 것입니다.\n"
   ]
  },
  {
   "cell_type": "code",
   "execution_count": null,
   "id": "5066527d",
   "metadata": {},
   "outputs": [],
   "source": [
    "(ggplot(penguins, aes(x=\"flipper_length_mm\", y=\"body_mass_g\")) + geom_point())"
   ]
  },
  {
   "cell_type": "markdown",
   "id": "427f22c9",
   "metadata": {},
   "source": [
    "### 세 개 이상의 변수\n",
    "\n",
    "이미 보았듯이 추가 미학에 매핑하여 플롯에 더 많은 변수를 통합할 수 있습니다.\n",
    "\n",
    "예를 들어 다음 산점도에서 점의 색상은 종을 나타내고 점의 모양은 섬을 나타냅니다.\n"
   ]
  },
  {
   "cell_type": "code",
   "execution_count": null,
   "id": "8ca23d34",
   "metadata": {},
   "outputs": [],
   "source": [
    "(\n",
    "    ggplot(penguins, aes(x=\"flipper_length_mm\", y=\"body_mass_g\"))\n",
    "    + geom_point(aes(color=\"species\", shape=\"island\"))\n",
    ")"
   ]
  },
  {
   "cell_type": "markdown",
   "id": "14d0aacb",
   "metadata": {},
   "source": [
    "그러나 플롯에 너무 많은 미적 매핑을 추가하면 복잡해지고 이해하기 어려워집니다.\n",
    "\n",
    "특히 범주형 변수에 유용한 또 다른 방법은 플롯을 **패싯**(또는 **작은 배수**라고도 함), 즉 데이터의 하위 집합을 각각 표시하는 하위 플롯으로 분할하는 것입니다.\n",
    "\n",
    "단일 변수로 플롯을 패싯하려면 `facet_wrap()`을 사용합니다.\n",
    "\n",
    "`facet_wrap()`의 첫 번째 인수는 함수에 연속 차트에 포함할 변수를 알려줍니다. `facet_wrap()`에 전달하는 변수는 범주형이어야 합니다."
   ]
  },
  {
   "cell_type": "code",
   "execution_count": null,
   "id": "00dd36e3",
   "metadata": {},
   "outputs": [],
   "source": [
    "(\n",
    "    ggplot(penguins, aes(x=\"flipper_length_mm\", y=\"body_mass_g\"))\n",
    "    + geom_point(aes(color=\"species\", shape=\"species\"))\n",
    "    + facet_wrap(facets=\"island\")\n",
    ")"
   ]
  },
  {
   "cell_type": "markdown",
   "id": "ee5a3eed",
   "metadata": {},
   "source": [
    "나중에 장에서 변수 분포 및 변수 간 관계를 시각화하기 위한 다른 많은 지오메트리에 대해 배울 것입니다."
   ]
  },
  {
   "cell_type": "markdown",
   "id": "c4566786",
   "metadata": {},
   "source": [
    "### 연습\n",
    "\n",
    "1.  `bill_depth_mm` 대 `bill_length_mm`의 산점도를 만들고 점을 `species`별로 색칠합니다.\n",
    "    종별 색칠을 추가하면 이 두 변수 간의 관계에 대해 무엇을 알 수 있습니까?\n",
    "    `species`별 패싯은 어떻습니까?\n",
    "\n",
    "2.  다음이 두 개의 개별 범례를 생성하는 이유는 무엇입니까?\n",
    "    두 범례를 결합하려면 어떻게 수정해야 합니까?\n",
    "\n",
    "    ```파이썬\n",
    "    (\n",
    "        ggplot(\n",
    "          data = penguins,\n",
    "          mapping = aes(\n",
    "            x = \"bill_length_mm\", y = \"bill_depth_mm\", \n",
    "            color = \"species\", shape = \"species\"\n",
    "          )\n",
    "        ) +\n",
    "          geom_point() +\n",
    "          labs(color = \"Species\")\n",
    "    )\n",
    "    ```\n",
    "\n",
    "3.  다음 두 개의 누적 막대 그래프를 만듭니다.\n",
    "    첫 번째 그래프로 어떤 질문에 답할 수 있습니까?\n",
    "    두 번째 그래프로 어떤 질문에 답할 수 있습니까?\n",
    "\n",
    "    ```파이썬\n",
    "    ggplot(penguins, aes(x = \"island\", fill = \"species\")) +\n",
    "      geom_bar(position = \"fill\")\n",
    "    ggplot(penguins, aes(x = \"species\", fill = \"island\")) +\n",
    "      geom_bar(position = \"fill\")\n",
    "    ```\n"
   ]
  },
  {
   "cell_type": "markdown",
   "id": "150fbd1f",
   "metadata": {},
   "source": [
    "## 플롯 저장하기\n",
    "\n",
    "플롯을 만든 후에는 다른 곳에서 사용할 수 있는 이미지로 저장하고 싶을 수 있습니다.\n",
    "이것이 `ggsave()`의 역할이며, 가장 최근에 만든 플롯을 디스크에 저장합니다.\n"
   ]
  },
  {
   "cell_type": "code",
   "execution_count": null,
   "id": "3410634b",
   "metadata": {},
   "outputs": [],
   "source": [
    "plotted_data = (\n",
    "    ggplot(penguins, aes(x=\"flipper_length_mm\", y=\"body_mass_g\")) + geom_point()\n",
    ")\n",
    "ggsave(plotted_data, filename=\"penguin-plot.svg\")"
   ]
  },
  {
   "cell_type": "markdown",
   "id": "ee6fa32c",
   "metadata": {},
   "source": [
    "이렇게 하면 그림이 표시된 위치의 디스크에 저장됩니다. 기본적으로 \"lets-plot-images\"라는 하위 디렉터리에 있습니다.\n",
    "\n",
    "\"svg\" 파일 형식을 사용했습니다. 파일을 저장할 수 있는 다양한 출력 옵션이 있습니다. 그래픽의 경우 *벡터 형식*이 일반적으로 *래스터 형식*보다 낫다는 것을 기억하십시오. 실제로는 jpg 또는 png 파일 형식보다 svg 또는 pdf 형식으로 플롯을 저장하는 것을 의미합니다. svg 형식은 Microsoft Word를 포함한 많은 컨텍스트에서 작동하며 좋은 기본값입니다. 형식 간에 선택하려면 파일 확장자를 제공하기만 하면 파일 형식이 자동으로 변경됩니다(예: svg의 경우 \"chart.svg\", png의 경우 \"chart.png\"). 그림을 HTML 형식으로 저장할 수도 있습니다.\n",
    "\n",
    "래스터 형식을 사용하는 경우 *scale* 키워드 인수를 통해 그림 크기를 지정해야 합니다."
   ]
  },
  {
   "cell_type": "code",
   "execution_count": null,
   "id": "852afe51",
   "metadata": {
    "tags": [
     "remove-cell"
    ]
   },
   "outputs": [],
   "source": [
    "import shutil\n",
    "\n",
    "shutil.rmtree(\"lets-plot-images\")"
   ]
  },
  {
   "cell_type": "markdown",
   "id": "2987bf18",
   "metadata": {},
   "source": [
    "### 연습\n",
    "\n",
    "1. 위 그림을 PNG로 저장합니다. 배율을 변경해 보십시오."
   ]
  },
  {
   "cell_type": "markdown",
   "id": "1390edc2",
   "metadata": {},
   "source": [
    "## 일반적인 문제\n",
    "\n",
    "코드를 실행하기 시작하면 문제가 발생할 가능성이 높습니다.\n",
    "걱정하지 마십시오. 누구에게나 일어나는 일입니다.\n",
    "우리 모두 수년 동안 파이썬 코드를 작성해 왔지만 매일 처음 시도에서 작동하지 않는 코드를 작성합니다!\n",
    "\n",
    "실행 중인 코드와 책의 코드를 주의 깊게 비교하는 것부터 시작하십시오. 잘못된 문자 하나가 모든 차이를 만들 수 있습니다!\n",
    "모든 `(`이 `)`와 일치하고 모든 `\"`이 다른 `\"`와 쌍을 이루는지 확인하십시오. Visual Studio Code에서는 괄호 색상 일치 확장을 사용하여 괄호를 닫았는지 여부를 쉽게 확인할 수 있습니다.\n",
    "\n",
    "때로는 코드를 실행해도 아무 일도 일어나지 않습니다.\n",
    "\n",
    "R 통계 프로그래밍 언어에서 온 사람들은 `+`를 잘못된 위치에 두는 것에 대해 걱정할 수 있습니다. 하지만 두려워하지 마십시오. **letsplot**의 구문에서는 `+`가 줄의 시작이나 끝에 올 수 있습니다.\n",
    "\n",
    "\n",
    "여전히 막혔다면 도움말을 사용해 보십시오.\n",
    "대화형 창에서 `help(function_name)`을 실행하여 모든 파이썬 함수에 대한 도움말을 얻을 수 있습니다.\n",
    "도움말이 그다지 유용해 보이지 않더라도 걱정하지 마십시오. 대신 예제로 건너뛰고 수행하려는 작업과 일치하는 코드를 찾으십시오.\n",
    "\n",
    "여전히 막혔다면 **letsplot** [설명서](https://lets-plot.org/)를 확인하거나 Google 검색을 수행하십시오(특히 오류 메시지에 유용함).\n"
   ]
  },
  {
   "cell_type": "markdown",
   "id": "f33dc022",
   "metadata": {},
   "source": [
    "## 요약\n",
    "\n",
    "이 장에서는 **letsplot**을 사용한 데이터 시각화의 기본 사항을 배웠습니다.\n",
    "**letsplot**의 기본 아이디어인 시각화는 데이터의 변수를 위치, 색상, 크기 및 모양과 같은 미적 속성에 매핑하는 것으로 시작했습니다.\n",
    "그런 다음 플롯의 복잡성을 높이고 프레젠테이션을 계층별로 개선하는 방법에 대해 배웠습니다.\n",
    "또한 추가 미적 매핑을 활용하거나 패싯을 사용하여 플롯을 작은 배수로 분할하여 단일 변수의 분포를 시각화하고 두 개 이상의 변수 간의 관계를 시각화하는 데 일반적으로 사용되는 플롯에 대해서도 배웠습니다.\n",
    "\n",
    "이 책 전체에서 시각화를 계속 사용할 것이며 필요에 따라 새로운 기술을 소개하고 후속 장에서 **letsplot**을 사용하여 시각화를 만드는 방법에 대해 더 자세히 알아볼 것입니다.\n",
    "\n",
    "시각화의 기본 사항을 익혔으므로 다음 장에서는 약간 방향을 바꿔 실용적인 워크플로 조언을 제공할 것입니다.\n",
    "더 많은 파이썬 코드를 작성하면서 체계적으로 유지하는 데 도움이 되도록 이 책의 이 부분 전체에 걸쳐 워크플로 조언과 데이터 과학 도구를 함께 제공합니다."
   ]
  }
 ],
 "metadata": {
  "jupytext": {
   "cell_metadata_filter": "-all",
   "encoding": "# -*- coding: utf-8 -*-",
   "formats": "md:myst",
   "main_language": "python"
  },
  "kernelspec": {
   "display_name": ".venv",
   "language": "python",
   "name": "python3"
  },
  "language_info": {
   "codemirror_mode": {
    "name": "ipython",
    "version": 3
   },
   "file_extension": ".py",
   "mimetype": "text/x-python",
   "name": "python",
   "nbconvert_exporter": "python",
   "pygments_lexer": "ipython3",
   "version": "3.10.0"
  },
  "toc-showtags": true
 },
 "nbformat": 4,
 "nbformat_minor": 5
}
