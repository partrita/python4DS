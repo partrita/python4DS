{
 "cells": [
  {
   "cell_type": "markdown",
   "id": "95f0a171",
   "metadata": {},
   "source": [
    "(boolean-data)=\n",
    "# 불리언 데이터\n",
    "\n",
    "## 소개\n",
    "\n",
    "이 장에서는 불리언 데이터, 즉 `True` 또는 `False`가 될 수 있는 데이터(1 또는 0으로 인코딩될 수도 있음)를 소개합니다. 데이터 프레임에서 참과 거짓이 어떻게 작동하는지 살펴보기 전에 먼저 기본적인 파이썬 참 및 거짓 불리언 변수를 살펴보겠습니다.\n",
    "\n",
    "## 불리언\n",
    "\n",
    "수행하게 될 가장 중요한 작업 중 일부는 불리언 데이터 유형이라고도 하는 `True` 및 `False` 값을 사용하는 것입니다. 이는 `1`과 같은 숫자와 마찬가지로 기본적인 파이썬 변수입니다.\n",
    "\n",
    "### 불리언 변수 및 조건\n",
    "\n",
    "변수에 `True` 또는 `False` 값을 할당하는 것은 다른 할당과 동일합니다."
   ]
  },
  {
   "cell_type": "code",
   "execution_count": null,
   "id": "7e35b9fc",
   "metadata": {},
   "outputs": [],
   "source": [
    "bool_variable = True\n",
    "bool_variable"
   ]
  },
  {
   "cell_type": "markdown",
   "id": "b32b1251",
   "metadata": {},
   "source": [
    "불리언과 관련된 연산에는 두 가지 유형이 있습니다. 기존 불리언을 결합하는 불리언 연산과 실행될 때 불리언을 생성하는 조건 연산입니다.\n",
    "\n",
    "불리언을 반환하는 불리언 연산자는 다음과 같습니다.\n",
    "\n",
    "| 연산자 | 설명 |\n",
    "| :---: | :--- |\n",
    "|`x and y`| `x`와 `y`가 모두 참인가? |\n",
    "|`x or y` | `x`와 `y` 중 적어도 하나가 참인가? |\n",
    "| `not x` | `x`가 거짓인가? | \n",
    "\n",
    "이들은 예상대로 작동합니다. `True and False`는 `False`로 평가되고 `True or False`는 `True`로 평가됩니다. `not` 키워드도 있습니다. 예를 들어"
   ]
  },
  {
   "cell_type": "code",
   "execution_count": null,
   "id": "590cd75d",
   "metadata": {},
   "outputs": [],
   "source": [
    "not True"
   ]
  },
  {
   "cell_type": "markdown",
   "id": "dcd0a01b",
   "metadata": {},
   "source": [
    "예상대로입니다.\n",
    "\n",
    "조건은 불리언으로 평가되는 표현식입니다. 간단한 예는 `10 == 20`입니다. `==`는 양쪽의 객체를 비교하고 동일한 *값*을 가지면 `True`를 반환하는 연산자입니다. 단, 다른 데이터 유형과 함께 사용할 때는 주의하십시오.\n",
    "\n",
    "다음은 불리언을 반환하는 조건 표입니다.\n",
    "\n",
    "| 연산자  | 설명                          |\n",
    "| :-------- | :----------------------------------- |\n",
    "| `x == y ` | `x`가 `y`와 같은가?                 |\n",
    "| `x != y`  | `x`가 `y`와 같지 않은가?             |\n",
    "| `x > y`   | `x`가 `y`보다 큰가?             |\n",
    "| `x >= y`  | `x`가 `y`보다 크거나 같은가? |\n",
    "| `x < y`   | `x`가 `y`보다 작은가?                |\n",
    "| `x <= y`  | `x`가 `y`보다 작거나 같은가?    |\n",
    "| `x is y`  | `x`가 `y`와 동일한 객체인가?       |\n",
    "\n",
    "\n",
    "표에서 볼 수 있듯이 `==`의 반대는 `!=`이며 '값과 같지 않음'으로 읽을 수 있습니다. 다음은 `==`의 예입니다."
   ]
  },
  {
   "cell_type": "code",
   "execution_count": null,
   "id": "51622575",
   "metadata": {},
   "outputs": [],
   "source": [
    "boolean_condition = 10 == 20\n",
    "print(boolean_condition)"
   ]
  },
  {
   "cell_type": "markdown",
   "id": "e4367753",
   "metadata": {},
   "source": [
    "```{admonition} 연습\n",
    "`not (not True)`는 무엇으로 평가될까요?\n",
    "```"
   ]
  },
  {
   "cell_type": "markdown",
   "id": "91dd45b6",
   "metadata": {},
   "source": [
    "조건의 진정한 힘은 더 복잡한 예에서 사용하기 시작할 때 나타납니다. 조건을 평가하는 키워드 중 일부는 `if`, `else`, `and`, `or`, `in`, `not` 및 `is`입니다. 다음은 이러한 조건부 키워드 중 일부가 작동하는 방식을 보여주는 예입니다."
   ]
  },
  {
   "cell_type": "code",
   "execution_count": null,
   "id": "0c550daa",
   "metadata": {},
   "outputs": [],
   "source": [
    "name = \"Ada\"\n",
    "score = 99\n",
    "\n",
    "if name == \"Ada\" and score > 90:\n",
    "    print(\"에이다, 당신은 높은 점수를 받았습니다.\")\n",
    "\n",
    "if name == \"Smith\" or score > 90:\n",
    "    print(\"당신은 스미스이거나 높은 점수를 받았습니다.\")\n",
    "\n",
    "if name != \"Smith\" and score > 90:\n",
    "    print(\"당신은 스미스가 아니고 높은 점수를 받았습니다.\")"
   ]
  },
  {
   "cell_type": "markdown",
   "id": "6e01a3f9",
   "metadata": {},
   "source": [
    "이 세 가지 조건은 모두 참으로 평가되므로 세 가지 메시지가 모두 인쇄됩니다. `==`와 `!=`가 각각 같음과 같지 않음을 테스트한다는 점을 감안할 때 `is`와 `not` 키워드가 무엇을 위한 것인지 궁금할 수 있습니다. 파이썬의 모든 것은 객체이며 값은 객체에 할당될 수 있다는 것을 기억하십시오. `==`와 `!=`는 *값*을 비교하는 반면 `is`와 `not`은 *객체*를 비교합니다. 예를 들어,"
   ]
  },
  {
   "cell_type": "code",
   "execution_count": null,
   "id": "7420e1c1",
   "metadata": {},
   "outputs": [],
   "source": [
    "name_list = [\"Ada\", \"Adam\"]\n",
    "name_list_two = [\"Ada\", \"Adam\"]\n",
    "\n",
    "# 값 비교\n",
    "print(name_list == name_list_two)\n",
    "\n",
    "# 객체 비교\n",
    "print(name_list is name_list_two)"
   ]
  },
  {
   "cell_type": "markdown",
   "id": "3a78e664",
   "metadata": {},
   "source": [
    "분기 if 문이 많은 코드는 사용자나 코드를 읽는 다른 사람에게 그다지 도움이 되지 않습니다. 일부 자동 코드 검사기는 이를 감지하여 코드가 너무 복잡하다고 알려줍니다. 거의 모든 경우에 많은 중첩 `if` 문을 사용하는 것보다 더 좋고 명확한 분기 논리 없이 코드를 다시 작성하는 방법이 있습니다."
   ]
  },
  {
   "cell_type": "markdown",
   "id": "56b4f2ef",
   "metadata": {},
   "source": [
    "가장 유용한 조건부 키워드 중 하나는 `in`입니다. 이것은 변수를 선택하거나 무언가가 있어야 할 위치에 있는지 확인할 수 있기 때문에 대부분의 코더의 삶에서 하루에 열 번은 나타날 것입니다."
   ]
  },
  {
   "cell_type": "code",
   "execution_count": null,
   "id": "39caa7be",
   "metadata": {},
   "outputs": [],
   "source": [
    "name_list = [\"Lovelace\", \"Smith\", \"Hopper\", \"Babbage\"]\n",
    "\n",
    "print(\"Lovelace\" in name_list)\n",
    "\n",
    "print(\"Bob\" in name_list)"
   ]
  },
  {
   "cell_type": "markdown",
   "id": "e044d14a",
   "metadata": {},
   "source": [
    "```{admonition} 연습\n",
    "`in`을 사용하여 문자열 \"Walloping weasels\"에 \"a\"가 있는지 확인합니다. \"Anodyne\"에 \"a\"가 `in`되어 있습니까?\n",
    "```"
   ]
  },
  {
   "cell_type": "markdown",
   "id": "19f0782e",
   "metadata": {},
   "source": [
    "반대는 `not in`입니다.\n",
    "\n",
    "마지막으로, *어느 시점에서든* 반드시 사용하게 될 조건부 구문 중 하나는 `if`...`else` 구조입니다."
   ]
  },
  {
   "cell_type": "code",
   "execution_count": null,
   "id": "95794e71",
   "metadata": {},
   "outputs": [],
   "source": [
    "score = 98\n",
    "\n",
    "if score == 100:\n",
    "    print(\"만점!\")\n",
    "elif score > 90 and score < 100:\n",
    "    print(\"높은 점수!\")\n",
    "elif score > 10 and score <= 90:\n",
    "    pass\n",
    "else:\n",
    "    print(\"다음 기회에 행운을 빌어요.\")"
   ]
  },
  {
   "cell_type": "markdown",
   "id": "94a359e7",
   "metadata": {},
   "source": [
    "점수가 11점에서 90점 사이이면 아무 작업도 수행하지 않고 그렇지 않으면 메시지를 인쇄합니다.\n",
    "\n",
    "```{admonition} 연습\n",
    "점수가 90점 이상이면 \"잘 했어요\", 40점에서 90점 사이이면 \"좋아요\", 그렇지 않으면 \"운이 없었네요\"를 인쇄하는 새로운 `if` ... `elif` ... `else` 문을 만듭니다.\n",
    "```\n",
    "\n",
    "파이썬의 좋은 기능 중 하나는 한 줄에 여러 불리언 비교를 할 수 있다는 것입니다."
   ]
  },
  {
   "cell_type": "code",
   "execution_count": null,
   "id": "cd1cd061",
   "metadata": {},
   "outputs": [],
   "source": [
    "a, b = 3, 6\n",
    "\n",
    "1 < a < b < 20"
   ]
  },
  {
   "cell_type": "markdown",
   "id": "4f06e97c",
   "metadata": {},
   "source": [
    "### 리스트 컴프리헨션의 조건\n",
    "\n",
    "리스트 컴프리헨션은 파이썬에서 매우 유용한 패턴입니다. 다음은 0부터 시작하는 처음 12개 숫자의 리스트를 생성하는 간단한 예입니다."
   ]
  },
  {
   "cell_type": "code",
   "execution_count": null,
   "id": "59638407",
   "metadata": {},
   "outputs": [],
   "source": [
    "[x for x in range(12)]"
   ]
  },
  {
   "cell_type": "markdown",
   "id": "b58abd5e",
   "metadata": {},
   "source": [
    "불리언은 조건성을 제공합니다. `x` 값에 따라 참 또는 거짓으로 평가되는 조건이 뒤따르는 `if` 문을 추가합니다. 예를 들어 2로 나누어지는 숫자만 요청할 수 있습니다."
   ]
  },
  {
   "cell_type": "code",
   "execution_count": null,
   "id": "8e8072ea",
   "metadata": {},
   "outputs": [],
   "source": [
    "[x for x in range(12) if x % 2 == 0]"
   ]
  },
  {
   "cell_type": "markdown",
   "id": "3587832f",
   "metadata": {},
   "source": [
    "이 트릭은 `else` 절에서도 작동합니다(단, `if`와 `else`를 모두 `for x in ...` 부분 앞으로 옮겼습니다)."
   ]
  },
  {
   "cell_type": "code",
   "execution_count": null,
   "id": "ec01f460",
   "metadata": {},
   "outputs": [],
   "source": [
    "[x if x % 2 == 0 else \"2로 나누어지지 않음\" for x in range(12)]"
   ]
  },
  {
   "cell_type": "markdown",
   "id": "6c48ec42",
   "metadata": {},
   "source": [
    "### 참 같은 값과 거짓 같은 값"
   ]
  },
  {
   "cell_type": "markdown",
   "id": "baf6cfd4",
   "metadata": {},
   "source": [
    "파이썬 객체는 불리언 값을 반환하는 표현식에 사용될 수 있습니다. 예를 들어 리스트 `listy`가 `if listy`와 함께 사용될 때입니다. 비어 있는 내장 파이썬 객체는 일반적으로 `False`로 평가되며 '거짓 같은(Falsy)'이라고 합니다. 반대로 이러한 내장 객체가 비어 있지 않으면 `True`로 평가되며 '참 같은(truthy)'이라고 합니다.\n",
    "몇 가지 예를 살펴보겠습니다."
   ]
  },
  {
   "cell_type": "code",
   "execution_count": null,
   "id": "dc605a93",
   "metadata": {},
   "outputs": [],
   "source": [
    "listy = []\n",
    "other_listy = [1, 2, 3]\n",
    "\n",
    "if not (listy):\n",
    "    print(\"거짓 같음\")\n",
    "else:\n",
    "    print(\"참 같음\")"
   ]
  },
  {
   "cell_type": "code",
   "execution_count": null,
   "id": "da8fe682",
   "metadata": {},
   "outputs": [],
   "source": [
    "if not (other_listy):\n",
    "    print(\"거짓 같음\")\n",
    "else:\n",
    "    print(\"참 같음\")"
   ]
  },
  {
   "cell_type": "markdown",
   "id": "ad7b8743",
   "metadata": {},
   "source": [
    "이 메서드는 리스트에만 작동하는 것이 아니라 다른 다양한 참 같은 객체와 거짓 같은 객체에도 작동합니다."
   ]
  },
  {
   "cell_type": "code",
   "execution_count": null,
   "id": "d80ba0be",
   "metadata": {},
   "outputs": [],
   "source": [
    "if not 0:\n",
    "    print(\"거짓 같음\")\n",
    "else:\n",
    "    print(\"참 같음\")"
   ]
  },
  {
   "cell_type": "code",
   "execution_count": null,
   "id": "1973d44d",
   "metadata": {},
   "outputs": [],
   "source": [
    "if not [0, 0, 0]:\n",
    "    print(\"거짓 같음\")\n",
    "else:\n",
    "    print(\"참 같음\")"
   ]
  },
  {
   "cell_type": "markdown",
   "id": "2d836d8c",
   "metadata": {},
   "source": [
    "0은 거짓 같은 값이었고 부동 소수점의 없음이었지만 세 개의 0으로 이루어진 리스트는 빈 리스트가 아니므로 참 같은 값으로 평가됩니다."
   ]
  },
  {
   "cell_type": "code",
   "execution_count": null,
   "id": "62840c4a",
   "metadata": {},
   "outputs": [],
   "source": [
    "if not None:\n",
    "    print(\"거짓 같음\")\n",
    "else:\n",
    "    print(\"참 같음\")"
   ]
  },
  {
   "cell_type": "markdown",
   "id": "1e69d8ff",
   "metadata": {},
   "source": [
    "무엇이 참 같거나 거짓 같은지 아는 것은 실제로 유용합니다. `list_vals`라는 리스트에 값이 없는 경우 특정 동작으로 기본 설정하고 싶다고 가정해 보겠습니다. 이제 `if list_vals`를 사용하여 간단하게 수행할 수 있다는 것을 알게 되었습니다."
   ]
  },
  {
   "cell_type": "markdown",
   "id": "303b1038",
   "metadata": {},
   "source": [
    "### any() 및 all()\n",
    "\n",
    "물론 불리언의 세계는 넓습니다. 항상 혼자 나타나는 것은 아닙니다. 이것이 `any()` 및 `all()` 연산자가 존재하는 이유입니다. 이들은 불리언 리스트와 같은 불리언의 *반복 가능 객체*에 적용됩니다.\n",
    "\n",
    "`any()`는 참 값이 하나 이상 있는 불리언 리스트를 받아 참을 반환합니다."
   ]
  },
  {
   "cell_type": "code",
   "execution_count": null,
   "id": "bdcb09a5",
   "metadata": {},
   "outputs": [],
   "source": [
    "any([True, False, False])"
   ]
  },
  {
   "cell_type": "markdown",
   "id": "541862c4",
   "metadata": {},
   "source": [
    "`all()`은 불리언 리스트를 받아 *모든* 값이 참인 경우에만 참을 반환합니다."
   ]
  },
  {
   "cell_type": "code",
   "execution_count": null,
   "id": "2f666185",
   "metadata": {},
   "outputs": [],
   "source": [
    "all([True, True, True, True])"
   ]
  },
  {
   "cell_type": "markdown",
   "id": "767f254b",
   "metadata": {},
   "source": [
    "이 두 가지 모두 1과 0에 대해서도 작동합니다."
   ]
  },
  {
   "cell_type": "code",
   "execution_count": null,
   "id": "78777d9c",
   "metadata": {},
   "outputs": [],
   "source": [
    "all([0, 0, 0, 1])"
   ]
  },
  {
   "cell_type": "markdown",
   "id": "8e06930b",
   "metadata": {},
   "source": [
    "## **pandas** 데이터 프레임의 불리언\n",
    "\n",
    "### 데이터 프레임의 불리언 연산\n",
    "\n",
    "데이터 프레임에 참 또는 거짓 값이 있는 데이터로 작업하는 시나리오를 자주 접하게 될 것입니다. **pandas** 데이터 프레임에서 불리언 열을 쉽게 만들 수 있습니다."
   ]
  },
  {
   "cell_type": "code",
   "execution_count": null,
   "id": "7f338fd7",
   "metadata": {},
   "outputs": [],
   "source": [
    "import pandas as pd\n",
    "\n",
    "df = pd.DataFrame.from_dict(\n",
    "    {\n",
    "        \"bool_col_1\": [False] * 3 + [True, True],\n",
    "        \"bool_col_2\": [True, False, True, False, True],\n",
    "    }\n",
    ")\n",
    "df"
   ]
  },
  {
   "cell_type": "markdown",
   "id": "c7a0cd32",
   "metadata": {},
   "source": [
    "일반적인 **pandas** 데이터 프레임 열과 마찬가지로 이러한 열에 대해 연산을 수행할 수 있습니다. 이러한 연산은 `&`(and), `|`(or), `==`(equal) 및 `!=`(not equal)을 허용합니다."
   ]
  },
  {
   "cell_type": "code",
   "execution_count": null,
   "id": "9cdaec7a",
   "metadata": {},
   "outputs": [],
   "source": [
    "df[\"bool_col_1\"] | df[\"bool_col_2\"]"
   ]
  },
  {
   "cell_type": "markdown",
   "id": "25dede69",
   "metadata": {},
   "source": [
    "참 값의 개수를 세는 것이 유용한 경우가 많습니다. **pandas** 데이터 프레임에서 불리언 열의 합계를 구하면 `True` 값의 개수를 합산합니다."
   ]
  },
  {
   "cell_type": "code",
   "execution_count": null,
   "id": "89ee3e44",
   "metadata": {},
   "outputs": [],
   "source": [
    "df.sum()"
   ]
  },
  {
   "cell_type": "markdown",
   "id": "f2dc1d93",
   "metadata": {},
   "source": [
    "그리고 참과 거짓 대신 1과 0으로 형식이 지정된 데이터를 얻는 경우 데이터 유형을 변경하여 쉽게 변환할 수 있습니다."
   ]
  },
  {
   "cell_type": "code",
   "execution_count": null,
   "id": "5e30cee7",
   "metadata": {},
   "outputs": [],
   "source": [
    "df = pd.DataFrame.from_dict({\"bool_col\": [0, 1, 0, 1, 1]})\n",
    "df[\"bool_col\"].astype(bool)"
   ]
  },
  {
   "cell_type": "markdown",
   "id": "98e401db",
   "metadata": {},
   "source": [
    "### 열을 사용한 비교에서 불리언 만들기\n",
    "\n",
    "\n",
    "숫자 (또는 다른) 열에서 불리언 열을 만들 수도 있습니다. 이를 설명하기 위해 다이아몬드 데이터 세트를 사용해 보겠습니다."
   ]
  },
  {
   "cell_type": "code",
   "execution_count": null,
   "id": "9f63005f",
   "metadata": {},
   "outputs": [],
   "source": [
    "diamonds = pd.read_csv(\n",
    "    \"https://github.com/mwaskom/seaborn-data/raw/master/diamonds.csv\"\n",
    ")\n",
    "diamonds.head()"
   ]
  },
  {
   "cell_type": "markdown",
   "id": "67c2e2cf",
   "metadata": {},
   "source": [
    "가격이 1000 이상일 때마다 새로운 불리언 변수를 만들 것입니다."
   ]
  },
  {
   "cell_type": "code",
   "execution_count": null,
   "id": "7a27f0a0",
   "metadata": {},
   "outputs": [],
   "source": [
    "diamonds[\"expensive\"] = diamonds[\"price\"] > 1000\n",
    "diamonds.sample(10)"
   ]
  },
  {
   "cell_type": "markdown",
   "id": "8383cab5",
   "metadata": {},
   "source": [
    "물론 이것은 할당 호출에서도 달성할 수 있습니다."
   ]
  },
  {
   "cell_type": "code",
   "execution_count": null,
   "id": "c78a6d47",
   "metadata": {},
   "outputs": [],
   "source": [
    "diamonds.assign(expensive=lambda x: x[\"price\"] > 1000).head()"
   ]
  },
  {
   "cell_type": "markdown",
   "id": "622ff486",
   "metadata": {},
   "source": [
    "데이터 프레임과 관련하여 매우 유용한 또 다른 불리언 사용은 `.isin()` 함수입니다. 예를 들어 데이터 프레임에 열 집합이 있는지 여부에 대한 참 또는 거짓 값만 원하는 경우:"
   ]
  },
  {
   "cell_type": "code",
   "execution_count": null,
   "id": "d12f537d",
   "metadata": {},
   "outputs": [],
   "source": [
    "diamonds.columns.isin([\"x\", \"y\", \"z\"])"
   ]
  },
  {
   "cell_type": "markdown",
   "id": "6de309a4",
   "metadata": {},
   "source": [
    "### 데이터 프레임의 any() 및 all()\n",
    "\n",
    "**pandas** 불리언 열은 불리언 리스트와 매우 유사하게 작동하며 **pandas** 내장 `.any()` 및 `.all()` 메서드를 통해 동일한 논리를 적용할 수 있습니다. `\"expensive\"`에 대한 일부 항목이 참일 것으로 예상되므로 `any()`는 참을 반환해야 합니다."
   ]
  },
  {
   "cell_type": "code",
   "execution_count": null,
   "id": "35e73305",
   "metadata": {},
   "outputs": [],
   "source": [
    "diamonds[\"expensive\"].any()"
   ]
  },
  {
   "cell_type": "markdown",
   "id": "a64edf0c",
   "metadata": {},
   "source": [
    "### 논리적 부분 집합 만들기\n",
    "\n",
    "지금까지 효과적으로 사용해 왔지만 명시적으로 만드는 것이 유용합니다. 불리언을 사용하여 데이터 프레임의 논리적 부분 집합을 만들 수 있습니다. `x`가 `y`보다 큰 데이터 프레임의 부분만 원한다고 가정해 보겠습니다."
   ]
  },
  {
   "cell_type": "code",
   "execution_count": null,
   "id": "d1bbb0fa",
   "metadata": {},
   "outputs": [],
   "source": [
    "diamonds[diamonds[\"x\"] > diamonds[\"y\"]]"
   ]
  },
  {
   "cell_type": "markdown",
   "id": "9b5906ba",
   "metadata": {},
   "source": [
    "`diamonds[\"x\"] > diamonds[\"y\"]` 표현식은 조건이 참인 행만 필터링하는 데 사용되는 불리언 열을 만듭니다."
   ]
  }
 ],
 "metadata": {
  "interpreter": {
   "hash": "9d7534ecd9fbc7d385378f8400cf4d6cb9c6175408a574f1c99c5269f08771cc"
  },
  "jupytext": {
   "cell_metadata_filter": "-all",
   "encoding": "# -*- coding: utf-8 -*-",
   "formats": "md:myst",
   "main_language": "python"
  },
  "kernelspec": {
   "display_name": "Python 3 (ipykernel)",
   "language": "python",
   "name": "python3"
  },
  "language_info": {
   "codemirror_mode": {
    "name": "ipython",
    "version": 3
   },
   "file_extension": ".py",
   "mimetype": "text/x-python",
   "name": "python",
   "nbconvert_exporter": "python",
   "pygments_lexer": "ipython3",
   "version": "3.10.12"
  },
  "toc-showtags": true
 },
 "nbformat": 4,
 "nbformat_minor": 5
}
