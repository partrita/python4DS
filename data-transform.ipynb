{
 "cells": [
  {
   "cell_type": "markdown",
   "id": "95f0a171",
   "metadata": {},
   "source": [
    "(data-transform)=\n",
    "# 데이터 변환\n",
    "\n",
    "## 소개\n",
    "\n",
    "데이터가 필요한 정확한 형태로 도착하는 경우는 매우 드뭅니다. 종종 새로운 변수나 요약을 만들어야 하거나, 변수 이름을 바꾸거나 관찰 순서를 변경하여 데이터를 다루기 쉽게 만들고 싶을 수도 있습니다.\n",
    "\n",
    "이 장에서는 **pandas** 패키지와 2013년 뉴욕시에서 출발한 항공편에 대한 새로운 데이터 세트를 사용하여 데이터 변환을 소개하면서 이 모든 것(그리고 그 이상!)을 수행하는 방법을 배웁니다.\n",
    "\n",
    "이 장의 목표는 표 형식 데이터를 담는 특수한 종류의 객체인 데이터 프레임을 변환하기 위한 모든 주요 도구에 대한 개요를 제공하는 것입니다.\n",
    "\n",
    "특정 유형의 데이터(예: 숫자, 문자열, 날짜)를 자세히 살펴보기 시작하면서 이후 장에서 이러한 함수를 더 자세히 다룰 것입니다.\n",
    "\n",
    "### 전제 조건\n",
    "\n",
    "이 장에서는 데이터 과학에 가장 널리 사용되는 도구 중 하나인 **pandas** 패키지에 중점을 둘 것입니다. **pandas**가 설치되어 있는지 확인해야 합니다. 이렇게 하려면 다음을 실행할 수 있습니다."
   ]
  },
  {
   "cell_type": "code",
   "execution_count": null,
   "id": "04dcb195",
   "metadata": {},
   "outputs": [],
   "source": [
    "import pandas as pd"
   ]
  },
  {
   "cell_type": "markdown",
   "id": "438cc0a4",
   "metadata": {},
   "source": [
    "이 명령이 실패하면 **pandas**가 설치되어 있지 않은 것입니다. Visual Studio Code에서 터미널(터미널 -> 새 터미널)을 열고 `conda install pandas`를 입력합니다.\n",
    "\n",
    "또한 사용 중인 **pandas** 버전을 확인하려면 다음과 같이 합니다."
   ]
  },
  {
   "cell_type": "code",
   "execution_count": null,
   "id": "09eb2e2e",
   "metadata": {},
   "outputs": [],
   "source": [
    "pd.__version__"
   ]
  },
  {
   "cell_type": "markdown",
   "id": "0c5e5b82",
   "metadata": {},
   "source": [
    "데이터도 필요합니다. 대부분의 경우 데이터는 파일이나 인터넷에서 로드해야 합니다. 이 데이터도 다르지 않지만 **pandas**의 놀라운 점 중 하나는 인터넷의 파일을 포함하여 로드할 수 있는 데이터 유형이 매우 다양하다는 것입니다.\n",
    "\n",
    "데이터 크기는 약 50MB이므로 다운로드하려면 좋은 인터넷 연결이나 약간의 인내심이 필요합니다.\n",
    "\n",
    "데이터를 다운로드해 보겠습니다."
   ]
  },
  {
   "cell_type": "code",
   "execution_count": null,
   "id": "eff283e8",
   "metadata": {},
   "outputs": [],
   "source": [
    "url = \"https://raw.githubusercontent.com/byuidatascience/data4python4ds/master/data-raw/flights/flights.csv\"\n",
    "flights = pd.read_csv(url)"
   ]
  },
  {
   "cell_type": "markdown",
   "id": "2907635c",
   "metadata": {},
   "source": [
    "위 코드가 작동했다면 CSV 형식으로 데이터를 다운로드하여 데이터 프레임에 넣은 것입니다. 모든 **pandas** 데이터 프레임에서 작동하는 `.head()` 함수를 사용하여 처음 몇 행을 살펴보겠습니다."
   ]
  },
  {
   "cell_type": "code",
   "execution_count": null,
   "id": "39f99d76",
   "metadata": {},
   "outputs": [],
   "source": [
    "flights.head()"
   ]
  },
  {
   "cell_type": "markdown",
   "id": "68aada55",
   "metadata": {},
   "source": [
    "열, 열의 데이터 유형(`dtypes`) 및 데이터 세트 크기에 대한 더 일반적인 정보를 얻으려면 `.info()`를 사용합니다."
   ]
  },
  {
   "cell_type": "code",
   "execution_count": null,
   "id": "95dea97b",
   "metadata": {},
   "outputs": [],
   "source": [
    "flights.info()"
   ]
  },
  {
   "cell_type": "markdown",
   "id": "100189b8",
   "metadata": {},
   "source": [
    "`Dtypes` 열에 나타나는 짧은 약어를 눈치채셨을 것입니다. 이는 각 열의 값 유형을 알려줍니다. `int64`는 정수(예: 정수)의 약자이고 `float64`는 배정밀도 부동 소수점 숫자(실수)의 약자입니다. `object`는 **pandas**가 추론하는 데 그다지 확신이 없는 모든 데이터 유형에 대한 포괄적인 범주입니다. 여기서는 찾을 수 없지만 다른 데이터 유형에는 텍스트용 `string`과 날짜와 시간의 조합용 `datetime`이 포함됩니다.\n",
    "\n",
    "아래 표는 접하게 될 가능성이 가장 높은 몇 가지 일반적인 데이터 유형을 보여줍니다.\n",
    "\n",
    "|  **데이터 유형 이름**  |    **데이터 유형**   |\n",
    "|:----------:|:-------------:|\n",
    "|   float64  |  실수 |\n",
    "|  category  |   범주  |\n",
    "| datetime64 |   날짜 시간  |\n",
    "|    int64   |    정수   |\n",
    "|    bool    | 참 또는 거짓 |\n",
    "|   string   |      텍스트     |\n",
    "\n",
    "열에서 수행할 수 있는 작업은 해당 \"유형\"에 따라 크게 달라지므로 다양한 열 데이터 유형이 중요합니다. 예를 들어 문자열에서 모든 구두점을 제거하는 동시에 정수와 실수를 곱할 수 있습니다.\n",
    "\n",
    "우리는 `\"time_hour\"` 변수를 datetime 형식으로 작업하고 싶습니다. 다행히 **pandas**를 사용하면 해당 특정 열에서 해당 변환을 쉽게 수행할 수 있습니다."
   ]
  },
  {
   "cell_type": "code",
   "execution_count": null,
   "id": "ffb275b0",
   "metadata": {},
   "outputs": [],
   "source": [
    "flights[\"time_hour\"]"
   ]
  },
  {
   "cell_type": "code",
   "execution_count": null,
   "id": "88a8b983",
   "metadata": {},
   "outputs": [],
   "source": [
    "flights[\"time_hour\"] = pd.to_datetime(flights[\"time_hour\"], format=\"%Y-%m-%dT%H:%M:%SZ\")"
   ]
  },
  {
   "cell_type": "markdown",
   "id": "6dc43cee",
   "metadata": {},
   "source": [
    "## **pandas** 기본 사항\n",
    "\n",
    "**pandas**는 매우 포괄적인 패키지이며 이 책에서는 이 패키지가 할 수 있는 일의 일부만 다룰 것입니다. 하지만 몇 가지 간단한 아이디어를 기반으로 구축되었으며 일단 이해하면 삶이 훨씬 쉬워집니다.\n",
    "\n",
    "가장 기본적인 것부터 시작하겠습니다. 가장 기본적인 pandas 객체는 DataFrame입니다. DataFrame은 열에 다양한 유형의 데이터(문자, 정수, 부동 소수점 값, 범주형 데이터, 목록 포함)를 저장할 수 있는 2차원 데이터 구조입니다. 행과 열(각 행-열 셀에는 값이 포함됨)과 두 가지 컨텍스트 정보, 즉 인덱스(각 행에 대한 정보 포함)와 열 이름(각 열에 대한 정보 포함)으로 구성됩니다.\n",
    "\n",
    "![](https://pandas.pydata.org/docs/_images/01_table_dataframe.svg)\n",
    "\n",
    "**pandas** 데이터 프레임에 대해 가져야 할 가장 중요한 개념은 데이터 프레임 왼쪽에 있는 인덱스를 중심으로 구축된다는 것입니다. 데이터 프레임에서 작업을 수행할 때마다 해당 작업이 인덱스에 어떤 영향을 미치는지 또는 미치지 않는지, 또는 다른 말로 하면 인덱스를 수정할 것인지 여부를 생각해야 합니다.\n",
    "\n",
    "만들어진 데이터 프레임을 사용하여 간단한 예를 살펴보겠습니다."
   ]
  },
  {
   "cell_type": "code",
   "execution_count": null,
   "id": "1b6bd8b1",
   "metadata": {},
   "outputs": [],
   "source": [
    "df = pd.DataFrame(\n",
    "    data={\n",
    "        \"col0\": [0, 0, 0, 0],\n",
    "        \"col1\": [0, 0, 0, 0],\n",
    "        \"col2\": [0, 0, 0, 0],\n",
    "        \"col3\": [\"a\", \"b\", \"b\", \"a\"],\n",
    "        \"col4\": [\"alpha\", \"gamma\", \"gamma\", \"gamma\"],\n",
    "    },\n",
    "    index=[\"row\" + str(i) for i in range(4)],\n",
    ")\n",
    "df.head()"
   ]
  },
  {
   "cell_type": "markdown",
   "id": "185ba56e",
   "metadata": {},
   "source": [
    "5개의 열(`\"col0\"`에서 `\"col4\"`까지 이름 지정됨)이 있고 인덱스는 `\"row0\"`에서 `\"row3\"`까지 이름이 지정된 4개의 항목으로 구성되어 있음을 알 수 있습니다."
   ]
  },
  {
   "cell_type": "markdown",
   "id": "3f325661",
   "metadata": {},
   "source": [
    "알아야 할 두 번째 핵심 사항은 **pandas** 데이터 프레임에 대한 작업을 함께 연결할 수 있다는 것입니다. 코드 한 줄당 하나의 할당을 수행할 필요가 없습니다. 실제로 단일 명령으로 여러 할당을 수행할 수 있습니다.\n",
    "\n",
    "예를 살펴보겠습니다. 네 가지 작업을 함께 연결할 것입니다.\n",
    "\n",
    "1. `query()`를 사용하여 대상 `\"dest\"` 열의 값이 `\"IAH\"`인 행만 찾습니다. 이렇게 해도 인덱스는 변경되지 않고 관련 없는 행만 제거됩니다. 사실상 이 단계에서는 관심 없는 행을 제거합니다.\n",
    "2. `groupby()`를 사용하여 연도, 월, 일별로 행을 그룹화합니다(`groupby()` 함수에 열 목록 전달). 이 단계에서는 인덱스가 변경됩니다. 새 인덱스에는 연도, 월, 일을 추적하는 세 개의 열이 있습니다. 사실상 이 단계에서는 인덱스가 변경됩니다.\n",
    "3. `groupby()` 작업 후 유지할 열을 대괄호 집합에 목록으로 전달하여 선택합니다(데이터 프레임 내 목록이기 때문에 이중 대괄호 사용). 여기서는 `\"arr_delay\"` 열 하나만 원합니다. 이렇게 해도 인덱스에는 영향을 미치지 않습니다. 사실상 이 단계에서는 관심 없는 열을 제거합니다.\n",
    "4. 마지막으로 적용할 `groupby()` 작업을 지정해야 합니다. 여러 행의 정보를 한 행으로 집계할 때 해당 정보를 집계하는 방법을 지정해야 합니다. 이 경우 `mean()`을 사용합니다. 사실상 이 단계에서는 이전에 선택한 변수에 대해 이전에 만든 그룹 전체에 걸쳐 통계를 적용합니다."
   ]
  },
  {
   "cell_type": "code",
   "execution_count": null,
   "id": "cb114649",
   "metadata": {},
   "outputs": [],
   "source": [
    "(flights.query(\"dest == 'IAH'\").groupby([\"year\", \"month\", \"day\"])[[\"arr_delay\"]].mean())"
   ]
  },
  {
   "cell_type": "markdown",
   "id": "b8b85551",
   "metadata": {},
   "source": [
    "여기서 새 인덱스가 있는 새 데이터 프레임을 만들었음을 알 수 있습니다. 이를 위해 네 가지 주요 작업을 사용했습니다.\n",
    "\n",
    "1. 행 조작\n",
    "2. 인덱스 조작\n",
    "3. 열 조작\n",
    "4. 통계 적용\n",
    "\n",
    "단일 데이터 프레임에 대해 수행할 수 있는 대부분의 작업은 이러한 작업으로 처리되지만 필요한 항목에 따라 각 작업에 대한 다른 옵션이 있습니다.\n",
    "\n",
    "이제 이러한 작업에 대해 좀 더 자세히 살펴보겠습니다."
   ]
  },
  {
   "cell_type": "markdown",
   "id": "74396683",
   "metadata": {},
   "source": [
    "## 데이터 프레임에서 행 조작하기\n",
    "\n",
    "이것이 어떻게 작동하는지 보여주기 위해 가짜 데이터를 만들어 보겠습니다."
   ]
  },
  {
   "cell_type": "code",
   "execution_count": null,
   "id": "3958ddb5",
   "metadata": {},
   "outputs": [],
   "source": [
    "import numpy as np\n",
    "\n",
    "df = pd.DataFrame(\n",
    "    data=np.reshape(range(36), (6, 6)),\n",
    "    index=[\"a\", \"b\", \"c\", \"d\", \"e\", \"f\"],\n",
    "    columns=[\"col\" + str(i) for i in range(6)],\n",
    "    dtype=float,\n",
    ")\n",
    "df[\"col6\"] = [\"apple\", \"orange\", \"pineapple\", \"mango\", \"kiwi\", \"lemon\"]\n",
    "df"
   ]
  },
  {
   "cell_type": "markdown",
   "id": "a9e1e125",
   "metadata": {},
   "source": [
    "### 행 접근하기\n",
    "\n",
    "특정 행에 직접 접근하려면 `df.loc['행이름']` 또는 두 개의 다른 행에 대해 `df.loc[['행이름1', '행이름2']]`를 사용할 수 있습니다.\n",
    "\n",
    "예를 들어,"
   ]
  },
  {
   "cell_type": "code",
   "execution_count": null,
   "id": "0c2faf83",
   "metadata": {},
   "outputs": [],
   "source": [
    "df.loc[[\"a\", \"b\"]]"
   ]
  },
  {
   "cell_type": "markdown",
   "id": "18124edd",
   "metadata": {},
   "source": [
    "그러나 `.iloc`를 사용하여 데이터 프레임의 위치를 기반으로 특정 행에 접근할 수도 있습니다. 파이썬 인덱스는 0부터 시작하므로 첫 번째 행을 검색하려면 `.iloc[0]`을 사용합니다.\n"
   ]
  },
  {
   "cell_type": "code",
   "execution_count": null,
   "id": "9d34599b",
   "metadata": {},
   "outputs": [],
   "source": [
    "df.iloc[0]"
   ]
  },
  {
   "cell_type": "markdown",
   "id": "ca822472",
   "metadata": {},
   "source": [
    "이것은 여러 행에도 작동합니다. 위치 목록을 전달하여 첫 번째 행과 세 번째 행(위치 0 및 2)을 가져오겠습니다."
   ]
  },
  {
   "cell_type": "code",
   "execution_count": null,
   "id": "9bf6313b",
   "metadata": {},
   "outputs": [],
   "source": [
    "df.iloc[[0, 2]]"
   ]
  },
  {
   "cell_type": "markdown",
   "id": "381eb34d",
   "metadata": {},
   "source": [
    "*슬라이싱*을 사용하는 여러 행에 접근하는 다른 방법이 있지만 해당 주제는 다른 시간에 다루겠습니다."
   ]
  },
  {
   "cell_type": "markdown",
   "id": "77f67ac2",
   "metadata": {},
   "source": [
    "### 쿼리를 사용하여 행 필터링하기\n",
    "\n",
    "항공편 예제와 마찬가지로 `query()`를 사용하여 조건을 기반으로 행을 필터링할 수도 있습니다."
   ]
  },
  {
   "cell_type": "code",
   "execution_count": null,
   "id": "54a9d2b1",
   "metadata": {},
   "outputs": [],
   "source": [
    "df.query(\"col6 == 'kiwi' or col6 == 'pineapple'\")"
   ]
  },
  {
   "cell_type": "markdown",
   "id": "000eb292",
   "metadata": {},
   "source": [
    "숫자의 경우 보다 큼 및 보다 작음 기호를 사용할 수도 있습니다."
   ]
  },
  {
   "cell_type": "code",
   "execution_count": null,
   "id": "7849a962",
   "metadata": {},
   "outputs": [],
   "source": [
    "df.query(\"col0 > 6\")"
   ]
  },
  {
   "cell_type": "markdown",
   "id": "f5e03f63",
   "metadata": {},
   "source": [
    "사실 `query()`와 함께 작동하는 많은 옵션이 있습니다. `>`(보다 큼)뿐만 아니라 `>=`(보다 크거나 같음), `<`(보다 작음), `<=`(보다 작거나 같음), `==`(같음) 및 `!=`(같지 않음)을 사용할 수 있습니다. 여러 조건을 결합하기 위해 `and` 및 `or` 명령을 사용할 수도 있습니다. 다음은 `flights` 데이터 프레임의 `and` 예입니다."
   ]
  },
  {
   "cell_type": "code",
   "execution_count": null,
   "id": "c6dd919f",
   "metadata": {},
   "outputs": [],
   "source": [
    "# 1월 1일에 출발한 항공편\n",
    "flights.query(\"month == 1 and day == 1\")"
   ]
  },
  {
   "cell_type": "markdown",
   "id": "bd0af6fc",
   "metadata": {},
   "source": [
    "등호는 `=`가 아니라 `==`로 테스트됩니다. 후자는 할당에 사용되기 때문입니다."
   ]
  },
  {
   "cell_type": "markdown",
   "id": "3a57a362",
   "metadata": {},
   "source": [
    "### 행 재정렬하기\n",
    "\n",
    "특정 열의 값에 따라 데이터 프레임의 행 순서를 변경하고 싶을 때가 계속해서 있을 것입니다. **pandas**는 `.sort_values()` 함수를 통해 이를 매우 쉽게 만듭니다. 데이터 프레임과 정렬할 열 이름 집합을 사용합니다. 두 개 이상의 열 이름을 제공하면 각 추가 열은 이전 열 값의 동점을 푸는 데 사용됩니다. 예를 들어 다음 코드는 4개의 열에 분산된 출발 시간별로 정렬합니다."
   ]
  },
  {
   "cell_type": "code",
   "execution_count": null,
   "id": "9d5f4270",
   "metadata": {},
   "outputs": [],
   "source": [
    "flights.sort_values([\"year\", \"month\", \"day\", \"dep_time\"])"
   ]
  },
  {
   "cell_type": "markdown",
   "id": "39a6e9b1",
   "metadata": {},
   "source": [
    "키워드 인수 `ascending=False`를 사용하여 열 또는 열을 내림차순으로 다시 정렬할 수 있습니다.\n",
    "예를 들어 이 코드는 가장 지연된 항공편을 보여줍니다."
   ]
  },
  {
   "cell_type": "code",
   "execution_count": null,
   "id": "483acdc1",
   "metadata": {},
   "outputs": [],
   "source": [
    "flights.sort_values(\"dep_delay\", ascending=False)"
   ]
  },
  {
   "cell_type": "markdown",
   "id": "89fd1856",
   "metadata": {},
   "source": [
    "물론 위의 모든 행 조작을 결합하여 더 복잡한 문제를 해결할 수 있습니다.\n",
    "예를 들어 거의 정시에 출발했지만 도착이 가장 지연된 항공편의 상위 3개 목적지를 찾아볼 수 있습니다."
   ]
  },
  {
   "cell_type": "code",
   "execution_count": null,
   "id": "a939f3c2",
   "metadata": {},
   "outputs": [],
   "source": [
    "(\n",
    "    flights.query(\"dep_delay <= 10 and dep_delay >= -10\")\n",
    "    .sort_values(\"arr_delay\", ascending=False)\n",
    "    .iloc[[0, 1, 2]]\n",
    ")"
   ]
  },
  {
   "cell_type": "markdown",
   "id": "b8bc0b05",
   "metadata": {},
   "source": [
    "### 연습\n",
    "\n",
    "1. 다음 모든 항공편을 찾습니다.\n",
    "\n",
    "    a. 도착 지연이 2시간 이상인 항공편\n",
    "\n",
    "    b. 휴스턴(`\"IAH\"` 또는 `\"HOU\"`)으로 비행한 항공편\n",
    "\n",
    "    c. 유나이티드, 아메리칸 또는 델타에서 운항한 항공편\n",
    "\n",
    "    d. 여름(7월, 8월, 9월)에 출발한 항공편\n",
    "\n",
    "    e. 2시간 이상 늦게 도착했지만 늦게 출발하지 않은 항공편\n",
    "\n",
    "    f. 최소 1시간 지연되었지만 비행 중 30분 이상 만회한 항공편\n",
    "\n",
    "2.  `flights`를 정렬하여 출발 지연이 가장 긴 항공편을 찾습니다.\n",
    "\n",
    "3.  `flights`를 정렬하여 가장 빠른 항공편을 찾습니다.\n",
    "\n",
    "4.  어떤 항공편이 가장 멀리 여행했습니까?\n",
    "\n",
    "5.  `query()`와 `sort_values()`를 모두 사용하는 경우 어떤 순서로 사용했는지가 중요합니까? 왜 그렇거나 그렇지 않습니까? 결과와 함수가 수행해야 하는 작업량에 대해 생각해 보십시오."
   ]
  },
  {
   "cell_type": "markdown",
   "id": "e0b2e64a",
   "metadata": {},
   "source": [
    "## 열 조작하기\n",
    "\n",
    "이 섹션에서는 데이터 프레임의 열에 필요할 수 있는 다양한 작업을 적용하는 방법을 보여줍니다.\n",
    "\n",
    "```{note}\n",
    "일부 **pandas** 작업은 사용된 구문에 따라 열 또는 행에 적용될 수 있습니다. 예를 들어 위치별 값에 액세스하는 것은 `.iloc`를 통해 행과 열에 대해 동일한 방식으로 수행할 수 있습니다. 여기서 i번째 행에 액세스하려면 `df.iloc[i]`를 사용하고 j번째 열에 액세스하려면 `df.iloc[:, j]`를 사용합니다. 여기서 `:`는 '모든 행'을 의미합니다.\n",
    "```"
   ]
  },
  {
   "cell_type": "markdown",
   "id": "787d7919",
   "metadata": {},
   "source": [
    "### 새 열 만들기\n",
    "\n",
    "이제 새 정보를 사용하거나 기존 열에서 새 열을 만드는 것으로 넘어가겠습니다. 데이터 프레임 `df`가 주어지면 동일한 값이 반복되는 새 열을 만드는 것은 따옴표로 묶인 문자열이 있는 대괄호를 사용하는 것만큼 쉽습니다."
   ]
  },
  {
   "cell_type": "code",
   "execution_count": null,
   "id": "86827cf9",
   "metadata": {},
   "outputs": [],
   "source": [
    "df[\"new_column0\"] = 5\n",
    "df"
   ]
  },
  {
   "cell_type": "markdown",
   "id": "55bc84a5",
   "metadata": {},
   "source": [
    "오른쪽이 다른 동일한 작업을 다시 수행하면 해당 열에 이미 있던 내용을 덮어씁니다. 새 열에 목록을 할당하여 각 위치에 다른 값을 넣는 예제를 살펴보겠습니다."
   ]
  },
  {
   "cell_type": "code",
   "execution_count": null,
   "id": "0ab01f9d",
   "metadata": {},
   "outputs": [],
   "source": [
    "df[\"new_column0\"] = [0, 1, 2, 3, 4, 5]\n",
    "df"
   ]
  },
  {
   "cell_type": "markdown",
   "id": "14763861",
   "metadata": {},
   "source": [
    "```{admonition} 연습\n",
    "오른쪽 값이 데이터 프레임 길이보다 길거나 짧은 할당을 사용하려고 하면 어떻게 됩니까?\n",
    "```\n",
    "\n",
    "대괄호 안에 목록을 전달하면 실제로 두 개 이상의 새 열을 만들 수 있습니다."
   ]
  },
  {
   "cell_type": "code",
   "execution_count": null,
   "id": "fff10e83",
   "metadata": {},
   "outputs": [],
   "source": [
    "df[[\"new_column1\", \"new_column2\"]] = [5, 6]\n",
    "df"
   ]
  },
  {
   "cell_type": "markdown",
   "id": "10792ddd",
   "metadata": {},
   "source": [
    "기존 열에 대한 작업 결과인 새 열을 만들고 싶을 때가 많습니다. 이를 수행하는 몇 가지 방법이 있습니다. '독립형' 방법은 할당 문의 오른쪽에도 데이터 프레임을 참조한다는 점을 제외하고는 방금 본 것과 유사한 방식으로 작동합니다."
   ]
  },
  {
   "cell_type": "code",
   "execution_count": null,
   "id": "82477100",
   "metadata": {},
   "outputs": [],
   "source": [
    "df[\"new_column3\"] = df[\"col0\"] - df[\"new_column0\"]\n",
    "df"
   ]
  },
  {
   "cell_type": "markdown",
   "id": "03172fa9",
   "metadata": {},
   "source": [
    "이를 수행하는 다른 방법은 'assign()' 문을 사용하는 것이며 이전에 본 것처럼 여러 단계를 함께 연결하려는 경우 사용됩니다. 이러한 문은 '람다' 문이라는 특수 구문을 사용하며 (적어도 여기서는) **pandas**에 모든 행에서 작업을 수행하기를 원한다는 것을 지정하는 방법을 제공합니다. 아래는 항공편 데이터를 사용한 예입니다. 그러나 아래 'row'라는 단어는 더미입니다. 다른 변수 이름(예: `x`)으로 바꿀 수 있지만 `row`는 무슨 일이 일어나고 있는지 좀 더 명확하게 보여줍니다."
   ]
  },
  {
   "cell_type": "code",
   "execution_count": null,
   "id": "55645bdd",
   "metadata": {},
   "outputs": [],
   "source": [
    "(\n",
    "    flights.assign(\n",
    "        gain=lambda row: row[\"dep_delay\"] - row[\"arr_delay\"],\n",
    "        speed=lambda row: row[\"distance\"] / row[\"air_time\"] * 60,\n",
    "    )\n",
    ")"
   ]
  },
  {
   "cell_type": "markdown",
   "id": "c531df3e",
   "metadata": {},
   "source": [
    "````{note}\n",
    "람다 함수는 이름이 없고 코드 한 줄에 포함되는 경향이 있다는 점을 제외하고는 파이썬의 일반 함수와 같습니다. 람다 함수는 인수, 콜론 및 표현식으로 구성되며, 다음은 입력을 3으로 곱하는 람다 함수입니다.\n",
    "\n",
    "```python\n",
    "lambda x: x*3\n",
    "```\n",
    "\n",
    "````"
   ]
  },
  {
   "cell_type": "markdown",
   "id": "82a97330",
   "metadata": {},
   "source": [
    "### 열 접근하기\n",
    "\n"
   ]
  },
  {
   "cell_type": "markdown",
   "id": "7599db58",
   "metadata": {},
   "source": [
    "행을 선택하는 것과 마찬가지로 작업할 열을 선택하는 많은 옵션과 방법이 있습니다. 가장 간단한 구문은 데이터 프레임 이름 뒤에 대괄호와 열 이름(문자열로)을 사용하는 것입니다."
   ]
  },
  {
   "cell_type": "code",
   "execution_count": null,
   "id": "4643b978",
   "metadata": {},
   "outputs": [],
   "source": [
    "df[\"col0\"]"
   ]
  },
  {
   "cell_type": "markdown",
   "id": "63bca028",
   "metadata": {},
   "source": [
    "*여러* 열을 선택해야 하는 경우 `df[...]`에 문자열만 전달할 수 없습니다. 대신 반복 가능한 객체(따라서 여러 항목이 있음)를 전달해야 합니다. 여러 열을 선택하는 가장 간단한 방법은 *목록*을 전달하는 것입니다. 목록은 대괄호로 묶이므로 반복되는 대괄호가 있는 것을 보게 될 것입니다. 하나는 데이터 프레임 내부에 액세스하기 위한 것이고 다른 하나는 목록을 위한 것입니다."
   ]
  },
  {
   "cell_type": "code",
   "execution_count": null,
   "id": "219852d8",
   "metadata": {},
   "outputs": [],
   "source": [
    "df[[\"col0\", \"new_column0\", \"col2\"]]"
   ]
  },
  {
   "cell_type": "markdown",
   "id": "2b2a7be0",
   "metadata": {},
   "source": [
    "동시에 특정 행에 액세스하려면 `.loc` 액세스 함수를 사용합니다."
   ]
  },
  {
   "cell_type": "code",
   "execution_count": null,
   "id": "eabfd313",
   "metadata": {},
   "outputs": [],
   "source": [
    "df.loc[[\"a\", \"b\"], [\"col0\", \"new_column0\", \"col2\"]]"
   ]
  },
  {
   "cell_type": "markdown",
   "id": "c1b7db13",
   "metadata": {},
   "source": [
    "그리고 행과 마찬가지로 `.iloc`를 사용하여 위치별로 열에 액세스할 수 있습니다(여기서 `:`는 '모든 행'을 의미합니다)."
   ]
  },
  {
   "cell_type": "code",
   "execution_count": null,
   "id": "b6ae1605",
   "metadata": {},
   "outputs": [],
   "source": [
    "df.iloc[:, [0, 1]]"
   ]
  },
  {
   "cell_type": "markdown",
   "id": "509dc236",
   "metadata": {},
   "source": [
    "슬라이싱을 사용하는 여러 열에 액세스하는 다른 방법이 있지만 해당 주제는 다른 시간에 다루겠습니다."
   ]
  },
  {
   "cell_type": "markdown",
   "id": "17b928c8",
   "metadata": {},
   "source": [
    "때로는 보유하고 있는 데이터의 *유형*에 따라 열을 선택하고 싶을 때가 있습니다. 이를 위해 **pandas**는 `.select_dtypes()` 함수를 제공합니다. 이를 사용하여 항공편 데이터에서 정수가 있는 모든 열을 선택해 보겠습니다."
   ]
  },
  {
   "cell_type": "code",
   "execution_count": null,
   "id": "62f578d1",
   "metadata": {},
   "outputs": [],
   "source": [
    "flights.select_dtypes(\"int\")"
   ]
  },
  {
   "cell_type": "markdown",
   "id": "9aec778c",
   "metadata": {},
   "source": [
    "열 *이름*의 패턴과 같은 기준에 따라 열을 선택하고 싶을 때가 있습니다. 파이썬은 텍스트를 매우 잘 지원하기 때문에 이것은 매우 가능하지만 **pandas** 함수에 그렇게 내장되어 있지는 않습니다. 요령은 관심 있는 패턴에서 원하는 열 이름 목록을 생성하는 것입니다.\n",
    "\n",
    "몇 가지 예를 살펴보겠습니다. 먼저 `df` 데이터 프레임에서 `\"new_...\"`로 시작하는 모든 열을 가져오겠습니다. 각 열이 \"new\"로 시작하는지 여부를 반영하는 참 및 거짓 값 목록을 생성한 다음 해당 참 및 거짓 값을 `.loc`에 전달합니다. 그러면 결과가 `True`인 열만 제공됩니다. 무슨 일이 일어나고 있는지 보여주기 위해 두 단계로 나누겠습니다."
   ]
  },
  {
   "cell_type": "code",
   "execution_count": null,
   "id": "5aaae8bd",
   "metadata": {},
   "outputs": [],
   "source": [
    "print(\"열 목록:\")\n",
    "print(df.columns)\n",
    "print(\"\\n\")\n",
    "\n",
    "print(\"참 및 거짓 값 목록:\")\n",
    "print(df.columns.str.startswith(\"new\"))\n",
    "print(\"\\n\")\n",
    "\n",
    "print(\"데이터 프레임에서 선택:\")\n",
    "df.loc[:, df.columns.str.startswith(\"new\")]"
   ]
  },
  {
   "cell_type": "markdown",
   "id": "b514cbf4",
   "metadata": {},
   "source": [
    "`startswith()` 외에도 `endswith()`, `contains()`, `isnumeric()` 및 `islower()`와 같은 다른 명령이 있습니다."
   ]
  },
  {
   "cell_type": "markdown",
   "id": "720adf4f",
   "metadata": {},
   "source": [
    "### 열 이름 바꾸기\n",
    "\n",
    "컨텍스트에 따라 열 이름을 바꾸는 세 가지 쉬운 방법이 있습니다. 첫 번째는 사전이라는 객체와 함께 전용 `rename()` 함수를 사용하는 것입니다. 파이썬의 사전은 중괄호로 구성되며 쉼표로 구분된 값 쌍으로 구성됩니다. 여기서 첫 번째 값은 두 번째 값으로 매핑됩니다. 사전의 예는 `{'old_col1': 'new_col1', 'old_col2': 'new_col2'}`입니다. 실제로 살펴보겠습니다(단, 결과 데이터 프레임을 '저장'하는 것이 아니라 보여주기만 합니다. 저장하려면 아래 코드의 왼쪽에 `df = `을 추가해야 합니다)."
   ]
  },
  {
   "cell_type": "code",
   "execution_count": null,
   "id": "5e5c0dd0",
   "metadata": {},
   "outputs": [],
   "source": [
    "df.rename(columns={\"col3\": \"letters\", \"col4\": \"names\", \"col6\": \"fruit\"})"
   ]
  },
  {
   "cell_type": "markdown",
   "id": "0a673852",
   "metadata": {},
   "source": [
    "두 번째 방법은 모든 열의 이름을 바꾸려는 경우입니다. 이를 위해 `df.columns`를 원하는 새 열 집합과 같게 설정하기만 하면 됩니다. 예를 들어 `str.capitalize()`를 사용하여 각 열의 첫 글자를 대문자로 만들고 이를 `df.columns`에 할당할 수 있습니다."
   ]
  },
  {
   "cell_type": "code",
   "execution_count": null,
   "id": "482d301f",
   "metadata": {},
   "outputs": [],
   "source": [
    "df.columns = df.columns.str.capitalize()\n",
    "df"
   ]
  },
  {
   "cell_type": "markdown",
   "id": "7a8b9660",
   "metadata": {},
   "source": [
    "마지막으로 열 이름의 특정 부분만 바꾸는 데 관심이 있을 수 있습니다. 이 경우 `.str.replace()`를 사용할 수 있습니다. 예를 들어 원래 열 앞에 `\"Original\"`이라는 단어를 추가해 보겠습니다."
   ]
  },
  {
   "cell_type": "code",
   "execution_count": null,
   "id": "3dd7606b",
   "metadata": {},
   "outputs": [],
   "source": [
    "df.columns.str.replace(\"Col\", \"Original_column\")"
   ]
  },
  {
   "cell_type": "markdown",
   "id": "09632b99",
   "metadata": {},
   "source": [
    "### 열 순서 변경하기"
   ]
  },
  {
   "cell_type": "markdown",
   "id": "54519b15",
   "metadata": {},
   "source": [
    "기본적으로 새 열은 데이터 프레임의 오른쪽에 추가됩니다. 그러나 특정 순서로 열이 나타나기를 원하거나 데이터 프레임에 열이 많을 때(자주 발생함) 새 열이 왼쪽에 있는 것이 더 편리할 수 있습니다.\n",
    "\n",
    "(모든) 열의 순서를 변경하는 가장 간단한 방법은 원하는 순서대로 이름 목록을 새로 만드는 것입니다. 단, 유지하려는 열을 잊지 않도록 주의하십시오!\n",
    "\n",
    "이전의 가짜 데이터의 새 버전을 사용하여 예를 살펴보겠습니다. 홀수 번호 열을 모두 내림차순으로 먼저 배치한 다음 짝수 번호 열도 마찬가지로 배치합니다."
   ]
  },
  {
   "cell_type": "code",
   "execution_count": null,
   "id": "b7c0d519",
   "metadata": {},
   "outputs": [],
   "source": [
    "df = pd.DataFrame(\n",
    "    data=np.reshape(range(36), (6, 6)),\n",
    "    index=[\"a\", \"b\", \"c\", \"d\", \"e\", \"f\"],\n",
    "    columns=[\"col\" + str(i) for i in range(6)],\n",
    "    dtype=float,\n",
    ")\n",
    "df"
   ]
  },
  {
   "cell_type": "code",
   "execution_count": null,
   "id": "b9a409ac",
   "metadata": {},
   "outputs": [],
   "source": [
    "df = df[[\"col5\", \"col3\", \"col1\", \"col4\", \"col2\", \"col0\"]]\n",
    "df"
   ]
  },
  {
   "cell_type": "markdown",
   "id": "dd91d87a",
   "metadata": {},
   "source": [
    "물론 열이 많으면 상당히 지루할 수 있습니다! 컨텍스트에 따라 이를 더 쉽게 만드는 데 도움이 되는 방법이 있습니다. 열을 순서대로 정렬하고 싶을 수도 있습니다. 이는 `sorted()`와 `reindex()` 명령(행 또는 열에 대해 작동)을 `axis=1`(즉, 두 번째 축, 즉 열)과 결합하여 수행할 수 있습니다."
   ]
  },
  {
   "cell_type": "code",
   "execution_count": null,
   "id": "e7ab5f64",
   "metadata": {},
   "outputs": [],
   "source": [
    "df.reindex(sorted(df.columns), axis=1)"
   ]
  },
  {
   "cell_type": "markdown",
   "id": "28e49605",
   "metadata": {},
   "source": [
    "## 행, 열 및 값에 액세스하는 방법 검토\n",
    "\n",
    "데이터 프레임의 값에 액세스하는 다양한 방법이 있어 혼란스러울 수 있습니다. 다음은 데이터 프레임의 첫 번째 열을 가져오는 다양한 방법입니다(해당 첫 번째 열의 이름이 `column`이고 데이터 프레임이 `df`인 경우).\n",
    "\n",
    "- `df.column`\n",
    "- `df[\"column\"]`\n",
    "- `df.loc[:, \"column\"]`\n",
    "- `df.iloc[:, 0]`\n",
    "\n",
    "참고로 `:`는 '모든 것을 주세요!'라는 의미입니다. 행에 액세스하는 방법도 비슷합니다(여기서는 첫 번째 행의 이름이 `row`라고 가정).\n",
    "\n",
    "- `df.loc[\"row\", :]`\n",
    "- `df.iloc[0, :]`\n",
    "\n",
    "그리고 첫 번째 값(즉, 첫 번째 행, 첫 번째 열의 값)에 액세스하려면 다음과 같습니다.\n",
    "\n",
    "- `df.column[0]`\n",
    "- `df[\"column\"][0]`\n",
    "- `df.iloc[0, 0]`\n",
    "- `df.loc[\"row\", \"column\"]`\n",
    "\n",
    "위 예에서 대괄호는 데이터 프레임에서 비트를 가져올 *위치*에 대한 지침입니다. 데이터 프레임 내 값에 대한 주소 시스템과 같습니다. 대괄호는 목록도 나타냅니다. 따라서 *여러* 열 또는 행을 선택하려면 다음과 같은 구문을 볼 수 있습니다.\n",
    "\n",
    "`df.loc[[\"row0\", \"row1\"], [\"column0\", \"column2\"]]`\n",
    "\n",
    "이는 목록 `[\"row0\", \"row1\"]` 및 `[\"column0\", \"column2\"]`를 통해 두 개의 행과 두 개의 열을 선택합니다. 일반적인 값 선택 시스템과 함께 목록이 있기 때문에 대괄호가 두 세트 있습니다.\n",
    "\n",
    "```{admonition} 팁\n",
    ":class: tip\n",
    "\n",
    "이름으로 행과 열에 액세스하는 구문을 하나만 기억하고 싶다면 `df.loc[[\"row0\", \"row1\", ...], [\"col0\", \"col1\", ...]]` 패턴을 사용합니다. 이것은 단일 행 또는 단일 열(또는 둘 다)에도 작동합니다.\n",
    "\n",
    "위치별로 행과 열에 액세스하는 구문을 하나만 기억하고 싶다면 `df.iloc[[0, 1, ...], [0, 1, ...]]` 패턴을 사용합니다. 이것은 단일 행 또는 단일 열(또는 둘 다)에도 작동합니다.\n",
    "```\n"
   ]
  },
  {
   "cell_type": "markdown",
   "id": "f0e4c898",
   "metadata": {},
   "source": [
    "### 열 및 행 연습\n",
    "\n",
    "1. `air_time`과 `arr_time - dep_time`을 비교합니다. 무엇을 볼 것으로 예상합니까? 무엇을 봅니까? 수정하려면 무엇을 해야 합니까?\n",
    "\n",
    "2. `dep_time`, `sched_dep_time` 및 `dep_delay`를 비교합니다. 이 세 숫자는 어떻게 관련될 것으로 예상합니까?\n",
    "\n",
    "3. `flights`에서 `dep_time`, `dep_delay`, `arr_time` 및 `arr_delay`를 선택하는 가능한 많은 방법을 브레인스토밍합니다.\n",
    "\n",
    "4. 선택하려고 할 때 행 또는 열 이름을 여러 번 포함하면 어떻게 됩니까?\n",
    "\n",
    "5. 다음에서 `.isin()` 함수는 무엇을 합니까?\n",
    "\n",
    "    ```python\n",
    "    flights.columns.isin([\"year\", \"month\", \"day\", \"dep_delay\", \"arr_delay\"])\n",
    "    ```\n",
    "\n",
    "6. 다음 코드를 실행한 결과가 놀랍습니까?\n",
    "    `str.contains`와 같은 함수는 기본적으로 대소문자를 어떻게 처리합니까?\n",
    "    해당 기본값을 어떻게 변경할 수 있습니까?\n",
    "\n",
    "    ```python\n",
    "    flights.loc[:, flights.columns.str.contains(\"TIME\")]\n",
    "    ```\n",
    "\n",
    "    (힌트: 데이터 프레임에 적용되는 함수에도 도움말을 사용할 수 있습니다. 예: `help(flights.columns.str.contains)` 사용)"
   ]
  },
  {
   "cell_type": "markdown",
   "id": "a3c837e4",
   "metadata": {},
   "source": [
    "## 그룹화, 인덱스 변경 및 요약 통계 적용\n",
    "\n",
    "지금까지 행과 열로 작업하는 방법에 대해 배웠습니다. **pandas**는 그룹으로 작업하는 기능을 추가하면 훨씬 더 강력해집니다. 그룹을 만들면 종종 인덱스도 변경됩니다. 그리고 그룹은 데이터 집계 또는 풀링을 의미하는 경향이 있으므로 요약 통계 적용과 밀접하게 관련되는 경우가 많습니다.\n",
    "\n",
    "아래 다이어그램은 이러한 작업이 함께 진행되는 방식을 보여줍니다. '분할' 작업은 그룹화를 통해 수행되고 적용은 요약 통계를 생성합니다. 마지막으로 '결합' 단계에 표시된 대로 새 인덱스(그룹당 하나의 항목)가 있는 데이터 프레임을 얻습니다.\n",
    "\n",
    "![](https://jakevdp.github.io/PythonDataScienceHandbook/figures/03.08-split-apply-combine.png)\n",
    "\n",
    "### 그룹화 및 집계\n",
    "\n",
    "`.groupby()` 함수를 사용하여 그룹을 만든 다음 열을 선택하고 집계를 통해 요약 통계를 적용하는 방법을 살펴보겠습니다. `.agg()`를 통한 *집계*는 그룹 수준으로 정보를 축소했기 때문에 항상 새 인덱스를 생성합니다(그리고 새 인덱스는 해당 수준으로 구성됨).\n",
    "\n",
    "기억해야 할 핵심 사항은 그룹이 새 인덱스가 되기를 원할 때 `.groupby()`와 함께 `.agg()`를 사용하는 것입니다."
   ]
  },
  {
   "cell_type": "code",
   "execution_count": null,
   "id": "62e540c0",
   "metadata": {},
   "outputs": [],
   "source": [
    "(flights.groupby(\"month\")[[\"dep_delay\"]].mean())"
   ]
  },
  {
   "cell_type": "markdown",
   "id": "b003ea0d",
   "metadata": {},
   "source": [
    "이것은 이제 월별 평균 출발 지연을 나타냅니다. 인덱스가 변경된 것을 확인하십시오! 이제 원래 행 번호만 있던 인덱스 대신 월이 있습니다. 인덱스는 데이터 프레임의 나머지 부분에 있는 그룹을 추적하기 때문에 그룹화 작업에서 중요한 역할을 합니다.\n",
    "\n",
    "종종 한 번에 여러 요약 작업을 수행하고 싶을 수 있습니다. 이에 대한 가장 포괄적인 구문은 `.agg()`를 사용하는 것입니다. `.agg()`를 사용하여 위에서 수행한 작업을 재현할 수 있습니다."
   ]
  },
  {
   "cell_type": "code",
   "execution_count": null,
   "id": "aaaca266",
   "metadata": {},
   "outputs": [],
   "source": [
    "(flights.groupby(\"month\")[[\"dep_delay\"]].agg(\"mean\"))"
   ]
  },
  {
   "cell_type": "markdown",
   "id": "520299c7",
   "metadata": {},
   "source": [
    "원하는 모든 집계를 전달합니다. 몇 가지 일반적인 옵션은 아래 표에 있습니다.\n",
    "\n",
    "| 집계      | 설명 |\n",
    "| ----------- | ----------- |\n",
    "| `count()`      | 항목 수       |\n",
    "| `first()`, `last()` | \t첫 번째 및 마지막 항목 |\n",
    "| `mean()`, `median()` |\t평균 및 중앙값 |\n",
    "| `min()`, `max()` |\t최소값 및 최대값 |\n",
    "| `std()`, `var()` |\t표준 편차 및 분산 |\n",
    "| `mad()` |\t평균 절대 편차 |\n",
    "| `prod()` |\t모든 항목의 곱 |\n",
    "| `sum()`\t| 모든 항목의 합계 |\n",
    "| `value_counts()` | 고유 값의 개수 |\n",
    "\n",
    "출력 변수에 새 이름을 사용하여 여러 열에 대해 여러 집계를 수행하는 경우 구문은 다음과 같습니다."
   ]
  },
  {
   "cell_type": "code",
   "execution_count": null,
   "id": "af588177",
   "metadata": {},
   "outputs": [],
   "source": [
    "(\n",
    "    flights.groupby([\"month\"]).agg(\n",
    "        mean_delay=(\"dep_delay\", \"mean\"),\n",
    "        count_flights=(\"dep_delay\", \"count\"),\n",
    "    )\n",
    ")"
   ]
  },
  {
   "cell_type": "markdown",
   "id": "c331e813",
   "metadata": {},
   "source": [
    "평균과 개수는 데이터 과학에서 놀라울 정도로 많은 것을 할 수 있습니다!"
   ]
  },
  {
   "cell_type": "markdown",
   "id": "e6fb1c51",
   "metadata": {},
   "source": [
    "### 여러 변수로 그룹화하기\n",
    "\n",
    "단일 열을 나타내는 문자열 대신 여러 열을 나타내는 목록을 `.groupby()`에 전달하는 것만큼 간단합니다."
   ]
  },
  {
   "cell_type": "code",
   "execution_count": null,
   "id": "b0e56ff1",
   "metadata": {},
   "outputs": [],
   "source": [
    "month_year_delay = flights.groupby([\"month\", \"year\"]).agg(\n",
    "    mean_delay=(\"dep_delay\", \"mean\"),\n",
    "    count_flights=(\"dep_delay\", \"count\"),\n",
    ")\n",
    "month_year_delay"
   ]
  },
  {
   "cell_type": "markdown",
   "id": "22e89b7e",
   "metadata": {},
   "source": [
    "이번에는 다중 인덱스(즉, 두 개 이상의 열이 있는 인덱스)가 있음을 눈치채셨을 것입니다. 이는 여러 그룹이 있는 항목을 요청했기 때문이며 인덱스는 각 그룹 내에서 무슨 일이 일어나고 있는지 추적하므로 이를 효율적으로 수행하려면 두 개 이상의 인덱스 차원이 필요합니다.\n",
    "\n",
    "위치만 있는 인덱스로 돌아가고 싶다면 `reset_index()`를 사용해 보십시오."
   ]
  },
  {
   "cell_type": "code",
   "execution_count": null,
   "id": "33712dc2",
   "metadata": {},
   "outputs": [],
   "source": [
    "month_year_delay.reset_index()"
   ]
  },
  {
   "cell_type": "markdown",
   "id": "96c8416a",
   "metadata": {},
   "source": [
    "하지만 인덱스의 한 계층만 제거하고 싶을 수도 있습니다. 제거하려는 인덱스의 위치를 전달하여 이 작업을 수행할 수 있습니다. 예를 들어 연도 인덱스만 열로 변경하려면 다음을 사용합니다. "
   ]
  },
  {
   "cell_type": "code",
   "execution_count": null,
   "id": "bcbef8f7",
   "metadata": {},
   "outputs": [],
   "source": [
    "month_year_delay.reset_index(1)"
   ]
  },
  {
   "cell_type": "markdown",
   "id": "8ab554b2",
   "metadata": {},
   "source": [
    "마지막으로 선택한 인덱스 변수를 열 변수로 피벗하는(다중 열 수준 구조 도입) `unstack`이라는 작업을 사용하여 인덱스를 더 복잡하게 재정렬할 수 있습니다. 일반적으로 이것은 피하는 것이 가장 좋습니다."
   ]
  },
  {
   "cell_type": "markdown",
   "id": "b3e1ea60",
   "metadata": {},
   "source": [
    "### 그룹화 및 변환\n",
    "\n",
    "그룹 수준에서 계산을 수행할 때 새 그룹을 반영하도록 인덱스를 항상 변경하고 싶지는 않을 수 있습니다.\n",
    "\n",
    "기억해야 할 핵심 사항은 그룹에 대한 계산을 수행하지만 원래 인덱스로 돌아가고 싶을 때 `.groupby()`와 함께 `.transform()`을 사용하는 것입니다.\n",
    "\n",
    "각 항공편의 도착 지연 `\"arr_del\"`을 각 월의 최악 도착 지연의 일부로 표현하고 싶다고 가정해 보겠습니다."
   ]
  },
  {
   "cell_type": "code",
   "execution_count": null,
   "id": "f96fcf41",
   "metadata": {},
   "outputs": [],
   "source": [
    "flights[\"max_delay_month\"] = flights.groupby(\"month\")[\"arr_delay\"].transform(\"max\")\n",
    "flights[\"delay_frac_of_max\"] = flights[\"arr_delay\"] / flights[\"max_delay_month\"]\n",
    "flights[\n",
    "    [\"year\", \"month\", \"day\", \"arr_delay\", \"max_delay_month\", \"delay_frac_of_max\"]\n",
    "].head()"
   ]
  },
  {
   "cell_type": "markdown",
   "id": "3880ece9",
   "metadata": {},
   "source": [
    "`\"max_delay_month\"`의 처음 몇 개 항목은 해당 항목에 대해 월이 동일하기 때문에 모두 동일하지만 지연 분수는 각 행마다 변경됩니다."
   ]
  },
  {
   "cell_type": "markdown",
   "id": "1954cb3b",
   "metadata": {},
   "source": [
    "### Groupby 연습\n",
    "\n",
    "1. 어떤 항공사가 최악의 지연을 겪습니까? 도전 과제: 나쁜 공항과 나쁜 항공사의 영향을 구분할 수 있습니까? 왜 그렇거나 그렇지 않습니까? (힌트: `flights.groupby([\"carrier\", \"dest\"]).count()`에 대해 생각해 보십시오.)\n",
    "\n",
    "2. 각 목적지까지 가장 지연된 항공편을 찾습니다.\n",
    "\n",
    "3. 하루 동안 지연은 어떻게 변합니까?"
   ]
  }
 ],
 "metadata": {
  "interpreter": {
   "hash": "9d7534ecd9fbc7d385378f8400cf4d6cb9c6175408a574f1c99c5269f08771cc"
  },
  "jupytext": {
   "cell_metadata_filter": "-all",
   "encoding": "# -*- coding: utf-8 -*-",
   "formats": "md:myst",
   "main_language": "python"
  },
  "kernelspec": {
   "display_name": "Python 3 (ipykernel)",
   "language": "python",
   "name": "python3"
  },
  "language_info": {
   "codemirror_mode": {
    "name": "ipython",
    "version": 3
   },
   "file_extension": ".py",
   "mimetype": "text/x-python",
   "name": "python",
   "nbconvert_exporter": "python",
   "pygments_lexer": "ipython3",
   "version": "3.10.12"
  },
  "toc-showtags": true
 },
 "nbformat": 4,
 "nbformat_minor": 5
}
