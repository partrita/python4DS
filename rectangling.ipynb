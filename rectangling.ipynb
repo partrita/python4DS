{
 "cells": [
  {
   "cell_type": "markdown",
   "id": "95f0a171",
   "metadata": {},
   "source": [
    "(rectangling)=\n",
    "# 중첩 데이터\n",
    "\n",
    "## 소개\n",
    "\n",
    "이 장에서는 **중첩 데이터**에 대해 배우고, 근본적으로 트리와 같은 데이터를 다루며 (종종) 행과 열로 구성된 직사각형 데이터 프레임으로 변환합니다. 중첩 데이터는 특히 웹 API에서 가져온 데이터를 다룰 때 ( {ref}`webscraping-and-apis`에서 볼 수 있듯이) 놀라울 정도로 일반적이므로 이것은 중요합니다.\n",
    "\n",
    "정형화를 배우기 위해 먼저 목록, 사전 및 JSON 형식에 대해 배웁니다. 이러한 데이터 구조는 파이썬에서 계층적 데이터를 다루는 데 가장 자주 사용되기 때문입니다. 그런 다음 계층적 데이터를 열과 행의 '깔끔한' 데이터로 바꾸는 데 도움이 되는 몇 가지 함수에 대해 배웁니다. 그런 다음 이러한 간단한 함수를 여러 번 적용하여 실제 복잡한 문제를 해결하는 몇 가지 사례 연구를 보여 드리겠습니다.\n"
   ]
  },
  {
   "cell_type": "code",
   "execution_count": null,
   "id": "51a55374",
   "metadata": {
    "tags": [
     "remove-cell"
    ]
   },
   "outputs": [],
   "source": [
    "# 셀 제거\n",
    "import matplotlib.pyplot as plt\n",
    "import matplotlib_inline.backend_inline\n",
    "\n",
    "# 플롯 설정\n",
    "plt.style.use(\"https://github.com/aeturrell/python4DS/raw/main/plot_style.txt\")\n",
    "matplotlib_inline.backend_inline.set_matplotlib_formats(\"svg\")"
   ]
  },
  {
   "cell_type": "markdown",
   "id": "17575f3a",
   "metadata": {},
   "source": [
    "### 전제 조건\n",
    "\n",
    "이 장에서는 **pandas** 데이터 분석 패키지를 사용합니다."
   ]
  },
  {
   "cell_type": "markdown",
   "id": "2fcd8093",
   "metadata": {},
   "source": [
    "## 목록\n",
    "\n",
    "목록은 한 번에 많은 데이터를 다루는 데 매우 유용한 방법입니다. 대괄호로 정의되며 항목은 쉼표로 구분됩니다."
   ]
  },
  {
   "cell_type": "code",
   "execution_count": null,
   "id": "4d1c3fa4",
   "metadata": {},
   "outputs": [],
   "source": [
    "list_example = [10, 1.23, \"이것처럼\", True, None]\n",
    "print(list_example)"
   ]
  },
  {
   "cell_type": "markdown",
   "id": "29b10d07",
   "metadata": {},
   "source": [
    "항목을 추가하여 구성할 수도 있습니다."
   ]
  },
  {
   "cell_type": "code",
   "execution_count": null,
   "id": "96c4b86b",
   "metadata": {},
   "outputs": [],
   "source": [
    "list_example.append(\"항목 하나 더\")\n",
    "print(list_example)"
   ]
  },
  {
   "cell_type": "markdown",
   "id": "d8d4f6ed",
   "metadata": {},
   "source": [
    "그리고 0에서 시작하여 목록 길이보다 하나 작은 값에서 끝나는 인덱스를 사용하여 이전 항목에 액세스할 수 있습니다(이것은 많은 프로그래밍 언어의 관례입니다). 예를 들어 시작 부분에 특정 항목을 인쇄하려면 `0`을 사용하고 끝 부분에는 `-1`을 사용합니다."
   ]
  },
  {
   "cell_type": "code",
   "execution_count": null,
   "id": "138ac0e0",
   "metadata": {},
   "outputs": [],
   "source": [
    "print(list_example[0])\n",
    "print(list_example[-1])"
   ]
  },
  {
   "cell_type": "markdown",
   "id": "920d19f4",
   "metadata": {},
   "source": [
    "```{admonition} 연습\n",
    "목록 객체에 몇 개의 요소가 있는지 모르는 경우 목록 객체의 끝에서 두 번째 항목에 어떻게 액세스할 수 있습니까?\n",
    "```"
   ]
  },
  {
   "cell_type": "markdown",
   "id": "6aea9157",
   "metadata": {},
   "source": [
    "인덱싱을 사용하여 목록의 위치에 액세스하는 것 외에도 목록에서 *슬라이스*를 사용할 수 있습니다. 이것은 콜론 문자 `:`를 사용하여 (한 번만 나타날 때) '처음부터' 또는 '끝까지'를 나타냅니다. 예를 들어 마지막 두 항목만 인쇄하려면 인덱스 `-2:`를 사용하여 끝에서 두 번째부터 이후를 의미합니다. 다음은 처음 세 항목과 마지막 세 항목을 연속적으로 인쇄하는 두 가지 개별적인 예입니다."
   ]
  },
  {
   "cell_type": "code",
   "execution_count": null,
   "id": "ef390263",
   "metadata": {},
   "outputs": [],
   "source": [
    "print(list_example[:3])\n",
    "print(list_example[-3:])"
   ]
  },
  {
   "cell_type": "markdown",
   "id": "c82b5c4a",
   "metadata": {},
   "source": [
    "슬라이싱은 두 번째 콜론을 사용하여 항목을 건너뛸 수 있기 때문에 그보다 더 정교할 수 있습니다. 다음은 두 번째 항목에서 시작하여(인덱스는 0에서 시작함을 기억하십시오) 끝에서 두 번째 항목(제외)까지 실행하고 그 사이의 모든 다른 항목을 건너뛰는 전체 예입니다(range는 값에서 마지막 값보다 하나 작은 값까지의 정수 목록만 생성함)."
   ]
  },
  {
   "cell_type": "code",
   "execution_count": null,
   "id": "13584953",
   "metadata": {},
   "outputs": [],
   "source": [
    "list_of_numbers = list(range(1, 11))\n",
    "start = 1\n",
    "stop = -1\n",
    "step = 2\n",
    "print(list_of_numbers[start:stop:step])"
   ]
  },
  {
   "cell_type": "markdown",
   "id": "813e09bc",
   "metadata": {},
   "source": [
    "유용한 트릭은 이중 콜론을 사용하여 전체적으로 반전된 목록을 인쇄할 수 있다는 것입니다."
   ]
  },
  {
   "cell_type": "code",
   "execution_count": null,
   "id": "f2bc8926",
   "metadata": {},
   "outputs": [],
   "source": [
    "print(list_of_numbers[::-1])"
   ]
  },
  {
   "cell_type": "markdown",
   "id": "39f80c9e",
   "metadata": {},
   "source": [
    "````{admonition} 연습\n",
    "이전의 `list_example`을 슬라이스하여 처음 다섯 개의 항목만 가져옵니다.\n",
    "````"
   ]
  },
  {
   "cell_type": "markdown",
   "id": "b6ff3ca4",
   "metadata": {},
   "source": [
    "목록의 놀라운 점은 다른 목록을 포함하여 모든 유형을 담을 수 있다는 것입니다! 다음은 많은 일이 일어나고 있는 목록의 유효한 예입니다."
   ]
  },
  {
   "cell_type": "code",
   "execution_count": null,
   "id": "703fb0b2",
   "metadata": {},
   "outputs": [],
   "source": [
    "wacky_list = [\n",
    "    3.1415,\n",
    "    16,\n",
    "    [\"다섯\", 4, 3],\n",
    "    (91, 93, 90),\n",
    "    \"Hello World!\",\n",
    "    True,\n",
    "    None,\n",
    "    {\"key\": \"value\", \"key2\": \"value2\"},\n",
    "]\n",
    "wacky_list"
   ]
  },
  {
   "cell_type": "markdown",
   "id": "7669396e",
   "metadata": {},
   "source": [
    "### 목록의 계층적 데이터\n",
    "\n",
    "목록은 더 많은 목록(등등)을 포함할 수 있으므로 계층적 데이터를 넣는 데 사용할 수 있습니다. 예를 살펴보겠습니다."
   ]
  },
  {
   "cell_type": "code",
   "execution_count": null,
   "id": "28fe13d2",
   "metadata": {},
   "outputs": [],
   "source": [
    "multilayer_list = [[1, 2, 3, 4, 5], [6, 7, 8, 9, 10], [11, 12, 13, 14, 15]]\n",
    "multilayer_list"
   ]
  },
  {
   "cell_type": "markdown",
   "id": "57a81b53",
   "metadata": {},
   "source": [
    "이제 이것을 단일 목록으로 줄이고 싶다고 가정해 보겠습니다. *목록 내포*를 사용하여 이 작업을 수행할 수 있습니다."
   ]
  },
  {
   "cell_type": "code",
   "execution_count": null,
   "id": "73a71803",
   "metadata": {},
   "outputs": [],
   "source": [
    "[x for little_list in multilayer_list for x in little_list]"
   ]
  },
  {
   "cell_type": "markdown",
   "id": "8e96185a",
   "metadata": {},
   "source": [
    "여기서 말하는 것은 모든 작은 목록의 모든 값을 가져와 단일 목록에 넣는 것입니다."
   ]
  },
  {
   "cell_type": "markdown",
   "id": "c2d41125",
   "metadata": {},
   "source": [
    "### 목록에서 데이터 프레임으로\n",
    "\n",
    "때때로 데이터 프레임으로 바꾸고 싶은 목록에 데이터가 있을 수 있습니다. 예를 들어 다음과 같은 목록의 목록이 있을 수 있습니다."
   ]
  },
  {
   "cell_type": "code",
   "execution_count": null,
   "id": "007dadfb",
   "metadata": {},
   "outputs": [],
   "source": [
    "list_of_lists = [[1, 2, 3], [4, 5, 6], [7, 8, 9], [10, 11, 12]]"
   ]
  },
  {
   "cell_type": "markdown",
   "id": "fcfc2d3c",
   "metadata": {},
   "source": [
    "이것을 `data=` 키워드 인수로 데이터 프레임 생성자에 바로 전달할 수 있습니다(필요한 경우 다른 정보 추가). 이것은 세 개의 항목으로 구성된 네 개의 목록이므로 내부 루프에는 0에서 2까지의 항목이 있습니다. 이 내부 루프는 각 내부 목록의 항목 수가 *열* 수와 같은 데이터 프레임의 *행*으로 사용됩니다."
   ]
  },
  {
   "cell_type": "code",
   "execution_count": null,
   "id": "aeb70f97",
   "metadata": {},
   "outputs": [],
   "source": [
    "import pandas as pd\n",
    "\n",
    "pd.DataFrame(data=list_of_lists, columns=[\"a\", \"b\", \"c\"])"
   ]
  },
  {
   "cell_type": "markdown",
   "id": "cc797c89",
   "metadata": {},
   "source": [
    "보여드릴 트릭이 하나 더 있습니다. 바로 explode입니다. 이것은 목록 깊이가 두 수준 이상인 데이터가 있을 때 유용합니다. 다음과 같은 복잡한 계층 구조를 가진 데이터를 읽어들였다고 가정해 보겠습니다."
   ]
  },
  {
   "cell_type": "code",
   "execution_count": null,
   "id": "fa1d828c",
   "metadata": {},
   "outputs": [],
   "source": [
    "df = pd.DataFrame(\n",
    "    {\n",
    "        \"alpha\": [[0, 1, 2], \"foo\", [], [3, 4]],\n",
    "        \"beta\": 1,\n",
    "        \"gamma\": [[\"a\", \"b\", \"c\"], pd.NA, [], [\"d\", \"e\"]],\n",
    "    }\n",
    ")\n",
    "df"
   ]
  },
  {
   "cell_type": "markdown",
   "id": "91bb97aa",
   "metadata": {},
   "source": [
    "목록이 포함된 여러 행과 열이 있습니다. 어떤 상황에서는 열에 목록이 있어도 괜찮지만 여기서는 다른 유형의 데이터와 혼합되어 있으므로 그렇지 않을 것입니다. `explode()`를 사용하여 열을 세로로 더 분할할 수 있습니다."
   ]
  },
  {
   "cell_type": "code",
   "execution_count": null,
   "id": "0854bcf3",
   "metadata": {},
   "outputs": [],
   "source": [
    "df.explode(\"alpha\")"
   ]
  },
  {
   "cell_type": "markdown",
   "id": "7481d43b",
   "metadata": {},
   "source": [
    "## JSON (자바스크립트 객체 표기법)\n",
    "\n",
    "프로그래밍 및 계층적 데이터 객체에 대한 논의는 JSON(자바스크립트 객체 표기법)을 언급하지 않고는 완료될 수 없습니다! 웹에서, 특히 API(자동화된 웹 기반 데이터 서비스)에서 데이터를 다룰 때 항상 이 텍스트 데이터 형식을 접하게 될 것입니다. JSON은 파이썬 사전과 마찬가지로 객체를 이름/값 쌍으로 나타냅니다(이것은 `{key1: value1, key2: value2}` 형식임).\n",
    "\n",
    "아래 표는 파이썬과 JSON에서 발견되는 다양한 데이터 유형을 비교합니다.\n",
    "\n",
    "| JSON 객체   | 파이썬 객체 |\n",
    "|---------------|---------------|\n",
    "| object        | dict          |\n",
    "| array         | list          |\n",
    "| string        | str           |\n",
    "| null          | None          |\n",
    "| number (int)  | int           |\n",
    "| number (real) | float         |\n",
    "| true          | True          |\n",
    "| false         | False         |\n",
    "\n",
    "JSON 데이터로 수행할 수 있는 작업에는 일반적으로 두 가지가 있습니다. 1) JSON 데이터를 파이썬 객체(예: JSON에서 파이썬 사전으로)로 바꾸거나 그 반대로(각각 역직렬화 및 직렬화라고 함), 2) 역직렬화된 객체를 *다른* 종류의 파이썬 객체로 변환합니다.\n",
    "\n",
    "각각을 차례로 살펴보겠습니다."
   ]
  },
  {
   "cell_type": "markdown",
   "id": "a72b5732",
   "metadata": {},
   "source": [
    "### JSON 데이터 읽어오기\n",
    "\n",
    "JSON 데이터를 읽어오는 일반적인 예를 살펴보겠습니다.\n",
    "\n",
    "#### 웹에서\n",
    "\n",
    "API에서 일부 JSON 데이터를 가져옵니다. 최신 영국 실업률 데이터(시계열 코드 \"MGSX\" 및 데이터 세트 코드 \"LMS\")를 가져오겠습니다."
   ]
  },
  {
   "cell_type": "code",
   "execution_count": null,
   "id": "285ade5e",
   "metadata": {},
   "outputs": [],
   "source": [
    "import requests\n",
    "\n",
    "url = \"https://api.beta.ons.gov.uk/v1/data?uri=employmentandlabourmarket/peoplenotinwork/unemployment/timeseries/mgsx/lms/previous/v106\"\n",
    "\n",
    "# ONS API에서 데이터 가져오기:\n",
    "json_data = requests.get(url).json()"
   ]
  },
  {
   "cell_type": "markdown",
   "id": "051d3b4a",
   "metadata": {},
   "source": [
    "어떤 유형을 얻었는지 확인해 보겠습니다."
   ]
  },
  {
   "cell_type": "code",
   "execution_count": null,
   "id": "75399bf0",
   "metadata": {},
   "outputs": [],
   "source": [
    "type(json_data)"
   ]
  },
  {
   "cell_type": "markdown",
   "id": "22424c07",
   "metadata": {},
   "source": [
    "예상대로 JSON 데이터는 자동으로 사전으로 읽혔지만 필드가 숫자, 날짜/시간 및 기타 특정 데이터 유형이 아닌 텍스트로 읽혔다는 점에 유의하십시오.\n",
    "\n",
    "전체 객체를 인쇄하면 공간을 많이 차지하므로 대신 \"months\" 키 아래의 몇 가지 항목을 살펴보겠습니다."
   ]
  },
  {
   "cell_type": "code",
   "execution_count": null,
   "id": "8cc4f408",
   "metadata": {},
   "outputs": [],
   "source": [
    "json_data[\"months\"][:2]"
   ]
  },
  {
   "cell_type": "markdown",
   "id": "ce713def",
   "metadata": {},
   "source": [
    "#### 파일 또는 스트림에서\n",
    "\n",
    "이 연습에서는 이 책과 관련된 [저장소의 데이터 폴더](https://github.com/aeturrell/python4DS/tree/main/data)에서 JSON 파일 'cakes.json'을 다운로드하여 \"data\"라는 하위 폴더에 저장해야 합니다. 터미널을 사용하여 데이터를 살짝 볼 수 있습니다(앞에 느낌표가 있는 것은 이를 의미함)."
   ]
  },
  {
   "cell_type": "code",
   "execution_count": null,
   "id": "05069731",
   "metadata": {},
   "outputs": [],
   "source": [
    "json_string = \"\"\"\n",
    "{\n",
    " \"food\": \"도넛\",\n",
    " \"good_with\": [\"커피\", \"차\"],\n",
    " \"flavour\": null,\n",
    " \"toppings\": [{\"id\": 0, \"type\": \"글레이즈드\"},\n",
    "              {\"id\": 1, \"type\": \"설탕\"}]\n",
    "}\n",
    "\"\"\""
   ]
  },
  {
   "cell_type": "markdown",
   "id": "0c664ab6",
   "metadata": {},
   "source": [
    "내장된 **json** 라이브러리를 사용하여 이것을 파이썬으로 읽어들입니다(여기서 파일 경로를 사용할 수도 있습니다. 잠시 후에 자세히 설명)."
   ]
  },
  {
   "cell_type": "code",
   "execution_count": null,
   "id": "eca7982f",
   "metadata": {},
   "outputs": [],
   "source": [
    "import json\n",
    "\n",
    "result = json.loads(json_string)\n",
    "result"
   ]
  },
  {
   "cell_type": "markdown",
   "id": "df41f92b",
   "metadata": {},
   "source": [
    "JSON 텍스트에서 파이썬 사전으로 변환할 때 모든 것이 동일하지는 않습니다. JSON은 `None` 대신 `null`을 사용하고 목록 끝에 후행 쉼표를 허용하지 않으며 목록, 문자열(모든 키는 문자열이어야 함), 숫자, 부울 및 null과 같은 기본 유형을 갖습니다. 이제 파이썬 사전을 JSON으로 다시 작성하는 방법, 아마도 파일에 쓰는 방법을 살펴보겠습니다."
   ]
  },
  {
   "cell_type": "code",
   "execution_count": null,
   "id": "ea6f887d",
   "metadata": {},
   "outputs": [],
   "source": [
    "json_stream = json.dumps(result)\n",
    "json_stream"
   ]
  },
  {
   "cell_type": "markdown",
   "id": "5f9445b8",
   "metadata": {},
   "source": [
    "파일에 쓰려면 다음 패턴을 사용합니다."
   ]
  },
  {
   "cell_type": "markdown",
   "id": "0ba2facd",
   "metadata": {},
   "source": [
    "```python\n",
    "with open('data/json_data_output.json', 'w') as outfile:\n",
    "    json.dump(json_stream, outfile)\n",
    "```"
   ]
  },
  {
   "cell_type": "markdown",
   "id": "ed0fd646",
   "metadata": {},
   "source": [
    "디스크에서 파일(예: \"data/json_data_output.json\")을 읽으려면 다음과 같습니다.\n",
    "\n",
    "```python\n",
    "json.load(open(\"data/json_data_output.json\"))\n",
    "```"
   ]
  },
  {
   "cell_type": "markdown",
   "id": "3e10374c",
   "metadata": {},
   "source": [
    "### JSON 데이터에서 데이터 프레임으로\n",
    "\n",
    "**pandas**에는 JSON 또는 사전 데이터를 데이터 프레임으로 바꾸는 많은 옵션이 있습니다. 하지만 기본 데이터 구조에 대해 약간 생각해야 합니다."
   ]
  },
  {
   "cell_type": "code",
   "execution_count": null,
   "id": "1dbfd7c3",
   "metadata": {},
   "outputs": [],
   "source": [
    "import pandas as pd\n",
    "\n",
    "pd.DataFrame(result[\"toppings\"], columns=[\"id\", \"type\"])"
   ]
  },
  {
   "cell_type": "markdown",
   "id": "a1346020",
   "metadata": {},
   "source": [
    "이전에 다운로드한 웹 스크랩 데이터는 더 복잡한 구조를 가지고 있었지만 **pandas**에는 이를 처리할 수 있는 `json_normalize()` 함수가 있습니다. 예를 들어 다음 데이터에는 누락된 항목이 많지만 `json_normalize()`는 여전히 이를 데이터 프레임으로 구문 분석할 수 있습니다."
   ]
  },
  {
   "cell_type": "code",
   "execution_count": null,
   "id": "b3ea0e0b",
   "metadata": {},
   "outputs": [],
   "source": [
    "data = [\n",
    "    {\"id\": 1, \"name\": {\"first\": \"콜린\", \"last\": \"볼크\"}},\n",
    "    {\"name\": {\"given\": \"마크\", \"family\": \"레그너\"}},\n",
    "    {\"id\": 2, \"name\": \"페이 레이커\"},\n",
    "]\n",
    "pd.json_normalize(data)"
   ]
  },
  {
   "cell_type": "markdown",
   "id": "7eaf00e1",
   "metadata": {},
   "source": [
    "그리고 'name'과 같은 속성이 분할되는 수준도 제어할 수 있습니다([**pandas** 설명서](https://pandas.pydata.org/docs/reference/api/pandas.json_normalize.html)에서 더 많은 옵션을 확인할 수 있음)."
   ]
  },
  {
   "cell_type": "code",
   "execution_count": null,
   "id": "9349a3a7",
   "metadata": {},
   "outputs": [],
   "source": [
    "pd.json_normalize(data, max_level=0)"
   ]
  },
  {
   "cell_type": "markdown",
   "id": "78d637e5",
   "metadata": {},
   "source": [
    "JSON 정규화 함수 외에도 **pandas**에는 더 간단한 사전 객체로 작업하기 위한 `from_dict()` 메서드가 있습니다."
   ]
  }
 ],
 "metadata": {
  "jupytext": {
   "cell_metadata_filter": "-all",
   "encoding": "# -*- coding: utf-8 -*-",
   "formats": "md:myst",
   "main_language": "python"
  },
  "kernelspec": {
   "display_name": ".venv",
   "language": "python",
   "name": "python3"
  },
  "language_info": {
   "codemirror_mode": {
    "name": "ipython",
    "version": 3
   },
   "file_extension": ".py",
   "mimetype": "text/x-python",
   "name": "python",
   "nbconvert_exporter": "python",
   "pygments_lexer": "ipython3",
   "version": "3.10.0"
  },
  "toc-showtags": true
 },
 "nbformat": 4,
 "nbformat_minor": 5
}
