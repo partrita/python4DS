{
 "cells": [
  {
   "cell_type": "markdown",
   "id": "95f0a171",
   "metadata": {},
   "source": [
    "(missing-values)=\n",
    "# 결측값\n",
    "\n",
    "## 소개\n",
    "\n",
    "이 장에서는 결측값을 다루는 도구와 요령을 살펴보겠습니다.  먼저 `NA`로 기록된 결측값을 다루는 몇 가지 일반적인 도구에 대해 논의합니다. 그런 다음 암시적 결측값, 즉 데이터에서 단순히 누락된 값의 개념을 탐색하고 이를 명시적으로 만드는 데 사용할 수 있는 몇 가지 도구를 보여줍니다.\n",
    "데이터에 나타나지 않는 범주로 인해 발생하는 빈 그룹에 대한 관련 논의로 마무리합니다."
   ]
  },
  {
   "cell_type": "code",
   "execution_count": null,
   "id": "51a55374",
   "metadata": {
    "tags": [
     "remove-cell"
    ]
   },
   "outputs": [],
   "source": [
    "# 셀 제거\n",
    "import matplotlib.pyplot as plt\n",
    "import matplotlib_inline.backend_inline\n",
    "\n",
    "# 플롯 설정\n",
    "plt.style.use(\"https://github.com/aeturrell/python4DS/raw/main/plot_style.txt\")\n",
    "matplotlib_inline.backend_inline.set_matplotlib_formats(\"svg\")"
   ]
  },
  {
   "cell_type": "markdown",
   "id": "17575f3a",
   "metadata": {},
   "source": [
    "### 전제 조건\n",
    "\n",
    "이 장에서는 **pandas** 데이터 분석 패키지를 사용합니다."
   ]
  },
  {
   "cell_type": "markdown",
   "id": "8757f369",
   "metadata": {},
   "source": [
    "## 명시적 결측값\n",
    "\n",
    "먼저 명시적 결측값, 즉 데이터에서 `NA` 또는 `nan`을 볼 수 있는 셀을 만들거나 제거하는 몇 가지 유용한 도구를 살펴보겠습니다.\n",
    "\n",
    "### 결측값 유형\n",
    "\n",
    "**pandas**의 결측값에 대해 한 가지 주목할 점은 모두 동일하게 만들어지지 않는다는 것입니다!\n",
    "\n",
    "예를 들어 **pandas**의 실수(예: `float64` dtype)는 'nan'(즉, 숫자가 아님)을 사용합니다."
   ]
  },
  {
   "cell_type": "code",
   "execution_count": null,
   "id": "535ef959",
   "metadata": {},
   "outputs": [],
   "source": [
    "import numpy as np\n",
    "import pandas as pd\n",
    "\n",
    "df = pd.DataFrame([5, 27.3, np.nan, -16], columns=[\"numbers\"])\n",
    "df"
   ]
  },
  {
   "cell_type": "markdown",
   "id": "4b1c9ea7",
   "metadata": {},
   "source": [
    "하지만 이것이 유일한 방법은 아닙니다! 파이썬의 내장 `None` 값(여기서는 유효한 값이 모두 부동 소수점 숫자이므로 NaN으로 변환됨)과 **pandas**의 `pd.NA`를 사용할 수도 있습니다."
   ]
  },
  {
   "cell_type": "code",
   "execution_count": null,
   "id": "bf317bce",
   "metadata": {},
   "outputs": [],
   "source": [
    "numbers = pd.DataFrame([pd.NA, 27.3, np.nan, -16, None], columns=[\"numbers\"])\n",
    "numbers"
   ]
  },
  {
   "cell_type": "markdown",
   "id": "b2dda456",
   "metadata": {},
   "source": [
    "그러나 객체 데이터 유형(문자열의 기본값)을 사용하면 유형이 공존할 수 있습니다."
   ]
  },
  {
   "cell_type": "code",
   "execution_count": null,
   "id": "b1c864d9",
   "metadata": {},
   "outputs": [],
   "source": [
    "fruits = pd.DataFrame(\n",
    "    [\"orange\", np.nan, \"apple\", None, \"banana\", pd.NA], columns=[\"fruit\"]\n",
    ")\n",
    "fruits"
   ]
  },
  {
   "cell_type": "markdown",
   "id": "8b5a2849",
   "metadata": {},
   "source": [
    "이 두 가지 유형의 결측값은 모두 **pandas** `.isna()` 함수를 사용하여 찾을 수 있습니다. 이 함수는 값이 어떤 종류의 결측값이든 `True`인 부울 값의 새 열을 반환합니다."
   ]
  },
  {
   "cell_type": "code",
   "execution_count": null,
   "id": "cbcfe630",
   "metadata": {},
   "outputs": [],
   "source": [
    "fruits.isna()"
   ]
  },
  {
   "cell_type": "markdown",
   "id": "0fd6764d",
   "metadata": {},
   "source": [
    "편의를 위해 `notna()` 함수도 있습니다."
   ]
  },
  {
   "cell_type": "markdown",
   "id": "473f8756",
   "metadata": {},
   "source": [
    "### 명시적 결측값 처리\n",
    "\n",
    "결측값을 처리하는 다양한 옵션이 있습니다. `fillna()` 함수가 이를 수행합니다. 몇 가지 테스트 데이터로 살펴보겠습니다."
   ]
  },
  {
   "cell_type": "code",
   "execution_count": null,
   "id": "c96f89e6",
   "metadata": {},
   "outputs": [],
   "source": [
    "nan_df = pd.DataFrame(\n",
    "    [\n",
    "        [np.nan, 2, None, 0],\n",
    "        [3, 4, np.nan, 1],\n",
    "        [5, np.nan, np.nan, pd.NA],\n",
    "        [np.nan, 3, np.nan, 4],\n",
    "    ],\n",
    "    columns=list(\"ABCD\"),\n",
    ")\n",
    "\n",
    "nan_df"
   ]
  },
  {
   "cell_type": "markdown",
   "id": "53d12a89",
   "metadata": {},
   "source": [
    "먼저 결측값을 단일 고정 값으로 채울 수 있습니다."
   ]
  },
  {
   "cell_type": "code",
   "execution_count": null,
   "id": "a6bc5fe2",
   "metadata": {},
   "outputs": [],
   "source": [
    "nan_df.fillna(0)"
   ]
  },
  {
   "cell_type": "markdown",
   "id": "af8e2cb7",
   "metadata": {},
   "source": [
    "열별로 이 작업을 수행할 수 있습니다. 여기서는 'A', 'B', 'C', 'D' 열의 모든 NaN 요소를 각각 0, 1, 2, 3으로 바꿉니다."
   ]
  },
  {
   "cell_type": "code",
   "execution_count": null,
   "id": "e65b67c2",
   "metadata": {},
   "outputs": [],
   "source": [
    "nan_df.fillna(value={\"A\": 0, \"B\": 1, \"C\": 2, \"D\": 3})"
   ]
  },
  {
   "cell_type": "markdown",
   "id": "2544fe5a",
   "metadata": {},
   "source": [
    "null이 아닌 값을 앞으로 또는 뒤로(인덱스 기준) 전파할 수도 있습니다."
   ]
  },
  {
   "cell_type": "code",
   "execution_count": null,
   "id": "2a19e196",
   "metadata": {},
   "outputs": [],
   "source": [
    "nan_df.fillna(method=\"ffill\")"
   ]
  },
  {
   "cell_type": "code",
   "execution_count": null,
   "id": "8b5b001e",
   "metadata": {},
   "outputs": [],
   "source": [
    "nan_df.fillna(method=\"bfill\")"
   ]
  },
  {
   "cell_type": "markdown",
   "id": "10696d53",
   "metadata": {},
   "source": [
    "앞으로 채우기 및 뒤로 채우기 옵션은 시계열에 특히 유용하지만 예측 연습을 수행하는 경우 주의해서 사용하십시오!"
   ]
  },
  {
   "cell_type": "markdown",
   "id": "ca7e4ca9",
   "metadata": {},
   "source": [
    "이러한 모든 함수의 또 다른 기능은 `limit=` 키워드 인수를 사용하여 대체되는 NaN 수를 제한할 수 있다는 것입니다."
   ]
  },
  {
   "cell_type": "code",
   "execution_count": null,
   "id": "558e7a23",
   "metadata": {},
   "outputs": [],
   "source": [
    "nan_df.fillna(value={\"A\": 0, \"B\": 1, \"C\": 2, \"D\": 3}, limit=1)"
   ]
  },
  {
   "cell_type": "markdown",
   "id": "99b94a01",
   "metadata": {},
   "source": [
    "물론 다른 옵션은 결측값을 완전히 필터링하는 것입니다. 전체 행(`axis=0`) 또는 열(`axis=1` - 하지만 이 경우 각 열에 NaN이 하나 이상 있으므로 데이터가 남지 않음!)을 제거하려는 경우에 따라 몇 가지 방법이 있습니다."
   ]
  },
  {
   "cell_type": "code",
   "execution_count": null,
   "id": "0e3a81c1",
   "metadata": {},
   "outputs": [],
   "source": [
    "nan_df[\"A\"].dropna(axis=0)  # 단일 열에서"
   ]
  },
  {
   "cell_type": "code",
   "execution_count": null,
   "id": "9c1e312e",
   "metadata": {},
   "outputs": [],
   "source": [
    "nan_df.dropna(axis=1)"
   ]
  },
  {
   "cell_type": "markdown",
   "id": "9bc57652",
   "metadata": {},
   "source": [
    "`dropna()`는 몇 가지 키워드 인수도 사용합니다. 예를 들어 `how=\"all\"`은 *모든* 값이 NA인 경우에만 열 또는 행을 삭제합니다."
   ]
  },
  {
   "cell_type": "code",
   "execution_count": null,
   "id": "3296ea35",
   "metadata": {},
   "outputs": [],
   "source": [
    "nan_df.dropna(how=\"all\")"
   ]
  },
  {
   "cell_type": "markdown",
   "id": "512f8246",
   "metadata": {},
   "source": [
    "`thresh` 키워드(임계값용)가 있습니다. 이를 통해 최대 특정 수의 결측 관찰을 포함하는 행 또는 열만 유지할 수 있습니다."
   ]
  },
  {
   "cell_type": "markdown",
   "id": "095f53a5",
   "metadata": {},
   "source": [
    "nan을 필터링하는 또 다른 방법은 `.notna()` 함수와 함께 부울 열을 통해 일반적으로 사용하는 것과 동일한 필터링 방법을 사용하는 것입니다. 아래 예에서는 A가 NA가 아닌 행에 대한 모든 열을 볼 수 있습니다."
   ]
  },
  {
   "cell_type": "code",
   "execution_count": null,
   "id": "d3e1af81",
   "metadata": {},
   "outputs": [],
   "source": [
    "nan_df[nan_df[\"A\"].notna()]"
   ]
  },
  {
   "cell_type": "markdown",
   "id": "c1588f63",
   "metadata": {},
   "source": [
    "### NA 값 추가\n",
    "\n",
    "때로는 일부 구체적인 값이 실제로 결측값을 나타내는 반대 문제에 직면하게 됩니다. 이는 일반적으로 결측값을 제대로 나타낼 방법이 없는 이전 소프트웨어에서 생성된 데이터에서 발생하므로 대신 99 또는 -999와 같은 특수 값을 사용해야 합니다.\n",
    "\n",
    "가능하면 데이터를 읽을 때 이 문제를 처리하십시오. 예를 들어 `pd.read_csv()`를 호출할 때 `na_values=` 키워드 인수를 사용합니다. 나중에 문제를 발견하거나 데이터 원본에서 파일을 읽을 때 처리할 방법을 제공하지 않는 경우 다양한 옵션을 사용하여 지정된 데이터를 바꿀 수 있습니다."
   ]
  },
  {
   "cell_type": "code",
   "execution_count": null,
   "id": "45668d12",
   "metadata": {},
   "outputs": [],
   "source": [
    "stata_df = pd.DataFrame([[3, 4, 5], [-7, 4, -99], [-99, 6, 5]], columns=list(\"ABC\"))\n",
    "\n",
    "stata_df"
   ]
  },
  {
   "cell_type": "markdown",
   "id": "81685807",
   "metadata": {},
   "source": [
    "가장 쉬운 옵션은 아마도 `.replace()`일 것입니다."
   ]
  },
  {
   "cell_type": "code",
   "execution_count": null,
   "id": "c43070f4",
   "metadata": {},
   "outputs": [],
   "source": [
    "stata_df.replace({-99: pd.NA})"
   ]
  },
  {
   "cell_type": "markdown",
   "id": "9d4d3d3d",
   "metadata": {},
   "source": [
    "`.replace()`는 사전을 허용하므로 한 번에 여러 값을 바꿀 수 있습니다."
   ]
  },
  {
   "cell_type": "code",
   "execution_count": null,
   "id": "12cc567a",
   "metadata": {},
   "outputs": [],
   "source": [
    "stata_df.replace({-99: pd.NA, -7: pd.NA})"
   ]
  },
  {
   "cell_type": "markdown",
   "id": "4df2baca",
   "metadata": {},
   "source": [
    "이것은 데이터 프레임의 *모든* 열에 적용됩니다. 특정 열에만 적용하려면 해당 특정 열을 선택하기만 하면 됩니다."
   ]
  },
  {
   "cell_type": "markdown",
   "id": "85307077",
   "metadata": {},
   "source": [
    "## 암시적 결측값\n",
    "\n",
    "지금까지 **명시적으로** 결측된 값, 즉 데이터에서 `NA` 등을 볼 수 있는 값에 대해 이야기했습니다.\n",
    "그러나 전체 데이터 행이 단순히 데이터에 없는 경우 결측값은 **암시적으로** 결측될 수도 있습니다.\n",
    "분기별 주식 가격을 기록하는 간단한 데이터 세트로 차이점을 설명하겠습니다."
   ]
  },
  {
   "cell_type": "code",
   "execution_count": null,
   "id": "057c5203",
   "metadata": {},
   "outputs": [],
   "source": [
    "stocks = pd.DataFrame(\n",
    "    {\n",
    "        \"year\": [2020, 2020, 2020, 2020, 2021, 2021, 2021],\n",
    "        \"qtr\": [1, 2, 3, 4, 2, 3, 4],\n",
    "        \"price\": [1.88, 0.59, 0.35, np.nan, 0.92, 0.17, 2.66],\n",
    "    }\n",
    ")\n",
    "stocks"
   ]
  },
  {
   "cell_type": "markdown",
   "id": "0724a86b",
   "metadata": {},
   "source": [
    "이 데이터 세트에는 두 개의 결측 관찰이 있습니다.\n",
    "\n",
    "-   2020년 4분기 `price`는 값이 `NA`이므로 명시적으로 결측되었습니다.\n",
    "\n",
    "-   2021년 1분기 `price`는 데이터 세트에 단순히 나타나지 않으므로 암시적으로 결측되었습니다.\n",
    "\n",
    "차이점을 생각하는 한 가지 방법은 다음과 같은 선문답과 같습니다.\n",
    "\n",
    "> 명시적 결측값은 부재의 존재입니다.\n",
    ">\n",
    "> 암시적 결측값은 존재의 부재입니다.\n",
    "\n",
    "때로는 작업할 물리적인 것이 있도록 암시적 결측을 명시적으로 만들고 싶을 때가 있습니다.\n",
    "다른 경우에는 데이터 구조로 인해 명시적 결측이 강제되고 이를 제거하고 싶을 때가 있습니다.\n",
    "다음 섹션에서는 암시적 결측과 명시적 결측 간에 이동하기 위한 몇 가지 도구에 대해 설명합니다."
   ]
  },
  {
   "cell_type": "markdown",
   "id": "234b8547",
   "metadata": {},
   "source": [
    "### 피벗\n",
    "\n",
    "암시적 결측을 명시적으로 만들고 그 반대의 경우도 가능한 도구를 이미 보았습니다. 피벗입니다. 데이터를 더 넓게 만들면 행과 새 열의 모든 조합에 어떤 값이 있어야 하므로 암시적 결측값이 명시적이 될 수 있습니다. 예를 들어 `stocks`를 피벗하여 `quarter`를 열에 넣고(`year`를 인덱스로 만듦) 두 결측값이 모두 명시적이 됩니다."
   ]
  },
  {
   "cell_type": "code",
   "execution_count": null,
   "id": "87ab37d0",
   "metadata": {},
   "outputs": [],
   "source": [
    "stocks.pivot(columns=\"qtr\", values=\"price\", index=\"year\")"
   ]
  },
  {
   "cell_type": "markdown",
   "id": "83096aeb",
   "metadata": {},
   "source": [
    "기본적으로 데이터를 더 길게 만들면 명시적 결측값이 유지됩니다."
   ]
  },
  {
   "cell_type": "markdown",
   "id": "9cce8b43",
   "metadata": {},
   "source": [
    "### 범주형 변수의 결측값\n",
    "\n",
    "마지막 결측 유형은 빈 그룹으로, 관찰이 포함되지 않은 그룹이며 범주형 데이터로 작업할 때 발생할 수 있습니다.\n",
    "\n",
    "예를 들어 사람들에 대한 건강 정보가 포함된 데이터 세트가 있다고 가정해 보겠습니다."
   ]
  },
  {
   "cell_type": "code",
   "execution_count": null,
   "id": "92a914e3",
   "metadata": {},
   "outputs": [],
   "source": [
    "health = pd.DataFrame(\n",
    "    {\n",
    "        \"name\": [\"이카이아\", \"올레타\", \"레리아\", \"다샤이\", \"트레손\"],\n", # 번역된 이름
    "        \"smoker\": [\"아니요\", \"아니요\", \"이전\", \"아니요\", \"예\"],\n", # 번역된 값
    "        \"age\": [34, 88, 75, 47, 56],\n",
    "    }\n",
    ")\n",
    "health[\"smoker\"] = health[\"smoker\"].astype(\"category\")"
   ]
  },
  {
   "cell_type": "markdown",
   "id": "0dde79cf",
   "metadata": {},
   "source": [
    "이제 데이터의 마지막 행을 삭제합니다."
   ]
  },
  {
   "cell_type": "code",
   "execution_count": null,
   "id": "cc904247",
   "metadata": {},
   "outputs": [],
   "source": [
    "health_cut = health.iloc[:-1, :]\n",
    "health_cut"
   ]
  },
  {
   "cell_type": "markdown",
   "id": "7ae95b5f",
   "metadata": {},
   "source": [
    "이제 흡연자에 대한 '예' 값은 데이터 프레임 어디에도 나타나지 않는 것 같습니다. 하지만 `value_counts()`를 실행하여 각 범주 유형의 개수를 가져오면 데이터 프레임이 현재 존재하지 않는 '예' 범주가 있다는 것을 '기억'하고 있음을 알 수 있습니다."
   ]
  },
  {
   "cell_type": "code",
   "execution_count": null,
   "id": "546bc395",
   "metadata": {},
   "outputs": [],
   "source": [
    "health_cut[\"smoker\"].value_counts()"
   ]
  },
  {
   "cell_type": "markdown",
   "id": "bde48398",
   "metadata": {},
   "source": [
    "`groupby()` 작업에서도 동일한 현상이 발생합니다."
   ]
  },
  {
   "cell_type": "code",
   "execution_count": null,
   "id": "efb6c6ab",
   "metadata": {},
   "outputs": [],
   "source": [
    "health_cut.groupby(\"smoker\")[\"age\"].mean()"
   ]
  },
  {
   "cell_type": "markdown",
   "id": "5a2af19e",
   "metadata": {},
   "source": [
    "여기서 볼 수 있듯이 존재하지 않는 숫자의 평균을 취했기 때문에 예 행에 대한 실제 값 대신 NaN이 표시됩니다(하지만 '예' 행은 있음)."
   ]
  }
 ],
 "metadata": {
  "interpreter": {
   "hash": "9d7534ecd9fbc7d385378f8400cf4d6cb9c6175408a574f1c99c5269f08771cc"
  },
  "jupytext": {
   "cell_metadata_filter": "-all",
   "encoding": "# -*- coding: utf-8 -*-",
   "formats": "md:myst",
   "main_language": "python"
  },
  "kernelspec": {
   "display_name": "Python 3 (ipykernel)",
   "language": "python",
   "name": "python3"
  },
  "language_info": {
   "codemirror_mode": {
    "name": "ipython",
    "version": 3
   },
   "file_extension": ".py",
   "mimetype": "text/x-python",
   "name": "python",
   "nbconvert_exporter": "python",
   "pygments_lexer": "ipython3",
   "version": "3.10.12"
  },
  "toc-showtags": true
 },
 "nbformat": 4,
 "nbformat_minor": 5
}
