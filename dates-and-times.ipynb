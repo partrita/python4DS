{
 "cells": [
  {
   "cell_type": "markdown",
   "id": "95f0a171",
   "metadata": {},
   "source": [
    "(dates-and-times)=\n",
    "# 날짜 및 시간\n",
    "\n",
    "## 소개\n",
    "\n",
    "이 장에서는 파이썬에서 날짜와 시간을 다루는 방법을 보여줍니다. 언뜻 보기에 날짜와 시간은 단순해 보입니다. 일상 생활에서 항상 사용하며 그다지 혼란을 야기하지 않는 것 같습니다. 그러나 날짜와 시간에 대해 더 많이 알수록 더 복잡해지는 것 같습니다. 워밍업으로 다음 세 가지 간단해 보이는 질문을 해보십시오.\n",
    "\n",
    "-   모든 해가 365일입니까?\n",
    "-   모든 날이 24시간입니까?\n",
    "-   모든 분이 60초입니까?\n",
    "\n",
    "모든 해가 365일이 아니라는 것을 알고 계실 것입니다. 하지만 윤년인지 확인하는 전체 규칙을 알고 계십니까?\n",
    "\n",
    "세계 여러 지역에서 일광 절약 시간제(DST)를 사용하므로 일부 날은 23시간이고 다른 날은 25시간이라는 것을 기억하실 수 있습니다. 지구의 자전이 점차 느려지기 때문에 때때로 윤초가 추가되어 일부 분이 61초라는 것을 몰랐을 수도 있습니다.\n",
    "\n",
    "날짜와 시간은 두 가지 물리적 현상(지구의 자전과 태양 주위의 공전)과 월, 시간대 및 DST를 포함한 수많은 지정학적 현상을 조화시켜야 하기 때문에 어렵습니다.\n",
    "\n",
    "이 장에서는 날짜와 시간에 대한 모든 세부 정보를 가르쳐주지는 않지만 일반적인 데이터 분석 문제에 도움이 될 실용적인 기술에 대한 견고한 기초를 제공합니다. 특히 여기서 다루지 않을 시간 관련 코드 작업 중 하나는 지정된 빈도로 스크립트나 함수를 실행하는 방법, 즉 작업을 예약하는 방법입니다.\n"
   ]
  },
  {
   "cell_type": "code",
   "execution_count": null,
   "id": "51a55374",
   "metadata": {
    "tags": [
     "remove-cell"
    ]
   },
   "outputs": [],
   "source": [
    "# 셀 제거\n",
    "import matplotlib.pyplot as plt\n",
    "import matplotlib_inline.backend_inline\n",
    "\n",
    "# 플롯 설정\n",
    "plt.style.use(\"https://github.com/aeturrell/python4DS/raw/main/plot_style.txt\")\n",
    "matplotlib_inline.backend_inline.set_matplotlib_formats(\"svg\")"
   ]
  },
  {
   "cell_type": "markdown",
   "id": "17575f3a",
   "metadata": {},
   "source": [
    "### 전제 조건\n",
    "\n",
    "이 장에서는 **seaborn** 패키지를 설치해야 합니다. 이 장에서는 다음과 같이 명령줄(터미널이라고도 함)에서 실행하여 설치할 수 있는 차세대 버전의 **seaborn**을 사용합니다.\n",
    "\n",
    "```bash\n",
    "pip install --pre seaborn\n",
    "```\n",
    "\n",
    "또한 **pandas** 패키지와 숫자 패키지 **numpy**도 사용할 것입니다."
   ]
  },
  {
   "cell_type": "markdown",
   "id": "ff99055a",
   "metadata": {},
   "source": [
    "## 파이썬의 시간\n",
    "\n",
    "데이터 과학에서 표현되는 특정 시점은 시계 시간과 날짜로 구성됩니다. 이 두 요소는 *datetime*으로 함께 제공됩니다.\n",
    "\n",
    "datetime 객체는 파이썬의 기본 시간 객체입니다. 실제로 훨씬 더 많이 사용할 **pandas**를 사용한 datetime 작업으로 넘어가기 전에 이러한 객체에 대해 아는 것이 유용합니다. 파이썬의 *datetime* 객체는 연도, 월, 일, 시간, 초 및 마이크로초를 캡처합니다. datetime을 다루는 클래스(객체 유형은 datetime.datetime)를 가져와서 살펴보겠습니다."
   ]
  },
  {
   "cell_type": "code",
   "execution_count": null,
   "id": "84829a6b",
   "metadata": {},
   "outputs": [],
   "source": [
    "from datetime import datetime\n",
    "\n",
    "now = datetime.now()\n",
    "print(now)"
   ]
  },
  {
   "cell_type": "markdown",
   "id": "70893642",
   "metadata": {},
   "source": [
    "대부분의 사람들은 일-월-년 형식으로 작업하는 데 더 익숙하지만 일부 사람들은 월-일-년 형식을 사용하기도 하는데, 이는 전혀 의미가 없습니다! 그러나 datetime은 연-월-일-시:분:초 형식으로 시간을 24시간 형식으로 표시하는 국제 표준인 [ISO 8601](https://en.wikipedia.org/wiki/ISO_8601)을 따릅니다. 코딩할 때도 이 형식을 사용해야 합니다."
   ]
  },
  {
   "cell_type": "markdown",
   "id": "5d224fed",
   "metadata": {},
   "source": [
    "생성한 변수에는 `year`, `month`, `day` 등에서 `microsecond`까지의 메서드가 있음을 알 수 있습니다. 생성한 `now` 객체에서 이러한 메서드를 호출하면 관련 세부 정보가 반환됩니다.\n",
    "\n",
    "```{admonition} 연습\n",
    "`datetime.now()` 인스턴스에서 year, month, day 함수를 호출해 보십시오.\n",
    "```\n",
    "\n",
    "`now`는 생성되면 새로 고쳐지지 않고 만들어진 시간에 고정됩니다."
   ]
  },
  {
   "cell_type": "markdown",
   "id": "bc5604b3",
   "metadata": {},
   "source": [
    "## 날짜/시간 만들기\n",
    "\n",
    "### 개별 구성 요소에서\n",
    "\n",
    "지정된 숫자 정보를 사용하여 날짜/시간을 만드는 명령은 다음과 같습니다."
   ]
  },
  {
   "cell_type": "code",
   "execution_count": null,
   "id": "fc224a47",
   "metadata": {},
   "outputs": [],
   "source": [
    "specific_datetime = datetime(2019, 11, 28)\n",
    "print(specific_datetime)"
   ]
  },
  {
   "cell_type": "markdown",
   "id": "5adef873",
   "metadata": {},
   "source": [
    "더 명확하고 읽기 쉬운 코드를 만들려면 `datetime(year=2019, month=11, day=28)`과 같이 키워드 인수를 사용하여 호출할 수도 있습니다."
   ]
  },
  {
   "cell_type": "markdown",
   "id": "70382b04",
   "metadata": {},
   "source": [
    "### 문자열에서\n",
    "\n",
    "시간과 관련하여 수행해야 할 가장 일반적인 변환 중 하나는 \"2002년 7월 4일\"과 같은 문자열에서 datetime으로 변환하는 것입니다. `datetime.strptime()`을 사용하여 이 작업을 수행할 수 있습니다. 다음은 예입니다."
   ]
  },
  {
   "cell_type": "code",
   "execution_count": null,
   "id": "4558d476",
   "metadata": {},
   "outputs": [],
   "source": [
    "date_string = \"16 February in 2002\"\n",
    "datetime.strptime(date_string, \"%d %B in %Y\")"
   ]
  },
  {
   "cell_type": "markdown",
   "id": "6810206d",
   "metadata": {},
   "source": [
    "무슨 일인가요? 날짜 문자열의 패턴은 \"일 월 'in' 연도\"입니다. 파이썬의 `strptime()` 함수에는 datetime의 다른 부분(및 표현될 수 있는 다른 방식)에 대한 코드가 있습니다. 예를 들어 긴 월 대신 짧은 월 버전을 사용했다면 다음과 같습니다."
   ]
  },
  {
   "cell_type": "code",
   "execution_count": null,
   "id": "fb90ac84",
   "metadata": {},
   "outputs": [],
   "source": [
    "date_string = \"16 Feb in 2002\"\n",
    "datetime.strptime(date_string, \"%d %b in %Y\")"
   ]
  },
  {
   "cell_type": "markdown",
   "id": "6c540ef4",
   "metadata": {},
   "source": [
    "물론 항상 전달하는 내용의 세부 사항에 대해 걱정하고 싶지는 않을 것이며, 필요한 경우 유연한 형식 구문 분석을 위해 내장된 `dateutil`이 있습니다(단, 암시적인 것보다 명시적인 것이 좋습니다!)."
   ]
  },
  {
   "cell_type": "code",
   "execution_count": null,
   "id": "7a568f5b",
   "metadata": {},
   "outputs": [],
   "source": [
    "from dateutil.parser import parse\n",
    "\n",
    "date_string = \"03 Feb 02\"\n",
    "print(parse(date_string))\n",
    "date_string = \"3rd February 2002\"\n",
    "print(parse(date_string))"
   ]
  },
  {
   "cell_type": "markdown",
   "id": "48cb9b0c",
   "metadata": {},
   "source": [
    "datetime을 문자열로 바꾸는 것은 어떻습니까? 동일한 코드를 사용하여 이 작업도 수행할 수 있습니다."
   ]
  },
  {
   "cell_type": "code",
   "execution_count": null,
   "id": "d6b5e3c3",
   "metadata": {},
   "outputs": [],
   "source": [
    "now.strftime(\"%A, %m, %Y\")"
   ]
  },
  {
   "cell_type": "markdown",
   "id": "be9ab6f0",
   "metadata": {},
   "source": [
    "[https://strftime.org/](https://strftime.org/)에서 거의 포괄적인 `strftime` 코드 목록을 찾을 수 있지만 편의를 위해 아래 표에 다시 나와 있습니다.\n",
    "\n",
    "| 코드 | 의미 | 예 |\n",
    "|-|-|-|\n",
    "| %a | 로케일의 약어 요일 이름입니다. | Mon |\n",
    "| %A | 로케일의 전체 요일 이름입니다. | Monday |\n",
    "| %w | 요일을 10진수로 표시하며, 여기서 0은 일요일이고 6은 토요일입니다. | 1 |\n",
    "| %d | 월의 일을 0으로 채워진 10진수로 표시합니다. | 30 |\n",
    "| %-d | 월의 일을 10진수로 표시합니다. (플랫폼별) | 30 |\n",
    "| %b | 로케일의 약어 월 이름입니다. | Sep |\n",
    "| %B | 로케일의 전체 월 이름입니다. | September |\n",
    "| %m | 월을 0으로 채워진 10진수로 표시합니다. | 09 |\n",
    "| %-m | 월을 10진수로 표시합니다. (플랫폼별) | 9 |\n",
    "| %y | 세기 없이 연도를 0으로 채워진 10진수로 표시합니다. | 13 |\n",
    "| %Y | 세기를 포함한 연도를 10진수로 표시합니다. | 2013 |\n",
    "| %H | 시간(24시간제)을 0으로 채워진 10진수로 표시합니다. | 07 |\n",
    "| %-H | 시간(24시간제)을 10진수로 표시합니다. (플랫폼별) | 7 |\n",
    "| %I | 시간(12시간제)을 0으로 채워진 10진수로 표시합니다. | 07 |\n",
    "| %-I | 시간(12시간제)을 10진수로 표시합니다. (플랫폼별) | 7 |\n",
    "| %p | 로케일의 AM 또는 PM에 해당하는 값입니다. | AM |\n",
    "| %M | 분을 0으로 채워진 10진수로 표시합니다. | 06 |\n",
    "| %-M | 분을 10진수로 표시합니다. (플랫폼별) | 6 |\n",
    "| %S | 초를 0으로 채워진 10진수로 표시합니다. | 05 |\n",
    "| %-S | 초를 10진수로 표시합니다. (플랫폼별) | 5 |\n",
    "| %f | 마이크로초를 왼쪽에 0으로 채워진 10진수로 표시합니다. | 000000 |\n",
    "| %z | UTC 오프셋을 +HHMM 또는 -HHMM 형식으로 표시합니다(객체가 наив한 경우 빈 문자열). |  |\n",
    "| %Z | 시간대 이름(객체가 наив한 경우 빈 문자열). |  |\n",
    "| %j | 연중 일을 0으로 채워진 10진수로 표시합니다. | 273 |\n",
    "| %-j | 연중 일을 10진수로 표시합니다. (플랫폼별) | 273 |\n",
    "| %U | 연중 주 번호(일요일을 주의 첫 번째 날로 간주)를 0으로 채워진 10진수로 표시합니다. | 39 |\n",
    "| %W | 연중 주 번호(월요일을 주의 첫 번째 날로 간주)를 10진수로 표시합니다. | 39 |\n",
    "| %c | 로케일의 적절한 날짜 및 시간 표현입니다. | Mon Sep 30 07:06:05 2013 |\n",
    "| %x | 로케일의 적절한 날짜 표현입니다. | 09/30/13 |\n",
    "| %X | 로케일의 적절한 시간 표현입니다. | 07:06:05 |\n",
    "| %% | 리터럴 '%' 문자입니다. | % |"
   ]
  },
  {
   "cell_type": "markdown",
   "id": "fc02b84d",
   "metadata": {},
   "source": [
    "## 날짜/시간 연산\n",
    "\n",
    "날짜/시간에 대해 예상되는 많은 연산이 작동합니다. 예를 들어 다음과 같습니다."
   ]
  },
  {
   "cell_type": "code",
   "execution_count": null,
   "id": "39ba17e6",
   "metadata": {},
   "outputs": [],
   "source": [
    "now > specific_datetime"
   ]
  },
  {
   "cell_type": "markdown",
   "id": "59077f81",
   "metadata": {},
   "source": [
    "*단일* 날짜/시간을 기록하거나 비교하는 것 외에도 날짜/시간 *차이*에 관심이 있는 경우가 많습니다. 하나 만들고 유형을 확인해 보겠습니다."
   ]
  },
  {
   "cell_type": "code",
   "execution_count": null,
   "id": "fda57a44",
   "metadata": {},
   "outputs": [],
   "source": [
    "time_diff = now - datetime(year=2020, month=1, day=1)\n",
    "print(time_diff)"
   ]
  },
  {
   "cell_type": "markdown",
   "id": "9b7749fc",
   "metadata": {},
   "source": [
    "이것은 일, 시, 분, 초 및 마이크로초 형식입니다. `type()`으로 유형을 확인해 보겠습니다."
   ]
  },
  {
   "cell_type": "code",
   "execution_count": null,
   "id": "e1e25736",
   "metadata": {},
   "outputs": [],
   "source": [
    "type(time_diff)"
   ]
  },
  {
   "cell_type": "markdown",
   "id": "97c8d655",
   "metadata": {},
   "source": [
    "이것은 `datetime.timedelta` 유형입니다."
   ]
  },
  {
   "cell_type": "markdown",
   "id": "c55fb124",
   "metadata": {},
   "source": [
    "## 시간대\n",
    "\n"
   ]
  },
  {
   "cell_type": "markdown",
   "id": "acaaf88c",
   "metadata": {},
   "source": [
    "날짜 및 시간 객체는 시간대 정보를 포함하는지 여부에 따라 인식 또는 наив로 분류될 수 있습니다. 인식 객체는 다른 인식 객체에 대해 자신을 찾을 수 있지만 наив 객체는 다른 날짜/시간 객체에 대해 자신을 명확하게 찾는 데 충분한 정보를 포함하지 않습니다. 지금까지 우리는 наив datetime 객체로 작업했습니다.\n",
    "\n",
    "[**pytz**](https://pypi.org/project/pytz/) 패키지는 시간대 작업에 도움이 될 수 있습니다. 두 가지 주요 사용 사례가 있습니다. i) 시간대 наив datetime을 현지화하여 인식되도록, 즉 시간대를 갖도록 하고 ii) 한 시간대의 datetime을 다른 시간대로 변환합니다.\n",
    "\n",
    "코딩의 기본 시간대는 UTC입니다. 'UTC'는 협정 세계시입니다. 그리니치 표준시(GMT) 및 다양한 세계시 정의의 후속이지만 구별됩니다. UTC는 이제 시계 및 시간 측정을 규제하는 전 세계 표준입니다.\n",
    "\n",
    "다른 모든 시간대는 UTC를 기준으로 정의되며 현지 시간을 도출하기 위해 UTC에서 더하거나 빼는 시간인 UTC+0800과 같은 오프셋을 포함합니다. UTC에는 일광 절약 시간이 발생하지 않으므로 일광 절약 시간 전환, 국가의 시간대 변경 또는 여러 시간대를 로밍하는 모바일 컴퓨터로 인해 발생하는 혼란과 모호성에 대해 걱정하지 않고 날짜 계산을 수행하는 데 유용한 시간대입니다."
   ]
  },
  {
   "cell_type": "markdown",
   "id": "58bedcdc",
   "metadata": {},
   "source": [
    "## 벡터화된 날짜/시간 \n",
    "\n",
    "이제 강력한 **numpy** 패키지를 사용하여 날짜/시간에 대한 벡터화된 연산으로 넘어갑니다(**pandas**에서 사용되는 방식임). **numpy**에는 `np.datetime64`라는 자체 버전의 datetime이 있으며 규모에 따라 매우 효율적입니다. 실제로 살펴보겠습니다."
   ]
  },
  {
   "cell_type": "code",
   "execution_count": null,
   "id": "ed526fbc",
   "metadata": {},
   "outputs": [],
   "source": [
    "import numpy as np\n",
    "\n",
    "date = np.array(\"2020-01-01\", dtype=np.datetime64)\n",
    "date"
   ]
  },
  {
   "cell_type": "markdown",
   "id": "558f758b",
   "metadata": {},
   "source": [
    "'D'는 여기서 가장 작은 단위가 일임을 알려줍니다. 이 객체에서 날짜 벡터를 쉽게 만들 수 있습니다."
   ]
  },
  {
   "cell_type": "code",
   "execution_count": null,
   "id": "537895c5",
   "metadata": {},
   "outputs": [],
   "source": [
    "date + range(32)"
   ]
  },
  {
   "cell_type": "markdown",
   "id": "ca81358f",
   "metadata": {},
   "source": [
    "마지막 날이 다음 달로 넘어가는 것을 확인하십시오.\n",
    "\n",
    "일보다 정밀도가 높은 datetime을 만드는 경우 **numpy**는 입력에서 이를 파악합니다. 예를 들어 이것은 초까지 해상도를 제공합니다."
   ]
  },
  {
   "cell_type": "code",
   "execution_count": null,
   "id": "cd7a15e3",
   "metadata": {},
   "outputs": [],
   "source": [
    "np.datetime64(\"2020-01-01 09:00\")"
   ]
  },
  {
   "cell_type": "markdown",
   "id": "c0a974aa",
   "metadata": {},
   "source": [
    "**numpy**와 datetime에 대한 한 가지 경고: 더 정밀하게 갈수록(펨토초($10^{-15}$초)까지 갈 수 있음) 도달할 수 있는 날짜 범위가 작아집니다. 널리 사용되는 정밀도 선택은 `datetime64[ns]`이며, 이는 서기 1678년부터 서기 2262년까지의 시간을 인코딩할 수 있습니다. 초 단위로 작업하면 기원전 2.9$\\times 10^9$년부터 기원후 2.9$\\times 10^9$년까지 가능합니다."
   ]
  },
  {
   "cell_type": "markdown",
   "id": "417ec546",
   "metadata": {},
   "source": [
    "## 데이터 프레임에서 날짜/시간 작업하기"
   ]
  },
  {
   "cell_type": "markdown",
   "id": "82a4a3f3",
   "metadata": {},
   "source": [
    "[**pandas**](https://pandas.pydata.org/)는 파이썬에서 시계열 분석의 주역입니다. 기본 객체는 *타임스탬프*입니다. `pd.to_datetime()` 함수는 합리적으로 날짜/시간을 나타낼 수 있는 문자열에서 타임스탬프를 만듭니다. `pd.to_datetime()`을 사용하여 타임스탬프를 만들고 살펴보는 예를 살펴보겠습니다."
   ]
  },
  {
   "cell_type": "code",
   "execution_count": null,
   "id": "48f0e9c6",
   "metadata": {},
   "outputs": [],
   "source": [
    "import pandas as pd\n",
    "\n",
    "date = pd.to_datetime(\"16th of February, 2020\")\n",
    "date"
   ]
  },
  {
   "cell_type": "markdown",
   "id": "8b083619",
   "metadata": {},
   "source": [
    "이것은 `Timestamp` 유형이며 이전 장의 내장 파이썬 `datetime.datetime` 클래스와 동일한 속성을 많이 가지고 있음을 알 수 있습니다. 마찬가지로 `tz`(시간대) 및 `tzinfo`의 기본 설정은 `None`입니다. 그러나 빈도에 대한 `freq`와 같이 몇 가지 추가 속성이 있으며, 이는 하나 또는 두 개의 날짜/시간이 아닌 시간 *계열*을 조작할 때 매우 유용합니다."
   ]
  },
  {
   "cell_type": "markdown",
   "id": "dfdf18bc",
   "metadata": {},
   "source": [
    "### 시계열 만들기 및 사용하기\n",
    "\n",
    "**pandas**를 사용하여 시계열을 만드는 두 가지 주요 시나리오가 있습니다. i) 처음부터 만들기 또는 ii) 파일에서 데이터 읽기. 먼저 i)를 수행하는 몇 가지 방법을 살펴보겠습니다.\n",
    "\n",
    "위에서 만든 날짜를 가져와 **pandas** timedelta 함수를 사용하여 확장하여 **pandas**로 시계열을 만들 수 있습니다."
   ]
  },
  {
   "cell_type": "code",
   "execution_count": null,
   "id": "462b26da",
   "metadata": {},
   "outputs": [],
   "source": [
    "date + pd.to_timedelta(np.arange(12), \"D\")"
   ]
  },
  {
   "cell_type": "markdown",
   "id": "3ba587ff",
   "metadata": {},
   "source": [
    "이렇게 하면 `datetime65[ns]` 유형의 datetime 인덱스가 만들어졌습니다(인덱스는 특수한 유형의 **pandas** 열임을 기억하십시오). 여기서 \"ns\"는 나노초 해상도를 나타냅니다.\n",
    "\n",
    "또 다른 방법은 날짜 범위를 만드는 것입니다(`freq=` 키워드 인수를 사용하여 빈도 전달)."
   ]
  },
  {
   "cell_type": "code",
   "execution_count": null,
   "id": "10e71325",
   "metadata": {},
   "outputs": [],
   "source": [
    "pd.date_range(start=\"2018/1/1\", end=\"2018/1/8\")"
   ]
  },
  {
   "cell_type": "markdown",
   "id": "3f6c8a4f",
   "metadata": {},
   "source": [
    "범위를 만드는 또 다른 방법은 기간 수와 빈도를 지정하는 것입니다."
   ]
  },
  {
   "cell_type": "code",
   "execution_count": null,
   "id": "291ace2c",
   "metadata": {},
   "outputs": [],
   "source": [
    "pd.date_range(\"2018-01-01\", periods=3, freq=\"h\")"
   ]
  },
  {
   "cell_type": "markdown",
   "id": "ce8c06d8",
   "metadata": {},
   "source": [
    "시간대에 대한 이전 장의 논의에 따라 **pandas** 데이터 프레임에서 직접 시간대를 현지화할 수도 있습니다."
   ]
  },
  {
   "cell_type": "code",
   "execution_count": null,
   "id": "6703682c",
   "metadata": {},
   "outputs": [],
   "source": [
    "dti = pd.date_range(\"2018-01-01\", periods=3, freq=\"h\").tz_localize(\"UTC\")\n",
    "dti.tz_convert(\"US/Pacific\")"
   ]
  },
  {
   "cell_type": "markdown",
   "id": "4d3e7668",
   "metadata": {},
   "source": [
    "이제 datetime 유형이 아닌 데이터로 읽어온 데이터를 datetime 벡터로 바꾸는 방법을 살펴보겠습니다. 이것은 실제로 *항상* 발생합니다. 정보 및 통신 직업에 대한 구인 정보 데이터(ONS 코드 UNEM-JP9P)를 읽어온 다음 지정된 \"date\" 열을 **pandas** datetime 열로 변환하려고 합니다."
   ]
  },
  {
   "cell_type": "code",
   "execution_count": null,
   "id": "dd00df7f",
   "metadata": {},
   "outputs": [],
   "source": [
    "import requests\n",
    "\n",
    "url = \"https://api.beta.ons.gov.uk/v1/data?uri=/employmentandlabourmarket/peopleinwork/employmentandemployeetypes/timeseries/jp9z/lms/previous/v108\"\n",
    "\n",
    "# ONS API에서 데이터 가져오기:\n",
    "json_data = requests.get(url).json()\n",
    "df = pd.DataFrame(pd.json_normalize(json_data[\"months\"]))\n",
    "df[\"value\"] = pd.to_numeric(df[\"value\"])\n",
    "df = df[[\"date\", \"value\"]]\n",
    "df = df.rename(columns={\"value\": \"Vacancies (ICT), thousands\"})\n",
    "df.head()"
   ]
  },
  {
   "cell_type": "markdown",
   "id": "1be10bf8",
   "metadata": {},
   "source": [
    "데이터를 가져왔습니다. 도착한 열 유형을 살펴보겠습니다."
   ]
  },
  {
   "cell_type": "code",
   "execution_count": null,
   "id": "247d9725",
   "metadata": {},
   "outputs": [],
   "source": [
    "df.info()"
   ]
  },
  {
   "cell_type": "markdown",
   "id": "71bbbb02",
   "metadata": {},
   "source": [
    "이것은 기본 '객체' 유형이지만 날짜 열이 datetime 유형인 `datetime64[ns]`가 되기를 원합니다. 다시 `pd.to_datetime()`을 사용합니다."
   ]
  },
  {
   "cell_type": "code",
   "execution_count": null,
   "id": "b90f8038",
   "metadata": {},
   "outputs": [],
   "source": [
    "df[\"date\"] = pd.to_datetime(df[\"date\"])\n",
    "df[\"date\"].head()"
   ]
  },
  {
   "cell_type": "markdown",
   "id": "ca0b1727",
   "metadata": {},
   "source": [
    "이 경우 \"2001 MAY\" 형식의 데이터에서 datetime으로의 변환이 즉시 작동했습니다. `pd.to_datetime`은 항상 형식에 대해 교육받은 추측을 하지만 항상 작동하지는 않습니다.\n",
    "\n",
    "읽기 어려운 datetime 열이 있는 경우 어떻게 됩니까? 이것은 실제로 자주 발생하므로 예를 살펴보는 것이 좋습니다. 월, 연도, 일 순서(예: \"1, '19, 29\" 등)로 특이한 형식의 날짜가 있는 임의의 데이터를 만들어 보겠습니다."
   ]
  },
  {
   "cell_type": "code",
   "execution_count": null,
   "id": "05d056ae",
   "metadata": {},
   "outputs": [],
   "source": [
    "small_df = pd.DataFrame({\"date\": [\"1, '19, 22\", \"1, '19, 23\"], \"values\": [\"1\", \"2\"]})\n",
    "small_df[\"date\"]"
   ]
  },
  {
   "cell_type": "markdown",
   "id": "b1e6f80c",
   "metadata": {},
   "source": [
    "이제 추가 입력 없이 `pd.to_datetime`을 통해 실행하면 예를 들어 첫 번째 날짜를 `2022-01-19`로 잘못 해석합니다. 따라서 `pd.to_datetime`에 추가 정보를 전달하여 도움을 주어야 합니다. datetime이 사용하는 형식을 `format=` 키워드 인수로 전달할 수 있습니다. 여기서는 숫자 형식의 월에 대해 `%m`, 2자리 형식의 연도에 대해 `%y`, 2자리 형식의 일에 대해 `%d`를 사용합니다. `'` 및 `,`와 같은 다른 문자도 추가할 수 있습니다. 위 또는 [https://strftime.org/](https://strftime.org/)에서 datetime 형식 식별자 목록을 찾을 수 있습니다."
   ]
  },
  {
   "cell_type": "code",
   "execution_count": null,
   "id": "514c9052",
   "metadata": {},
   "outputs": [],
   "source": [
    "pd.to_datetime(small_df[\"date\"], format=\"%m, '%y, %d\")"
   ]
  },
  {
   "cell_type": "markdown",
   "id": "56481fd3",
   "metadata": {},
   "source": [
    "### 날짜/시간 오프셋\n",
    "\n",
    "현재 `df`에 보관된 데이터는 월 *시작*인 것처럼 읽혔지만 이 데이터는 지난 달을 참조하므로 월 *말*이어야 합니다. 다행히 시간 오프셋을 사용하여 이를 변경할 수 있습니다."
   ]
  },
  {
   "cell_type": "code",
   "execution_count": null,
   "id": "ac3addbc",
   "metadata": {},
   "outputs": [],
   "source": [
    "df[\"date\"] = df[\"date\"] + pd.offsets.MonthEnd()\n",
    "df.head()"
   ]
  },
  {
   "cell_type": "markdown",
   "id": "61ef45b4",
   "metadata": {},
   "source": [
    "여기서는 `MonthEnd` 오프셋을 사용했지만 사용 가능한 다양한 오프셋이 많이 있습니다. [여기에서 날짜 오프셋의 전체 표](https://pandas.pydata.org/pandas-docs/stable/user_guide/timeseries.html#dateoffset-objects)를 찾을 수 있습니다."
   ]
  },
  {
   "cell_type": "markdown",
   "id": "5afd54be",
   "metadata": {},
   "source": [
    "### `.dt` 접근자\n",
    "\n",
    "datetime 열이 있는 경우 `.dt` 접근자를 사용하여 `minute`, `month` 등과 같은 유용한 정보를 많이 가져올 수 있습니다. 기본 속성의 접근자가 아닌 일부 함수는 함수이므로 괄호 `()`가 뒤따릅니다. 다음은 몇 가지 유용한 예입니다."
   ]
  },
  {
   "cell_type": "code",
   "execution_count": null,
   "id": "a6c3d2d9",
   "metadata": {},
   "outputs": [],
   "source": [
    "print(\"`dt.day_name()` 사용\")\n",
    "print(df[\"date\"].dt.day_name().head())\n",
    "print(\"`dt.isocalendar()` 사용\")\n",
    "print(df[\"date\"].dt.isocalendar().head())\n",
    "print(\"`dt.month` 사용\")\n",
    "print(df[\"date\"].dt.month.head())"
   ]
  },
  {
   "cell_type": "markdown",
   "id": "a40f982f",
   "metadata": {},
   "source": [
    "### datetime 인덱스 만들기 및 빈도 설정하기\n",
    "\n",
    "다음 부분을 위해 datetime 열을 데이터 프레임의 인덱스로 설정합니다. *이것은 시계열을 다룰 때 사용하고 싶을 가능성이 높은 표준 설정입니다.*"
   ]
  },
  {
   "cell_type": "code",
   "execution_count": null,
   "id": "e0a4f68d",
   "metadata": {},
   "outputs": [],
   "source": [
    "df = df.set_index(\"date\")\n",
    "df.head()"
   ]
  },
  {
   "cell_type": "markdown",
   "id": "8d5017ed",
   "metadata": {},
   "source": [
    "이제 위와 같이 `head`를 사용하여 데이터 프레임 인덱스(datetime 인덱스)의 처음 몇 개 항목을 보면 `freq=` 매개변수가 `None`으로 설정되어 있음을 알 수 있습니다."
   ]
  },
  {
   "cell_type": "code",
   "execution_count": null,
   "id": "acf1ae60",
   "metadata": {},
   "outputs": [],
   "source": [
    "df.index[:5]"
   ]
  },
  {
   "cell_type": "markdown",
   "id": "3bd0fe54",
   "metadata": {},
   "source": [
    "`asfreq()` 함수를 사용하여 전체 데이터 프레임에 대해 설정할 수 있습니다."
   ]
  },
  {
   "cell_type": "code",
   "execution_count": null,
   "id": "9146c99d",
   "metadata": {},
   "outputs": [],
   "source": [
    "df = df.asfreq(\"M\")\n",
    "df.index[:5]"
   ]
  },
  {
   "cell_type": "markdown",
   "id": "8f024684",
   "metadata": {},
   "source": [
    "대부분의 경우 `freq=None`이라는 사실은 중요하지 않지만 일부 집계 작업은 작동하려면 시계열의 빈도를 알아야 하며 데이터가 규칙적인 경우 설정하는 것이 좋습니다. `asfreq`를 사용하여 더 높은 빈도에서 더 낮은 빈도로 이동할 수도 있습니다. 더 낮은 빈도와 정렬되는 더 높은 빈도의 마지막 항목이 사용됩니다. 예를 들어 월에서 연도로 이동하는 경우 12월 값이 사용됩니다.\n",
    "\n",
    "datetime 인덱스가 특정 빈도와 일치하지 않을 때 빈도를 설정하려고 하면 오류나 문제가 발생합니다.\n",
    "\n",
    "알아두면 유용한 몇 가지 빈도는 아래 표에 있습니다. 이 모든 빈도는 `pd.to_datetime()`과 함께 사용할 수도 있습니다.\n",
    "\n",
    "| 코드  | 나타내는 것                                                          |\n",
    "|-------|---------------------------------------------------------------------|\n",
    "| D     | 달력 일                                                        |\n",
    "| W     | 주간                                                              |\n",
    "| M     | 월말                                                           |\n",
    "| Q     | 분기 말                                                         |\n",
    "| A     | 연말                                                            |\n",
    "| H     | 시간                                                               |\n",
    "| T     | 분                                                             |\n",
    "| S     | 초                                                             |\n",
    "| B     | 영업일                                                        |\n",
    "| BM    | 영업 월말                                                  |\n",
    "| BQ    | 영업 분기 말                                                |\n",
    "| BA    | 영업 연말                                                   |\n",
    "| BH    | 영업 시간                                                      |\n",
    "| MS    | 월초                                                         |\n",
    "| QS    | 분기 시작                                                       |\n",
    "| W-SUN | 일요일로 시작하는 주 (다른 요일도 유사)                |\n",
    "| 2M    | 2개월마다 (다른 숫자 및 코드 조합과 함께 작동) |"
   ]
  },
  {
   "cell_type": "markdown",
   "id": "9081a485",
   "metadata": {},
   "source": [
    "## 빠른 시계열 플롯 만들기\n",
    "\n",
    "시계열을 데이터 프레임에 넣고 문자열 유형의 열을 datetime 유형의 열로 변환했을 수 있습니다. 이제 종종 그냥 보고 싶을 것입니다! datetime 인덱스가 있는 한 `plot()` 명령을 사용하여 이를 수행할 수 있습니다.\n"
   ]
  },
  {
   "cell_type": "code",
   "execution_count": null,
   "id": "b4c5f841",
   "metadata": {},
   "outputs": [],
   "source": [
    "df.plot();"
   ]
  },
  {
   "cell_type": "markdown",
   "id": "e8ae2aa0",
   "metadata": {},
   "source": [
    "## 리샘플링, 롤링 및 이동\n",
    "\n",
    "이제 데이터에 *datetime 인덱스*가 있으므로 몇 가지 일반적인 시계열 작업이 매우 쉬워졌습니다.\n",
    "\n",
    "### 리샘플링\n",
    "\n",
    "주어진 시계열의 빈도를 변경하고 싶을 때가 많습니다. 시간 인덱스 기반 데이터 프레임은 `resample()` 함수를 통해 이를 쉽게 만듭니다. `resample()`에는 예를 들어 평균 또는 중앙값을 통해 데이터를 리샘플링하는 *방법*을 알려야 합니다. 다음은 월별 데이터를 연간으로 리샘플링하고 평균을 취하는 예입니다."
   ]
  },
  {
   "cell_type": "code",
   "execution_count": null,
   "id": "e56ba5c4",
   "metadata": {},
   "outputs": [],
   "source": [
    "df.resample(\"A\").mean()"
   ]
  },
  {
   "cell_type": "markdown",
   "id": "d320a934",
   "metadata": {},
   "source": [
    "리샘플은 특수한 유형의 집계이므로 내장 함수나 사용자 정의 함수를 포함하여 집계가 수행하는 모든 일반적인 함수와 함께 작동할 수 있습니다."
   ]
  },
  {
   "cell_type": "code",
   "execution_count": null,
   "id": "fbbbcdff",
   "metadata": {},
   "outputs": [],
   "source": [
    "df.resample(\"5YE\").agg([\"mean\", \"std\"]).head()"
   ]
  },
  {
   "cell_type": "markdown",
   "id": "c3b45c36",
   "metadata": {},
   "source": [
    "리샘플링은 빈도를 낮추는 것(다운샘플링)뿐만 아니라 높이는 것(업샘플링)도 가능하지만 더 이상 집계 함수를 선택할 필요가 없고 이제 원래 데이터에 없었던 빈도에 대한 간격을 채우는 방법을 선택해야 합니다. 아래 예에서는 NaN으로 남겨둡니다."
   ]
  },
  {
   "cell_type": "code",
   "execution_count": null,
   "id": "9a48a45f",
   "metadata": {},
   "outputs": [],
   "source": [
    "df.resample(\"D\").asfreq()"
   ]
  },
  {
   "cell_type": "markdown",
   "id": "c08e1dad",
   "metadata": {},
   "source": [
    "결측 시계열 데이터를 채우는 옵션에는 각각 다음 또는 마지막 사용 가능한 값을 기반으로 공백을 채우는 `bfill` 또는 `ffill`을 사용하거나 `interpolate()`를 사용하는 것이 포함됩니다(참고: `limit` 키워드 인수를 사용하여 처음 3개의 NaN만 바뀝니다)."
   ]
  },
  {
   "cell_type": "code",
   "execution_count": null,
   "id": "d3ac1789",
   "metadata": {},
   "outputs": [],
   "source": [
    "df.resample(\"D\").interpolate(method=\"linear\", limit_direction=\"forward\", limit=3)[:6]"
   ]
  },
  {
   "cell_type": "markdown",
   "id": "3da716ee",
   "metadata": {},
   "source": [
    "Jake Vanderplas의 차트에 따라 이 주식 시장 데이터에서 채우기 방법 간의 차이점을 더 명확하게 볼 수 있습니다."
   ]
  },
  {
   "cell_type": "code",
   "execution_count": null,
   "id": "51647c56",
   "metadata": {},
   "outputs": [],
   "source": [
    "# 주식 시장 데이터 가져오기\n",
    "import pandas_datareader as web\n",
    "\n",
    "xf = web.DataReader(\"AAPL\", \"stooq\", start=\"2017-01-01\", end=\"2019-06-01\")\n",
    "xf = xf.sort_index()"
   ]
  },
  {
   "cell_type": "code",
   "execution_count": null,
   "id": "ab1efae3",
   "metadata": {},
   "outputs": [],
   "source": [
    "plt.rcParams[\"axes.prop_cycle\"]"
   ]
  },
  {
   "cell_type": "code",
   "execution_count": null,
   "id": "fa0c9973",
   "metadata": {},
   "outputs": [],
   "source": [
    "from itertools import cycle\n",
    "\n",
    "fig, ax = plt.subplots()\n",
    "data = xf.iloc[:10, 3]\n",
    "colour_wheel = cycle(plt.rcParams[\"axes.prop_cycle\"])\n",
    "\n",
    "data.asfreq(\"D\").plot(ax=ax, marker=\"o\", linestyle=\"None\", zorder=3)\n",
    "data.asfreq(\"D\", method=\"bfill\").plot(\n",
    "    ax=ax, style=\"-.o\", lw=1, color=next(colour_wheel)[\"color\"]\n",
    ")\n",
    "data.asfreq(\"D\", method=\"ffill\").plot(\n",
    "    ax=ax, style=\"--o\", lw=1, color=next(colour_wheel)[\"color\"]\n",
    ")\n",
    "ax.set_ylabel(\"종가 ($)\")\n",
    "ax.legend([\"원본\", \"역방향 채우기\", \"순방향 채우기\"]);"
   ]
  },
  {
   "cell_type": "markdown",
   "id": "235f6b1c",
   "metadata": {},
   "source": [
    "### 롤링 윈도우 함수\n",
    "\n",
    "`rolling()` 및 `ewm()` 메서드는 모두 롤링 윈도우 함수입니다. 첫 번째는 시퀀스의 함수를 포함합니다.\n",
    "\n",
    "$$\n",
    "y_t = f(\\{x_{t-i} \\}_{i=0}^{i=R-1})\n",
    "$$\n",
    "\n",
    "여기서 $R$은 롤링 윈도우에 사용할 기간 수입니다. 예를 들어 함수가 평균이면 $f$는 $\\frac{1}{R}\\displaystyle\\sum_{i=0}^{i=R-1} x_{t-i}$ 형식을 취합니다.\n",
    "\n",
    "아래 예는 2기간 롤링 평균입니다."
   ]
  },
  {
   "cell_type": "code",
   "execution_count": null,
   "id": "1ddc4fb2",
   "metadata": {},
   "outputs": [],
   "source": [
    "df.rolling(2).mean()"
   ]
  },
  {
   "cell_type": "markdown",
   "id": "488f3c7c",
   "metadata": {},
   "source": [
    "`ewm()`은 데이터 포인트 $x_{t-i}$에 가중치 $w_i = (1-\\alpha)^i$가 있는 함수 클래스를 포함합니다. $0 < \\alpha < 1$이므로 시간적으로 더 먼 지점에는 가중치가 덜 부여됩니다. 예를 들어 지수 이동 평균은 다음과 같이 지정됩니다.\n",
    "\n",
    "$$\n",
    "y_t = \\frac{x_t + (1 - \\alpha)x_{t-1} + (1 - \\alpha)^2 x_{t-2} + ...\n",
    "+ (1 - \\alpha)^t x_{0}}{1 + (1 - \\alpha) + (1 - \\alpha)^2 + ...\n",
    "+ (1 - \\alpha)^t}\n",
    "$$\n",
    "\n",
    "아래 예는 지수 가중 이동 평균에 대한 코드를 보여줍니다."
   ]
  },
  {
   "cell_type": "code",
   "execution_count": null,
   "id": "0ea9c8ce",
   "metadata": {},
   "outputs": [],
   "source": [
    "df.ewm(alpha=0.2).mean()"
   ]
  },
  {
   "cell_type": "markdown",
   "id": "8d9eb44c",
   "metadata": {},
   "source": [
    "주식 시장 데이터에서 이러한 방법을 함께 살펴보겠습니다."
   ]
  },
  {
   "cell_type": "code",
   "execution_count": null,
   "id": "0af7b5e6",
   "metadata": {},
   "outputs": [],
   "source": [
    "fig, ax = plt.subplots()\n",
    "roll_num = 28\n",
    "alpha = 0.03\n",
    "xf[\"Close\"].plot(label=\"원시\", alpha=0.5)\n",
    "xf[\"Close\"].expanding().mean().plot(label=\"확장 평균\", style=\":\")\n",
    "xf[\"Close\"].ewm(alpha=alpha).mean().plot(\n",
    "    label=f\"EWMA ($\\\\alpha=${alpha:.2f})\", style=\"--\"\n",
    ")\n",
    "xf[\"Close\"].rolling(roll_num).mean().plot(label=f\"{roll_num}D MA\", style=\"-.\")\n",
    "ax.legend()\n",
    "ax.set_ylabel(\"종가 ($)\");"
   ]
  },
  {
   "cell_type": "markdown",
   "id": "6f795baa",
   "metadata": {},
   "source": [
    "주식 분석을 위한 더 많은 도구는 [**Pandas TA**](https://twopirllc.github.io/pandas-ta/) 패키지를 참조하십시오.\n",
    "\n",
    "또한 `rolling()`을 사용하여 두 개 이상의 집계 유형을 만드는 중간 단계로 사용할 수 있습니다."
   ]
  },
  {
   "cell_type": "code",
   "execution_count": null,
   "id": "134199ae",
   "metadata": {},
   "outputs": [],
   "source": [
    "roll = xf[\"Close\"].rolling(50, center=True)\n",
    "\n",
    "fig, ax = plt.subplots()\n",
    "m = roll.agg([\"mean\", \"std\"])\n",
    "m[\"mean\"].plot(ax=ax)\n",
    "ax.fill_between(m.index, m[\"mean\"] - m[\"std\"], m[\"mean\"] + m[\"std\"], alpha=0.2)\n",
    "ax.set_ylabel(\"종가 ($)\");"
   ]
  },
  {
   "cell_type": "markdown",
   "id": "f3884a6a",
   "metadata": {},
   "source": [
    "### 이동\n",
    "\n",
    "이동은 시간적으로 계열을 이동시킬 수 있습니다. 시계열의 선행 및 후행을 만드는 데 필요합니다. 데이터에 선행 및 후행을 만들어 보겠습니다. 선행은 데이터의 패턴을 왼쪽(즉, 시간적으로 더 일찍)으로 이동시키고 후행은 패턴을 시간적으로 더 늦게(즉, 오른쪽으로) 이동시킨다는 것을 기억하십시오."
   ]
  },
  {
   "cell_type": "code",
   "execution_count": null,
   "id": "3078fbb4",
   "metadata": {},
   "outputs": [],
   "source": [
    "lead = 12\n",
    "lag = 3\n",
    "orig_series_name = df.columns[0]\n",
    "df[f\"선행 ({lead}개월)\"] = df[orig_series_name].shift(-lead)\n",
    "df[f\"후행 ({lag}개월)\"] = df[orig_series_name].shift(lag)\n",
    "df.head()"
   ]
  },
  {
   "cell_type": "code",
   "execution_count": null,
   "id": "18b9afb3",
   "metadata": {},
   "outputs": [],
   "source": [
    "df.iloc[100:300, :].plot();"
   ]
  }
 ],
 "metadata": {
  "jupytext": {
   "cell_metadata_filter": "-all",
   "encoding": "# -*- coding: utf-8 -*-",
   "formats": "md:myst",
   "main_language": "python"
  },
  "kernelspec": {
   "display_name": ".venv",
   "language": "python",
   "name": "python3"
  },
  "language_info": {
   "codemirror_mode": {
    "name": "ipython",
    "version": 3
   },
   "file_extension": ".py",
   "mimetype": "text/x-python",
   "name": "python",
   "nbconvert_exporter": "python",
   "pygments_lexer": "ipython3",
   "version": "3.10.0"
  },
  "toc-showtags": true
 },
 "nbformat": 4,
 "nbformat_minor": 5
}
